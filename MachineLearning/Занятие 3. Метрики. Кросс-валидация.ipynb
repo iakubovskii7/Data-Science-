{
 "cells": [
  {
   "cell_type": "markdown",
   "metadata": {},
   "source": [
    "# 1. Метрики классификации"
   ]
  },
  {
   "cell_type": "markdown",
   "metadata": {},
   "source": [
    "Допустим, мы решаем проблему классификации, где целевая переменная $y_i$ принимает два значения: $y_i = \\cases{1 \\\\ 0}$."
   ]
  },
  {
   "cell_type": "markdown",
   "metadata": {},
   "source": [
    "## 1.1 Accuracy (точность)\n",
    "\n",
    "$$\\Large MCE = Accuracy = \\frac{1}{N}\\sum_i^N(a_i=y_i) $$\n",
    "$y_i$ - метка i-ого объекта, $a_i$ - результат алгоритма на i-ом объекте\n",
    "\n",
    "Accuracy (точность) - естественный, простой и понятный функционал. Accuracy (точность) - это доля правильных ответов на всей выборке данных. \n",
    "**Недостаток** такого функционала очевиден: он очень плох в случае несбалансированной выборки, когда наблюдений из одного класса существенно больше, чем другого. В этом случае, наиболее оптимальная стратегия присваивать каждому объекту на тестовой выборке значение целевой переменной из большего класса. \n",
    "\n",
    "Например, в задаче выявлении редкого заболевания (например, рака), алгоритм, который будет классифицировать всех пациентов здоровыми, хоть и будет показывать высокое accuracy, будет абсолютно бесполезен. Показателен пример с выявлением женского рака груди: https://towardsdatascience.com/precision-recall-and-predicting-cervical-cancer-with-machine-learning-367221e70538. Здесь основная проблема заключается в том, что мы хотим снизить ошибку прогноза рака груди, если он действительно есть, а не когда его нет (а наш прогноз говорит, что есть). В этом случае accuracy плохая метрика, потому что она не учитывает ошибки I и II рода."
   ]
  },
  {
   "cell_type": "markdown",
   "metadata": {},
   "source": [
    "## 1.2 Confusion matrix \n",
    "\n",
    "Confusion matrix позволяет нам учесть ошибки I и II рода. \n",
    "\n",
    "![Example of confusion matrix](https://2.bp.blogspot.com/-EvSXDotTOwc/XMfeOGZ-CVI/AAAAAAAAEiE/oePFfvhfOQM11dgRn9FkPxlegCXbgOF4QCLcBGAs/s1600/confusionMatrxiUpdated.jpg)"
   ]
  },
  {
   "cell_type": "markdown",
   "metadata": {},
   "source": [
    "Два класса разделены на положительный (обычно 1) и отрицательный (обычно 0 или -1). Объекты, которые алгоритм классифицирует как 1 называют ***Positive***, верные положительные **True Positive**, а неверные - **False Positive**. То же самое с отрицательным классом(***Negative***):\n",
    "\n",
    "- TP = True Positive,\n",
    "- TN = True Negative,\n",
    "- FP = False Positive,\n",
    "- FN = False Negative.\n",
    "\n",
    "Я (и скорее всего не только я) использую такое простое правило, чтобы запомнить правильные ошибки: P или N (правая буква)- результат нашего предсказания, а T или F (буква слева) говорит нам о том, ошибаемся мы или нет.\n",
    "\n",
    "**Заметка**. Иногда confusion matrix используется в транспонированной форме, где ответы алгоритма связаны со строчками, а верность прогноза - по столбцам. То же самое и с классами - иногда положительный класс находится под отрицательным."
   ]
  },
  {
   "cell_type": "code",
   "execution_count": 6,
   "metadata": {},
   "outputs": [],
   "source": [
    "# Генерируем случайные значения для реальных значений классов и предсказанных: \n",
    "# y - real values, a - predicted\n",
    "import numpy as np\n",
    "y, a = np.concatenate([np.ones(35), np.zeros(65)]), \\\n",
    "       np.concatenate([np.ones(50), np.zeros(50)])\n",
    "\n",
    "np.random.shuffle(y)\n",
    "np.random.shuffle(a)"
   ]
  },
  {
   "cell_type": "code",
   "execution_count": 8,
   "metadata": {},
   "outputs": [
    {
     "data": {
      "text/plain": [
       "array([[27, 38],\n",
       "       [23, 12]])"
      ]
     },
     "metadata": {},
     "output_type": "display_data"
    },
    {
     "data": {
      "text/html": [
       "<div>\n",
       "<style scoped>\n",
       "    .dataframe tbody tr th:only-of-type {\n",
       "        vertical-align: middle;\n",
       "    }\n",
       "\n",
       "    .dataframe tbody tr th {\n",
       "        vertical-align: top;\n",
       "    }\n",
       "\n",
       "    .dataframe thead th {\n",
       "        text-align: right;\n",
       "    }\n",
       "</style>\n",
       "<table border=\"1\" class=\"dataframe\">\n",
       "  <thead>\n",
       "    <tr style=\"text-align: right;\">\n",
       "      <th>col_0</th>\n",
       "      <th>0.0</th>\n",
       "      <th>1.0</th>\n",
       "    </tr>\n",
       "    <tr>\n",
       "      <th>row_0</th>\n",
       "      <th></th>\n",
       "      <th></th>\n",
       "    </tr>\n",
       "  </thead>\n",
       "  <tbody>\n",
       "    <tr>\n",
       "      <th>0.0</th>\n",
       "      <td>27</td>\n",
       "      <td>38</td>\n",
       "    </tr>\n",
       "    <tr>\n",
       "      <th>1.0</th>\n",
       "      <td>23</td>\n",
       "      <td>12</td>\n",
       "    </tr>\n",
       "  </tbody>\n",
       "</table>\n",
       "</div>"
      ],
      "text/plain": [
       "col_0  0.0  1.0\n",
       "row_0          \n",
       "0.0     27   38\n",
       "1.0     23   12"
      ]
     },
     "metadata": {},
     "output_type": "display_data"
    }
   ],
   "source": [
    "from sklearn.metrics import confusion_matrix\n",
    "import pandas as pd\n",
    "cf_sklearn = confusion_matrix(y, a) # 1 - способ в sklearn \n",
    "cf_pandas = pd.crosstab(y,a) # 2 second - способ пандаса\n",
    "\n",
    "# Calculate TN, FP, FN, TP: \n",
    "tn, fp, fn, tp = confusion_matrix(y,a).ravel()\n",
    "display(cf_sklearn)\n",
    "display(cf_pandas)"
   ]
  },
  {
   "cell_type": "markdown",
   "metadata": {},
   "source": [
    "$$ \\Large Accuracy = \\frac{TN + TP}{TP + TN + FN + FP} = \\frac{TN + TP}{n}$$\n",
    "\\\n",
    "$$ \\Large Ошибка \\ I \\ рода = \\frac{FP}{TP + TN + FN + FP } = \\frac{FP}{n}$$\n",
    "\\\n",
    "$$ \\Large Ошибка \\ II \\ рода = \\frac{FN}{TP + TN + FN + FP} = \\frac{FN}{n} $$\n",
    "\n",
    "Заметим, что:\n",
    "\n",
    "- |TN - TP| = |FP - FN|\n",
    "- TP + TN + FP + FN = n"
   ]
  },
  {
   "cell_type": "markdown",
   "metadata": {},
   "source": [
    "![](https://s3.amazonaws.com/stackabuse/media/understanding-roc-curves-python-2.png)"
   ]
  },
  {
   "cell_type": "markdown",
   "metadata": {},
   "source": [
    "**Recall** (*Sensitivity*, *True Positive Rate*, *Hit Rate*) отражает какую долю объектов (из всей выборки) положительного класса мы корректно предсказали:\n",
    "\n",
    "$\\Large TPR = \\frac{TP}{TP + FN}$\n",
    "\n",
    "**Precision** (*Positive Predictive Value*) отражает какую долю положительных объектов (нами предсказанных) оказались корректными:\n",
    "\n",
    "$ \\Large PPV = \\frac{TP}{TP + FP} $\n",
    "\n",
    "Отметим, что везде в числителе TP, а в знаменателе меняется лишь второе слагаемое.\n",
    "\n",
    "**Проблема**: у нас должен быть некий компромисс между Precision и Recall, потому что довольно просто построить модель либо с высоким Precision, либо с Recall.\n",
    "\n",
    "**Решение**: \n",
    "\n",
    "$\\Large F_1 \\ мера = \\frac{2TP}{2TP + FP + FN} = \\frac{2}{1/Precision + 1/Recall}$\n",
    "\n",
    "$\\Large F_\\beta \\ мера = \\frac{1}{\\alpha} \\frac{Precision * Recall}{\\alpha*Recall + (1-\\alpha)*Precision} = (1+\\beta^2)\\frac{Precision * Recall}{Recall + \\beta^2 * Precision}$\n",
    "\n",
    "Если, например, precision очень мал, тогда рост recall даже в два раза,существенно не изменит значение F-меры. Посмотрим на графике ниже: если precision = 10%, $F_1$ не может быть превысить 20%."
   ]
  },
  {
   "cell_type": "code",
   "execution_count": 6,
   "metadata": {},
   "outputs": [
    {
     "data": {
      "image/png": "[encoded data removed]",
      "text/plain": [
       "<Figure size 1080x504 with 1 Axes>"
      ]
     },
     "metadata": {
      "needs_background": "light"
     },
     "output_type": "display_data"
    }
   ],
   "source": [
    "import matplotlib.pyplot as plt\n",
    "plt.figure(figsize = (15,7))\n",
    "R = np.linspace(0.01,1, 100)\n",
    "for p in [0.1, 0.3, 0.5, 0.7, 0.9]:\n",
    "    f1_score = 2/(1/p + 1/R)\n",
    "    plt.plot(R, f1_score)\n",
    "    plt.legend([\"P=0.1\", \"P=0.3\", \"P=0.5\", \"P=0.7\", \"P=0.9\"])\n",
    "plt.xlabel(\"Recall\")\n",
    "plt.ylabel(\"F1 score\")\n",
    "plt.show()"
   ]
  },
  {
   "cell_type": "markdown",
   "metadata": {},
   "source": [
    "Рассмотрим еще одну метрику качества: Specificity или TNR - True Negative Rate:\n",
    "$$ \\Large TNR = Specificity = \\frac{TN}{TN + FP} $$\n",
    "\n",
    "процент корректно предсказанных объектов отрицательного класса (по всей выборке). Recall зачастую называют Sensitivity и используют в паре со specificity для оценки качества модели, и также часто усредняют. Обе метрики обозначают процент верно предсказанных объектов какого-либо из двух классов:\n",
    "\n",
    "$$ \\Large R_1 = R = Sensitivity $$\n",
    "$$ \\Large R_0 = Specificity $$\n",
    "\n",
    "Также запомним, что False Positive Rate (FPR, fall-out, false alarm rate):\n",
    "\n",
    "$$ \\Large FPR = \\frac{FP}{TN + FP} = 1 - TPR = 1 - Specificity$$\n",
    "\n",
    "доля объектов отрицательного класса, которые были ошибочно отнесены к положительному классу (это важно помнить для понимания кривой ROC AUC)."
   ]
  },
  {
   "cell_type": "markdown",
   "metadata": {},
   "source": [
    "## 1.3 ROC AUC - receiver operating characteristic area under curve\n",
    "\n",
    "Площадь под ROC кривой одна из наиболее популярных метрик качества задачи  бинарной классификации:\n",
    "\n",
    "![](https://miro.medium.com/max/576/1*MIQXB9LDkPoHunwEXOa8Cg.png)\n",
    "![](https://i.stack.imgur.com/jdCh5.png)"
   ]
  },
  {
   "cell_type": "markdown",
   "metadata": {},
   "source": [
    "AUC-ROC имеет ряд интерпретаций. Например, это вероятность, что случайно выбранный положительный объект появится позже случайно выбранного отрицательного объекта в ранжированном списке результатов классификатора.\n",
    "\n",
    "Наиболее простой способ вычисления: отсортируем выборку в порядке возрастания по вероятности. Тогда:\n",
    "\n",
    "$\\Large AUC =  1 -  \\frac{1}{N * P}\\sum_{i<j}(y_i > y_j)$"
   ]
  },
  {
   "cell_type": "code",
   "execution_count": 9,
   "metadata": {},
   "outputs": [
    {
     "name": "stdout",
     "output_type": "stream",
     "text": [
      "Accuracy 0.9521276595744681\n"
     ]
    },
    {
     "data": {
      "image/png": "[encoded data removed]",
      "text/plain": [
       "<Figure size 1080x504 with 1 Axes>"
      ]
     },
     "metadata": {
      "needs_background": "light"
     },
     "output_type": "display_data"
    }
   ],
   "source": [
    "# Breast cancer ROC AUC \n",
    "import warnings\n",
    "warnings.filterwarnings(\"ignore\")\n",
    "from sklearn import datasets\n",
    "from sklearn import metrics\n",
    "from sklearn.linear_model import LogisticRegression\n",
    "from sklearn.model_selection import train_test_split\n",
    "from sklearn.datasets import load_breast_cancer\n",
    "import matplotlib.pyplot as plt\n",
    "plt.rcParams[\"figure.figsize\"] = [15,7]\n",
    "\n",
    "# Data\n",
    "breast_cancer = load_breast_cancer()\n",
    "\n",
    "X = breast_cancer.data\n",
    "y = breast_cancer.target\n",
    "\n",
    "# CV\n",
    "X_train, X_test, y_train, y_test = train_test_split(X,y,test_size=0.33, random_state=44)\n",
    "\n",
    "# Model \n",
    "clf = LogisticRegression(penalty='l2', C=0.1)\n",
    "clf.fit(X_train, y_train)\n",
    "y_pred = clf.predict(X_test)\n",
    "print(\"Accuracy\", metrics.accuracy_score(y_test, y_pred))\n",
    "\n",
    "y_pred_proba = clf.predict_proba(X_test)[::,1]\n",
    "fpr, tpr, thresholds = metrics.roc_curve(y_test,  y_pred_proba)\n",
    "auc = metrics.roc_auc_score(y_test, y_pred_proba)\n",
    "plt.plot(fpr,tpr,label=\"data 1, auc=\"+str(auc))\n",
    "plt.legend(loc=4)\n",
    "plt.show()"
   ]
  },
  {
   "cell_type": "code",
   "execution_count": 12,
   "metadata": {},
   "outputs": [
    {
     "data": {
      "text/plain": [
       "[(1.999508687347852, 0.0, 0.0),\n",
       " (0.999508687347852, 0.0, 0.008333333333333333),\n",
       " (0.9532906527627574, 0.0, 0.7166666666666667),\n",
       " (0.9513445717895306, 0.014705882352941176, 0.7166666666666667),\n",
       " (0.8678516298270084, 0.014705882352941176, 0.8583333333333333),\n",
       " (0.8639235078693217, 0.029411764705882353, 0.8583333333333333),\n",
       " (0.7240783831888962, 0.029411764705882353, 0.925),\n",
       " (0.7042596039298377, 0.04411764705882353, 0.925),\n",
       " (0.5810651085624284, 0.04411764705882353, 0.9583333333333334),\n",
       " (0.5161884309384814, 0.058823529411764705, 0.9583333333333334),\n",
       " (0.42908394620719026, 0.058823529411764705, 0.9666666666666667),\n",
       " (0.41126332872346555, 0.07352941176470588, 0.9666666666666667),\n",
       " (0.21504423521520422, 0.07352941176470588, 0.9916666666666667),\n",
       " (0.054741074097264385, 0.14705882352941177, 0.9916666666666667),\n",
       " (0.049869480941454374, 0.14705882352941177, 1.0),\n",
       " (1.7864086510193157e-24, 1.0, 1.0)]"
      ]
     },
     "execution_count": 12,
     "metadata": {},
     "output_type": "execute_result"
    }
   ],
   "source": [
    "list(zip(thresholds, fpr, tpr))"
   ]
  },
  {
   "cell_type": "code",
   "execution_count": 15,
   "metadata": {},
   "outputs": [
    {
     "data": {
      "text/plain": [
       "array([0, 0, 0, 0, 0, 0, 0, 0, 0, 0, 0, 0, 0, 0, 0, 0, 0, 0, 0, 0, 0, 0,\n",
       "       0, 0, 0, 0, 0, 0, 0, 0, 0, 0, 0, 0, 0, 0, 0, 0, 0, 0, 0, 0, 0, 0,\n",
       "       0, 0, 0, 0, 0, 0, 0, 0, 0, 0, 0, 0, 0, 0, 1, 0, 0, 0, 0, 0, 1, 1,\n",
       "       1, 0, 1, 0, 1, 1, 1, 1, 0, 1, 1, 1, 1, 1, 1, 1, 1, 0, 1, 1, 1, 1,\n",
       "       1, 1, 1, 1, 1, 1, 1, 1, 1, 1, 1, 1, 1, 0, 1, 1, 1, 1, 1, 1, 1, 1,\n",
       "       1, 1, 1, 1, 1, 1, 1, 1, 1, 1, 1, 1, 1, 1, 1, 1, 1, 1, 1, 1, 1, 1,\n",
       "       1, 1, 1, 1, 1, 1, 1, 1, 1, 1, 1, 1, 1, 1, 1, 1, 1, 1, 1, 1, 1, 1,\n",
       "       1, 1, 1, 1, 1, 1, 1, 1, 1, 1, 1, 1, 1, 1, 1, 1, 1, 1, 1, 1, 1, 1,\n",
       "       1, 1, 1, 1, 1, 1, 1, 1, 1, 1, 1, 1])"
      ]
     },
     "execution_count": 15,
     "metadata": {},
     "output_type": "execute_result"
    }
   ],
   "source": [
    "y_sort_test = y_test[np.argsort(y_pred_proba)]\n",
    "y_sort_test"
   ]
  },
  {
   "cell_type": "code",
   "execution_count": 32,
   "metadata": {},
   "outputs": [
    {
     "name": "stdout",
     "output_type": "stream",
     "text": [
      "Counter({1: 120, 0: 68})\n",
      "sum_= 74\n",
      "ROC AUC = 0.9909313725490196\n"
     ]
    }
   ],
   "source": [
    "# КРАТКИЙ КОД для понимания интерпретации ROC AUC\n",
    "sum_ = 0\n",
    "for i in range(y_sort_test.shape[0]):\n",
    "    for j in range(y_sort_test.shape[0]):\n",
    "        if (i < j) & (y_sort_test[i] > y_sort_test[j]):\n",
    "            sum_ += 1\n",
    "from collections import Counter\n",
    "print(Counter(y_test))\n",
    "print(f\"sum_= {sum_}\")\n",
    "print(f\"ROC AUC = {1 - 1/(68*120)*sum_}\")"
   ]
  },
  {
   "cell_type": "code",
   "execution_count": 29,
   "metadata": {},
   "outputs": [
    {
     "name": "stdout",
     "output_type": "stream",
     "text": [
      "i = 58, j= 59, y_ij = 0\n",
      "1 0\n",
      "i = 58, j= 60, y_ij = 1\n",
      "1 0\n",
      "i = 58, j= 61, y_ij = 2\n",
      "1 0\n",
      "i = 58, j= 62, y_ij = 3\n",
      "1 0\n",
      "i = 58, j= 63, y_ij = 4\n",
      "1 0\n",
      "i = 58, j= 67, y_ij = 5\n",
      "1 0\n",
      "i = 58, j= 69, y_ij = 6\n",
      "1 0\n",
      "i = 58, j= 74, y_ij = 7\n",
      "1 0\n",
      "i = 58, j= 83, y_ij = 8\n",
      "1 0\n",
      "i = 58, j= 101, y_ij = 9\n",
      "1 0\n",
      "i = 64, j= 67, y_ij = 10\n",
      "1 0\n",
      "i = 64, j= 69, y_ij = 11\n",
      "1 0\n",
      "i = 64, j= 74, y_ij = 12\n",
      "1 0\n",
      "i = 64, j= 83, y_ij = 13\n",
      "1 0\n",
      "i = 64, j= 101, y_ij = 14\n",
      "1 0\n",
      "i = 65, j= 67, y_ij = 15\n",
      "1 0\n",
      "i = 65, j= 69, y_ij = 16\n",
      "1 0\n",
      "i = 65, j= 74, y_ij = 17\n",
      "1 0\n",
      "i = 65, j= 83, y_ij = 18\n",
      "1 0\n",
      "i = 65, j= 101, y_ij = 19\n",
      "1 0\n",
      "i = 66, j= 67, y_ij = 20\n",
      "1 0\n",
      "i = 66, j= 69, y_ij = 21\n",
      "1 0\n",
      "i = 66, j= 74, y_ij = 22\n",
      "1 0\n",
      "i = 66, j= 83, y_ij = 23\n",
      "1 0\n",
      "i = 66, j= 101, y_ij = 24\n",
      "1 0\n",
      "i = 68, j= 69, y_ij = 25\n",
      "1 0\n",
      "i = 68, j= 74, y_ij = 26\n",
      "1 0\n",
      "i = 68, j= 83, y_ij = 27\n",
      "1 0\n",
      "i = 68, j= 101, y_ij = 28\n",
      "1 0\n",
      "i = 70, j= 74, y_ij = 29\n",
      "1 0\n",
      "i = 70, j= 83, y_ij = 30\n",
      "1 0\n",
      "i = 70, j= 101, y_ij = 31\n",
      "1 0\n",
      "i = 71, j= 74, y_ij = 32\n",
      "1 0\n",
      "i = 71, j= 83, y_ij = 33\n",
      "1 0\n",
      "i = 71, j= 101, y_ij = 34\n",
      "1 0\n",
      "i = 72, j= 74, y_ij = 35\n",
      "1 0\n",
      "i = 72, j= 83, y_ij = 36\n",
      "1 0\n",
      "i = 72, j= 101, y_ij = 37\n",
      "1 0\n",
      "i = 73, j= 74, y_ij = 38\n",
      "1 0\n",
      "i = 73, j= 83, y_ij = 39\n",
      "1 0\n",
      "i = 73, j= 101, y_ij = 40\n",
      "1 0\n",
      "i = 75, j= 83, y_ij = 41\n",
      "1 0\n",
      "i = 75, j= 101, y_ij = 42\n",
      "1 0\n",
      "i = 76, j= 83, y_ij = 43\n",
      "1 0\n",
      "i = 76, j= 101, y_ij = 44\n",
      "1 0\n",
      "i = 77, j= 83, y_ij = 45\n",
      "1 0\n",
      "i = 77, j= 101, y_ij = 46\n",
      "1 0\n",
      "i = 78, j= 83, y_ij = 47\n",
      "1 0\n",
      "i = 78, j= 101, y_ij = 48\n",
      "1 0\n",
      "i = 79, j= 83, y_ij = 49\n",
      "1 0\n",
      "i = 79, j= 101, y_ij = 50\n",
      "1 0\n",
      "i = 80, j= 83, y_ij = 51\n",
      "1 0\n",
      "i = 80, j= 101, y_ij = 52\n",
      "1 0\n",
      "i = 81, j= 83, y_ij = 53\n",
      "1 0\n",
      "i = 81, j= 101, y_ij = 54\n",
      "1 0\n",
      "i = 82, j= 83, y_ij = 55\n",
      "1 0\n",
      "i = 82, j= 101, y_ij = 56\n",
      "1 0\n",
      "i = 84, j= 101, y_ij = 57\n",
      "1 0\n",
      "i = 85, j= 101, y_ij = 58\n",
      "1 0\n",
      "i = 86, j= 101, y_ij = 59\n",
      "1 0\n",
      "i = 87, j= 101, y_ij = 60\n",
      "1 0\n",
      "i = 88, j= 101, y_ij = 61\n",
      "1 0\n",
      "i = 89, j= 101, y_ij = 62\n",
      "1 0\n",
      "i = 90, j= 101, y_ij = 63\n",
      "1 0\n",
      "i = 91, j= 101, y_ij = 64\n",
      "1 0\n",
      "i = 92, j= 101, y_ij = 65\n",
      "1 0\n",
      "i = 93, j= 101, y_ij = 66\n",
      "1 0\n",
      "i = 94, j= 101, y_ij = 67\n",
      "1 0\n",
      "i = 95, j= 101, y_ij = 68\n",
      "1 0\n",
      "i = 96, j= 101, y_ij = 69\n",
      "1 0\n",
      "i = 97, j= 101, y_ij = 70\n",
      "1 0\n",
      "i = 98, j= 101, y_ij = 71\n",
      "1 0\n",
      "i = 99, j= 101, y_ij = 72\n",
      "1 0\n",
      "i = 100, j= 101, y_ij = 73\n",
      "1 0\n",
      "74\n",
      "auc  = 0.9909313725490196\n"
     ]
    }
   ],
   "source": [
    "# ПОДРОБНЫЙ КОД для понимания интерпретации ROC AUC\n",
    "\n",
    "# Положительные объекты в выборке\n",
    "P = (y_test==1).sum()\n",
    "# Отрицательные объекты\n",
    "N = (y_test==0).sum()\n",
    "y_ij = 0\n",
    "y_test_sorted = y_test[np.argsort(y_pred_proba)]\n",
    "for i in range(y_test.shape[0]):\n",
    "    for j in range(y_test.shape[0]):\n",
    "        if i<j:\n",
    "            if y_test_sorted[i]>y_test_sorted[j]:\n",
    "                print(f\"i = {i}, j= {j}, y_ij = {y_ij}\")\n",
    "                print(y_test_sorted[i], y_test_sorted[j])\n",
    "                y_ij += 1\n",
    "                \n",
    "print(y_ij)\n",
    "auc_hand = 1-1/(P * N)*y_ij\n",
    "print(f\"auc  = {auc_hand}\")"
   ]
  },
  {
   "cell_type": "code",
   "execution_count": 34,
   "metadata": {},
   "outputs": [
    {
     "data": {
      "image/png": "[encoded data removed]",
      "text/plain": [
       "<Figure size 1080x504 with 1 Axes>"
      ]
     },
     "metadata": {
      "needs_background": "light"
     },
     "output_type": "display_data"
    }
   ],
   "source": [
    "# ROC AUC для разных порогов вручную\n",
    "score = y_pred_proba.copy()\n",
    "y = y_test.copy()\n",
    "\n",
    "# FPR\n",
    "fpr = []\n",
    "# TPR\n",
    "tpr = []\n",
    "# Пороги через 0.01 от о до 1 \n",
    "thresholds = np.arange(0.0, 1, .01)\n",
    "\n",
    "# get number of positive and negative examples in the dataset\n",
    "P = np.sum(y)\n",
    "N = len(y) - P\n",
    "\n",
    "# Цикл по всем порогам; определяем долю TP и FP при данных порогах\n",
    "for thresh in thresholds:\n",
    "    FP=0\n",
    "    TP=0\n",
    "    for i in range(len(score)):\n",
    "        if score[i] > thresh:\n",
    "            if y[i] == 1:\n",
    "                TP = TP + 1\n",
    "            if y[i] == 0:\n",
    "                FP = FP + 1\n",
    "    fpr.append(FP/float(N))\n",
    "    tpr.append(TP/float(P))\n",
    "plt.figure(figsize = (15,7))\n",
    "plt.plot(fpr, tpr)\n",
    "plt.show()"
   ]
  },
  {
   "cell_type": "code",
   "execution_count": 35,
   "metadata": {},
   "outputs": [],
   "source": [
    "from sklearn.metrics import accuracy_score\n",
    "from sklearn.metrics import recall_score\n",
    "from sklearn.metrics import precision_score\n",
    "from sklearn.metrics import f1_score\n",
    "from sklearn.metrics import roc_curve"
   ]
  },
  {
   "cell_type": "markdown",
   "metadata": {},
   "source": [
    "# 2. Метрики для регрессии"
   ]
  },
  {
   "cell_type": "code",
   "execution_count": 36,
   "metadata": {},
   "outputs": [],
   "source": [
    "y_reg = np.random.normal(loc = 5, scale = 10, size = 1000)\n",
    "a_reg = np.random.normal(loc = 5, scale = 11, size = 1000)"
   ]
  },
  {
   "cell_type": "markdown",
   "metadata": {},
   "source": [
    "## 2.1 MAE, MSE, RMSE, R^2\n",
    "\n",
    "- **MAE** - mean absolute error\n",
    "\n",
    "- **MSE** - mean squared error\n",
    "\n",
    "- **RMSE** - root of mean squared error and \n",
    "\n",
    "\n",
    "- **R^2** - determination coefficient \n",
    "\n",
    "$$ \\Large MAE = \\frac{1}{N}\\sum_i^N|a_i - y_i|$$\n",
    "\n",
    "$$ \\Large MSE = \\frac{1}{N}\\sum_i^N(a_i - y_i)^2 $$ \n",
    "\n",
    "$$ \\Large RMSE = \\sqrt{\\frac{1}{N}\\sum_i^N(a_i - y_i)^2} $$\n",
    "\n",
    "$$ \\Large R^2 = 1 - \\frac{\\sum_i^N(a_i - y_i)^2}{\\sum_i^N(y_i - \\bar{y})^2} $$\n",
    "\n",
    "$$ \\Large EVS = 1 - \\frac{D(y|x)}{D(y)} $$"
   ]
  },
  {
   "cell_type": "markdown",
   "metadata": {},
   "source": [
    "MSE, RMSE имеют довольно понятный вид, но их значения довольно сложно интерпретировать. \n",
    "В этом случае для интерпретации результатов лучше использовать коэффициент детерминации: MSE делится на MSE оптимального константного алгоритма (предсказываем все целевые значение как средние). \n",
    "\n",
    "Коэффициент детерминации измеряется от 0 до 1, но может быть меньше нуля, если решения алгоритма хуже константного.\n",
    "\n",
    "EVS (eplained variance score) - коэффициент объясненной дисперсии. На самом деле в эконометрике именно он и назвается коэффициент детерминации $R^2$. Напомню, что это 1 минус отношение дисперсии ошибки (условная дисперсия) к дисперсии целевой переменной (безусловная)."
   ]
  },
  {
   "cell_type": "markdown",
   "metadata": {},
   "source": [
    "Заметим, что несмотря на тот факт, что минимальные значения MSE, RMSE и максимум R2 достигается в одной точке, на практике при оптимизации (например, метод градиентного спуска), эти функционалы не эквивалентны, поскольку имеют разные производные. Также заметим, что  MAE не стремится к нулю в случае минимизации (сравнительно например с MSE).\n",
    "\n",
    "\n"
   ]
  },
  {
   "cell_type": "code",
   "execution_count": 40,
   "metadata": {},
   "outputs": [
    {
     "data": {
      "image/png": "[encoded data removed]",
      "text/plain": [
       "<Figure size 1152x648 with 1 Axes>"
      ]
     },
     "metadata": {
      "needs_background": "light"
     },
     "output_type": "display_data"
    }
   ],
   "source": [
    "def mse(true, pred):\n",
    "    \"\"\"\n",
    "    true: array of true values    \n",
    "    pred: array of predicted values\n",
    "    \n",
    "    returns: mean square error loss\n",
    "    \"\"\"\n",
    "    \n",
    "    return np.sum((true - pred)**2)\n",
    "def mae(true, pred):\n",
    "    \"\"\"\n",
    "    true: array of true values    \n",
    "    pred: array of predicted values\n",
    "    \n",
    "    returns: mean absolute error loss\n",
    "    \"\"\"\n",
    "    \n",
    "    return np.sum(np.abs(true - pred))\n",
    "def rmse(true, pred):\n",
    "    \"\"\"\n",
    "    true: array of true values    \n",
    "    pred: array of predicted values\n",
    "    \n",
    "    returns: mean square error loss\n",
    "    \"\"\"\n",
    "    \n",
    "    return np.sqrt(np.sum((true - pred)**2))\n",
    "\n",
    "import warnings\n",
    "warnings.filterwarnings(\"ignore\")\n",
    "import pandas as pd\n",
    "import numpy as np\n",
    "import matplotlib.pyplot as plt\n",
    "fig, ax1 = plt.subplots(1,1, figsize = (16,9))\n",
    "\n",
    "# array of same target value 10000 times\n",
    "target = np.repeat(100, 10000) \n",
    "pred = np.arange(-10000,10000, 2)\n",
    "\n",
    "loss_mse = [mse(target[i], pred[i])/1e4 for i in range(len(pred))]\n",
    "loss_rmse = [rmse(target[i], pred[i])*0.5 for i in range(len(pred))]\n",
    "loss_mae = [mae(target[i], pred[i]) for i in range(len(pred))]\n",
    "\n",
    "# plot \n",
    "ax1.plot(pred, loss_mse, label = \"MSE\")\n",
    "ax1.plot(pred, loss_rmse, label = \"RMSE\")\n",
    "ax1.plot(pred, loss_mae, label = \"MAE\")\n",
    "ax1.set_xlabel('Predictions')\n",
    "ax1.set_ylabel('Loss')\n",
    "ax1.set_title(\"R(MSE)/MAE vs. Predicted values\")\n",
    "ax1.legend();"
   ]
  },
  {
   "cell_type": "markdown",
   "metadata": {},
   "source": [
    "## 2.2 MAPE и SMAPE\n",
    "\n",
    "Это функции ошибки в процентах:\n",
    "\n",
    "- **MAPE** - Mean Absolute Percentage Error:\n",
    "$$ MAPE = 100\\% * \\frac{1}{N}\\sum_i^N\\frac{y_i - a_i}{y_i} $$\n",
    "\n",
    "- **SMAPE** - Symmetric Mean Absolute Percentage Error:\n",
    "\n",
    "$$ SMAPE = 100\\% * \\frac{1}{N}\\sum_i^N\\frac{y_i - a_i}{(y_i + a_i)/2}$$"
   ]
  },
  {
   "cell_type": "markdown",
   "metadata": {},
   "source": [
    "Выглядят такие функции ошибки довольно логично: делим абсолютную разницу между ответами алгоритма и истинным значением на их среднее в случае SMAPE или истинное значение в случае с MAPE. \n",
    "\n",
    "SMAPE более предпочтителен в качестве ошибки, но менее интерпретируем. Он позволяет избежать проблемы, когда значения целевой переменной равняется 0 или же когда ответ алгоритма совпадает с истинным значением."
   ]
  },
  {
   "cell_type": "markdown",
   "metadata": {},
   "source": [
    "Однако, когда у нас целевая переменная часто принимает нулевые значения, фокусирование на SMAPE приводит нас к тому, что мы пытаемся угадать 0. Здесь же возникает проблема с интерпретацией результатов: попробуйте объяснить бизнесу во сколько процентов 2 больше 0.\n",
    "\n",
    "SMAPE и MAPE часто используют при предсказании временных рядов, особенно финансовых. Представим ситуацию, что вместо цены на акцию в 1 единицу мы предсказываем 2 единицы и место 101 предсказываем 102. В первом случае мы ошибаемся почти в 2 раза и почти угадываем во втором случае. Тем не менее, MAE в обоих случаях будет равнятся 1, а SMAPE будет различаться сильно."
   ]
  },
  {
   "cell_type": "code",
   "execution_count": 38,
   "metadata": {},
   "outputs": [],
   "source": [
    "from sklearn.metrics import explained_variance_score\n",
    "from sklearn.metrics import mean_absolute_error\n",
    "from sklearn.metrics import mean_squared_error\n",
    "from sklearn.metrics import r2_score\n",
    "from sklearn.metrics import mean_absolute_percentage_error\n",
    "\n",
    "def mean_absolute_percentage_error(y_true, y_pred): \n",
    "    y_true, y_pred = np.array(y_true), np.array(y_pred)\n",
    "    return np.mean(np.abs((y_true - y_pred) / y_true)) * 100\n",
    "\n",
    "def mape_vectorized_v2(a, y): \n",
    "    mask = a != 0\n",
    "    return (np.fabs(a - y)/a)[mask].mean()\n",
    "\n",
    "def smape(a, y):\n",
    "    return 100/len(a) * np.sum(2 * np.abs(y - a) / (np.abs(a) + np.abs(f)))"
   ]
  },
  {
   "cell_type": "markdown",
   "metadata": {},
   "source": [
    "https://scikit-learn.org/stable/modules/model_evaluation.html"
   ]
  },
  {
   "cell_type": "markdown",
   "metadata": {},
   "source": [
    "# 3. Кросс-валидация"
   ]
  },
  {
   "cell_type": "markdown",
   "metadata": {},
   "source": [
    "Кросс-валидация обычно используется для подбора гиперпараметров модели (количество соседей, коэффициент регуляризации в регрессии и т.д.). Как уже говорилось раннее, задача специалиста по машинному обучению подобрать модель так, чтобы она давала хорошую точность на *новых данных*. Поэтому, чтобы избежать проблему переобучения модели, используют кросс-валидацию.\n",
    "\n",
    "Кросс-валидация - это процедура, которая позволяет получать оценки параметров модели на разных выборках. В этом случае мы можем посмотреть, насколько хороошо наша модель предсказывает значения целевой переменной не на одной выборке, а на нескольких (обычно независимых). Таким образом, мы получаем более точные оценки *out-sample*.\n",
    "    \n",
    "    Почему кросс-валидация так важна?\n",
    "\n",
    "   Обычно мы делим наш датасет на тренировочную и тестовую выборку. Тренировочная выборка используется для обучения модели, а качество прогноза смотрим на независимой тестовой выборке.\n",
    "   Однако, разбиение датасета на трейн и тест подразумевает некоторый тип случайности, от которого в конечном счете тоже будет зависеть точность нашего предсказания. Соответственно, данный элемент случайности нужно как-то снизить, предварительно оценив модель на разном количестве подвыборок."
   ]
  },
  {
   "cell_type": "markdown",
   "metadata": {},
   "source": [
    "## 3.1  Leave p out cross-validation\n",
    "\n",
    "Leave p-out cross-validation (LpOCV) метод всесторонней кросс-валидации, который использует $p$ наблюдений для тестовой выборки, а остальные наблюдения используются для подгонки модели. Данный процесс повторяется до тех пор, пока мы не пройдемся по всей выборке.\n",
    "\n",
    "Вариант LpOCV с $p=2$ известен как leave-pair-out cross-validation обычно рекомендуют как близкий к несмещенному методу для оценивания ROC AUC в задаче бинарной классификации."
   ]
  },
  {
   "cell_type": "code",
   "execution_count": 41,
   "metadata": {},
   "outputs": [
    {
     "name": "stdout",
     "output_type": "stream",
     "text": [
      "LeavePOut(p=2)\n",
      "TRAIN: [2 3] TEST: [0 1]\n",
      "TRAIN: [1 3] TEST: [0 2]\n",
      "TRAIN: [1 2] TEST: [0 3]\n",
      "TRAIN: [0 3] TEST: [1 2]\n",
      "TRAIN: [0 2] TEST: [1 3]\n",
      "TRAIN: [0 1] TEST: [2 3]\n"
     ]
    }
   ],
   "source": [
    "import numpy as np\n",
    "from sklearn.model_selection import LeavePOut\n",
    "X = np.array([[1, 2], [3, 4], [5, 6], [7, 8]])\n",
    "y = np.array([1, 2, 3, 4])\n",
    "lpo = LeavePOut(2)\n",
    "lpo.get_n_splits(X)\n",
    "\n",
    "print(lpo)\n",
    "\n",
    "for train_index, test_index in lpo.split(X):\n",
    "    print(\"TRAIN:\", train_index, \"TEST:\", test_index)\n",
    "    X_train, X_test = X[train_index], X[test_index]\n",
    "    y_train, y_test = y[train_index], y[test_index]"
   ]
  },
  {
   "cell_type": "markdown",
   "metadata": {},
   "source": [
    "## 3. 2 Leave-one-out cross-validation\n",
    "\n",
    "Leave-one-out cross-validation (LOOCV) это частный случай Leave p-out cross-validation (LpOCV) с $p=1$. Такие типы кросс-валидации используют все наблюдения выборки в качестве тестовой.\n",
    "\n",
    "**Плюсы:**\n",
    "\n",
    "- Просто, легко для понимания и внедрения\n",
    "\n",
    "**Минусы:**\n",
    "\n",
    "- Возможно небольшое смещение\n",
    "- Вычислительно затратно\n",
    "\n",
    "![](https://miro.medium.com/max/300/1*26vyRHpqGbVAwJq_csUqZQ.gif)"
   ]
  },
  {
   "cell_type": "code",
   "execution_count": 42,
   "metadata": {},
   "outputs": [
    {
     "name": "stdout",
     "output_type": "stream",
     "text": [
      "LeaveOneOut()\n",
      "TRAIN: [1] TEST: [0]\n",
      "[[3 4]] [[1 2]] [2] [1]\n",
      "TRAIN: [0] TEST: [1]\n",
      "[[1 2]] [[3 4]] [1] [2]\n"
     ]
    }
   ],
   "source": [
    "from sklearn.model_selection import LeaveOneOut\n",
    "X = np.array([[1, 2], [3, 4]])\n",
    "y = np.array([1, 2])\n",
    "loo = LeaveOneOut()\n",
    "loo.get_n_splits(X)\n",
    "\n",
    "print(loo)\n",
    "\n",
    "for train_index, test_index in loo.split(X):\n",
    "    print(\"TRAIN:\", train_index, \"TEST:\", test_index)\n",
    "    X_train, X_test = X[train_index], X[test_index]\n",
    "    y_train, y_test = y[train_index], y[test_index]\n",
    "    print(X_train, X_test, y_train, y_test)"
   ]
  },
  {
   "cell_type": "markdown",
   "metadata": {},
   "source": [
    "## 3.3 Holdout cross-validation\n",
    "\n",
    "Отложенная кросс-валидация предполагает случайное разбиение на тестовую и тренировочную выборки. Обычно тренировочная выборка в 1.5-2 раза больше, чем тестовая. На тренировочной выборке мы оцениваем параметры модели, а на тестовой - проверяем качество.\n",
    "\n",
    "**Плюсы:**\n",
    "- Как и в предыдущих методах\n",
    "\n",
    "**Минусы:**\n",
    "- Не подходит для несбалансированных выборок\n",
    "- Большое объем данных не используется для оценивания параметров модели\n",
    "\n",
    "![](https://miro.medium.com/max/367/1*kUcJBJmkSUbmkO0tm_rdyg.png)"
   ]
  },
  {
   "cell_type": "code",
   "execution_count": 43,
   "metadata": {},
   "outputs": [],
   "source": [
    "from sklearn.model_selection import train_test_split"
   ]
  },
  {
   "cell_type": "markdown",
   "metadata": {},
   "source": [
    "## 3.4 k-fold cross-validation:\n",
    "\n",
    "![](https://miro.medium.com/max/350/1*2rRcNnIokzJU_-NXm29IMA.gif)\n",
    "\n",
    "В k-fold кросс-валидации, исходные датасет разбивается на $k$ равных частей или \"фолдов\". Соответственно, мы оцениваем $k$ моделей, каждый раз смотрим качество на тесте и усредняем наши метрики.\n",
    "\n",
    "LOOCV это частный случай k-fold кросс-валидации с $k=n$.\n",
    "\n",
    "![](https://miro.medium.com/max/382/1*ZAtq4R-CnEoACJQ4HJ6YwQ.png)\n",
    "\n",
    "**Плюсы:**\n",
    "- У модели низкое смещение\n",
    "- Не так затратно по сравнению с LOOCV\n",
    "- Используется весь датасет для подгонки модели\n",
    "\n",
    "**Недостатки:**\n",
    "- Не подходит для несбалансированных выборок."
   ]
  },
  {
   "cell_type": "code",
   "execution_count": 44,
   "metadata": {},
   "outputs": [
    {
     "name": "stdout",
     "output_type": "stream",
     "text": [
      "KFold(n_splits=5, random_state=None, shuffle=False)\n",
      "TRAIN: [1 2 3 4] TEST: [0]\n",
      "TRAIN: [0 2 3 4] TEST: [1]\n",
      "TRAIN: [0 1 3 4] TEST: [2]\n",
      "TRAIN: [0 1 2 4] TEST: [3]\n",
      "TRAIN: [0 1 2 3] TEST: [4]\n"
     ]
    }
   ],
   "source": [
    "import numpy as np\n",
    "from sklearn.model_selection import KFold\n",
    "X = np.array([[1, 2], [3, 4], [1, 2], [3, 4], [5,6]])\n",
    "y = np.array([1, 2, 3, 4, 5])\n",
    "kf = KFold(n_splits=5)\n",
    "kf.get_n_splits(X)\n",
    "\n",
    "print(kf)\n",
    "\n",
    "for train_index, test_index in kf.split(X):\n",
    "    print(\"TRAIN:\", train_index, \"TEST:\", test_index)\n",
    "    X_train, X_test = X[train_index], X[test_index]\n",
    "    y_train, y_test = y[train_index], y[test_index]"
   ]
  },
  {
   "cell_type": "markdown",
   "metadata": {},
   "source": [
    "## 3.5 Repeated random subsampling validation\n",
    "\n",
    "Метод повторного случайного разбиения еще называют кросс-валидацией Монте-Карло, при которой мы случайно разбиваем датасет на тренировочную и тестовую выборки. Однако, при этом длина разбиения зараннее неизвестна. Количество итераций не фиксированно и определяется каждым самостоятельно.\n",
    "\n",
    "**Плюсы:**\n",
    "- Доля тренировочной и тестовой выборок не зависит от количества итераций\n",
    "\n",
    "**Минусы:**\n",
    "- Некоторые наблюдения могут быть не выбраны.\n",
    "- Не подходит для несбалансированных выборок.\n",
    "\n",
    "![](https://miro.medium.com/max/620/1*MiLCGYdMlPkjd6OB5v_4ag.png)"
   ]
  },
  {
   "cell_type": "code",
   "execution_count": 45,
   "metadata": {},
   "outputs": [
    {
     "name": "stdout",
     "output_type": "stream",
     "text": [
      "TRAIN: [1 3] TEST: [0 2]\n",
      "TRAIN: [0 2] TEST: [1 3]\n",
      "TRAIN: [2 3] TEST: [0 1]\n",
      "TRAIN: [0 1] TEST: [2 3]\n"
     ]
    }
   ],
   "source": [
    "import numpy as np\n",
    "from sklearn.model_selection import RepeatedKFold\n",
    "X = np.array([[1, 2], [3, 4], [1, 2], [3, 4]])\n",
    "y = np.array([0, 0, 1, 1])\n",
    "rkf = RepeatedKFold(n_splits=2, n_repeats=2, random_state=17)\n",
    "for train_index, test_index in rkf.split(X):\n",
    "    print(\"TRAIN:\", train_index, \"TEST:\", test_index)\n",
    "    X_train, X_test = X[train_index], X[test_index]\n",
    "    y_train, y_test = y[train_index], y[test_index]"
   ]
  },
  {
   "cell_type": "markdown",
   "metadata": {},
   "source": [
    "## 3.6 Stratified k-fold cross-validation:\n",
    "\n",
    "Все предыдущие методы кросс-валидации плохо справляются с проблемой несбалансированной выборки. Данный способ позволяет решить данную проблему.\n",
    "\n",
    "При таком разбиении, датасеты на каждом из $k$ фолдов разбивается таким образом, чтобы доля наблюдений для значений целевой переменной была всегда в одной пропорции. Например, если в исходном датасете у нас 20% налюдений для $y=1$, то в Stratified k-fold кросс-валидации на любом фолде доля наблюдений с $y=1$ будет всегда 20%.\n",
    "\n",
    "**Плюсы:**\n",
    "- Решает проблему несбалансированности выборки.\n",
    "\n",
    "**Минусы:**\n",
    "- Не подходит для временных рядов.\n",
    "\n",
    "![](https://miro.medium.com/max/297/1*heFAp1evlvrI_1MGHgvB8w.png)\n",
    "\n"
   ]
  },
  {
   "cell_type": "code",
   "execution_count": 46,
   "metadata": {},
   "outputs": [
    {
     "name": "stdout",
     "output_type": "stream",
     "text": [
      "StratifiedKFold(n_splits=3, random_state=None, shuffle=False)\n",
      "TRAIN: [2 3 5 6 7 8] TEST: [0 1 4]\n",
      "TRAIN: [0 1 3 4 7 8] TEST: [2 5 6]\n",
      "TRAIN: [0 1 2 4 5 6] TEST: [3 7 8]\n"
     ]
    }
   ],
   "source": [
    "import numpy as np\n",
    "from sklearn.model_selection import StratifiedKFold\n",
    "X = np.array([[1, 2], [3, 4], [1, 2], [3, 4], [5,6], [7,8], [9,10], [11,12], [13,14]])\n",
    "y = np.array([0, 0, 0, 0, 1, 1, 1,1,1])\n",
    "skf = StratifiedKFold(n_splits=3)\n",
    "skf.get_n_splits(X, y)\n",
    "\n",
    "print(skf)\n",
    "\n",
    "for train_index, test_index in skf.split(X, y):\n",
    "    print(\"TRAIN:\", train_index, \"TEST:\", test_index)\n",
    "    X_train, X_test = X[train_index], X[test_index]\n",
    "    y_train, y_test = y[train_index], y[test_index]"
   ]
  },
  {
   "cell_type": "markdown",
   "metadata": {},
   "source": [
    "## 3.7 Time Series cross-validation:\n",
    "\n",
    "\n",
    "В случае временных рядов порядок наблюдений всегда имеет значение, поэтому предыдущие способы кросс-валидации не подходят. В данной ситации разбиение на тренировочную и тестовую выборки происходит вперед идущим методом. Пример представлен на картинке ниже: здесь мы оцениваем модель на серых наблюдениях и предсказываем на оранжевых.\n",
    "\n",
    "![](https://miro.medium.com/max/552/1*c99ETyWfeteaC_564CDnLw.png)\n",
    "\n"
   ]
  },
  {
   "cell_type": "code",
   "execution_count": 47,
   "metadata": {},
   "outputs": [
    {
     "name": "stdout",
     "output_type": "stream",
     "text": [
      "TimeSeriesSplit(max_train_size=None, n_splits=5)\n",
      "TRAIN: [0] TEST: [1]\n",
      "TRAIN: [0 1] TEST: [2]\n",
      "TRAIN: [0 1 2] TEST: [3]\n",
      "TRAIN: [0 1 2 3] TEST: [4]\n",
      "TRAIN: [0 1 2 3 4] TEST: [5]\n"
     ]
    }
   ],
   "source": [
    "import numpy as np\n",
    "from sklearn.model_selection import TimeSeriesSplit\n",
    "X = np.array([[1, 2], [3, 4], [1, 2], [3, 4], [1, 2], [3, 4]])\n",
    "y = np.array([1, 2, 3, 4, 5, 6])\n",
    "tscv = TimeSeriesSplit()\n",
    "print(tscv)\n",
    "\n",
    "for train_index, test_index in tscv.split(X):\n",
    "    print(\"TRAIN:\", train_index, \"TEST:\", test_index)\n",
    "    X_train, X_test = X[train_index], X[test_index]\n",
    "    y_train, y_test = y[train_index], y[test_index]\n"
   ]
  },
  {
   "cell_type": "markdown",
   "metadata": {},
   "source": [
    "# 4. Подбор гиперпараметров"
   ]
  },
  {
   "cell_type": "markdown",
   "metadata": {},
   "source": [
    "## 4.1 Grid search\n",
    "\n",
    "Метод подбора гиперпараметров по сеткте дискретизирован и суммарное количество вариантов гиперпараметров - это картезианское произведение всех возможных вариантов. В данном случае мы оцениваем такое количество моделей, равно суммарному числу вариантов всех комбинаций из гиперпараметров. Заметим, что несмотря на то, что данная процедура распараллеливается (подключаются к вычислению все ядра процессора), такой метод страдает от проклятия размерности - экспоненциальный рост количества всех возможных вариантов."
   ]
  },
  {
   "cell_type": "code",
   "execution_count": 51,
   "metadata": {},
   "outputs": [
    {
     "data": {
      "text/plain": [
       "{1: 8, 2: 9, 3: 6, 4: 3, 5: 3, 6: 1, 7: 1, 8: 6, 9: 3}"
      ]
     },
     "execution_count": 51,
     "metadata": {},
     "output_type": "execute_result"
    }
   ],
   "source": [
    "from sklearn import svm, datasets\n",
    "from sklearn.neighbors import KNeighborsClassifier\n",
    "from sklearn.model_selection import GridSearchCV\n",
    "iris = datasets.load_iris()\n",
    "parameters = {'n_neighbors':np.arange(1, 10)}\n",
    "knn = KNeighborsClassifier()\n",
    "clf = GridSearchCV(knn, parameters)\n",
    "clf.fit(iris.data, iris.target)\n",
    "\n",
    "\n",
    "dict(zip(clf.cv_results_['param_n_neighbors'].data, \n",
    "         clf.cv_results_['rank_test_score']))"
   ]
  },
  {
   "cell_type": "markdown",
   "metadata": {},
   "source": [
    "## 4.2 Random search\n",
    "\n",
    "\n",
    "Одна из разновидностей предыдущего алгоритма, в которой пространство поиска выбирается случайным образом вместо того, чтобы дискретизировать его с помощью декартовой сетки. Однако, данный алгоритм в теории бесконечен. Вместо количества гиперпараметров мы задаем лимит времени (другими словами, количество попыток). Отметим, что этот алгоритм также страдает от проклятия размерности. Одним из преимуществ случайной сетки является то, что если два гиперпараметра слабо коррелированы, такой способ позволяет более точно найти оптимум каждого параметра, как показано на рисунке ниже.\n",
    "\n",
    "![](https://miro.medium.com/max/700/0*xYiH3bc5hh1DTrFR.jpeg)"
   ]
  },
  {
   "cell_type": "markdown",
   "metadata": {},
   "source": [
    "## 4.3 Parameter Sampler\n",
    "\n",
    "Генератор гиперпараметров из заданного распределения. Если все гиперпараметры представлены в виде списка, то используется сэмплирование без повторения. Если по крайней мере один гиперпараметр задан как распределение, используется сэмплирование с повторением. Рекомендуется использовать для непрерывных распределений непрерывных гиперпараметров."
   ]
  },
  {
   "cell_type": "code",
   "execution_count": 33,
   "metadata": {},
   "outputs": [
    {
     "data": {
      "text/plain": [
       "True"
      ]
     },
     "execution_count": 33,
     "metadata": {},
     "output_type": "execute_result"
    }
   ],
   "source": [
    "from sklearn.model_selection import ParameterSampler\n",
    "from scipy.stats.distributions import expon\n",
    "import numpy as np\n",
    "rng = np.random.RandomState(0)\n",
    "param_grid = {'a':[1, 2], 'b': expon()}\n",
    "param_list = list(ParameterSampler(param_grid, n_iter=4,\n",
    "                                    random_state=rng))\n",
    "rounded_list = [dict((k, round(v, 6)) for (k, v) in d.items())\n",
    "                 for d in param_list]\n",
    "rounded_list == [{'b': 0.89856, 'a': 1},\n",
    "                  {'b': 0.923223, 'a': 1},\n",
    "                  {'b': 1.878964, 'a': 2},\n",
    "                  {'b': 1.038159, 'a': 2}]"
   ]
  },
  {
   "cell_type": "markdown",
   "metadata": {},
   "source": [
    "## 4.4 Parameter grid \n",
    "\n",
    "Смесь 3 и 1 типа выбора параметров."
   ]
  },
  {
   "cell_type": "code",
   "execution_count": 34,
   "metadata": {},
   "outputs": [
    {
     "data": {
      "text/plain": [
       "True"
      ]
     },
     "execution_count": 34,
     "metadata": {},
     "output_type": "execute_result"
    }
   ],
   "source": [
    "from sklearn.model_selection import ParameterGrid\n",
    "param_grid = {'a': [1, 2], 'b': [True, False]}\n",
    "list(ParameterGrid(param_grid)) == (\n",
    "    [{'a': 1, 'b': True}, {'a': 1, 'b': False},\n",
    "     {'a': 2, 'b': True}, {'a': 2, 'b': False}])"
   ]
  },
  {
   "cell_type": "code",
   "execution_count": null,
   "metadata": {},
   "outputs": [],
   "source": [
    "grid = [{'kernel': ['linear']}, {'kernel': ['rbf'], 'gamma': [1, 10]}]\n",
    "list(ParameterGrid(grid)) == [{'kernel': 'linear'},\n",
    "                              {'kernel': 'rbf', 'gamma': 1},\n",
    "                              {'kernel': 'rbf', 'gamma': 10}]\n",
    "\n",
    "ParameterGrid(grid)[1] == {'kernel': 'rbf', 'gamma': 1}"
   ]
  }
 ],
 "metadata": {
  "kernelspec": {
   "display_name": "Python 3",
   "language": "python",
   "name": "python3"
  },
  "language_info": {
   "codemirror_mode": {
    "name": "ipython",
    "version": 3
   },
   "file_extension": ".py",
   "mimetype": "text/x-python",
   "name": "python",
   "nbconvert_exporter": "python",
   "pygments_lexer": "ipython3",
   "version": "3.8.3"
  },
  "toc": {
   "base_numbering": 1,
   "nav_menu": {},
   "number_sections": true,
   "sideBar": true,
   "skip_h1_title": false,
   "title_cell": "Table of Contents",
   "title_sidebar": "Contents",
   "toc_cell": false,
   "toc_position": {},
   "toc_section_display": true,
   "toc_window_display": false
  },
  "varInspector": {
   "cols": {
    "lenName": 16,
    "lenType": 16,
    "lenVar": 40
   },
   "kernels_config": {
    "python": {
     "delete_cmd_postfix": "",
     "delete_cmd_prefix": "del ",
     "library": "var_list.py",
     "varRefreshCmd": "print(var_dic_list())"
    },
    "r": {
     "delete_cmd_postfix": ") ",
     "delete_cmd_prefix": "rm(",
     "library": "var_list.r",
     "varRefreshCmd": "cat(var_dic_list()) "
    }
   },
   "types_to_exclude": [
    "module",
    "function",
    "builtin_function_or_method",
    "instance",
    "_Feature"
   ],
   "window_display": false
  }
 },
 "nbformat": 4,
 "nbformat_minor": 4
}
{
 "cells": [
  {
   "cell_type": "markdown",
   "metadata": {},
   "source": [
    "Обучение без учителя преследует за собой две основные задачи:\n",
    "\n",
    "- сжатие размерности\n",
    "\n",
    "- кластеризация\n",
    "\n",
    "- поиск аномалий"
   ]
  },
  {
   "cell_type": "markdown",
   "metadata": {},
   "source": [
    "# Сжатие размерности\n",
    "\n",
    "## PCA - метод главных компонент\n",
    "\n",
    "### Сингулярное разложение\n",
    "\n",
    "Неотрицательное вещественное число $\\sigma$  называется *сингулярным числом* матрицы $X$ тогда и только тогда, когда существуют два вектора единичной длины $u \\in K^{m}$ и $ v \\in K^{n}$ такие, что:\n",
    "\n",
    "$$Xv = \\sigma u$$\n",
    "\n",
    "$$ X^Tu = \\sigma v $$\n",
    "\n",
    "Здесь $u$ и $v$  - левый сингулярный вектор и правый сингулярный вектор, соответствующимие сингулярному числу $\\sigma$.\n",
    "\n",
    "Стоит отличать сингулярное значение от собственных векторов и чисел. Напомним, что собственный вектор с соответствующим ему собственным значением находится из уравнения:\n",
    "\n",
    "$$Xv = wv$$\n",
    "\n",
    "*Сингулярным разложением* матрицы $X$ называется представление её в виде $X = U\\Sigma V^T$, где:\n",
    "\n",
    " - $\\Sigma$ есть $m\\times n$ матрица у которой элементы, лежащие на главной диагонали, неотрицательны, а все остальные элементы равны нулю.\n",
    " - $U$ и $V$ – ортогональные матрицы порядка $m$  и $n$ соответственно.\n",
    "\n",
    "Напомним, что ортогональная матрица - это матрица, для которой выполняется: $$A A^T = A^T A = E$$\n",
    "\n",
    "Сингулярное разложение является удобным методом при работе с матрицами. Оно показывает геометрическую структуру матрицы и позволяет наглядно представить имеющиеся данные. Сингулярное разложение используется при решении самых разных задач — от приближения методом наименьших квадратов и решения систем уравнений до сжатия изображений. При этом используются разные свойства сингулярного разложения, например, способность показывать ранг матрицы, приближать матрицы данного ранга. SVD позволяет вычислять обратные и псевдообратные матрицы большого размера, что делает его полезным инструментом при решении задач регрессионного анализа.\n",
    "\n",
    " \n",
    "Рассмотрим более подробно задачу о сингулярном разложении матрицы $X \\in \\mathbb{R}^{m \\times n}$.\n",
    " \n",
    "Элементы главной диагонали матрицы $D$ называются *сингулярными числами* матрицы $X$, а столбцы $U$ и $V$ левыми и правыми *сингулярными векторами* матрицы $X$.\n",
    "\n",
    "Заметим, что матрицы $XX^T$ и $X^TX$ являются симметрическими неотрицательно определенными матрицами, и поэтому ортогональным преобразованием могут быть приведены к диагональному виду, причем на диагонали будут стоять неотрицательные собственные значения этих матриц.\n",
    "\n",
    "В силу указанных выше свойств матриц $X^TX$ и $XX^T$ сингулярное разложение матрицы $X$ тесно связано с задачей о спектральном разложении этих матриц. Более точно:\n",
    "- Левые сингулярные векторы матрицы $X$ (составляют матрицу U)– это собственные векторы матрицы $XX^T$.\n",
    "- Правые сингулярные векторы матрицы $X$ (составляют матрицу V) – это собственные векторы матрицы $X^TX$.\n",
    "- Сингулярные числа матрицы $X$ - это корни из собственных значений матрицы $X^TX$ (или $XX^T$).\n",
    "\n",
    "Таким образом, для нахождения сингулярного разложения матрицы $X$ необходимо, найти собственные векторы и значения матриц $X^TX$ и $XX^T$\n",
    "и составить из них матрицы $U, V, \\Sigma$.\n",
    "\n",
    "Cингулярное разложение можно переформулировать в геометрических терминах. Линейный оператор, отображающий элементы пространства $R^n$ в себя представим в виде последовательно выполняемых линейных операторов *вращения*, *растяжения* и *вращения*. Поэтому компоненты сингулярного разложения наглядно показывают геометрические изменения при отображении линейным оператором A множества векторов из векторного пространства в себя или в векторное пространство другой размерности.\n",
    "\n",
    "![Графическая интерпретация сингулярного уравнения](https://miro.medium.com/max/700/1*6wkgGgBy2NLVmRVOw8K86w.png)\n"
   ]
  },
  {
   "cell_type": "code",
   "execution_count": 1,
   "metadata": {
    "pycharm": {
     "name": "#%%\n"
    }
   },
   "outputs": [
    {
     "name": "stdout",
     "output_type": "stream",
     "text": [
      "[[1 2]\n",
      " [3 4]\n",
      " [5 6]]\n",
      "[[-0.2298477   0.88346102  0.40824829]\n",
      " [-0.52474482  0.24078249 -0.81649658]\n",
      " [-0.81964194 -0.40189603  0.40824829]]\n",
      "[9.52551809 0.51430058]\n",
      "[[-0.61962948 -0.78489445]\n",
      " [-0.78489445  0.61962948]]\n"
     ]
    }
   ],
   "source": [
    "import numpy as np\n",
    "from scipy.linalg import svd\n",
    "# define a matrix\n",
    "X = np.array([[1, 2], [3, 4], [5, 6]])\n",
    "print(X)\n",
    "# SVD\n",
    "U, s, VT = svd(X)\n",
    "print(U)\n",
    "print(s)\n",
    "print(VT.T)"
   ]
  },
  {
   "cell_type": "code",
   "execution_count": 10,
   "metadata": {
    "pycharm": {
     "name": "#%%\n"
    }
   },
   "outputs": [
    {
     "name": "stdout",
     "output_type": "stream",
     "text": [
      "[[-0.2298477  -0.88346102  0.40824829]\n",
      " [-0.52474482 -0.24078249 -0.81649658]\n",
      " [-0.81964194  0.40189603  0.40824829]]\n",
      "[[-0.78489445 -0.61962948]\n",
      " [ 0.61962948 -0.78489445]]\n",
      "Собственные значения X XT: [9.07354949e+01 2.64505087e-01 7.62118971e-19]\n",
      "Собственные значения XT X: [ 0.26450509 90.73549491]\n",
      "Сингулярные числа: [9.52551809 0.51430058]\n"
     ]
    }
   ],
   "source": [
    "# Проверим написанные нами выше формулы\n",
    "w_left, v_left = np.linalg.eig(X @ X.T)\n",
    "print(v_left)  # - матрица U\n",
    "w_right, v_right = np.linalg.eig(X.T @ X)\n",
    "print(v_right)\n",
    "\n",
    "print(f\"Собственные значения X XT: {w_left}\")\n",
    "\n",
    "print(f\"Собственные значения XT X: {w_right}\")\n",
    "\n",
    "print(f\"Сингулярные числа: {s}\")\n"
   ]
  },
  {
   "cell_type": "markdown",
   "metadata": {},
   "source": [
    "### Идея и реализация метода PCA\n",
    "\n",
    "Основная идея метода главных компонент заключается в нахождении таких попарно ортогональных направлений в исходном многомерном пространстве (признаковом), вдоль которых данные имеют наибольший разброс (выборочную дисперсию). Эти направления называются главными компонентами. \n",
    "\n",
    "Другая формулировка PCA – для данной многомерной случайной величины построить такое ортогональное преобразование координат, что в результате корреляции между отдельными координатами обратятся в ноль. Таким образом, задача сводится к диагонализации матрицы ковариаций, что эквивалентно нахождению сингулярного разложения матрицы исходных данных.\n",
    "\n",
    "**Алгоритм**:\n",
    "\n",
    "1. Определить $k<n$ – новую размерность (k - компонент, n - исходное количество признаков)\n",
    "2. Нормализовать данные:\n",
    " - Вычесть из $X$ среднее, то есть заменить все $\\Large x^{(i)}$  на $$\\Large  x^{(i)} - \\frac{1}{m} \\sum_{i=1}^{m}{x^{(i)}}$$\n",
    " - Привести данные к единичной дисперсии: посчитать $$\\Large  \\sigma_j^2 = \\frac{1}{m} \\sum_{i=1}^{m}{(x^{(i)})^2}$$\n",
    "и заменить $\\Large x_j^{(i)}$ на $\\Large \\frac{x_j^{(i)}}{\\sigma_j}$ \n",
    "3. Найти сингулярное разложение матрицы $X$:\n",
    "$$\\Large X = UDV^T$$\n",
    "4. Положить $V =$ [$k$ левых столбцов матрицы $V$]\n",
    "5. Вернуть новую матрицу $$\\Large Z = XV \\in \\mathbb{R}^{m \\times k}$$"
   ]
  },
  {
   "cell_type": "markdown",
   "metadata": {},
   "source": [
    "### Пример реализации"
   ]
  },
  {
   "cell_type": "code",
   "execution_count": 16,
   "metadata": {
    "pycharm": {
     "name": "#%%\n"
    }
   },
   "outputs": [
    {
     "name": "stdout",
     "output_type": "stream",
     "text": [
      "         0        1\n",
      "0  1.00000  0.72794\n",
      "1  0.72794  1.00000\n",
      "Proportion of variance explained by each component:\n",
      "1st component - 0.86,\n",
      "2nd component - 0.14\n",
      "\n",
      "Directions of principal components:\n",
      "1st component: [-0.70710678 -0.70710678] \n",
      "2nd component: [ 0.70710678 -0.70710678]\n"
     ]
    },
    {
     "name": "stderr",
     "output_type": "stream",
     "text": [
      "/tmp/ipykernel_173925/2268388242.py:11: RuntimeWarning: covariance is not positive-semidefinite.\n",
      "  X = np.random.multivariate_normal(mean, cov, 300)\n"
     ]
    },
    {
     "data": {
      "text/plain": "<Figure size 720x720 with 1 Axes>",
      "image/png": "[encoded data removed]"
     },
     "metadata": {
      "needs_background": "light"
     },
     "output_type": "display_data"
    }
   ],
   "source": [
    "import numpy as np\n",
    "import pandas as pd\n",
    "%matplotlib inline\n",
    "import matplotlib.pyplot as plt\n",
    "from sklearn.decomposition import PCA\n",
    "\n",
    "np.random.seed(0)\n",
    "mean = np.array([0.0, 0.0])\n",
    "cov = np.array([[1.0, 0],\n",
    "                [3, 3.0]])\n",
    "X = np.random.multivariate_normal(mean, cov, 300)\n",
    "print(pd.DataFrame(X).corr())\n",
    "\n",
    "pca = PCA()\n",
    "X_scal = (X - X.mean(axis=0))/X.std(axis=0)\n",
    "pca.fit(X_scal)\n",
    "print('Proportion of variance explained by each component:\\n' +\\\n",
    "      '1st component - %.2f,\\n2nd component - %.2f\\n' %\n",
    "      tuple(pca.explained_variance_ratio_))\n",
    "print('Directions of principal components:\\n' +\\\n",
    "      '1st component:', pca.components_[0],\n",
    "      '\\n2nd component:', pca.components_[1])\n",
    "\n",
    "plt.figure(figsize=(10,10))\n",
    "plt.scatter(X[:, 0], X[:, 1], s=50, c='r')\n",
    "for l, v in zip(pca.explained_variance_ratio_, pca.components_):\n",
    "    d = 5 * np.sqrt(l) * v\n",
    "    plt.plot([0, d[0]], [0, d[1]], '-k', lw=3)\n",
    "plt.axis('equal')\n",
    "plt.title('2D normal distribution sample and its principal components')\n",
    "plt.show()"
   ]
  },
  {
   "cell_type": "markdown",
   "metadata": {},
   "source": [
    "Первая главная компонента (ей соответствует более длинный вектор) объясняет более 90% дисперсии исходных данных. Это говорит о том, что она содержит в себе почти всю информацию о расположении выборки в пространстве, и вторая компонента может быть опущена. Спроецируем данные на первую компоненту."
   ]
  },
  {
   "cell_type": "code",
   "execution_count": 17,
   "metadata": {
    "pycharm": {
     "name": "#%%\n"
    }
   },
   "outputs": [
    {
     "name": "stdout",
     "output_type": "stream",
     "text": [
      "True\n",
      "[[-2.39391923 -0.2379597 ]\n",
      " [-1.32549283 -1.19598883]\n",
      " [-2.56391328  0.48298728]\n",
      " [-1.34974072  0.05785287]\n",
      " [ 0.03426888 -0.2278214 ]\n",
      " [-0.26040354 -0.77680162]\n",
      " [-1.09690847 -0.0836428 ]\n",
      " [-0.67905225 -0.19208454]\n",
      " [-2.05844776  0.08149844]\n",
      " [-0.53952029  0.43143165]]\n"
     ]
    }
   ],
   "source": [
    "# Реализация через SVD\n",
    "\n",
    "U, s, Vh = svd(X_scal, full_matrices=False)\n",
    "n_comp = 2\n",
    "Z1 = U[:, :n_comp] * s[:n_comp]\n",
    "Z2 = X_scal @ Vh.T\n",
    "Z1[:10]\n",
    "print(np.allclose(Z1, Z2))\n",
    "print(Z1[:10])"
   ]
  },
  {
   "cell_type": "code",
   "execution_count": 15,
   "metadata": {
    "pycharm": {
     "name": "#%%\n"
    }
   },
   "outputs": [
    {
     "data": {
      "text/plain": [
       "array([[ 2.44128851, -0.21067116],\n",
       "       [ 1.16959833, -0.86356126],\n",
       "       [ 2.7409139 ,  0.29221327],\n",
       "       [ 1.40930884,  0.01598501],\n",
       "       [-0.07451705, -0.15926773],\n",
       "       [ 0.13705155, -0.54993519],\n",
       "       [ 1.12295867, -0.07871   ],\n",
       "       [ 0.67116851, -0.14719675],\n",
       "       [ 2.14814135,  0.01965407],\n",
       "       [ 0.63320459,  0.29295295]])"
      ]
     },
     "execution_count": 15,
     "metadata": {},
     "output_type": "execute_result"
    }
   ],
   "source": [
    "pca = PCA()\n",
    "pca.fit(X_scal)\n",
    "pca.transform(X_scal)[:10]"
   ]
  },
  {
   "cell_type": "markdown",
   "metadata": {},
   "source": [
    "Заметим, что знаки не совпадают. SVD страдает от проблемы, называемой \"неопределенностью знака\",\n",
    "которая означает, что знак компонент и преобразованные данные зависят от алгоритма и случайного состояния. Для решения\n",
    "этой проблемы мы можем раскладывать не по всем векторам, а по зараннее выбранным (например, как в PCA - выбрать\n",
    "зараннее известное количество компонент): $ X_k = \\sum_{i=1}^k \\sigma_i u_i v_i $ вместо\n",
    "$ X_n = \\sum_{i=1}^n \\sigma_i u_i v_i $. Этот метод называется усеченным SVD (truncated SVD).\n",
    "\n"
   ]
  },
  {
   "cell_type": "code",
   "execution_count": 18,
   "metadata": {
    "pycharm": {
     "name": "#%%\n"
    }
   },
   "outputs": [
    {
     "name": "stdout",
     "output_type": "stream",
     "text": [
      "[[ 2.39391923]\n",
      " [ 1.32549283]\n",
      " [ 2.56391328]\n",
      " [ 1.34974072]\n",
      " [-0.03426888]\n",
      " [ 0.26040354]\n",
      " [ 1.09690847]\n",
      " [ 0.67905225]\n",
      " [ 2.05844776]\n",
      " [ 0.53952029]]\n"
     ]
    }
   ],
   "source": [
    "from sklearn.decomposition import TruncatedSVD\n",
    "svd_trunc = TruncatedSVD(n_components=1)\n",
    "svd_trunc.fit(X_scal)\n",
    "result = svd_trunc.transform(X_scal)\n",
    "print(result[:10])"
   ]
  },
  {
   "cell_type": "code",
   "execution_count": 19,
   "metadata": {
    "pycharm": {
     "name": "#%%\n"
    }
   },
   "outputs": [
    {
     "data": {
      "text/plain": "<Figure size 720x720 with 1 Axes>",
      "image/png": "[encoded data removed]"
     },
     "metadata": {
      "needs_background": "light"
     },
     "output_type": "display_data"
    }
   ],
   "source": [
    "# Оставим столько компонент, сколько нужно для объяснения по крайней мере 90% вариации\n",
    "pca = PCA(0.90)\n",
    "X_reduced = pca.fit_transform(X)\n",
    "\n",
    "# Преобразуем сниженные данные в изначальное признаковое пространство\n",
    "X_new = pca.inverse_transform(X_reduced)\n",
    "\n",
    "plt.figure(figsize=(10,10))\n",
    "plt.plot(X[:, 0], X[:, 1], 'or', alpha=0.3)\n",
    "plt.plot(X_new[:, 0], X_new[:, 1], 'or', alpha=0.8)\n",
    "plt.axis('equal')\n",
    "plt.title('Проекция всей выборки на первую компоненту')\n",
    "plt.show()"
   ]
  },
  {
   "cell_type": "markdown",
   "metadata": {},
   "source": [
    "Мы понизили размерность данных вдвое, при этом сохранив наиболее значимые черты.\n",
    "В этом заключается основной принцип понижения размерности – приблизить многомерный набор данных\n",
    "с помощью данных меньшей размерности, сохранив при этом как можно больше информации об исходных данных."
   ]
  },
  {
   "cell_type": "markdown",
   "metadata": {},
   "source": [
    "## PCR - Principal component regression (регрессия на главные компоненты)\n",
    "\n",
    "PCR обычно используют в ситуациях, когда число факторов велико, а число наблюдений мало. В этом случае число степеней\n",
    "свободы будет стремиться к нулю, что плохо скажется на результатах. Помимо этого, PCR хорошо заходит в моделях,\n",
    "где факторы сильно коррелируют друг с другом.\n",
    "\n",
    "Пусть $Z_m$ - векторы новой размерности $m$, которые представлены через линейную комбинацию исходных векторов:  \n",
    "$$Z_m = \\sum_{j=1}^p \\phi_{jm}X_j$$\n",
    "\n",
    "где $\\phi_{jm}$ - вес фактора $j$ в компоненту $m$ согласно методу PCA\n",
    "\n",
    "Тогда после вычисления МНК-оценок данных векторов на целевую переменную, коэффициенты для исходных факторов находятся по такой формуле:\n",
    "\n",
    "$$\\beta_j = \\sum_{m=1}^M \\theta_m \\phi_{jm}$$\n",
    "\n",
    "где $\\theta_m$ - МНК оценка компоненты $m$ в линейной регрессии.\n",
    "\n",
    "Алгоритм метода PCR:\n",
    "\n",
    "1. Находим $m$ главных компонент из признакового пространства размерности $p$\n",
    "\n",
    "2. Строим регрессию зависимой переменной на эти главные компоненты.\n",
    "\n",
    "3. Полученные коэффициенты матрично перемножаем с весами, с которыми каждая исходная переменная входит в компоненту.\n",
    "\n",
    "4. Интерпретируем результаты. Поскольку все переменные стандартизированные, веса коэффициентов можно сравнивать друг с другом.\n",
    "\n",
    "Количество компонент в данном случае - гиперпараметр, который мы настраиваем при помощи кросс-валидации."
   ]
  },
  {
   "cell_type": "code",
   "execution_count": 24,
   "metadata": {},
   "outputs": [
    {
     "ename": "FileNotFoundError",
     "evalue": "[Errno 2] No such file or directory: '/Users/iakubovskii/Machine_Learning/RANEPA/Fintech_2020/Машинное обучение/Данные/Credit.csv'",
     "output_type": "error",
     "traceback": [
      "\u001B[0;31m---------------------------------------------------------------------------\u001B[0m",
      "\u001B[0;31mFileNotFoundError\u001B[0m                         Traceback (most recent call last)",
      "\u001B[0;32m/tmp/ipykernel_173925/1753963487.py\u001B[0m in \u001B[0;36m<module>\u001B[0;34m\u001B[0m\n\u001B[1;32m      3\u001B[0m \u001B[0;32mfrom\u001B[0m \u001B[0msklearn\u001B[0m\u001B[0;34m.\u001B[0m\u001B[0mpreprocessing\u001B[0m \u001B[0;32mimport\u001B[0m \u001B[0mStandardScaler\u001B[0m\u001B[0;34m\u001B[0m\u001B[0;34m\u001B[0m\u001B[0m\n\u001B[1;32m      4\u001B[0m \u001B[0;34m\u001B[0m\u001B[0m\n\u001B[0;32m----> 5\u001B[0;31m \u001B[0mcredit\u001B[0m \u001B[0;34m=\u001B[0m \u001B[0mpd\u001B[0m\u001B[0;34m.\u001B[0m\u001B[0mread_csv\u001B[0m\u001B[0;34m(\u001B[0m\u001B[0;34m\"/Users/iakubovskii/Machine_Learning/RANEPA/Fintech_2020/Машинное обучение/Данные/Credit.csv\"\u001B[0m\u001B[0;34m)\u001B[0m\u001B[0;34m\u001B[0m\u001B[0;34m\u001B[0m\u001B[0m\n\u001B[0m\u001B[1;32m      6\u001B[0m \u001B[0mcredit\u001B[0m\u001B[0;34m.\u001B[0m\u001B[0mset_index\u001B[0m\u001B[0;34m(\u001B[0m\u001B[0;34m\"ID\"\u001B[0m\u001B[0;34m,\u001B[0m \u001B[0minplace\u001B[0m\u001B[0;34m=\u001B[0m\u001B[0;32mTrue\u001B[0m\u001B[0;34m)\u001B[0m\u001B[0;34m\u001B[0m\u001B[0;34m\u001B[0m\u001B[0m\n\u001B[1;32m      7\u001B[0m \u001B[0mcredit\u001B[0m\u001B[0;34m.\u001B[0m\u001B[0mhead\u001B[0m\u001B[0;34m(\u001B[0m\u001B[0;34m)\u001B[0m\u001B[0;34m\u001B[0m\u001B[0;34m\u001B[0m\u001B[0m\n",
      "\u001B[0;32m~/Tutor/DS/venv/lib/python3.8/site-packages/pandas/util/_decorators.py\u001B[0m in \u001B[0;36mwrapper\u001B[0;34m(*args, **kwargs)\u001B[0m\n\u001B[1;32m    309\u001B[0m                     \u001B[0mstacklevel\u001B[0m\u001B[0;34m=\u001B[0m\u001B[0mstacklevel\u001B[0m\u001B[0;34m,\u001B[0m\u001B[0;34m\u001B[0m\u001B[0;34m\u001B[0m\u001B[0m\n\u001B[1;32m    310\u001B[0m                 )\n\u001B[0;32m--> 311\u001B[0;31m             \u001B[0;32mreturn\u001B[0m \u001B[0mfunc\u001B[0m\u001B[0;34m(\u001B[0m\u001B[0;34m*\u001B[0m\u001B[0margs\u001B[0m\u001B[0;34m,\u001B[0m \u001B[0;34m**\u001B[0m\u001B[0mkwargs\u001B[0m\u001B[0;34m)\u001B[0m\u001B[0;34m\u001B[0m\u001B[0;34m\u001B[0m\u001B[0m\n\u001B[0m\u001B[1;32m    312\u001B[0m \u001B[0;34m\u001B[0m\u001B[0m\n\u001B[1;32m    313\u001B[0m         \u001B[0;32mreturn\u001B[0m \u001B[0mwrapper\u001B[0m\u001B[0;34m\u001B[0m\u001B[0;34m\u001B[0m\u001B[0m\n",
      "\u001B[0;32m~/Tutor/DS/venv/lib/python3.8/site-packages/pandas/io/parsers/readers.py\u001B[0m in \u001B[0;36mread_csv\u001B[0;34m(filepath_or_buffer, sep, delimiter, header, names, index_col, usecols, squeeze, prefix, mangle_dupe_cols, dtype, engine, converters, true_values, false_values, skipinitialspace, skiprows, skipfooter, nrows, na_values, keep_default_na, na_filter, verbose, skip_blank_lines, parse_dates, infer_datetime_format, keep_date_col, date_parser, dayfirst, cache_dates, iterator, chunksize, compression, thousands, decimal, lineterminator, quotechar, quoting, doublequote, escapechar, comment, encoding, encoding_errors, dialect, error_bad_lines, warn_bad_lines, on_bad_lines, delim_whitespace, low_memory, memory_map, float_precision, storage_options)\u001B[0m\n\u001B[1;32m    584\u001B[0m     \u001B[0mkwds\u001B[0m\u001B[0;34m.\u001B[0m\u001B[0mupdate\u001B[0m\u001B[0;34m(\u001B[0m\u001B[0mkwds_defaults\u001B[0m\u001B[0;34m)\u001B[0m\u001B[0;34m\u001B[0m\u001B[0;34m\u001B[0m\u001B[0m\n\u001B[1;32m    585\u001B[0m \u001B[0;34m\u001B[0m\u001B[0m\n\u001B[0;32m--> 586\u001B[0;31m     \u001B[0;32mreturn\u001B[0m \u001B[0m_read\u001B[0m\u001B[0;34m(\u001B[0m\u001B[0mfilepath_or_buffer\u001B[0m\u001B[0;34m,\u001B[0m \u001B[0mkwds\u001B[0m\u001B[0;34m)\u001B[0m\u001B[0;34m\u001B[0m\u001B[0;34m\u001B[0m\u001B[0m\n\u001B[0m\u001B[1;32m    587\u001B[0m \u001B[0;34m\u001B[0m\u001B[0m\n\u001B[1;32m    588\u001B[0m \u001B[0;34m\u001B[0m\u001B[0m\n",
      "\u001B[0;32m~/Tutor/DS/venv/lib/python3.8/site-packages/pandas/io/parsers/readers.py\u001B[0m in \u001B[0;36m_read\u001B[0;34m(filepath_or_buffer, kwds)\u001B[0m\n\u001B[1;32m    480\u001B[0m \u001B[0;34m\u001B[0m\u001B[0m\n\u001B[1;32m    481\u001B[0m     \u001B[0;31m# Create the parser.\u001B[0m\u001B[0;34m\u001B[0m\u001B[0;34m\u001B[0m\u001B[0;34m\u001B[0m\u001B[0m\n\u001B[0;32m--> 482\u001B[0;31m     \u001B[0mparser\u001B[0m \u001B[0;34m=\u001B[0m \u001B[0mTextFileReader\u001B[0m\u001B[0;34m(\u001B[0m\u001B[0mfilepath_or_buffer\u001B[0m\u001B[0;34m,\u001B[0m \u001B[0;34m**\u001B[0m\u001B[0mkwds\u001B[0m\u001B[0;34m)\u001B[0m\u001B[0;34m\u001B[0m\u001B[0;34m\u001B[0m\u001B[0m\n\u001B[0m\u001B[1;32m    483\u001B[0m \u001B[0;34m\u001B[0m\u001B[0m\n\u001B[1;32m    484\u001B[0m     \u001B[0;32mif\u001B[0m \u001B[0mchunksize\u001B[0m \u001B[0;32mor\u001B[0m \u001B[0miterator\u001B[0m\u001B[0;34m:\u001B[0m\u001B[0;34m\u001B[0m\u001B[0;34m\u001B[0m\u001B[0m\n",
      "\u001B[0;32m~/Tutor/DS/venv/lib/python3.8/site-packages/pandas/io/parsers/readers.py\u001B[0m in \u001B[0;36m__init__\u001B[0;34m(self, f, engine, **kwds)\u001B[0m\n\u001B[1;32m    809\u001B[0m             \u001B[0mself\u001B[0m\u001B[0;34m.\u001B[0m\u001B[0moptions\u001B[0m\u001B[0;34m[\u001B[0m\u001B[0;34m\"has_index_names\"\u001B[0m\u001B[0;34m]\u001B[0m \u001B[0;34m=\u001B[0m \u001B[0mkwds\u001B[0m\u001B[0;34m[\u001B[0m\u001B[0;34m\"has_index_names\"\u001B[0m\u001B[0;34m]\u001B[0m\u001B[0;34m\u001B[0m\u001B[0;34m\u001B[0m\u001B[0m\n\u001B[1;32m    810\u001B[0m \u001B[0;34m\u001B[0m\u001B[0m\n\u001B[0;32m--> 811\u001B[0;31m         \u001B[0mself\u001B[0m\u001B[0;34m.\u001B[0m\u001B[0m_engine\u001B[0m \u001B[0;34m=\u001B[0m \u001B[0mself\u001B[0m\u001B[0;34m.\u001B[0m\u001B[0m_make_engine\u001B[0m\u001B[0;34m(\u001B[0m\u001B[0mself\u001B[0m\u001B[0;34m.\u001B[0m\u001B[0mengine\u001B[0m\u001B[0;34m)\u001B[0m\u001B[0;34m\u001B[0m\u001B[0;34m\u001B[0m\u001B[0m\n\u001B[0m\u001B[1;32m    812\u001B[0m \u001B[0;34m\u001B[0m\u001B[0m\n\u001B[1;32m    813\u001B[0m     \u001B[0;32mdef\u001B[0m \u001B[0mclose\u001B[0m\u001B[0;34m(\u001B[0m\u001B[0mself\u001B[0m\u001B[0;34m)\u001B[0m\u001B[0;34m:\u001B[0m\u001B[0;34m\u001B[0m\u001B[0;34m\u001B[0m\u001B[0m\n",
      "\u001B[0;32m~/Tutor/DS/venv/lib/python3.8/site-packages/pandas/io/parsers/readers.py\u001B[0m in \u001B[0;36m_make_engine\u001B[0;34m(self, engine)\u001B[0m\n\u001B[1;32m   1038\u001B[0m             )\n\u001B[1;32m   1039\u001B[0m         \u001B[0;31m# error: Too many arguments for \"ParserBase\"\u001B[0m\u001B[0;34m\u001B[0m\u001B[0;34m\u001B[0m\u001B[0;34m\u001B[0m\u001B[0m\n\u001B[0;32m-> 1040\u001B[0;31m         \u001B[0;32mreturn\u001B[0m \u001B[0mmapping\u001B[0m\u001B[0;34m[\u001B[0m\u001B[0mengine\u001B[0m\u001B[0;34m]\u001B[0m\u001B[0;34m(\u001B[0m\u001B[0mself\u001B[0m\u001B[0;34m.\u001B[0m\u001B[0mf\u001B[0m\u001B[0;34m,\u001B[0m \u001B[0;34m**\u001B[0m\u001B[0mself\u001B[0m\u001B[0;34m.\u001B[0m\u001B[0moptions\u001B[0m\u001B[0;34m)\u001B[0m  \u001B[0;31m# type: ignore[call-arg]\u001B[0m\u001B[0;34m\u001B[0m\u001B[0;34m\u001B[0m\u001B[0m\n\u001B[0m\u001B[1;32m   1041\u001B[0m \u001B[0;34m\u001B[0m\u001B[0m\n\u001B[1;32m   1042\u001B[0m     \u001B[0;32mdef\u001B[0m \u001B[0m_failover_to_python\u001B[0m\u001B[0;34m(\u001B[0m\u001B[0mself\u001B[0m\u001B[0;34m)\u001B[0m\u001B[0;34m:\u001B[0m\u001B[0;34m\u001B[0m\u001B[0;34m\u001B[0m\u001B[0m\n",
      "\u001B[0;32m~/Tutor/DS/venv/lib/python3.8/site-packages/pandas/io/parsers/c_parser_wrapper.py\u001B[0m in \u001B[0;36m__init__\u001B[0;34m(self, src, **kwds)\u001B[0m\n\u001B[1;32m     49\u001B[0m \u001B[0;34m\u001B[0m\u001B[0m\n\u001B[1;32m     50\u001B[0m         \u001B[0;31m# open handles\u001B[0m\u001B[0;34m\u001B[0m\u001B[0;34m\u001B[0m\u001B[0;34m\u001B[0m\u001B[0m\n\u001B[0;32m---> 51\u001B[0;31m         \u001B[0mself\u001B[0m\u001B[0;34m.\u001B[0m\u001B[0m_open_handles\u001B[0m\u001B[0;34m(\u001B[0m\u001B[0msrc\u001B[0m\u001B[0;34m,\u001B[0m \u001B[0mkwds\u001B[0m\u001B[0;34m)\u001B[0m\u001B[0;34m\u001B[0m\u001B[0;34m\u001B[0m\u001B[0m\n\u001B[0m\u001B[1;32m     52\u001B[0m         \u001B[0;32massert\u001B[0m \u001B[0mself\u001B[0m\u001B[0;34m.\u001B[0m\u001B[0mhandles\u001B[0m \u001B[0;32mis\u001B[0m \u001B[0;32mnot\u001B[0m \u001B[0;32mNone\u001B[0m\u001B[0;34m\u001B[0m\u001B[0;34m\u001B[0m\u001B[0m\n\u001B[1;32m     53\u001B[0m \u001B[0;34m\u001B[0m\u001B[0m\n",
      "\u001B[0;32m~/Tutor/DS/venv/lib/python3.8/site-packages/pandas/io/parsers/base_parser.py\u001B[0m in \u001B[0;36m_open_handles\u001B[0;34m(self, src, kwds)\u001B[0m\n\u001B[1;32m    220\u001B[0m         \u001B[0mLet\u001B[0m \u001B[0mthe\u001B[0m \u001B[0mreaders\u001B[0m \u001B[0mopen\u001B[0m \u001B[0mIOHandles\u001B[0m \u001B[0mafter\u001B[0m \u001B[0mthey\u001B[0m \u001B[0mare\u001B[0m \u001B[0mdone\u001B[0m \u001B[0;32mwith\u001B[0m \u001B[0mtheir\u001B[0m \u001B[0mpotential\u001B[0m \u001B[0mraises\u001B[0m\u001B[0;34m.\u001B[0m\u001B[0;34m\u001B[0m\u001B[0;34m\u001B[0m\u001B[0m\n\u001B[1;32m    221\u001B[0m         \"\"\"\n\u001B[0;32m--> 222\u001B[0;31m         self.handles = get_handle(\n\u001B[0m\u001B[1;32m    223\u001B[0m             \u001B[0msrc\u001B[0m\u001B[0;34m,\u001B[0m\u001B[0;34m\u001B[0m\u001B[0;34m\u001B[0m\u001B[0m\n\u001B[1;32m    224\u001B[0m             \u001B[0;34m\"r\"\u001B[0m\u001B[0;34m,\u001B[0m\u001B[0;34m\u001B[0m\u001B[0;34m\u001B[0m\u001B[0m\n",
      "\u001B[0;32m~/Tutor/DS/venv/lib/python3.8/site-packages/pandas/io/common.py\u001B[0m in \u001B[0;36mget_handle\u001B[0;34m(path_or_buf, mode, encoding, compression, memory_map, is_text, errors, storage_options)\u001B[0m\n\u001B[1;32m    700\u001B[0m         \u001B[0;32mif\u001B[0m \u001B[0mioargs\u001B[0m\u001B[0;34m.\u001B[0m\u001B[0mencoding\u001B[0m \u001B[0;32mand\u001B[0m \u001B[0;34m\"b\"\u001B[0m \u001B[0;32mnot\u001B[0m \u001B[0;32min\u001B[0m \u001B[0mioargs\u001B[0m\u001B[0;34m.\u001B[0m\u001B[0mmode\u001B[0m\u001B[0;34m:\u001B[0m\u001B[0;34m\u001B[0m\u001B[0;34m\u001B[0m\u001B[0m\n\u001B[1;32m    701\u001B[0m             \u001B[0;31m# Encoding\u001B[0m\u001B[0;34m\u001B[0m\u001B[0;34m\u001B[0m\u001B[0;34m\u001B[0m\u001B[0m\n\u001B[0;32m--> 702\u001B[0;31m             handle = open(\n\u001B[0m\u001B[1;32m    703\u001B[0m                 \u001B[0mhandle\u001B[0m\u001B[0;34m,\u001B[0m\u001B[0;34m\u001B[0m\u001B[0;34m\u001B[0m\u001B[0m\n\u001B[1;32m    704\u001B[0m                 \u001B[0mioargs\u001B[0m\u001B[0;34m.\u001B[0m\u001B[0mmode\u001B[0m\u001B[0;34m,\u001B[0m\u001B[0;34m\u001B[0m\u001B[0;34m\u001B[0m\u001B[0m\n",
      "\u001B[0;31mFileNotFoundError\u001B[0m: [Errno 2] No such file or directory: '/Users/iakubovskii/Machine_Learning/RANEPA/Fintech_2020/Машинное обучение/Данные/Credit.csv'"
     ]
    }
   ],
   "source": [
    "import pandas as pd\n",
    "import statsmodels.api as sm\n",
    "from sklearn.preprocessing import StandardScaler\n",
    "\n",
    "credit = pd.read_csv(\"/Users/iakubovskii/Machine_Learning/RANEPA/Fintech_2020/Машинное обучение/Данные/Credit.csv\")\n",
    "credit.set_index(\"ID\", inplace=True)\n",
    "credit.head()"
   ]
  },
  {
   "cell_type": "code",
   "execution_count": 95,
   "metadata": {
    "pycharm": {
     "name": "#%%\n"
    },
    "scrolled": true
   },
   "outputs": [
    {
     "name": "stdout",
     "output_type": "stream",
     "text": [
      "2 компоненты объясняют порядка       39.64 % вариации\n",
      "                            OLS Regression Results                            \n",
      "==============================================================================\n",
      "Dep. Variable:                      y   R-squared:                       0.584\n",
      "Model:                            OLS   Adj. R-squared:                  0.582\n",
      "Method:                 Least Squares   F-statistic:                     278.3\n",
      "Date:                Mon, 07 Jun 2021   Prob (F-statistic):           2.89e-76\n",
      "Time:                        20:27:07   Log-Likelihood:                -392.33\n",
      "No. Observations:                 400   AIC:                             790.7\n",
      "Df Residuals:                     397   BIC:                             802.6\n",
      "Df Model:                           2                                         \n",
      "Covariance Type:            nonrobust                                         \n",
      "==============================================================================\n",
      "                 coef    std err          t      P>|t|      [0.025      0.975]\n",
      "------------------------------------------------------------------------------\n",
      "const       3.816e-17      0.032   1.18e-15      1.000      -0.064       0.064\n",
      "x1             0.4591      0.020     23.532      0.000       0.421       0.497\n",
      "x2             0.0426      0.026      1.666      0.097      -0.008       0.093\n",
      "==============================================================================\n",
      "Omnibus:                        9.321   Durbin-Watson:                   1.953\n",
      "Prob(Omnibus):                  0.009   Jarque-Bera (JB):                9.357\n",
      "Skew:                           0.337   Prob(JB):                      0.00929\n",
      "Kurtosis:                       3.327   Cond. No.                         1.66\n",
      "==============================================================================\n",
      "\n",
      "Notes:\n",
      "[1] Standard Errors assume that the covariance matrix of the errors is correctly specified.\n",
      "                     coefs_PCR\n",
      "Income                0.250139\n",
      "Limit                 0.269904\n",
      "Rating                0.269989\n",
      "Cards                 0.008398\n",
      "Age                   0.053336\n",
      "Education            -0.008190\n",
      "Gender_Female         0.003405\n",
      "Student_Yes           0.004295\n",
      "Married_Yes           0.016050\n",
      "Ethnicity_Asian       0.014623\n",
      "Ethnicity_Caucasian  -0.027361\n"
     ]
    }
   ],
   "source": [
    "qual_cols = ['Gender', 'Student', 'Married', 'Ethnicity']\n",
    "credit_reg = credit.drop(qual_cols, axis=1).join(\n",
    "    pd.get_dummies(credit[qual_cols], drop_first=True))\n",
    "X_reg, y_reg = credit_reg.drop(\"Balance\", axis=1), credit_reg['Balance']\n",
    "sc = StandardScaler()\n",
    "X_reg_scal, y_reg_scal = sc.fit_transform(X_reg), sc.fit_transform(y_reg.values.reshape(-1,1))\n",
    "n_pca=2\n",
    "pca = PCA(n_components=n_pca).fit(X_reg_scal)\n",
    "pcs = pca.fit_transform(X_reg_scal)\n",
    "print(f\"{n_pca} компоненты объясняют порядка \\\n",
    "      {np.round(np.sum(pca.explained_variance_ratio_)*100, 2)} % вариации\")\n",
    "X_PCR =  pcs.copy()\n",
    "V = pca.components_.T\n",
    "ols = sm.OLS(endog = y_reg_scal, exog = sm.add_constant(X_PCR)).fit()\n",
    "print(ols.summary())\n",
    "beta_Z = ols.params[1:]\n",
    "beta_X = V @ beta_Z\n",
    "coefs = pd.DataFrame(index = X_reg.columns, data = beta_X)\n",
    "coefs.columns = ['coefs_PCR']\n",
    "print(coefs)"
   ]
  },
  {
   "cell_type": "code",
   "execution_count": 57,
   "metadata": {},
   "outputs": [
    {
     "name": "stdout",
     "output_type": "stream",
     "text": [
      "                                 OLS Regression Results                                \n",
      "=======================================================================================\n",
      "Dep. Variable:                      y   R-squared (uncentered):                   0.955\n",
      "Model:                            OLS   Adj. R-squared (uncentered):              0.954\n",
      "Method:                 Least Squares   F-statistic:                              752.3\n",
      "Date:                Mon, 07 Jun 2021   Prob (F-statistic):                   2.39e-254\n",
      "Time:                        20:07:05   Log-Likelihood:                          53.095\n",
      "No. Observations:                 400   AIC:                                     -84.19\n",
      "Df Residuals:                     389   BIC:                                     -40.28\n",
      "Df Model:                          11                                                  \n",
      "Covariance Type:            nonrobust                                                  \n",
      "=======================================================================================\n",
      "                          coef    std err          t      P>|t|      [0.025      0.975]\n",
      "---------------------------------------------------------------------------------------\n",
      "Income                 -0.5982      0.018    -33.356      0.000      -0.633      -0.563\n",
      "Limit                   0.9584      0.164      5.832      0.000       0.635       1.282\n",
      "Rating                  0.3825      0.165      2.318      0.021       0.058       0.707\n",
      "Cards                   0.0529      0.013      4.088      0.000       0.027       0.078\n",
      "Age                    -0.0230      0.011     -2.091      0.037      -0.045      -0.001\n",
      "Education              -0.0075      0.011     -0.689      0.492      -0.029       0.014\n",
      "Gender_Female          -0.0116      0.011     -1.076      0.283      -0.033       0.010\n",
      "Student_Yes             0.2782      0.011     25.492      0.000       0.257       0.300\n",
      "Married_Yes            -0.0091      0.011     -0.825      0.410      -0.031       0.013\n",
      "Ethnicity_Asian         0.0160      0.013      1.192      0.234      -0.010       0.042\n",
      "Ethnicity_Caucasian     0.0110      0.013      0.829      0.408      -0.015       0.037\n",
      "==============================================================================\n",
      "Omnibus:                       34.899   Durbin-Watson:                   1.968\n",
      "Prob(Omnibus):                  0.000   Jarque-Bera (JB):               41.766\n",
      "Skew:                           0.782   Prob(JB):                     8.52e-10\n",
      "Kurtosis:                       3.241   Cond. No.                         36.0\n",
      "==============================================================================\n",
      "\n",
      "Notes:\n",
      "[1] R² is computed without centering (uncentered) since the model does not contain a constant.\n",
      "[2] Standard Errors assume that the covariance matrix of the errors is correctly specified.\n"
     ]
    }
   ],
   "source": [
    "# Прогоним классическую регрессию со всеми переменными\n",
    "col_names = ['const']\n",
    "col_names.remove(\"const\")\n",
    "col_names.extend(credit_reg.drop([\"Balance\"], axis=1).columns)\n",
    "ols_no_pcr = sm.OLS(endog=y_reg_scal, exog = X_reg_scal\n",
    "                   ).fit()\n",
    "print(ols_no_pcr.summary(xname=col_names))"
   ]
  },
  {
   "cell_type": "code",
   "execution_count": 58,
   "metadata": {},
   "outputs": [
    {
     "data": {
      "text/html": [
       "<div>\n",
       "<style scoped>\n",
       "    .dataframe tbody tr th:only-of-type {\n",
       "        vertical-align: middle;\n",
       "    }\n",
       "\n",
       "    .dataframe tbody tr th {\n",
       "        vertical-align: top;\n",
       "    }\n",
       "\n",
       "    .dataframe thead th {\n",
       "        text-align: right;\n",
       "    }\n",
       "</style>\n",
       "<table border=\"1\" class=\"dataframe\">\n",
       "  <thead>\n",
       "    <tr style=\"text-align: right;\">\n",
       "      <th></th>\n",
       "      <th>Income</th>\n",
       "      <th>Limit</th>\n",
       "      <th>Rating</th>\n",
       "      <th>Cards</th>\n",
       "      <th>Age</th>\n",
       "      <th>Education</th>\n",
       "      <th>Gender_Female</th>\n",
       "      <th>Student_Yes</th>\n",
       "      <th>Married_Yes</th>\n",
       "      <th>Ethnicity_Asian</th>\n",
       "      <th>Ethnicity_Caucasian</th>\n",
       "    </tr>\n",
       "  </thead>\n",
       "  <tbody>\n",
       "    <tr>\n",
       "      <th>Income</th>\n",
       "      <td>1.000000</td>\n",
       "      <td>0.792088</td>\n",
       "      <td>0.791378</td>\n",
       "      <td>-0.018273</td>\n",
       "      <td>0.175338</td>\n",
       "      <td>-0.027692</td>\n",
       "      <td>-0.010738</td>\n",
       "      <td>0.019632</td>\n",
       "      <td>0.035652</td>\n",
       "      <td>-0.017137</td>\n",
       "      <td>-0.019701</td>\n",
       "    </tr>\n",
       "    <tr>\n",
       "      <th>Limit</th>\n",
       "      <td>0.792088</td>\n",
       "      <td>1.000000</td>\n",
       "      <td>0.996880</td>\n",
       "      <td>0.010231</td>\n",
       "      <td>0.100888</td>\n",
       "      <td>-0.023549</td>\n",
       "      <td>0.009397</td>\n",
       "      <td>-0.006015</td>\n",
       "      <td>0.031155</td>\n",
       "      <td>-0.032427</td>\n",
       "      <td>-0.003081</td>\n",
       "    </tr>\n",
       "    <tr>\n",
       "      <th>Rating</th>\n",
       "      <td>0.791378</td>\n",
       "      <td>0.996880</td>\n",
       "      <td>1.000000</td>\n",
       "      <td>0.053239</td>\n",
       "      <td>0.103165</td>\n",
       "      <td>-0.030136</td>\n",
       "      <td>0.008885</td>\n",
       "      <td>-0.002028</td>\n",
       "      <td>0.036751</td>\n",
       "      <td>-0.035999</td>\n",
       "      <td>-0.001070</td>\n",
       "    </tr>\n",
       "    <tr>\n",
       "      <th>Cards</th>\n",
       "      <td>-0.018273</td>\n",
       "      <td>0.010231</td>\n",
       "      <td>0.053239</td>\n",
       "      <td>1.000000</td>\n",
       "      <td>0.042948</td>\n",
       "      <td>-0.051084</td>\n",
       "      <td>-0.022658</td>\n",
       "      <td>-0.026164</td>\n",
       "      <td>-0.009695</td>\n",
       "      <td>0.005591</td>\n",
       "      <td>-0.005631</td>\n",
       "    </tr>\n",
       "    <tr>\n",
       "      <th>Age</th>\n",
       "      <td>0.175338</td>\n",
       "      <td>0.100888</td>\n",
       "      <td>0.103165</td>\n",
       "      <td>0.042948</td>\n",
       "      <td>1.000000</td>\n",
       "      <td>0.003619</td>\n",
       "      <td>0.004015</td>\n",
       "      <td>-0.029844</td>\n",
       "      <td>-0.073136</td>\n",
       "      <td>-0.059623</td>\n",
       "      <td>-0.000822</td>\n",
       "    </tr>\n",
       "    <tr>\n",
       "      <th>Education</th>\n",
       "      <td>-0.027692</td>\n",
       "      <td>-0.023549</td>\n",
       "      <td>-0.030136</td>\n",
       "      <td>-0.051084</td>\n",
       "      <td>0.003619</td>\n",
       "      <td>1.000000</td>\n",
       "      <td>-0.005049</td>\n",
       "      <td>0.072085</td>\n",
       "      <td>0.048911</td>\n",
       "      <td>0.029586</td>\n",
       "      <td>-0.037725</td>\n",
       "    </tr>\n",
       "    <tr>\n",
       "      <th>Gender_Female</th>\n",
       "      <td>-0.010738</td>\n",
       "      <td>0.009397</td>\n",
       "      <td>0.008885</td>\n",
       "      <td>-0.022658</td>\n",
       "      <td>0.004015</td>\n",
       "      <td>-0.005049</td>\n",
       "      <td>1.000000</td>\n",
       "      <td>0.055034</td>\n",
       "      <td>0.012452</td>\n",
       "      <td>0.025425</td>\n",
       "      <td>-0.009831</td>\n",
       "    </tr>\n",
       "    <tr>\n",
       "      <th>Student_Yes</th>\n",
       "      <td>0.019632</td>\n",
       "      <td>-0.006015</td>\n",
       "      <td>-0.002028</td>\n",
       "      <td>-0.026164</td>\n",
       "      <td>-0.029844</td>\n",
       "      <td>0.072085</td>\n",
       "      <td>0.055034</td>\n",
       "      <td>1.000000</td>\n",
       "      <td>-0.076974</td>\n",
       "      <td>0.053534</td>\n",
       "      <td>-0.048334</td>\n",
       "    </tr>\n",
       "    <tr>\n",
       "      <th>Married_Yes</th>\n",
       "      <td>0.035652</td>\n",
       "      <td>0.031155</td>\n",
       "      <td>0.036751</td>\n",
       "      <td>-0.009695</td>\n",
       "      <td>-0.073136</td>\n",
       "      <td>0.048911</td>\n",
       "      <td>0.012452</td>\n",
       "      <td>-0.076974</td>\n",
       "      <td>1.000000</td>\n",
       "      <td>0.088595</td>\n",
       "      <td>0.011418</td>\n",
       "    </tr>\n",
       "    <tr>\n",
       "      <th>Ethnicity_Asian</th>\n",
       "      <td>-0.017137</td>\n",
       "      <td>-0.032427</td>\n",
       "      <td>-0.035999</td>\n",
       "      <td>0.005591</td>\n",
       "      <td>-0.059623</td>\n",
       "      <td>0.029586</td>\n",
       "      <td>0.025425</td>\n",
       "      <td>0.053534</td>\n",
       "      <td>0.088595</td>\n",
       "      <td>1.000000</td>\n",
       "      <td>-0.582131</td>\n",
       "    </tr>\n",
       "    <tr>\n",
       "      <th>Ethnicity_Caucasian</th>\n",
       "      <td>-0.019701</td>\n",
       "      <td>-0.003081</td>\n",
       "      <td>-0.001070</td>\n",
       "      <td>-0.005631</td>\n",
       "      <td>-0.000822</td>\n",
       "      <td>-0.037725</td>\n",
       "      <td>-0.009831</td>\n",
       "      <td>-0.048334</td>\n",
       "      <td>0.011418</td>\n",
       "      <td>-0.582131</td>\n",
       "      <td>1.000000</td>\n",
       "    </tr>\n",
       "  </tbody>\n",
       "</table>\n",
       "</div>"
      ],
      "text/plain": [
       "                       Income     Limit    Rating     Cards       Age  \\\n",
       "Income               1.000000  0.792088  0.791378 -0.018273  0.175338   \n",
       "Limit                0.792088  1.000000  0.996880  0.010231  0.100888   \n",
       "Rating               0.791378  0.996880  1.000000  0.053239  0.103165   \n",
       "Cards               -0.018273  0.010231  0.053239  1.000000  0.042948   \n",
       "Age                  0.175338  0.100888  0.103165  0.042948  1.000000   \n",
       "Education           -0.027692 -0.023549 -0.030136 -0.051084  0.003619   \n",
       "Gender_Female       -0.010738  0.009397  0.008885 -0.022658  0.004015   \n",
       "Student_Yes          0.019632 -0.006015 -0.002028 -0.026164 -0.029844   \n",
       "Married_Yes          0.035652  0.031155  0.036751 -0.009695 -0.073136   \n",
       "Ethnicity_Asian     -0.017137 -0.032427 -0.035999  0.005591 -0.059623   \n",
       "Ethnicity_Caucasian -0.019701 -0.003081 -0.001070 -0.005631 -0.000822   \n",
       "\n",
       "                     Education  Gender_Female  Student_Yes  Married_Yes  \\\n",
       "Income               -0.027692      -0.010738     0.019632     0.035652   \n",
       "Limit                -0.023549       0.009397    -0.006015     0.031155   \n",
       "Rating               -0.030136       0.008885    -0.002028     0.036751   \n",
       "Cards                -0.051084      -0.022658    -0.026164    -0.009695   \n",
       "Age                   0.003619       0.004015    -0.029844    -0.073136   \n",
       "Education             1.000000      -0.005049     0.072085     0.048911   \n",
       "Gender_Female        -0.005049       1.000000     0.055034     0.012452   \n",
       "Student_Yes           0.072085       0.055034     1.000000    -0.076974   \n",
       "Married_Yes           0.048911       0.012452    -0.076974     1.000000   \n",
       "Ethnicity_Asian       0.029586       0.025425     0.053534     0.088595   \n",
       "Ethnicity_Caucasian  -0.037725      -0.009831    -0.048334     0.011418   \n",
       "\n",
       "                     Ethnicity_Asian  Ethnicity_Caucasian  \n",
       "Income                     -0.017137            -0.019701  \n",
       "Limit                      -0.032427            -0.003081  \n",
       "Rating                     -0.035999            -0.001070  \n",
       "Cards                       0.005591            -0.005631  \n",
       "Age                        -0.059623            -0.000822  \n",
       "Education                   0.029586            -0.037725  \n",
       "Gender_Female               0.025425            -0.009831  \n",
       "Student_Yes                 0.053534            -0.048334  \n",
       "Married_Yes                 0.088595             0.011418  \n",
       "Ethnicity_Asian             1.000000            -0.582131  \n",
       "Ethnicity_Caucasian        -0.582131             1.000000  "
      ]
     },
     "metadata": {},
     "output_type": "display_data"
    }
   ],
   "source": [
    "credit_reg.drop(\"Balance\", axis=1).corr()"
   ]
  },
  {
   "cell_type": "code",
   "execution_count": 61,
   "metadata": {},
   "outputs": [
    {
     "name": "stdout",
     "output_type": "stream",
     "text": [
      "                            OLS Regression Results                            \n",
      "==============================================================================\n",
      "Dep. Variable:                      y   R-squared:                       0.295\n",
      "Model:                            OLS   Adj. R-squared:                  0.278\n",
      "Method:                 Least Squares   F-statistic:                     18.09\n",
      "Date:                Mon, 07 Jun 2021   Prob (F-statistic):           3.83e-25\n",
      "Time:                        20:08:12   Log-Likelihood:                -497.80\n",
      "No. Observations:                 400   AIC:                             1016.\n",
      "Df Residuals:                     390   BIC:                             1056.\n",
      "Df Model:                           9                                         \n",
      "Covariance Type:            nonrobust                                         \n",
      "=======================================================================================\n",
      "                          coef    std err          t      P>|t|      [0.025      0.975]\n",
      "---------------------------------------------------------------------------------------\n",
      "const               -1.214e-17      0.043  -2.86e-16      1.000      -0.084       0.084\n",
      "Rating                  0.4749      0.043     10.956      0.000       0.390       0.560\n",
      "Cards                   0.1052      0.043      2.466      0.014       0.021       0.189\n",
      "Age                    -0.0798      0.044     -1.835      0.067      -0.165       0.006\n",
      "Education              -0.0061      0.043     -0.142      0.888      -0.090       0.078\n",
      "Gender_Female           0.0160      0.043      0.376      0.707      -0.068       0.100\n",
      "Student_Yes             0.2503      0.043      5.824      0.000       0.166       0.335\n",
      "Married_Yes            -0.0070      0.043     -0.161      0.872      -0.092       0.078\n",
      "Ethnicity_Asian        -0.0138      0.053     -0.262      0.794      -0.118       0.090\n",
      "Ethnicity_Caucasian     0.0106      0.053      0.203      0.840      -0.093       0.114\n",
      "==============================================================================\n",
      "Omnibus:                       97.394   Durbin-Watson:                   1.967\n",
      "Prob(Omnibus):                  0.000   Jarque-Bera (JB):               20.940\n",
      "Skew:                           0.210   Prob(JB):                     2.84e-05\n",
      "Kurtosis:                       1.961   Cond. No.                         1.99\n",
      "==============================================================================\n",
      "\n",
      "Notes:\n",
      "[1] Standard Errors assume that the covariance matrix of the errors is correctly specified.\n"
     ]
    }
   ],
   "source": [
    "# Удалим переменные, которые сильно коррелируют друг с другом\n",
    "col_names = ['const']\n",
    "col_names.extend(credit_reg.drop([\"Balance\", \"Limit\", \"Income\"], axis=1).columns)\n",
    "ols_no_pcr = sm.OLS(endog=y_reg_scal, exog = sm.add_constant(np.delete(X_reg_scal, [1,2], axis=1))\n",
    "                   ).fit()\n",
    "print(ols_no_pcr.summary(xname=col_names))"
   ]
  },
  {
   "cell_type": "code",
   "execution_count": 69,
   "metadata": {},
   "outputs": [
    {
     "data": {
      "text/plain": [
       "True"
      ]
     },
     "execution_count": 69,
     "metadata": {},
     "output_type": "execute_result"
    }
   ],
   "source": [
    "# Проверяяем чему равен ранг матрицы (он должен быть равен числу объясняющих переменных)\n",
    "np.linalg.matrix_rank(sm.add_constant(np.delete(X_reg_scal, [1,2], axis=1))) == \\\n",
    "sm.add_constant(np.delete(X_reg_scal, [1,2], axis=1)).shape[1]"
   ]
  },
  {
   "cell_type": "code",
   "execution_count": 64,
   "metadata": {},
   "outputs": [
    {
     "data": {
      "text/plain": [
       "array([1.01831005, 1.00798877, 1.0234839 , 1.01315709, 1.00456088,\n",
       "       1.02040421, 1.03154643, 1.54637879, 1.52681452])"
      ]
     },
     "execution_count": 64,
     "metadata": {},
     "output_type": "execute_result"
    }
   ],
   "source": [
    "# VIF при удалении коррелированных переменных\n",
    "np.diag(np.linalg.inv(credit_reg.drop([\"Balance\", \"Limit\", \"Income\"], axis=1).corr().values))"
   ]
  },
  {
   "cell_type": "code",
   "execution_count": 65,
   "metadata": {},
   "outputs": [
    {
     "data": {
      "text/plain": [
       "array([  2.78618211, 234.02809952, 235.84825926,   1.44868996,\n",
       "         1.05140999,   1.0195883 ,   1.00584914,   1.03151711,\n",
       "         1.04463758,   1.55215669,   1.52750408])"
      ]
     },
     "execution_count": 65,
     "metadata": {},
     "output_type": "execute_result"
    }
   ],
   "source": [
    "# VIF без удаления коррелированных переменных\n",
    "np.diag(np.linalg.inv(credit_reg.drop([\"Balance\"], axis=1).corr().values))\n",
    "# VIF > 5-10 - не очень хорошо! (коэффициенты будут плыть, стандартные ошибки могут быть слишком высокими)"
   ]
  },
  {
   "cell_type": "code",
   "execution_count": 94,
   "metadata": {
    "pycharm": {
     "name": "#%%\n"
    }
   },
   "outputs": [
    {
     "name": "stdout",
     "output_type": "stream",
     "text": [
      "                            OLS Regression Results                            \n",
      "==============================================================================\n",
      "Dep. Variable:                Balance   R-squared:                       0.583\n",
      "Model:                            OLS   Adj. R-squared:                  0.581\n",
      "Method:                 Least Squares   F-statistic:                     277.1\n",
      "Date:                Mon, 07 Jun 2021   Prob (F-statistic):           4.68e-76\n",
      "Time:                        20:26:38   Log-Likelihood:                -392.31\n",
      "No. Observations:                 400   AIC:                             790.6\n",
      "Df Residuals:                     397   BIC:                             802.6\n",
      "Df Model:                           2                                         \n",
      "Covariance Type:            nonrobust                                         \n",
      "==============================================================================\n",
      "                 coef    std err          t      P>|t|      [0.025      0.975]\n",
      "------------------------------------------------------------------------------\n",
      "const       5.725e-17      0.032   1.77e-15      1.000      -0.064       0.064\n",
      "PC1            0.4593      0.020     23.535      0.000       0.421       0.498\n",
      "PC2           -0.0176      0.031     -0.561      0.575      -0.079       0.044\n",
      "==============================================================================\n",
      "Omnibus:                       10.662   Durbin-Watson:                   1.961\n",
      "Prob(Omnibus):                  0.005   Jarque-Bera (JB):               11.011\n",
      "Skew:                           0.350   Prob(JB):                      0.00407\n",
      "Kurtosis:                       3.414   Cond. No.                         1.66\n",
      "==============================================================================\n",
      "\n",
      "Notes:\n",
      "[1] Standard Errors assume that the covariance matrix of the errors is correctly specified.\n",
      "             coefs_PCR\n",
      "Education    -0.001533\n",
      "Income        0.250028\n",
      "Cards        -0.003952\n",
      "Age           0.051044\n",
      "Rating        0.269953\n",
      "Limit         0.270385\n",
      "Gender_1     -0.000735\n",
      "Gender_2      0.000735\n",
      "Student_1    -0.000365\n",
      "Student_2     0.000365\n",
      "Married_1     0.005615\n",
      "Married_2    -0.005615\n",
      "Ethnicity_1  -0.001428\n",
      "Ethnicity_2  -0.004149\n",
      "Ethnicity_3   0.005577\n"
     ]
    },
    {
     "name": "stderr",
     "output_type": "stream",
     "text": [
      "/Users/iakubovskii/PythonR/anaconda3/lib/python3.8/site-packages/category_encoders/utils.py:21: FutureWarning: is_categorical is deprecated and will be removed in a future version.  Use is_categorical_dtype instead\n",
      "  elif pd.api.types.is_categorical(cols):\n"
     ]
    }
   ],
   "source": [
    "from sklearn.pipeline import Pipeline\n",
    "from sklearn.impute import SimpleImputer\n",
    "from sklearn.compose import ColumnTransformer\n",
    "import category_encoders as ce\n",
    "\n",
    "categorical_features = ['Gender', 'Student', 'Married', 'Ethnicity']\n",
    "numeric_features = list(set(credit.columns) - set(categorical_features) - set([\"Balance\"]))\n",
    "\n",
    "numeric_transformer = Pipeline(steps=[\n",
    "    ('imputer', SimpleImputer(strategy='median')),\n",
    "    ('scaler', StandardScaler(with_std=True, with_mean=True))])\n",
    "\n",
    "categorical_transformer = ce.OneHotEncoder()\n",
    "preprocessor = ColumnTransformer(\n",
    "    transformers=[\n",
    "        ('num', numeric_transformer, numeric_features),\n",
    "        ('cat', categorical_transformer, categorical_features)])\n",
    "X_preprocessed = preprocessor.fit_transform(credit.drop(\"Balance\", axis=1))\n",
    "y = (credit['Balance'] - credit['Balance'].mean()) / credit['Balance'].std()\n",
    "\n",
    "n_pca=2\n",
    "pca = PCA(n_components=n_pca).fit(X_preprocessed)\n",
    "pcs = pca.fit_transform(X_preprocessed)\n",
    "X_PCR =  pcs.copy()\n",
    "V = pca.components_.T\n",
    "ols = sm.OLS(endog = y, exog = sm.add_constant(X_PCR)).fit()\n",
    "print(ols.summary(xname=['const', 'PC1', \"PC2\"]))\n",
    "beta_Z = ols.params[1:]\n",
    "beta_X = V @ beta_Z\n",
    "all_cols = preprocessor.transformers_[0][2].copy()  # extract num columns (0 step in pipeline)\n",
    "cat_col_names = preprocessor.transformers_[1][1].get_feature_names()  # extract category columns (1 step in pipeline)\n",
    "all_cols.extend(cat_col_names)\n",
    "coefs = pd.DataFrame(index = all_cols, data = beta_X)\n",
    "coefs.columns = ['coefs_PCR']\n",
    "print(coefs)\n"
   ]
  },
  {
   "cell_type": "markdown",
   "metadata": {},
   "source": [
    "Почему коэффициенты отличаются? Ваша задача с этим разобраться. А мы пока посмотрим, как снижается MSE при увеличении\n",
    "количества компонент в регрессии, а также как изменяются сами коэффициенты."
   ]
  },
  {
   "cell_type": "code",
   "execution_count": 96,
   "metadata": {
    "pycharm": {
     "name": "#%%\n"
    }
   },
   "outputs": [
    {
     "data": {
      "image/png": "[encoded data removed]",
      "text/plain": [
       "<Figure size 432x288 with 1 Axes>"
      ]
     },
     "metadata": {
      "needs_background": "light"
     },
     "output_type": "display_data"
    }
   ],
   "source": [
    "def get_mse(n_pca=2):\n",
    "    pca = PCA(n_components=n_pca).fit(X_reg_scal)\n",
    "    pcs = pca.fit_transform(X_reg_scal)\n",
    "    X_PCR =  pcs.copy()\n",
    "    V = pca.components_.T\n",
    "    ols = sm.OLS(endog = y_reg_scal, exog = sm.add_constant(X_PCR)).fit()\n",
    "    return ols.mse_model\n",
    "plt.plot(np.arange(1, 11),list(map(get_mse, np.arange(1, 11))));"
   ]
  },
  {
   "cell_type": "code",
   "execution_count": 97,
   "metadata": {
    "pycharm": {
     "name": "#%%\n"
    }
   },
   "outputs": [
    {
     "data": {
      "text/html": [
       "<div>\n",
       "<style scoped>\n",
       "    .dataframe tbody tr th:only-of-type {\n",
       "        vertical-align: middle;\n",
       "    }\n",
       "\n",
       "    .dataframe tbody tr th {\n",
       "        vertical-align: top;\n",
       "    }\n",
       "\n",
       "    .dataframe thead th {\n",
       "        text-align: right;\n",
       "    }\n",
       "</style>\n",
       "<table border=\"1\" class=\"dataframe\">\n",
       "  <thead>\n",
       "    <tr style=\"text-align: right;\">\n",
       "      <th></th>\n",
       "      <th>coefs_PCR_1</th>\n",
       "      <th>coefs_PCR_2</th>\n",
       "      <th>coefs_PCR_3</th>\n",
       "      <th>coefs_PCR_4</th>\n",
       "      <th>coefs_PCR_5</th>\n",
       "      <th>coefs_PCR_6</th>\n",
       "      <th>coefs_PCR_7</th>\n",
       "      <th>coefs_PCR_8</th>\n",
       "      <th>coefs_PCR_9</th>\n",
       "      <th>coefs_PCR_10</th>\n",
       "    </tr>\n",
       "  </thead>\n",
       "  <tbody>\n",
       "    <tr>\n",
       "      <th>Income</th>\n",
       "      <td>0.248903</td>\n",
       "      <td>0.250139</td>\n",
       "      <td>0.255049</td>\n",
       "      <td>0.255051</td>\n",
       "      <td>0.252950</td>\n",
       "      <td>0.255940</td>\n",
       "      <td>0.246062</td>\n",
       "      <td>0.246375</td>\n",
       "      <td>0.246618</td>\n",
       "      <td>-0.598867</td>\n",
       "    </tr>\n",
       "    <tr>\n",
       "      <th>Limit</th>\n",
       "      <td>0.269159</td>\n",
       "      <td>0.269904</td>\n",
       "      <td>0.273498</td>\n",
       "      <td>0.271959</td>\n",
       "      <td>0.273744</td>\n",
       "      <td>0.281698</td>\n",
       "      <td>0.288353</td>\n",
       "      <td>0.287639</td>\n",
       "      <td>0.287802</td>\n",
       "      <td>0.671407</td>\n",
       "    </tr>\n",
       "    <tr>\n",
       "      <th>Rating</th>\n",
       "      <td>0.269351</td>\n",
       "      <td>0.269989</td>\n",
       "      <td>0.270672</td>\n",
       "      <td>0.269459</td>\n",
       "      <td>0.271730</td>\n",
       "      <td>0.278110</td>\n",
       "      <td>0.293334</td>\n",
       "      <td>0.292667</td>\n",
       "      <td>0.292748</td>\n",
       "      <td>0.670638</td>\n",
       "    </tr>\n",
       "    <tr>\n",
       "      <th>Cards</th>\n",
       "      <td>0.008762</td>\n",
       "      <td>0.008398</td>\n",
       "      <td>-0.062288</td>\n",
       "      <td>-0.053340</td>\n",
       "      <td>-0.047782</td>\n",
       "      <td>-0.084639</td>\n",
       "      <td>0.101643</td>\n",
       "      <td>0.100669</td>\n",
       "      <td>0.100587</td>\n",
       "      <td>0.040431</td>\n",
       "    </tr>\n",
       "    <tr>\n",
       "      <th>Age</th>\n",
       "      <td>0.056364</td>\n",
       "      <td>0.053336</td>\n",
       "      <td>0.037519</td>\n",
       "      <td>0.053267</td>\n",
       "      <td>0.031285</td>\n",
       "      <td>-0.044677</td>\n",
       "      <td>-0.131355</td>\n",
       "      <td>-0.127669</td>\n",
       "      <td>-0.126926</td>\n",
       "      <td>-0.023274</td>\n",
       "    </tr>\n",
       "    <tr>\n",
       "      <th>Education</th>\n",
       "      <td>-0.012302</td>\n",
       "      <td>-0.008190</td>\n",
       "      <td>0.061966</td>\n",
       "      <td>0.055418</td>\n",
       "      <td>0.011903</td>\n",
       "      <td>-0.040486</td>\n",
       "      <td>0.011726</td>\n",
       "      <td>0.007994</td>\n",
       "      <td>0.008328</td>\n",
       "      <td>-0.005999</td>\n",
       "    </tr>\n",
       "    <tr>\n",
       "      <th>Gender_Female</th>\n",
       "      <td>0.001157</td>\n",
       "      <td>0.003405</td>\n",
       "      <td>0.052695</td>\n",
       "      <td>0.054079</td>\n",
       "      <td>0.109742</td>\n",
       "      <td>0.042864</td>\n",
       "      <td>0.018200</td>\n",
       "      <td>0.016169</td>\n",
       "      <td>0.015949</td>\n",
       "      <td>-0.011647</td>\n",
       "    </tr>\n",
       "    <tr>\n",
       "      <th>Student_Yes</th>\n",
       "      <td>-0.001045</td>\n",
       "      <td>0.004295</td>\n",
       "      <td>0.095588</td>\n",
       "      <td>0.105336</td>\n",
       "      <td>0.109718</td>\n",
       "      <td>0.136061</td>\n",
       "      <td>0.239457</td>\n",
       "      <td>0.244222</td>\n",
       "      <td>0.243888</td>\n",
       "      <td>0.276355</td>\n",
       "    </tr>\n",
       "    <tr>\n",
       "      <th>Married_Yes</th>\n",
       "      <td>0.012036</td>\n",
       "      <td>0.016050</td>\n",
       "      <td>-0.002502</td>\n",
       "      <td>-0.026812</td>\n",
       "      <td>-0.023194</td>\n",
       "      <td>-0.065397</td>\n",
       "      <td>-0.032594</td>\n",
       "      <td>-0.027802</td>\n",
       "      <td>-0.029607</td>\n",
       "      <td>-0.011161</td>\n",
       "    </tr>\n",
       "    <tr>\n",
       "      <th>Ethnicity_Asian</th>\n",
       "      <td>-0.015043</td>\n",
       "      <td>0.014623</td>\n",
       "      <td>-0.000976</td>\n",
       "      <td>-0.001196</td>\n",
       "      <td>0.000390</td>\n",
       "      <td>0.002062</td>\n",
       "      <td>-0.008416</td>\n",
       "      <td>-0.008253</td>\n",
       "      <td>0.002466</td>\n",
       "      <td>0.017409</td>\n",
       "    </tr>\n",
       "    <tr>\n",
       "      <th>Ethnicity_Caucasian</th>\n",
       "      <td>0.001869</td>\n",
       "      <td>-0.027361</td>\n",
       "      <td>-0.012568</td>\n",
       "      <td>-0.016972</td>\n",
       "      <td>-0.013690</td>\n",
       "      <td>-0.016692</td>\n",
       "      <td>0.008258</td>\n",
       "      <td>0.008882</td>\n",
       "      <td>0.019421</td>\n",
       "      <td>0.011187</td>\n",
       "    </tr>\n",
       "  </tbody>\n",
       "</table>\n",
       "</div>"
      ],
      "text/plain": [
       "                     coefs_PCR_1  coefs_PCR_2  coefs_PCR_3  coefs_PCR_4  \\\n",
       "Income                  0.248903     0.250139     0.255049     0.255051   \n",
       "Limit                   0.269159     0.269904     0.273498     0.271959   \n",
       "Rating                  0.269351     0.269989     0.270672     0.269459   \n",
       "Cards                   0.008762     0.008398    -0.062288    -0.053340   \n",
       "Age                     0.056364     0.053336     0.037519     0.053267   \n",
       "Education              -0.012302    -0.008190     0.061966     0.055418   \n",
       "Gender_Female           0.001157     0.003405     0.052695     0.054079   \n",
       "Student_Yes            -0.001045     0.004295     0.095588     0.105336   \n",
       "Married_Yes             0.012036     0.016050    -0.002502    -0.026812   \n",
       "Ethnicity_Asian        -0.015043     0.014623    -0.000976    -0.001196   \n",
       "Ethnicity_Caucasian     0.001869    -0.027361    -0.012568    -0.016972   \n",
       "\n",
       "                     coefs_PCR_5  coefs_PCR_6  coefs_PCR_7  coefs_PCR_8  \\\n",
       "Income                  0.252950     0.255940     0.246062     0.246375   \n",
       "Limit                   0.273744     0.281698     0.288353     0.287639   \n",
       "Rating                  0.271730     0.278110     0.293334     0.292667   \n",
       "Cards                  -0.047782    -0.084639     0.101643     0.100669   \n",
       "Age                     0.031285    -0.044677    -0.131355    -0.127669   \n",
       "Education               0.011903    -0.040486     0.011726     0.007994   \n",
       "Gender_Female           0.109742     0.042864     0.018200     0.016169   \n",
       "Student_Yes             0.109718     0.136061     0.239457     0.244222   \n",
       "Married_Yes            -0.023194    -0.065397    -0.032594    -0.027802   \n",
       "Ethnicity_Asian         0.000390     0.002062    -0.008416    -0.008253   \n",
       "Ethnicity_Caucasian    -0.013690    -0.016692     0.008258     0.008882   \n",
       "\n",
       "                     coefs_PCR_9  coefs_PCR_10  \n",
       "Income                  0.246618     -0.598867  \n",
       "Limit                   0.287802      0.671407  \n",
       "Rating                  0.292748      0.670638  \n",
       "Cards                   0.100587      0.040431  \n",
       "Age                    -0.126926     -0.023274  \n",
       "Education               0.008328     -0.005999  \n",
       "Gender_Female           0.015949     -0.011647  \n",
       "Student_Yes             0.243888      0.276355  \n",
       "Married_Yes            -0.029607     -0.011161  \n",
       "Ethnicity_Asian         0.002466      0.017409  \n",
       "Ethnicity_Caucasian     0.019421      0.011187  "
      ]
     },
     "execution_count": 97,
     "metadata": {},
     "output_type": "execute_result"
    }
   ],
   "source": [
    "def get_coefs(n_pca=2):\n",
    "    pca = PCA(n_components=n_pca).fit(X_reg_scal)\n",
    "    pcs = pca.fit_transform(X_reg_scal)\n",
    "    X_PCR =  pcs.copy()\n",
    "    V = pca.components_.T\n",
    "    ols = sm.OLS(endog = y_reg_scal, exog = sm.add_constant(X_PCR)).fit()\n",
    "    beta_Z = ols.params[1:]\n",
    "    beta_X = V @ beta_Z\n",
    "    coefs = pd.DataFrame(index = X_reg.columns, data = beta_X)\n",
    "    coefs.columns = ['coefs_PCR_' + str(n_pca)]\n",
    "    return coefs\n",
    "get_coefs(3)\n",
    "from functools import reduce\n",
    "dfs = [get_coefs(i) for i in range(1, 11)]\n",
    "df_final = reduce(lambda left,right: left.join(right), dfs)\n",
    "df_final"
   ]
  },
  {
   "cell_type": "markdown",
   "metadata": {},
   "source": [
    "## PLS - partial least squares (частный МНК)\n",
    "\n",
    "PCR предполагает регрессию зависимой переменной на компоненты, которые получены из задачи обучения без учителя.\n",
    "PLS, в свою очередь, определяет новые переменные, используя зависимость изначальных факторов с целевым показателем.\n",
    "PLS помогает найти те направления, которые помогают объяснить как целевой фактор, так и объясняющие переменные.\n",
    "\n",
    "Алгоритм PLS выглядит примерно следующим образом.\n",
    "\n",
    "1. Первая компонента $Z_1$ находится по формуле $Z_1 = \\sum_{j=1}^p corr_{j1}^2 X_j$. \n",
    "\n",
    "2. На втором шаге мы корректируем все факторы по $Z_1$ - строим регрессии каждой переменной на $Z_1$ и находим остатки. Как мы помним, остатки - это необъясненная доля дисперсии целевой переменной. В нашем случае это будет необъясненная доля дисперсии первой компонентой. \n",
    "\n",
    "3. Аналогично, как и на первом шаге, для каждой компоненты считаем веса, только вместо $X_1$ будут их остатки от объяснения предыдущих компонент.\n",
    "\n",
    "4. Оцениваем зависимую переменную на полученные компоненты."
   ]
  },
  {
   "cell_type": "code",
   "execution_count": 105,
   "metadata": {
    "pycharm": {
     "name": "#%%\n"
    }
   },
   "outputs": [
    {
     "name": "stdout",
     "output_type": "stream",
     "text": [
      "PLS r-squared with 2 components: 0.955\n"
     ]
    }
   ],
   "source": [
    "# PLS\n",
    "from sklearn.cross_decomposition import PLSRegression\n",
    "pls = PLSRegression(n_components=2)\n",
    "pls.fit(X_reg_scal, y_reg_scal)\n",
    "print(f\"PLS r-squared with 2 components: {pls.score(X_reg_scal, y_reg_scal):.3f}\")"
   ]
  },
  {
   "cell_type": "code",
   "execution_count": 107,
   "metadata": {
    "pycharm": {
     "name": "#%%\n"
    }
   },
   "outputs": [
    {
     "name": "stdout",
     "output_type": "stream",
     "text": [
      "PCR r-squared with 2 components 0.584\n"
     ]
    }
   ],
   "source": [
    "from sklearn.pipeline import make_pipeline\n",
    "from sklearn.linear_model import LinearRegression\n",
    "pca_2 = make_pipeline(PCA(n_components=2), LinearRegression())\n",
    "pca_2.fit(X_reg_scal, y_reg_scal)\n",
    "print(f\"PCR r-squared with 2 components {pca_2.score(X_reg_scal, y_reg_scal):.3f}\")\n"
   ]
  },
  {
   "cell_type": "code",
   "execution_count": null,
   "metadata": {},
   "outputs": [],
   "source": []
  }
 ],
 "metadata": {
  "kernelspec": {
   "display_name": "Python 3",
   "language": "python",
   "name": "python3"
  },
  "language_info": {
   "codemirror_mode": {
    "name": "ipython",
    "version": 3
   },
   "file_extension": ".py",
   "mimetype": "text/x-python",
   "name": "python",
   "nbconvert_exporter": "python",
   "pygments_lexer": "ipython3",
   "version": "3.8.3"
  },
  "toc": {
   "base_numbering": 1,
   "nav_menu": {},
   "number_sections": true,
   "sideBar": true,
   "skip_h1_title": false,
   "title_cell": "Table of Contents",
   "title_sidebar": "Contents",
   "toc_cell": false,
   "toc_position": {},
   "toc_section_display": true,
   "toc_window_display": false
  },
  "varInspector": {
   "cols": {
    "lenName": 16,
    "lenType": 16,
    "lenVar": 40
   },
   "kernels_config": {
    "python": {
     "delete_cmd_postfix": "",
     "delete_cmd_prefix": "del ",
     "library": "var_list.py",
     "varRefreshCmd": "print(var_dic_list())"
    },
    "r": {
     "delete_cmd_postfix": ") ",
     "delete_cmd_prefix": "rm(",
     "library": "var_list.r",
     "varRefreshCmd": "cat(var_dic_list()) "
    }
   },
   "types_to_exclude": [
    "module",
    "function",
    "builtin_function_or_method",
    "instance",
    "_Feature"
   ],
   "window_display": false
  }
 },
 "nbformat": 4,
 "nbformat_minor": 4
}
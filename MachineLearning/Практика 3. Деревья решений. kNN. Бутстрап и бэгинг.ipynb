{
 "cells": [
  {
   "cell_type": "markdown",
   "metadata": {},
   "source": [
    "# Деревья решений и метод ближайших соседей в задаче прогнозирования оттока клиентов телеком-оператора"
   ]
  },
  {
   "cell_type": "markdown",
   "metadata": {},
   "source": [
    "Считаем данные в DataFrame и проведем предобработку. Штаты пока сохраним в отдельный объект Series, но удалим из датафрейма. Первую модель будем обучать без штатов, потом посмотрим, помогают ли они. "
   ]
  },
  {
   "cell_type": "code",
   "execution_count": 4,
   "metadata": {},
   "outputs": [],
   "source": [
    "# Загрузим данные прям с гитхаба\n",
    "import pandas as pd\n",
    "df = pd.read_csv('https://github.com/Yorko/mlcourse.ai/blob/master/data/telecom_churn.csv?raw=true')"
   ]
  },
  {
   "cell_type": "code",
   "execution_count": 5,
   "metadata": {},
   "outputs": [],
   "source": [
    "df['International plan'] = pd.factorize(df['International plan'])[0]\n",
    "df['Voice mail plan'] = pd.factorize(df['Voice mail plan'])[0]\n",
    "df['Churn'] = df['Churn'].astype('int')\n",
    "states = df['State']\n",
    "y = df['Churn']\n",
    "df.drop(['State', 'Churn'], axis=1, inplace=True)"
   ]
  },
  {
   "cell_type": "code",
   "execution_count": 6,
   "metadata": {},
   "outputs": [
    {
     "data": {
      "text/html": [
       "<div>\n",
       "<style scoped>\n",
       "    .dataframe tbody tr th:only-of-type {\n",
       "        vertical-align: middle;\n",
       "    }\n",
       "\n",
       "    .dataframe tbody tr th {\n",
       "        vertical-align: top;\n",
       "    }\n",
       "\n",
       "    .dataframe thead th {\n",
       "        text-align: right;\n",
       "    }\n",
       "</style>\n",
       "<table border=\"1\" class=\"dataframe\">\n",
       "  <thead>\n",
       "    <tr style=\"text-align: right;\">\n",
       "      <th></th>\n",
       "      <th>Account length</th>\n",
       "      <th>Area code</th>\n",
       "      <th>International plan</th>\n",
       "      <th>Voice mail plan</th>\n",
       "      <th>Number vmail messages</th>\n",
       "      <th>Total day minutes</th>\n",
       "      <th>Total day calls</th>\n",
       "      <th>Total day charge</th>\n",
       "      <th>Total eve minutes</th>\n",
       "      <th>Total eve calls</th>\n",
       "      <th>Total eve charge</th>\n",
       "      <th>Total night minutes</th>\n",
       "      <th>Total night calls</th>\n",
       "      <th>Total night charge</th>\n",
       "      <th>Total intl minutes</th>\n",
       "      <th>Total intl calls</th>\n",
       "      <th>Total intl charge</th>\n",
       "      <th>Customer service calls</th>\n",
       "    </tr>\n",
       "  </thead>\n",
       "  <tbody>\n",
       "    <tr>\n",
       "      <th>0</th>\n",
       "      <td>128</td>\n",
       "      <td>415</td>\n",
       "      <td>0</td>\n",
       "      <td>0</td>\n",
       "      <td>25</td>\n",
       "      <td>265.1</td>\n",
       "      <td>110</td>\n",
       "      <td>45.07</td>\n",
       "      <td>197.4</td>\n",
       "      <td>99</td>\n",
       "      <td>16.78</td>\n",
       "      <td>244.7</td>\n",
       "      <td>91</td>\n",
       "      <td>11.01</td>\n",
       "      <td>10.0</td>\n",
       "      <td>3</td>\n",
       "      <td>2.70</td>\n",
       "      <td>1</td>\n",
       "    </tr>\n",
       "    <tr>\n",
       "      <th>1</th>\n",
       "      <td>107</td>\n",
       "      <td>415</td>\n",
       "      <td>0</td>\n",
       "      <td>0</td>\n",
       "      <td>26</td>\n",
       "      <td>161.6</td>\n",
       "      <td>123</td>\n",
       "      <td>27.47</td>\n",
       "      <td>195.5</td>\n",
       "      <td>103</td>\n",
       "      <td>16.62</td>\n",
       "      <td>254.4</td>\n",
       "      <td>103</td>\n",
       "      <td>11.45</td>\n",
       "      <td>13.7</td>\n",
       "      <td>3</td>\n",
       "      <td>3.70</td>\n",
       "      <td>1</td>\n",
       "    </tr>\n",
       "    <tr>\n",
       "      <th>2</th>\n",
       "      <td>137</td>\n",
       "      <td>415</td>\n",
       "      <td>0</td>\n",
       "      <td>1</td>\n",
       "      <td>0</td>\n",
       "      <td>243.4</td>\n",
       "      <td>114</td>\n",
       "      <td>41.38</td>\n",
       "      <td>121.2</td>\n",
       "      <td>110</td>\n",
       "      <td>10.30</td>\n",
       "      <td>162.6</td>\n",
       "      <td>104</td>\n",
       "      <td>7.32</td>\n",
       "      <td>12.2</td>\n",
       "      <td>5</td>\n",
       "      <td>3.29</td>\n",
       "      <td>0</td>\n",
       "    </tr>\n",
       "    <tr>\n",
       "      <th>3</th>\n",
       "      <td>84</td>\n",
       "      <td>408</td>\n",
       "      <td>1</td>\n",
       "      <td>1</td>\n",
       "      <td>0</td>\n",
       "      <td>299.4</td>\n",
       "      <td>71</td>\n",
       "      <td>50.90</td>\n",
       "      <td>61.9</td>\n",
       "      <td>88</td>\n",
       "      <td>5.26</td>\n",
       "      <td>196.9</td>\n",
       "      <td>89</td>\n",
       "      <td>8.86</td>\n",
       "      <td>6.6</td>\n",
       "      <td>7</td>\n",
       "      <td>1.78</td>\n",
       "      <td>2</td>\n",
       "    </tr>\n",
       "    <tr>\n",
       "      <th>4</th>\n",
       "      <td>75</td>\n",
       "      <td>415</td>\n",
       "      <td>1</td>\n",
       "      <td>1</td>\n",
       "      <td>0</td>\n",
       "      <td>166.7</td>\n",
       "      <td>113</td>\n",
       "      <td>28.34</td>\n",
       "      <td>148.3</td>\n",
       "      <td>122</td>\n",
       "      <td>12.61</td>\n",
       "      <td>186.9</td>\n",
       "      <td>121</td>\n",
       "      <td>8.41</td>\n",
       "      <td>10.1</td>\n",
       "      <td>3</td>\n",
       "      <td>2.73</td>\n",
       "      <td>3</td>\n",
       "    </tr>\n",
       "  </tbody>\n",
       "</table>\n",
       "</div>"
      ],
      "text/plain": [
       "   Account length  Area code  International plan  Voice mail plan  \\\n",
       "0             128        415                   0                0   \n",
       "1             107        415                   0                0   \n",
       "2             137        415                   0                1   \n",
       "3              84        408                   1                1   \n",
       "4              75        415                   1                1   \n",
       "\n",
       "   Number vmail messages  Total day minutes  Total day calls  \\\n",
       "0                     25              265.1              110   \n",
       "1                     26              161.6              123   \n",
       "2                      0              243.4              114   \n",
       "3                      0              299.4               71   \n",
       "4                      0              166.7              113   \n",
       "\n",
       "   Total day charge  Total eve minutes  Total eve calls  Total eve charge  \\\n",
       "0             45.07              197.4               99             16.78   \n",
       "1             27.47              195.5              103             16.62   \n",
       "2             41.38              121.2              110             10.30   \n",
       "3             50.90               61.9               88              5.26   \n",
       "4             28.34              148.3              122             12.61   \n",
       "\n",
       "   Total night minutes  Total night calls  Total night charge  \\\n",
       "0                244.7                 91               11.01   \n",
       "1                254.4                103               11.45   \n",
       "2                162.6                104                7.32   \n",
       "3                196.9                 89                8.86   \n",
       "4                186.9                121                8.41   \n",
       "\n",
       "   Total intl minutes  Total intl calls  Total intl charge  \\\n",
       "0                10.0                 3               2.70   \n",
       "1                13.7                 3               3.70   \n",
       "2                12.2                 5               3.29   \n",
       "3                 6.6                 7               1.78   \n",
       "4                10.1                 3               2.73   \n",
       "\n",
       "   Customer service calls  \n",
       "0                       1  \n",
       "1                       1  \n",
       "2                       0  \n",
       "3                       2  \n",
       "4                       3  "
      ]
     },
     "execution_count": 6,
     "metadata": {},
     "output_type": "execute_result"
    }
   ],
   "source": [
    "df.head()"
   ]
  },
  {
   "cell_type": "code",
   "execution_count": 7,
   "metadata": {},
   "outputs": [],
   "source": [
    "from sklearn.model_selection import train_test_split, StratifiedKFold"
   ]
  },
  {
   "cell_type": "markdown",
   "metadata": {},
   "source": [
    "Выделим 70% выборки (X_train, y_train) под обучение и 30% в качестве отложенной выборки (X_holdout, y_holdout). Отложенная выборка никак не будет участвовать в настройке параметров моделей, на ней мы в конце, после этой настройки, оценим качество полученной модели."
   ]
  },
  {
   "cell_type": "code",
   "execution_count": 40,
   "metadata": {},
   "outputs": [],
   "source": [
    "X_train, X_holdout, y_train, y_holdout = train_test_split(df.values, y, test_size=0.3,\n",
    "                                                          random_state=17)"
   ]
  },
  {
   "cell_type": "markdown",
   "metadata": {},
   "source": [
    "Обучим 2 модели – дерево решений и kNN, пока не знаем, какие параметры хороши, поэтому наугад: глубину дерева берем 5, число ближайших соседей – 10."
   ]
  },
  {
   "cell_type": "code",
   "execution_count": 35,
   "metadata": {},
   "outputs": [],
   "source": [
    "from sklearn.tree import DecisionTreeClassifier\n",
    "from sklearn.neighbors import KNeighborsClassifier\n",
    "\n",
    "tree = DecisionTreeClassifier(max_depth=5)\n",
    "knn = KNeighborsClassifier(n_neighbors=10)"
   ]
  },
  {
   "cell_type": "code",
   "execution_count": 41,
   "metadata": {},
   "outputs": [
    {
     "name": "stdout",
     "output_type": "stream",
     "text": [
      "CPU times: user 13.8 ms, sys: 1.61 ms, total: 15.4 ms\n",
      "Wall time: 20.8 ms\n"
     ]
    },
    {
     "data": {
      "text/plain": [
       "DecisionTreeClassifier(max_depth=5)"
      ]
     },
     "execution_count": 41,
     "metadata": {},
     "output_type": "execute_result"
    }
   ],
   "source": [
    "%%time\n",
    "tree.fit(X_train, y_train)"
   ]
  },
  {
   "cell_type": "code",
   "execution_count": 42,
   "metadata": {},
   "outputs": [
    {
     "name": "stdout",
     "output_type": "stream",
     "text": [
      "CPU times: user 2.88 ms, sys: 531 µs, total: 3.41 ms\n",
      "Wall time: 3.01 ms\n"
     ]
    },
    {
     "data": {
      "text/plain": [
       "KNeighborsClassifier(n_neighbors=10)"
      ]
     },
     "execution_count": 42,
     "metadata": {},
     "output_type": "execute_result"
    }
   ],
   "source": [
    "%%time\n",
    "# Без стандартизации признаков!\n",
    "knn.fit(X_train, y_train)"
   ]
  },
  {
   "cell_type": "markdown",
   "metadata": {},
   "source": [
    "Качество прогнозов будем проверять с помощью простой метрики – доли правильных ответов"
   ]
  },
  {
   "cell_type": "code",
   "execution_count": 43,
   "metadata": {},
   "outputs": [],
   "source": [
    "from sklearn.metrics import accuracy_score\n",
    "from sklearn.metrics import recall_score"
   ]
  },
  {
   "cell_type": "markdown",
   "metadata": {},
   "source": [
    "Сделаем прогнозы для отложенной выборки."
   ]
  },
  {
   "cell_type": "code",
   "execution_count": 44,
   "metadata": {},
   "outputs": [
    {
     "name": "stdout",
     "output_type": "stream",
     "text": [
      "accuracy: 0.941 recall: 0.6390977443609023\n"
     ]
    }
   ],
   "source": [
    "tree_pred = tree.predict(X_holdout)\n",
    "print(f\"accuracy: {accuracy_score(y_holdout, tree_pred)}\",\n",
    "      f\"recall: {recall_score(y_holdout, tree_pred)}\")"
   ]
  },
  {
   "cell_type": "code",
   "execution_count": 45,
   "metadata": {},
   "outputs": [
    {
     "name": "stdout",
     "output_type": "stream",
     "text": [
      "accuracy for kNN: 0.881 recall for kNN: 0.15789473684210525\n"
     ]
    }
   ],
   "source": [
    "knn_pred = knn.predict(X_holdout)\n",
    "\n",
    "print(f\"accuracy for kNN: {accuracy_score(y_holdout, knn_pred)}\",\n",
    "      f\"recall for kNN: {recall_score(y_holdout, knn_pred)}\")"
   ]
  },
  {
   "cell_type": "markdown",
   "metadata": {},
   "source": [
    "Теперь настроим параметры дерева на кросс-валидации. Настраивать будем максимальную глубину и максимальное используемое на каждом разбиении число признаков. Суть того, как работает GridSearchCV: для каждой уникальной пары значений  параметров `max_depth` и `max_features` будет проведена 5-кратная кросс-валидация и выберется лучшее сочетание параметров."
   ]
  },
  {
   "cell_type": "code",
   "execution_count": 46,
   "metadata": {},
   "outputs": [],
   "source": [
    "from sklearn.model_selection import GridSearchCV, cross_val_score\n",
    "tree_params = {'max_depth': range(1,11),\n",
    "               'max_features': range(4,19)}\n",
    "tree_grid = GridSearchCV(tree, tree_params,\n",
    "                         cv=5, n_jobs=-1,\n",
    "                        verbose=True)"
   ]
  },
  {
   "cell_type": "code",
   "execution_count": 47,
   "metadata": {},
   "outputs": [
    {
     "name": "stdout",
     "output_type": "stream",
     "text": [
      "Fitting 5 folds for each of 150 candidates, totalling 750 fits\n"
     ]
    },
    {
     "name": "stderr",
     "output_type": "stream",
     "text": [
      "[Parallel(n_jobs=-1)]: Using backend LokyBackend with 4 concurrent workers.\n",
      "[Parallel(n_jobs=-1)]: Done  56 tasks      | elapsed:    3.8s\n",
      "[Parallel(n_jobs=-1)]: Done 750 out of 750 | elapsed:    7.6s finished\n"
     ]
    },
    {
     "data": {
      "text/plain": [
       "GridSearchCV(cv=5, estimator=DecisionTreeClassifier(max_depth=5), n_jobs=-1,\n",
       "             param_grid={'max_depth': range(1, 11),\n",
       "                         'max_features': range(4, 19)},\n",
       "             verbose=True)"
      ]
     },
     "execution_count": 47,
     "metadata": {},
     "output_type": "execute_result"
    }
   ],
   "source": [
    "tree_grid.fit(X_train, y_train)"
   ]
  },
  {
   "cell_type": "markdown",
   "metadata": {},
   "source": [
    "Лучшее сочетание параметров и соответствующая средняя доля правильных ответов на кросс-валидации:"
   ]
  },
  {
   "cell_type": "code",
   "execution_count": 48,
   "metadata": {},
   "outputs": [
    {
     "data": {
      "text/plain": [
       "({'max_depth': 6, 'max_features': 16}, 0.9421363648895792)"
      ]
     },
     "execution_count": 48,
     "metadata": {},
     "output_type": "execute_result"
    }
   ],
   "source": [
    "tree_grid.best_params_, tree_grid.best_score_"
   ]
  },
  {
   "cell_type": "code",
   "execution_count": 49,
   "metadata": {},
   "outputs": [
    {
     "data": {
      "text/plain": [
       "0.943"
      ]
     },
     "execution_count": 49,
     "metadata": {},
     "output_type": "execute_result"
    }
   ],
   "source": [
    "accuracy_score(y_holdout, tree_grid.predict(X_holdout))"
   ]
  },
  {
   "cell_type": "markdown",
   "metadata": {},
   "source": [
    "Теперь попробуем настроить число соседей в алгоритме kNN."
   ]
  },
  {
   "cell_type": "code",
   "execution_count": 51,
   "metadata": {},
   "outputs": [],
   "source": [
    "from sklearn.pipeline import Pipeline\n",
    "from sklearn.preprocessing import StandardScaler\n",
    "knn_pipe = Pipeline([('scaler', StandardScaler()), ('knn', KNeighborsClassifier(n_jobs=-1))])\n",
    "knn_params = {'knn__n_neighbors': range(1, 10)}\n",
    "knn_grid = GridSearchCV(knn_pipe, knn_params,\n",
    "                         cv=5, n_jobs=-1,\n",
    "                        verbose=True)"
   ]
  },
  {
   "cell_type": "code",
   "execution_count": 52,
   "metadata": {},
   "outputs": [
    {
     "name": "stdout",
     "output_type": "stream",
     "text": [
      "Fitting 5 folds for each of 9 candidates, totalling 45 fits\n"
     ]
    },
    {
     "name": "stderr",
     "output_type": "stream",
     "text": [
      "[Parallel(n_jobs=-1)]: Using backend LokyBackend with 4 concurrent workers.\n",
      "[Parallel(n_jobs=-1)]: Done  38 out of  45 | elapsed:    1.2s remaining:    0.2s\n",
      "[Parallel(n_jobs=-1)]: Done  45 out of  45 | elapsed:    1.3s finished\n"
     ]
    },
    {
     "data": {
      "text/plain": [
       "GridSearchCV(cv=5,\n",
       "             estimator=Pipeline(steps=[('scaler', StandardScaler()),\n",
       "                                       ('knn',\n",
       "                                        KNeighborsClassifier(n_jobs=-1))]),\n",
       "             n_jobs=-1, param_grid={'knn__n_neighbors': range(1, 10)},\n",
       "             verbose=True)"
      ]
     },
     "execution_count": 52,
     "metadata": {},
     "output_type": "execute_result"
    }
   ],
   "source": [
    "knn_grid.fit(X_train, y_train)"
   ]
  },
  {
   "cell_type": "code",
   "execution_count": 53,
   "metadata": {},
   "outputs": [
    {
     "data": {
      "text/plain": [
       "({'knn__n_neighbors': 7}, 0.8859867109023905, 0.89)"
      ]
     },
     "execution_count": 53,
     "metadata": {},
     "output_type": "execute_result"
    }
   ],
   "source": [
    "knn_grid.best_params_, knn_grid.best_score_, accuracy_score(y_holdout, knn_grid.predict(X_holdout))"
   ]
  },
  {
   "cell_type": "code",
   "execution_count": 54,
   "metadata": {},
   "outputs": [
    {
     "data": {
      "text/plain": [
       "0.3233082706766917"
      ]
     },
     "execution_count": 54,
     "metadata": {},
     "output_type": "execute_result"
    }
   ],
   "source": [
    "recall_score(y_holdout, knn_grid.predict(X_holdout))"
   ]
  },
  {
   "cell_type": "markdown",
   "metadata": {},
   "source": [
    "Видим, что в этом примере дерево показало себя лучше, чем метод ближайших соседей. Более того, в данной задаче дерево проявляет себя очень хорошо, и даже случайный лес (который пока представляем просто как кучу деревьев, которые вместе работают почему-то намного лучше, чем одно дерево) в этом примере показывает долю правильных ответов не намного выше (как на кросс-валидации, так и на отложенной выборке), а обучается намного дольше. "
   ]
  },
  {
   "cell_type": "code",
   "execution_count": 55,
   "metadata": {},
   "outputs": [
    {
     "name": "stdout",
     "output_type": "stream",
     "text": [
      "0.9494233119813256\n"
     ]
    }
   ],
   "source": [
    "from sklearn.ensemble import RandomForestClassifier\n",
    "\n",
    "forest = RandomForestClassifier(n_estimators=100, n_jobs=-1, random_state=17)\n",
    "print(np.mean(cross_val_score(forest, X_train, y_train, cv=5)))"
   ]
  },
  {
   "cell_type": "code",
   "execution_count": 56,
   "metadata": {},
   "outputs": [
    {
     "name": "stdout",
     "output_type": "stream",
     "text": [
      "Fitting 5 folds for each of 150 candidates, totalling 750 fits\n"
     ]
    },
    {
     "name": "stderr",
     "output_type": "stream",
     "text": [
      "[Parallel(n_jobs=-1)]: Using backend LokyBackend with 4 concurrent workers.\n",
      "[Parallel(n_jobs=-1)]: Done  42 tasks      | elapsed:    5.9s\n",
      "[Parallel(n_jobs=-1)]: Done 192 tasks      | elapsed:   29.5s\n",
      "[Parallel(n_jobs=-1)]: Done 442 tasks      | elapsed:  1.5min\n",
      "[Parallel(n_jobs=-1)]: Done 750 out of 750 | elapsed:  3.4min finished\n"
     ]
    },
    {
     "data": {
      "text/plain": [
       "GridSearchCV(cv=5, estimator=RandomForestClassifier(n_jobs=-1, random_state=17),\n",
       "             n_jobs=-1,\n",
       "             param_grid={'max_depth': range(1, 11),\n",
       "                         'max_features': range(4, 19)},\n",
       "             verbose=True)"
      ]
     },
     "execution_count": 56,
     "metadata": {},
     "output_type": "execute_result"
    }
   ],
   "source": [
    "forest_params = {'max_depth': range(1,11),\n",
    "               'max_features': range(4,19)}\n",
    "forest_grid = GridSearchCV(forest, forest_params,\n",
    "                         cv=5, n_jobs=-1,\n",
    "                         verbose=True)\n",
    "forest_grid.fit(X_train, y_train)"
   ]
  },
  {
   "cell_type": "code",
   "execution_count": 58,
   "metadata": {},
   "outputs": [
    {
     "data": {
      "text/plain": [
       "({'max_depth': 9, 'max_features': 6}, 0.9511372931045574, 0.953)"
      ]
     },
     "execution_count": 58,
     "metadata": {},
     "output_type": "execute_result"
    }
   ],
   "source": [
    "forest_grid.best_params_, forest_grid.best_score_, accuracy_score(y_holdout, forest_grid.predict(X_holdout))"
   ]
  },
  {
   "cell_type": "markdown",
   "metadata": {},
   "source": [
    "Нарисуем получившееся дерево. Из-за того, что оно не совсем игрушечное (максимальная глубина – 6), картинка получается уже не маленькой, но по дерево можно \"прогуляться\", если отдельно открыть рисунок."
   ]
  },
  {
   "cell_type": "code",
   "execution_count": 59,
   "metadata": {},
   "outputs": [
    {
     "data": {
      "application/vnd.jupyter.widget-view+json": {
       "model_id": "cdfd75e36992426cbe8e53c42d2b6762",
       "version_major": 2,
       "version_minor": 0
      },
      "text/plain": [
       "Image(value=b'\\x89PNG\\r\\n\\x1a\\n\\x00\\x00\\x00\\rIHDR\\x00\\x00\\x14k\\x00\\x00\\x03\\x91\\x08\\x06\\x00\\x00\\x00\\xebq\\xeb\\xa…"
      ]
     },
     "metadata": {},
     "output_type": "display_data"
    }
   ],
   "source": [
    "from ipywidgets import Image\n",
    "from io import StringIO\n",
    "import pydotplus\n",
    "from sklearn.tree import export_graphviz\n",
    "\n",
    "dot_data = StringIO()\n",
    "export_graphviz(tree_grid.best_estimator_, feature_names=df.columns, \n",
    "                out_file=dot_data, filled=True)\n",
    "graph = pydotplus.graph_from_dot_data(dot_data.getvalue())\n",
    "Image(value=graph.create_png())"
   ]
  },
  {
   "cell_type": "markdown",
   "metadata": {},
   "source": [
    "# Деревья решений и метод ближайших соседей в задаче распознавания рукописных цифр MNIST"
   ]
  },
  {
   "cell_type": "markdown",
   "metadata": {},
   "source": [
    "Теперь посмотрим на описанные 2 алгоритма в реальной задаче. Используемый \"встроенные\" в `sklearn` данные по рукописным цифрам. Эта задача будет примером, когда метод ближайших соседей работает на удивление хорошо."
   ]
  },
  {
   "cell_type": "code",
   "execution_count": 60,
   "metadata": {},
   "outputs": [],
   "source": [
    "from sklearn.datasets import load_digits\n",
    "data = load_digits()\n",
    "X, y = data.data, data.target"
   ]
  },
  {
   "cell_type": "markdown",
   "metadata": {},
   "source": [
    "Картинки здесь представляются матрицей 8 x 8 (интенсивности белого цвета для каждого пикселя). Далее эта матрица \"разворачивается\" в вектор длины 64, получается признаковое описание объекта."
   ]
  },
  {
   "cell_type": "code",
   "execution_count": 61,
   "metadata": {},
   "outputs": [
    {
     "data": {
      "text/plain": [
       "array([[ 0.,  0.,  5., 13.,  9.,  1.,  0.,  0.],\n",
       "       [ 0.,  0., 13., 15., 10., 15.,  5.,  0.],\n",
       "       [ 0.,  3., 15.,  2.,  0., 11.,  8.,  0.],\n",
       "       [ 0.,  4., 12.,  0.,  0.,  8.,  8.,  0.],\n",
       "       [ 0.,  5.,  8.,  0.,  0.,  9.,  8.,  0.],\n",
       "       [ 0.,  4., 11.,  0.,  1., 12.,  7.,  0.],\n",
       "       [ 0.,  2., 14.,  5., 10., 12.,  0.,  0.],\n",
       "       [ 0.,  0.,  6., 13., 10.,  0.,  0.,  0.]])"
      ]
     },
     "execution_count": 61,
     "metadata": {},
     "output_type": "execute_result"
    }
   ],
   "source": [
    "X[0,:].reshape([8,8])"
   ]
  },
  {
   "cell_type": "markdown",
   "metadata": {},
   "source": [
    "Нарисуем несколько рукописных цифр, видим, что они угадываются."
   ]
  },
  {
   "cell_type": "code",
   "execution_count": 62,
   "metadata": {},
   "outputs": [
    {
     "data": {
      "image/png": "[encoded data removed]",
      "text/plain": [
       "<Figure size 1152x432 with 4 Axes>"
      ]
     },
     "metadata": {},
     "output_type": "display_data"
    }
   ],
   "source": [
    "import matplotlib.pyplot as plt\n",
    "f, axes = plt.subplots(1, 4, sharey=True, figsize=(16,6))\n",
    "for i in range(4):    \n",
    "    axes[i].imshow(X[i,:].reshape([8,8]), cmap='Greys');"
   ]
  },
  {
   "cell_type": "markdown",
   "metadata": {},
   "source": [
    "Посмотрим на соотношение классов в выборке, видим, что примерно поровну нулей, единиц, ..., девяток."
   ]
  },
  {
   "cell_type": "code",
   "execution_count": 63,
   "metadata": {},
   "outputs": [
    {
     "data": {
      "text/plain": [
       "array([178, 182, 177, 183, 181, 182, 181, 179, 174, 180])"
      ]
     },
     "execution_count": 63,
     "metadata": {},
     "output_type": "execute_result"
    }
   ],
   "source": [
    "np.bincount(y)"
   ]
  },
  {
   "cell_type": "markdown",
   "metadata": {},
   "source": [
    "Выделим 70% выборки (X_train, y_train) под обучение и 30% будут отложенной выборкой (X_holdout, y_holdout). отложенная выборка никак не будет участвовать в настройке параметров моделей, на ней мы в конце, после этой настройки, оценим качество полученной модели."
   ]
  },
  {
   "cell_type": "code",
   "execution_count": 64,
   "metadata": {},
   "outputs": [],
   "source": [
    "X_train, X_holdout, y_train, y_holdout = train_test_split(X, y, test_size=0.3,\n",
    "                                                          random_state=17)"
   ]
  },
  {
   "cell_type": "markdown",
   "metadata": {},
   "source": [
    "Обучим дерево решений и kNN, опять параметры пока наугад берем."
   ]
  },
  {
   "cell_type": "code",
   "execution_count": 65,
   "metadata": {},
   "outputs": [],
   "source": [
    "tree = DecisionTreeClassifier(max_depth=5, random_state=17)\n",
    "knn = KNeighborsClassifier(n_neighbors=10)"
   ]
  },
  {
   "cell_type": "code",
   "execution_count": 66,
   "metadata": {},
   "outputs": [
    {
     "name": "stdout",
     "output_type": "stream",
     "text": [
      "CPU times: user 12 ms, sys: 2.07 ms, total: 14 ms\n",
      "Wall time: 13.2 ms\n"
     ]
    },
    {
     "data": {
      "text/plain": [
       "DecisionTreeClassifier(max_depth=5, random_state=17)"
      ]
     },
     "execution_count": 66,
     "metadata": {},
     "output_type": "execute_result"
    }
   ],
   "source": [
    "%%time\n",
    "tree.fit(X_train, y_train)"
   ]
  },
  {
   "cell_type": "code",
   "execution_count": 67,
   "metadata": {},
   "outputs": [
    {
     "name": "stdout",
     "output_type": "stream",
     "text": [
      "CPU times: user 2.77 ms, sys: 101 µs, total: 2.87 ms\n",
      "Wall time: 3.12 ms\n"
     ]
    },
    {
     "data": {
      "text/plain": [
       "KNeighborsClassifier(n_neighbors=10)"
      ]
     },
     "execution_count": 67,
     "metadata": {},
     "output_type": "execute_result"
    }
   ],
   "source": [
    "%%time\n",
    "knn.fit(X_train, y_train)"
   ]
  },
  {
   "cell_type": "markdown",
   "metadata": {},
   "source": [
    "Сделаем прогнозы для отложенной выборки. Видим, что метод ближайших соседей справился намного лучше. Но это мы пока выбирали параметры наугад. "
   ]
  },
  {
   "cell_type": "code",
   "execution_count": 68,
   "metadata": {},
   "outputs": [
    {
     "data": {
      "text/plain": [
       "(0.9740740740740741, 0.6666666666666666)"
      ]
     },
     "execution_count": 68,
     "metadata": {},
     "output_type": "execute_result"
    }
   ],
   "source": [
    "tree_pred = tree.predict(X_holdout)\n",
    "knn_pred = knn.predict(X_holdout)\n",
    "accuracy_score(y_holdout, knn_pred), accuracy_score(y_holdout, tree_pred)"
   ]
  },
  {
   "cell_type": "markdown",
   "metadata": {},
   "source": [
    "Теперь так же, как раньше настроим параметры моделей на кросс-валидации, только учтем, что признаков сейчас больше, чем в прошлой задаче - 64."
   ]
  },
  {
   "cell_type": "code",
   "execution_count": 69,
   "metadata": {},
   "outputs": [],
   "source": [
    "tree_params = {'max_depth': [1, 2, 3, 5, 10, 20, 25, 30, 40, 50, 64],\n",
    "               'max_features': [1, 2, 3, 5, 10, 20 ,30, 50, 64]}\n",
    "tree_grid = GridSearchCV(tree, tree_params,\n",
    "                         cv=5, n_jobs=-1,\n",
    "                        verbose=True)"
   ]
  },
  {
   "cell_type": "code",
   "execution_count": 70,
   "metadata": {},
   "outputs": [
    {
     "name": "stdout",
     "output_type": "stream",
     "text": [
      "Fitting 5 folds for each of 99 candidates, totalling 495 fits\n"
     ]
    },
    {
     "name": "stderr",
     "output_type": "stream",
     "text": [
      "[Parallel(n_jobs=-1)]: Using backend LokyBackend with 4 concurrent workers.\n",
      "[Parallel(n_jobs=-1)]: Done 282 tasks      | elapsed:    0.9s\n",
      "[Parallel(n_jobs=-1)]: Done 488 out of 495 | elapsed:    1.3s remaining:    0.0s\n",
      "[Parallel(n_jobs=-1)]: Done 495 out of 495 | elapsed:    1.4s finished\n"
     ]
    },
    {
     "data": {
      "text/plain": [
       "GridSearchCV(cv=5,\n",
       "             estimator=DecisionTreeClassifier(max_depth=5, random_state=17),\n",
       "             n_jobs=-1,\n",
       "             param_grid={'max_depth': [1, 2, 3, 5, 10, 20, 25, 30, 40, 50, 64],\n",
       "                         'max_features': [1, 2, 3, 5, 10, 20, 30, 50, 64]},\n",
       "             verbose=True)"
      ]
     },
     "execution_count": 70,
     "metadata": {},
     "output_type": "execute_result"
    }
   ],
   "source": [
    "tree_grid.fit(X_train, y_train)"
   ]
  },
  {
   "cell_type": "markdown",
   "metadata": {},
   "source": [
    "Лучшее сочетание параметров и соответствующая средняя доля правильных ответов на кросс-валидации:"
   ]
  },
  {
   "cell_type": "code",
   "execution_count": 71,
   "metadata": {},
   "outputs": [
    {
     "data": {
      "text/plain": [
       "({'max_depth': 10, 'max_features': 50}, 0.8568203376968316, 0.8425925925925926)"
      ]
     },
     "execution_count": 71,
     "metadata": {},
     "output_type": "execute_result"
    }
   ],
   "source": [
    "tree_grid.best_params_, tree_grid.best_score_, accuracy_score(y_holdout, tree_grid.predict(X_holdout))"
   ]
  },
  {
   "cell_type": "markdown",
   "metadata": {},
   "source": [
    "Это уже не 66%, но и не 97%. Метод ближайших соседей на этом наборе данных работает лучше. В случае одного ближайшего соседа на кросс-валидации достигается почти 99% угадываний."
   ]
  },
  {
   "cell_type": "code",
   "execution_count": 72,
   "metadata": {},
   "outputs": [
    {
     "data": {
      "text/plain": [
       "0.9864858028204642"
      ]
     },
     "execution_count": 72,
     "metadata": {},
     "output_type": "execute_result"
    }
   ],
   "source": [
    "np.mean(cross_val_score(KNeighborsClassifier(n_neighbors=1), X_train, y_train, cv=5))"
   ]
  },
  {
   "cell_type": "code",
   "execution_count": 73,
   "metadata": {},
   "outputs": [
    {
     "data": {
      "text/plain": [
       "0.9833333333333333"
      ]
     },
     "execution_count": 73,
     "metadata": {},
     "output_type": "execute_result"
    }
   ],
   "source": [
    "knn = KNeighborsClassifier(n_neighbors=1).fit(X_train, y_train)\n",
    "accuracy_score(y_holdout, knn.predict(X_holdout))"
   ]
  },
  {
   "cell_type": "markdown",
   "metadata": {},
   "source": [
    "**Вывод** по этому эксперименту (и общий совет): в начале проверяйте на своих данных простые модели – дерево решений, метод ближайших соседей, логистическая и линейные регрессии. Может оказаться, что уже они работают достаточно хорошо. "
   ]
  },
  {
   "cell_type": "markdown",
   "metadata": {},
   "source": [
    "# Вычисление бутстраповских доверительных интервалов"
   ]
  },
  {
   "cell_type": "code",
   "execution_count": 74,
   "metadata": {},
   "outputs": [
    {
     "data": {
      "text/html": [
       "<div>\n",
       "<style scoped>\n",
       "    .dataframe tbody tr th:only-of-type {\n",
       "        vertical-align: middle;\n",
       "    }\n",
       "\n",
       "    .dataframe tbody tr th {\n",
       "        vertical-align: top;\n",
       "    }\n",
       "\n",
       "    .dataframe thead th {\n",
       "        text-align: right;\n",
       "    }\n",
       "</style>\n",
       "<table border=\"1\" class=\"dataframe\">\n",
       "  <thead>\n",
       "    <tr style=\"text-align: right;\">\n",
       "      <th></th>\n",
       "      <th>count</th>\n",
       "      <th>mean</th>\n",
       "      <th>std</th>\n",
       "      <th>min</th>\n",
       "      <th>25%</th>\n",
       "      <th>50%</th>\n",
       "      <th>75%</th>\n",
       "      <th>max</th>\n",
       "    </tr>\n",
       "  </thead>\n",
       "  <tbody>\n",
       "    <tr>\n",
       "      <th>Account length</th>\n",
       "      <td>3333.0</td>\n",
       "      <td>101.064806</td>\n",
       "      <td>39.822106</td>\n",
       "      <td>1.00</td>\n",
       "      <td>74.00</td>\n",
       "      <td>101.00</td>\n",
       "      <td>127.00</td>\n",
       "      <td>243.00</td>\n",
       "    </tr>\n",
       "    <tr>\n",
       "      <th>Area code</th>\n",
       "      <td>3333.0</td>\n",
       "      <td>437.182418</td>\n",
       "      <td>42.371290</td>\n",
       "      <td>408.00</td>\n",
       "      <td>408.00</td>\n",
       "      <td>415.00</td>\n",
       "      <td>510.00</td>\n",
       "      <td>510.00</td>\n",
       "    </tr>\n",
       "    <tr>\n",
       "      <th>International plan</th>\n",
       "      <td>3333.0</td>\n",
       "      <td>0.096910</td>\n",
       "      <td>0.295879</td>\n",
       "      <td>0.00</td>\n",
       "      <td>0.00</td>\n",
       "      <td>0.00</td>\n",
       "      <td>0.00</td>\n",
       "      <td>1.00</td>\n",
       "    </tr>\n",
       "    <tr>\n",
       "      <th>Voice mail plan</th>\n",
       "      <td>3333.0</td>\n",
       "      <td>0.723372</td>\n",
       "      <td>0.447398</td>\n",
       "      <td>0.00</td>\n",
       "      <td>0.00</td>\n",
       "      <td>1.00</td>\n",
       "      <td>1.00</td>\n",
       "      <td>1.00</td>\n",
       "    </tr>\n",
       "    <tr>\n",
       "      <th>Number vmail messages</th>\n",
       "      <td>3333.0</td>\n",
       "      <td>8.099010</td>\n",
       "      <td>13.688365</td>\n",
       "      <td>0.00</td>\n",
       "      <td>0.00</td>\n",
       "      <td>0.00</td>\n",
       "      <td>20.00</td>\n",
       "      <td>51.00</td>\n",
       "    </tr>\n",
       "    <tr>\n",
       "      <th>Total day minutes</th>\n",
       "      <td>3333.0</td>\n",
       "      <td>179.775098</td>\n",
       "      <td>54.467389</td>\n",
       "      <td>0.00</td>\n",
       "      <td>143.70</td>\n",
       "      <td>179.40</td>\n",
       "      <td>216.40</td>\n",
       "      <td>350.80</td>\n",
       "    </tr>\n",
       "    <tr>\n",
       "      <th>Total day calls</th>\n",
       "      <td>3333.0</td>\n",
       "      <td>100.435644</td>\n",
       "      <td>20.069084</td>\n",
       "      <td>0.00</td>\n",
       "      <td>87.00</td>\n",
       "      <td>101.00</td>\n",
       "      <td>114.00</td>\n",
       "      <td>165.00</td>\n",
       "    </tr>\n",
       "    <tr>\n",
       "      <th>Total day charge</th>\n",
       "      <td>3333.0</td>\n",
       "      <td>30.562307</td>\n",
       "      <td>9.259435</td>\n",
       "      <td>0.00</td>\n",
       "      <td>24.43</td>\n",
       "      <td>30.50</td>\n",
       "      <td>36.79</td>\n",
       "      <td>59.64</td>\n",
       "    </tr>\n",
       "    <tr>\n",
       "      <th>Total eve minutes</th>\n",
       "      <td>3333.0</td>\n",
       "      <td>200.980348</td>\n",
       "      <td>50.713844</td>\n",
       "      <td>0.00</td>\n",
       "      <td>166.60</td>\n",
       "      <td>201.40</td>\n",
       "      <td>235.30</td>\n",
       "      <td>363.70</td>\n",
       "    </tr>\n",
       "    <tr>\n",
       "      <th>Total eve calls</th>\n",
       "      <td>3333.0</td>\n",
       "      <td>100.114311</td>\n",
       "      <td>19.922625</td>\n",
       "      <td>0.00</td>\n",
       "      <td>87.00</td>\n",
       "      <td>100.00</td>\n",
       "      <td>114.00</td>\n",
       "      <td>170.00</td>\n",
       "    </tr>\n",
       "    <tr>\n",
       "      <th>Total eve charge</th>\n",
       "      <td>3333.0</td>\n",
       "      <td>17.083540</td>\n",
       "      <td>4.310668</td>\n",
       "      <td>0.00</td>\n",
       "      <td>14.16</td>\n",
       "      <td>17.12</td>\n",
       "      <td>20.00</td>\n",
       "      <td>30.91</td>\n",
       "    </tr>\n",
       "    <tr>\n",
       "      <th>Total night minutes</th>\n",
       "      <td>3333.0</td>\n",
       "      <td>200.872037</td>\n",
       "      <td>50.573847</td>\n",
       "      <td>23.20</td>\n",
       "      <td>167.00</td>\n",
       "      <td>201.20</td>\n",
       "      <td>235.30</td>\n",
       "      <td>395.00</td>\n",
       "    </tr>\n",
       "    <tr>\n",
       "      <th>Total night calls</th>\n",
       "      <td>3333.0</td>\n",
       "      <td>100.107711</td>\n",
       "      <td>19.568609</td>\n",
       "      <td>33.00</td>\n",
       "      <td>87.00</td>\n",
       "      <td>100.00</td>\n",
       "      <td>113.00</td>\n",
       "      <td>175.00</td>\n",
       "    </tr>\n",
       "    <tr>\n",
       "      <th>Total night charge</th>\n",
       "      <td>3333.0</td>\n",
       "      <td>9.039325</td>\n",
       "      <td>2.275873</td>\n",
       "      <td>1.04</td>\n",
       "      <td>7.52</td>\n",
       "      <td>9.05</td>\n",
       "      <td>10.59</td>\n",
       "      <td>17.77</td>\n",
       "    </tr>\n",
       "    <tr>\n",
       "      <th>Total intl minutes</th>\n",
       "      <td>3333.0</td>\n",
       "      <td>10.237294</td>\n",
       "      <td>2.791840</td>\n",
       "      <td>0.00</td>\n",
       "      <td>8.50</td>\n",
       "      <td>10.30</td>\n",
       "      <td>12.10</td>\n",
       "      <td>20.00</td>\n",
       "    </tr>\n",
       "    <tr>\n",
       "      <th>Total intl calls</th>\n",
       "      <td>3333.0</td>\n",
       "      <td>4.479448</td>\n",
       "      <td>2.461214</td>\n",
       "      <td>0.00</td>\n",
       "      <td>3.00</td>\n",
       "      <td>4.00</td>\n",
       "      <td>6.00</td>\n",
       "      <td>20.00</td>\n",
       "    </tr>\n",
       "    <tr>\n",
       "      <th>Total intl charge</th>\n",
       "      <td>3333.0</td>\n",
       "      <td>2.764581</td>\n",
       "      <td>0.753773</td>\n",
       "      <td>0.00</td>\n",
       "      <td>2.30</td>\n",
       "      <td>2.78</td>\n",
       "      <td>3.27</td>\n",
       "      <td>5.40</td>\n",
       "    </tr>\n",
       "    <tr>\n",
       "      <th>Customer service calls</th>\n",
       "      <td>3333.0</td>\n",
       "      <td>1.562856</td>\n",
       "      <td>1.315491</td>\n",
       "      <td>0.00</td>\n",
       "      <td>1.00</td>\n",
       "      <td>1.00</td>\n",
       "      <td>2.00</td>\n",
       "      <td>9.00</td>\n",
       "    </tr>\n",
       "  </tbody>\n",
       "</table>\n",
       "</div>"
      ],
      "text/plain": [
       "                         count        mean        std     min     25%     50%  \\\n",
       "Account length          3333.0  101.064806  39.822106    1.00   74.00  101.00   \n",
       "Area code               3333.0  437.182418  42.371290  408.00  408.00  415.00   \n",
       "International plan      3333.0    0.096910   0.295879    0.00    0.00    0.00   \n",
       "Voice mail plan         3333.0    0.723372   0.447398    0.00    0.00    1.00   \n",
       "Number vmail messages   3333.0    8.099010  13.688365    0.00    0.00    0.00   \n",
       "Total day minutes       3333.0  179.775098  54.467389    0.00  143.70  179.40   \n",
       "Total day calls         3333.0  100.435644  20.069084    0.00   87.00  101.00   \n",
       "Total day charge        3333.0   30.562307   9.259435    0.00   24.43   30.50   \n",
       "Total eve minutes       3333.0  200.980348  50.713844    0.00  166.60  201.40   \n",
       "Total eve calls         3333.0  100.114311  19.922625    0.00   87.00  100.00   \n",
       "Total eve charge        3333.0   17.083540   4.310668    0.00   14.16   17.12   \n",
       "Total night minutes     3333.0  200.872037  50.573847   23.20  167.00  201.20   \n",
       "Total night calls       3333.0  100.107711  19.568609   33.00   87.00  100.00   \n",
       "Total night charge      3333.0    9.039325   2.275873    1.04    7.52    9.05   \n",
       "Total intl minutes      3333.0   10.237294   2.791840    0.00    8.50   10.30   \n",
       "Total intl calls        3333.0    4.479448   2.461214    0.00    3.00    4.00   \n",
       "Total intl charge       3333.0    2.764581   0.753773    0.00    2.30    2.78   \n",
       "Customer service calls  3333.0    1.562856   1.315491    0.00    1.00    1.00   \n",
       "\n",
       "                           75%     max  \n",
       "Account length          127.00  243.00  \n",
       "Area code               510.00  510.00  \n",
       "International plan        0.00    1.00  \n",
       "Voice mail plan           1.00    1.00  \n",
       "Number vmail messages    20.00   51.00  \n",
       "Total day minutes       216.40  350.80  \n",
       "Total day calls         114.00  165.00  \n",
       "Total day charge         36.79   59.64  \n",
       "Total eve minutes       235.30  363.70  \n",
       "Total eve calls         114.00  170.00  \n",
       "Total eve charge         20.00   30.91  \n",
       "Total night minutes     235.30  395.00  \n",
       "Total night calls       113.00  175.00  \n",
       "Total night charge       10.59   17.77  \n",
       "Total intl minutes       12.10   20.00  \n",
       "Total intl calls          6.00   20.00  \n",
       "Total intl charge         3.27    5.40  \n",
       "Customer service calls    2.00    9.00  "
      ]
     },
     "execution_count": 74,
     "metadata": {},
     "output_type": "execute_result"
    }
   ],
   "source": [
    "df.describe().T"
   ]
  },
  {
   "cell_type": "code",
   "execution_count": 75,
   "metadata": {},
   "outputs": [
    {
     "data": {
      "text/plain": [
       "179.77509750975116"
      ]
     },
     "execution_count": 75,
     "metadata": {},
     "output_type": "execute_result"
    }
   ],
   "source": [
    "# Вычислим 95% доверительный интервал для среднего количества минут телефонных звонков в день\n",
    "df['Total day minutes'].mean() \n",
    "# Это точечная оценка (мы не уверены, что именно такое значение будет верно для г.с.) "
   ]
  },
  {
   "cell_type": "code",
   "execution_count": 76,
   "metadata": {
    "code_folding": []
   },
   "outputs": [
    {
     "data": {
      "text/plain": [
       "{'1000': 0.920261978915871,\n",
       " '5000': 0.9423662146731754,\n",
       " '10000': 0.9413413673737117}"
      ]
     },
     "execution_count": 76,
     "metadata": {},
     "output_type": "execute_result"
    }
   ],
   "source": [
    "from numba import jit, prange, set_num_threads\n",
    "@jit(nopython=True)\n",
    "def bootstrap_jit_parallel(data, boots=10000):\n",
    "    \"\"\"\n",
    "    Create bootstrap datasets that represent the distribution of the mean.\n",
    "    Returns a numpy array containing the bootstrap datasets \n",
    "    \n",
    "    Keyword arguments:\n",
    "    data -- numpy array of systems to boostrap\n",
    "    boots -- number of bootstrap (default = 1000)\n",
    "    \"\"\"\n",
    "        \n",
    "    to_return = np.empty(boots)\n",
    "                \n",
    "    for b in prange(boots):\n",
    "        \n",
    "        total=0.0\n",
    "        \n",
    "        for s in range(data.shape[0]):\n",
    "        \n",
    "            total += data[np.random.randint(0, data.shape[0])]\n",
    "\n",
    "        to_return[b] = total / data.shape[0]\n",
    "\n",
    "    return to_return\n",
    "minutes_mean_b  = {str(boots): bootstrap_jit_parallel(df['Total day minutes'].values, boots) \n",
    "                            for boots in [1000, 5000, 10000]}\n",
    "# Стандартные отклонения\n",
    "{key: np.std(minutes_mean_b[key], ddof=1) for key in minutes_mean_b.keys()}"
   ]
  },
  {
   "cell_type": "code",
   "execution_count": 79,
   "metadata": {},
   "outputs": [
    {
     "data": {
      "text/plain": [
       "array([179.33261326, 178.90936094, 181.77485749, ..., 180.83531353,\n",
       "       178.36144614, 180.76876688])"
      ]
     },
     "execution_count": 79,
     "metadata": {},
     "output_type": "execute_result"
    }
   ],
   "source": [
    "minutes_mean_b['5000']"
   ]
  },
  {
   "cell_type": "code",
   "execution_count": 80,
   "metadata": {},
   "outputs": [
    {
     "data": {
      "image/png": "[encoded data removed]",
      "text/plain": [
       "<Figure size 1080x504 with 1 Axes>"
      ]
     },
     "metadata": {},
     "output_type": "display_data"
    }
   ],
   "source": [
    "import seaborn as sns\n",
    "sns.distplot(minutes_mean_b['1000'], hist=False);\n",
    "sns.distplot(minutes_mean_b['5000'], hist=False);\n",
    "sns.distplot(minutes_mean_b['10000'], hist=False);"
   ]
  },
  {
   "cell_type": "code",
   "execution_count": 81,
   "metadata": {},
   "outputs": [
    {
     "name": "stdout",
     "output_type": "stream",
     "text": [
      "[177.9720102  181.65728923]\n",
      "[177.94542004 181.6054718 ]\n",
      "[177.8945372  181.60669967]\n"
     ]
    }
   ],
   "source": [
    "print(np.quantile(minutes_mean_b['1000'], q = [0.025, 0.975]))\n",
    "print(np.quantile(minutes_mean_b['5000'], q = [0.025, 0.975]))\n",
    "print(np.quantile(minutes_mean_b['10000'], q = [0.025, 0.975]))"
   ]
  },
  {
   "cell_type": "markdown",
   "metadata": {},
   "source": [
    "Для интерпретации доверительных интервалов вы можете обратиться к этой [статье](https://www.graphpad.com/guides/prism/7/statistics/stat_more_about_confidence_interval.htm?toc=0&printWindow) Неправильно говорить, что доверительный интервал содержит 95% значений. Правильно смотреть на то, насколько он уже или шире относительно своей статистики (в нашем случае - среднее). "
   ]
  },
  {
   "cell_type": "code",
   "execution_count": 52,
   "metadata": {},
   "outputs": [
    {
     "data": {
      "text/plain": [
       "Index(['Account length', 'Area code', 'International plan', 'Voice mail plan',\n",
       "       'Number vmail messages', 'Total day minutes', 'Total day calls',\n",
       "       'Total day charge', 'Total eve minutes', 'Total eve calls',\n",
       "       'Total eve charge', 'Total night minutes', 'Total night calls',\n",
       "       'Total night charge', 'Total intl minutes', 'Total intl calls',\n",
       "       'Total intl charge', 'Customer service calls'],\n",
       "      dtype='object')"
      ]
     },
     "execution_count": 52,
     "metadata": {},
     "output_type": "execute_result"
    }
   ],
   "source": [
    "df.columns"
   ]
  },
  {
   "cell_type": "code",
   "execution_count": 82,
   "metadata": {},
   "outputs": [
    {
     "name": "stdout",
     "output_type": "stream",
     "text": [
      "                            OLS Regression Results                            \n",
      "==============================================================================\n",
      "Dep. Variable:       Total day charge   R-squared:                       0.000\n",
      "Model:                            OLS   Adj. R-squared:                 -0.000\n",
      "Method:                 Least Squares   F-statistic:                    0.1519\n",
      "Date:                Mon, 24 May 2021   Prob (F-statistic):              0.697\n",
      "Time:                        21:12:12   Log-Likelihood:                -12147.\n",
      "No. Observations:                3333   AIC:                         2.430e+04\n",
      "Df Residuals:                    3331   BIC:                         2.431e+04\n",
      "Df Model:                           1                                         \n",
      "Covariance Type:            nonrobust                                         \n",
      "===================================================================================\n",
      "                      coef    std err          t      P>|t|      [0.025      0.975]\n",
      "-----------------------------------------------------------------------------------\n",
      "const              30.2494      0.819     36.946      0.000      28.644      31.855\n",
      "Total day calls     0.0031      0.008      0.390      0.697      -0.013       0.019\n",
      "==============================================================================\n",
      "Omnibus:                        0.505   Durbin-Watson:                   2.032\n",
      "Prob(Omnibus):                  0.777   Jarque-Bera (JB):                0.530\n",
      "Skew:                          -0.029   Prob(JB):                        0.767\n",
      "Kurtosis:                       2.979   Cond. No.                         523.\n",
      "==============================================================================\n",
      "\n",
      "Notes:\n",
      "[1] Standard Errors assume that the covariance matrix of the errors is correctly specified.\n"
     ]
    }
   ],
   "source": [
    "# Вычислим теперь доверительные интервалы для регрессии total day charge на Total day calls\n",
    "import statsmodels.api as sm\n",
    "reg = sm.OLS(df['Total day charge'], sm.add_constant(df['Total day calls'])).fit()\n",
    "print(reg.summary())"
   ]
  },
  {
   "cell_type": "code",
   "execution_count": 54,
   "metadata": {},
   "outputs": [
    {
     "data": {
      "text/plain": [
       "(-0.01258, 0.018779999999999998)"
      ]
     },
     "execution_count": 54,
     "metadata": {},
     "output_type": "execute_result"
    }
   ],
   "source": [
    "# 95% доверительный интервал для коэффициента перед Total day calls при выполнении предпосылок ГМ:\n",
    "(0.0031 - 0.008*1.96, 0.0031 + 0.008*1.96)"
   ]
  },
  {
   "cell_type": "code",
   "execution_count": 83,
   "metadata": {},
   "outputs": [],
   "source": [
    "def get_coefs(data):\n",
    "    '''\n",
    "    Функция для вычисления коэффициента перед Total day calls\n",
    "    '''\n",
    "    X = np.hstack([np.ones(data.shape[0]).reshape(-1,1), \n",
    "                  data[:, 0].reshape(-1,1)])\n",
    "    y = data[:, 1]\n",
    "    coefs = np.linalg.inv(X.T @ X) @ X.T @ y\n",
    "    return coefs[1]"
   ]
  },
  {
   "cell_type": "code",
   "execution_count": 89,
   "metadata": {},
   "outputs": [
    {
     "name": "stdout",
     "output_type": "stream",
     "text": [
      "CPU times: user 986 ms, sys: 225 ms, total: 1.21 s\n",
      "Wall time: 1.42 s\n"
     ]
    }
   ],
   "source": [
    "@jit(nopython=True)\n",
    "def bootstrap_better_numpy_jit_SAMPLES(data, boots=10000):\n",
    "    \"\"\"\n",
    "    Create bootstrap datasets that represent the distribution of the mean.\n",
    "    Makes better use of built in numpy methods for more efficient sampling\n",
    "    Returns a numpy array containing the bootstrap datasets \n",
    "    \n",
    "    Keyword arguments:\n",
    "    data -- numpy array of systems to boostrap\n",
    "    boots -- number of bootstrap \n",
    "    \"\"\"\n",
    "    \n",
    "    to_return = np.empty((boots, data.shape[0], data.shape[1]))\n",
    "              \n",
    "    for b in range(boots):\n",
    "                \n",
    "        to_return[b] = data[np.random.randint(0, data.shape[0], data.shape[0])]\n",
    "    return to_return\n",
    "bs_samples = bootstrap_better_numpy_jit_SAMPLES(df[['Total day calls', 'Total day charge']].values)"
   ]
  },
  {
   "cell_type": "code",
   "execution_count": 90,
   "metadata": {},
   "outputs": [
    {
     "name": "stdout",
     "output_type": "stream",
     "text": [
      "(10000, 3333, 2)\n"
     ]
    }
   ],
   "source": [
    "print(bs_samples.shape) \n",
    "# axis=0 - бутстрап подвыборка, axis=1 - количество наблюдений, axis=2 - число переменных\n",
    "bs_coefs = [get_coefs(bs_samples[i]) for i in range(bs_samples.shape[0])]"
   ]
  },
  {
   "cell_type": "code",
   "execution_count": 91,
   "metadata": {},
   "outputs": [
    {
     "data": {
      "text/plain": [
       "array([-0.01387655,  0.02058721])"
      ]
     },
     "execution_count": 91,
     "metadata": {},
     "output_type": "execute_result"
    }
   ],
   "source": [
    "np.quantile(bs_coefs, q = [0.025, 0.975]) # получился шире, чем при предположении о ГМ"
   ]
  },
  {
   "cell_type": "code",
   "execution_count": 108,
   "metadata": {},
   "outputs": [],
   "source": [
    "@jit(nopython=True)\n",
    "def bootstrap_residuals(data, boots=10000):    \n",
    "    to_return = np.empty((boots, data.shape[0]))\n",
    "              \n",
    "    for b in range(boots): \n",
    "        to_return[b] = data[np.random.randint(0, data.shape[0], data.shape[0])]\n",
    "        \n",
    "    return to_return\n",
    "# Строим базовую регрессию X на y\n",
    "data = df[['Total day calls', 'Total day charge']].values\n",
    "X = np.hstack([np.ones(data.shape[0]).reshape(-1,1), \n",
    "                  data[:, 0].reshape(-1,1)])\n",
    "y = data[:, 1]\n",
    "coefs = np.linalg.inv(X.T @ X) @ X.T @ y\n",
    "\n",
    "residuals = X @ coefs - y # y_predict - y_true\n",
    "\n",
    "bs_samples_res = bootstrap_residuals(residuals)\n",
    "\n",
    "bs_y = X @ coefs + bs_samples_res"
   ]
  },
  {
   "cell_type": "code",
   "execution_count": 131,
   "metadata": {},
   "outputs": [
    {
     "data": {
      "text/plain": [
       "(3333, 2)"
      ]
     },
     "execution_count": 131,
     "metadata": {},
     "output_type": "execute_result"
    }
   ],
   "source": [
    "i = 1\n",
    "np.hstack([df['Total day calls'].values.reshape(-1,1), \n",
    "           bs_y[i].reshape(-1,1)]).shape"
   ]
  },
  {
   "cell_type": "code",
   "execution_count": 135,
   "metadata": {},
   "outputs": [],
   "source": [
    "bs_coefs = [get_coefs(np.hstack(\n",
    "                    [df['Total day calls'].values.reshape(-1,1), \n",
    "                     bs_y[i].reshape(-1,1)])) \n",
    "                      for i in range(bs_y.shape[0])]"
   ]
  },
  {
   "cell_type": "code",
   "execution_count": 141,
   "metadata": {},
   "outputs": [
    {
     "data": {
      "text/plain": [
       "array([-0.01232957,  0.01877564])"
      ]
     },
     "execution_count": 141,
     "metadata": {},
     "output_type": "execute_result"
    }
   ],
   "source": [
    "np.quantile(bs_coefs, q = [0.025, 0.975]) # получился шире, чем при предположении о ГМ"
   ]
  },
  {
   "cell_type": "markdown",
   "metadata": {},
   "source": [
    "# Бэггинг\n",
    "\n",
    "Применим бэггинг к сгенерированным данным, распределенным вокруг функции $f(x) = e^{-x ^ 2} + 1.5 * e^{-(x - 2) ^ 2}$ c некоторым шумом и сравним ошибку с алгоритмом для 1 дерева."
   ]
  },
  {
   "cell_type": "code",
   "execution_count": 92,
   "metadata": {},
   "outputs": [
    {
     "data": {
      "image/png": "[encoded data removed]",
      "text/plain": [
       "<Figure size 720x432 with 1 Axes>"
      ]
     },
     "metadata": {},
     "output_type": "display_data"
    },
    {
     "data": {
      "image/png": "[encoded data removed]",
      "text/plain": [
       "<Figure size 720x432 with 1 Axes>"
      ]
     },
     "metadata": {},
     "output_type": "display_data"
    }
   ],
   "source": [
    "import warnings\n",
    "import numpy as np\n",
    "warnings.filterwarnings('ignore')\n",
    "from matplotlib import pyplot as plt\n",
    "plt.style.use('ggplot')\n",
    "plt.rcParams['figure.figsize'] = 15, 7\n",
    "\n",
    "from sklearn.ensemble import BaggingClassifier, BaggingRegressor\n",
    "from sklearn.tree import DecisionTreeRegressor, DecisionTreeClassifier\n",
    "from sklearn.datasets import make_circles\n",
    "from sklearn.model_selection import train_test_split\n",
    "\n",
    "\n",
    "     \n",
    "n_train = 150        \n",
    "n_test = 1000       \n",
    "noise = 0.1\n",
    "\n",
    "# Generate data\n",
    "def f(x):\n",
    "    x = x.ravel()\n",
    "    return np.exp(-x ** 2) + 1.5 * np.exp(-(x - 2) ** 2)\n",
    "\n",
    "def generate(n_samples, noise):\n",
    "    X = np.random.rand(n_samples) * 10 - 5\n",
    "    X = np.sort(X).ravel()\n",
    "    y = np.exp(-X ** 2) + 1.5 * np.exp(-(X - 2) ** 2)\\\n",
    "        + np.random.normal(0.0, noise, n_samples)\n",
    "    X = X.reshape((n_samples, 1))\n",
    "\n",
    "    return X, y\n",
    "\n",
    "X_train, y_train = generate(n_samples=n_train, noise=noise)\n",
    "X_test, y_test = generate(n_samples=n_test, noise=noise)\n",
    "\n",
    "# One decision tree regressor\n",
    "dtree = DecisionTreeRegressor().fit(X_train, y_train)\n",
    "d_predict = dtree.predict(X_test)\n",
    "\n",
    "plt.figure(figsize=(10, 6))\n",
    "plt.plot(X_test, f(X_test), \"b\")\n",
    "plt.scatter(X_train, y_train, c=\"b\", s=20)\n",
    "plt.plot(X_test, d_predict, \"g\", lw=2)\n",
    "plt.xlim([-5, 5])\n",
    "plt.title(\"Решающее дерево, MSE = %.2f\" \n",
    "          % np.sum((y_test - d_predict) ** 2))\n",
    "\n",
    "# Bagging decision tree regressor\n",
    "bdt = BaggingRegressor(DecisionTreeRegressor()).fit(X_train, y_train)\n",
    "bdt_predict = bdt.predict(X_test)\n",
    "\n",
    "plt.figure(figsize=(10, 6))\n",
    "plt.plot(X_test, f(X_test), \"b\")\n",
    "plt.scatter(X_train, y_train, c=\"b\", s=20)\n",
    "plt.plot(X_test, bdt_predict, \"y\", lw=2)\n",
    "plt.xlim([-5, 5])\n",
    "plt.title(\"Бэггинг решающих деревьев, MSE = %.2f\" % np.sum((y_test - bdt_predict) ** 2));"
   ]
  }
 ],
 "metadata": {
  "kernelspec": {
   "display_name": "Python 3",
   "language": "python",
   "name": "python3"
  },
  "language_info": {
   "codemirror_mode": {
    "name": "ipython",
    "version": 3
   },
   "file_extension": ".py",
   "mimetype": "text/x-python",
   "name": "python",
   "nbconvert_exporter": "python",
   "pygments_lexer": "ipython3",
   "version": "3.8.3"
  },
  "toc": {
   "base_numbering": 1,
   "nav_menu": {},
   "number_sections": true,
   "sideBar": true,
   "skip_h1_title": false,
   "title_cell": "Table of Contents",
   "title_sidebar": "Contents",
   "toc_cell": false,
   "toc_position": {},
   "toc_section_display": true,
   "toc_window_display": false
  },
  "varInspector": {
   "cols": {
    "lenName": 16,
    "lenType": 16,
    "lenVar": 40
   },
   "kernels_config": {
    "python": {
     "delete_cmd_postfix": "",
     "delete_cmd_prefix": "del ",
     "library": "var_list.py",
     "varRefreshCmd": "print(var_dic_list())"
    },
    "r": {
     "delete_cmd_postfix": ") ",
     "delete_cmd_prefix": "rm(",
     "library": "var_list.r",
     "varRefreshCmd": "cat(var_dic_list()) "
    }
   },
   "types_to_exclude": [
    "module",
    "function",
    "builtin_function_or_method",
    "instance",
    "_Feature"
   ],
   "window_display": false
  }
 },
 "nbformat": 4,
 "nbformat_minor": 4
}

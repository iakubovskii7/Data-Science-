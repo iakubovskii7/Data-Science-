{
 "cells": [
  {
   "cell_type": "markdown",
   "metadata": {},
   "source": [
    "Рекомендательные системы в современном мире являются одним из популярнейших приложений машинного обучения и статистических методов. Зайдя на сайт продавца мебели и посмотрев пару вариантов, контекстная реклама из всех углов вам еще пару дней будет надоедать баннерами с диванами и стульями.\n",
    "\n",
    "Наиболее приятный результат работы рекомендательных систем мы можем видеть на ютубе и различных онлайн-кинотеатрах -\n",
    "нам пытаются показать тот контент, который интересует непосредственно нас. Не очень приятный результат мы видим в приложениях\n",
    "типа Сбербанк Онлайна, который нам пытается втюхать очередной кредит по \"выгодной\" ставке.\n",
    "\n",
    "На данном занятии мы рассмотрим некоторые популярные (в прошлом и иногда в настоящем) алгоритмы рекомендательных систем.\n",
    "\n"
   ]
  },
  {
   "cell_type": "markdown",
   "metadata": {},
   "source": [
    "# Коллаборативная фильтрация\n",
    "\n",
    "Допустим, у нас есть матрица оценок пользователей различным фильмам. Наша задача в данном случае - на основании\n",
    "исторических оценок юзеров определенных фильмов порекомендовать какому-то конкретному юзеру посмотреть фильм,\n",
    "который он бы с наибольшим желанием увидел (при том, что уже мог что-то у нас посмотреть, а мог и не посмотреть).\n",
    "\n",
    "Рассмотрим основные методы коллаборативной фильтрации. Допустим, что у нас есть айтем (например, фильм)\n",
    "и рейтинг (например, оценка фильма)."
   ]
  },
  {
   "cell_type": "markdown",
   "metadata": {},
   "source": [
    "## Memory-based коллаборативная фильтрация\n",
    "\n",
    "Данный вид фильтрации не требует настройки никаких гиперпараметров и использует только исторические данные о\n",
    "поведении пользователей.\n",
    "\n",
    "1. **User-item** фильтрация берет определенного пользователя, ищет наиболее похожих на него пользователей\n",
    "(например, при помощи косинусного расстояния) и, исходя из информации о рейтинге рекомендует нужный айтем,\n",
    "который был в среднем чаще выбран этими похожими пользователями.\n",
    "\n",
    "2. **Item-item** фильтрация берет определенный айтем, ищет пользователей с наибольшей оценкой этого айтема\n",
    "и ищет другие айтемы, к которым в среднем были лояльны эти пользователи.\n",
    "\n",
    "**User-Item** коллаборативная фильтрация: юзерам, которые похожи на определенного юзера, также нравится...\n",
    "\n",
    "**Item-Item** коллаборативная фильтрация: юзерам, которым нравится этот айтем, также нравится...\n",
    "\n",
    "\n",
    "Примерный алгоритм **user-item** коллаборативной фильтрации выглядит следующим образом.\n",
    "\n",
    "1. Выбрать L пользователей, вкусы которых больше всего похожи на вкусы рассматриваемого юзера.\n",
    "Для этого для каждого из пользователей нужно вычислить выбранную меру (в нашем случае косинусную, подробней ниже)\n",
    "в отношении рассматриваемого пользователя, и выбрать L наибольших.\n",
    "\n",
    "2. Для каждого из пользователей умножить его оценки на вычисленное значение этой меры.\n",
    "Таким образом оценки более «похожих» пользователей будут сильнее влиять на итоговую рекомендацию.\n",
    "\n",
    "3. Для каждого из айтемов посчитать сумму калиброванных оценок L наиболее близких пользователей,\n",
    "полученную сумму разделить на сумму мер L выбранных пользователей.\n",
    "\n",
    "![](data:image/png;base64,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)\n",
    "\n",
    "![](data:image/jpeg;base64,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)\n"
   ]
  },
  {
   "cell_type": "markdown",
   "metadata": {},
   "source": [
    "Косинусная мера близости вычисляется следующим образом:\n",
    "\n",
    "$ \\Large CosineSimilarity(u, u') = s(u, u') = \\frac{r_u r_u'} {||r_u|| \\ ||r_u'||} = \\sum_i \\frac{r_{ui} r_{u'i}} {\\sqrt{\\sum_i r^2_{ui}}\n",
    "\\sqrt{\\sum_i r^2_{u'i}} } $\n",
    "\n",
    "Вообще говоря, вместо косинусной меры мы можем использовать и корреляцию Пирсона (для центрированых переменных эти\n",
    "величины одинаковы!)."
   ]
  },
  {
   "cell_type": "markdown",
   "metadata": {
    "pycharm": {
     "name": "#%% md\n"
    }
   },
   "source": [
    "По аналогии с методом ближайших соседей, находим средневзвешенную по \"соседям\" метрику,\n",
    "которая будет прогнозировать оценку для пользователя $u$ айтему $i$:\n",
    "\n",
    "$\\Large \\hat{r_{ui}} = \\frac{  \\sum_{u'} s(u, u') r_{u'i} }\n",
    "{ \\sum_{u'}|s(u, u')| }$\n",
    "\n",
    "$r_{ui}$ - рейтинг от пользователя $u$ айтему $i$, $u'$ - все соседи юзера\n",
    "\n",
    "По факту мы умножаем схожесть юзера $u$ с юзером $u'$ на оценку юзера $u'$ айтему $i$.\n",
    "\n",
    "Проблемы такой формулы: числитель может быть отрицательным (например, пользователь непохож на остальных и\n",
    "ближайшие к нему - это наименее дальние соседи). Возможные решения:\n",
    "\n",
    "- Выкинуть отрицательные схожести (теряем информацию)\n",
    "\n",
    "- Заменяем ближайшие отрицательные на ближайшие неотрицательные прогнозы.\n",
    "\n",
    "- Стандартизируем рейтинги для каждого юзера и добавляем в числителе функцию знака:\n",
    "\n",
    "$\\Large \\hat{r_{ui}} = \\frac{  \\sum_{u'} s(u, u') sign[s(u, u')] r_{u'i} }\n",
    "{ \\sum_{u'}|s(u, u')| }$. Не забудем к полученному прогнозу прибавить стандартное отклонение и среднее, чтобы получить\n",
    "исходную шкалу рейтингов.\n",
    "\n",
    "Следующий напрашивающийся вопрос: а сколько ближайших соседей вообще брать? Обычно предлагают такие решения:\n",
    "\n",
    "- k=10, 20, 30.... (подбираем как гиперпараметр)\n",
    "\n",
    "- по порогу схожести (возможно для каких-то пользователей ничего не найдем)\n",
    "\n",
    "- все (вычислительно затратно)\n",
    "\n",
    "Основные проблемы **user-based** подхода:\n",
    "\n",
    "- небольшое количество рейтингов для определенных пользователей\n",
    "\n",
    "- похожести могут сильно измениться при добавлении новых данных\n",
    "\n",
    "- мало пересечений для двух случайных пользователей\n"
   ]
  },
  {
   "cell_type": "markdown",
   "metadata": {
    "pycharm": {
     "name": "#%% md\n"
    }
   },
   "source": [
    "Проблемы, описанные выше, частично можно решить в **item-based** подходе. В этом случае мы ищем похожие друг на друга\n",
    "айтемы и рекомендуем пользователю айтем, который похож на те, что уже юзер оценивал. Однако, здесь есть проблема:\n",
    "одинаковое распределение оценок разных айтемов может привести к тому, что наш алгоритм выдаст нам их как похожие.\n",
    "Например, юзеры могут ставить одинаковые оценки разным фильмам и нам алгоритм скажет, что эти фильмы идеально похоже\n",
    "друг с другом, хотя они могут быть вообще разными.\n",
    "Поэтому в этом случае мы используем модернизированную косинусную меру:\n",
    "\n",
    "$\n",
    "\\Large Adjusted CosineSimilarity(i, i') = s(i, i') = \\sum_i \\frac{(r_{ui} - \\bar{r_u}) (r_{ui'} - \\bar{r_u})}\n",
    "{\n",
    "\\sqrt{(\\sum_i r_{ui} - \\bar{r_u})^2}\n",
    "\\sqrt{(\\sum_i r_{ui'} - \\bar{r_u})^2}\n",
    "}\n",
    "$\n",
    "\n",
    "Плюсы **item-item** фильтрации:\n",
    "\n",
    "- реже обновляем схожести (так как item добавляются реже, чем юзеры)\n",
    "\n",
    "- более надежная оценка похожестей (больше наблюдений)"
   ]
  },
  {
   "cell_type": "markdown",
   "metadata": {
    "pycharm": {
     "name": "#%% md\n"
    }
   },
   "source": [
    "Резюме по алгоритмам коллаборативной фильтрации:\n",
    "\n",
    "- Неплохие рекомендации при большом количестве доступных данных\n",
    "\n",
    "- Плохо работает на сильно разреженных данных\n",
    "\n",
    "- Смотрим оценки только по пересечениям айтемов - никак не учитываем то, что юзеры могут оценивать похожие айтемы"
   ]
  },
  {
   "cell_type": "markdown",
   "metadata": {},
   "source": [
    "Давайте попробуем порекомендовать фильмы различным пользователем на примере датасета MovieLens при помощи алгоритмов\n",
    "коллаборативной фильтрации."
   ]
  },
  {
   "cell_type": "code",
   "execution_count": 68,
   "metadata": {
    "pycharm": {
     "name": "#%%\n"
    }
   },
   "outputs": [],
   "source": [
    "import zipfile\n",
    "from collections import defaultdict\n",
    "import datetime\n",
    "import scipy.sparse as sps\n",
    "import numpy as np\n",
    "\n",
    "# Скачаем данные https://grouplens.org/datasets/movielens/\n",
    "import os\n",
    "os.chdir(\"/Users/iakubovskii/Machine_Learning/RANEPA/Fintech_2020/Машинное обучение/Данные/\")\n",
    "# Импортируем данные\n",
    "movies, users, ratings = {}, {}, defaultdict(list)\n",
    "with zipfile.ZipFile(\"ml-1m.zip\", \"r\") as z:\n",
    "    with z.open(\"ml-1m/movies.dat\") as m:\n",
    "        for line in m:\n",
    "            MovieID, Title, Genres = line.decode(\"iso-8859-1\").strip().split(\"::\")\n",
    "            MovieID = int(MovieID)\n",
    "            Genres = Genres.split('|')\n",
    "            movies[MovieID] = {\"Title\": Title, 'Genres': Genres}\n",
    "\n",
    "    with z.open(\"ml-1m/users.dat\") as m:\n",
    "        fields = ['UserID', \"Gender\", \"Age\", \"Occupation\", \"Zip-code\"]\n",
    "        for line in m:\n",
    "            row = list(zip(fields, line.decode(\"iso-8859-1\").strip().split(\"::\")))\n",
    "            data = dict(row[1:])\n",
    "            data['Occupation'] = int(data['Occupation'])\n",
    "            users[int(row[0][1])] = data\n",
    "\n",
    "    with z.open(\"ml-1m/ratings.dat\") as m:\n",
    "        for line in m:\n",
    "            UserID, MovieID, Rating, Timestamp = line.decode(\"iso-8859-1\").strip().split(\"::\")\n",
    "            UserID = int(UserID)\n",
    "            MovieID = int(MovieID)\n",
    "            Rating = int(Rating)\n",
    "            Timestamp = int(Timestamp)\n",
    "            ratings[UserID].append((MovieID, Rating, datetime.datetime.fromtimestamp(Timestamp)))\n",
    "\n"
   ]
  },
  {
   "cell_type": "code",
   "execution_count": 71,
   "metadata": {},
   "outputs": [
    {
     "name": "stdout",
     "output_type": "stream",
     "text": [
      "{'Gender': 'M', 'Age': '56', 'Occupation': 16, 'Zip-code': '70072'}\n",
      "[(1357, 5, datetime.datetime(2001, 1, 1, 0, 38, 29)), (3068, 4, datetime.datetime(2001, 1, 1, 0, 43, 20)), (1537, 4, datetime.datetime(2001, 1, 1, 0, 53, 40)), (647, 3, datetime.datetime(2001, 1, 1, 0, 49, 11)), (2194, 4, datetime.datetime(2001, 1, 1, 0, 48, 17)), (648, 4, datetime.datetime(2001, 1, 1, 0, 58, 33)), (2268, 5, datetime.datetime(2001, 1, 1, 0, 48, 17)), (2628, 3, datetime.datetime(2001, 1, 1, 1, 0, 51)), (1103, 3, datetime.datetime(2001, 1, 1, 0, 41, 45)), (2916, 3, datetime.datetime(2001, 1, 1, 0, 56, 49)), (3468, 5, datetime.datetime(2001, 1, 1, 0, 35, 42)), (1210, 4, datetime.datetime(2001, 1, 1, 0, 29, 11)), (1792, 3, datetime.datetime(2001, 1, 1, 0, 59, 1)), (1687, 3, datetime.datetime(2001, 1, 1, 1, 2, 54)), (1213, 2, datetime.datetime(2001, 1, 1, 0, 34, 18)), (3578, 5, datetime.datetime(2001, 1, 1, 0, 42, 38)), (2881, 3, datetime.datetime(2001, 1, 1, 1, 0, 2)), (3030, 4, datetime.datetime(2001, 1, 1, 0, 33, 54)), (1217, 3, datetime.datetime(2001, 1, 1, 0, 29, 11)), (3105, 4, datetime.datetime(2001, 1, 1, 0, 37, 53)), (434, 2, datetime.datetime(2001, 1, 1, 1, 2, 54)), (2126, 3, datetime.datetime(2001, 1, 1, 1, 2, 3)), (3107, 2, datetime.datetime(2001, 1, 1, 1, 0, 2)), (3108, 3, datetime.datetime(2001, 1, 1, 0, 55, 12)), (3035, 4, datetime.datetime(2001, 1, 1, 0, 37, 5)), (1253, 3, datetime.datetime(2001, 1, 1, 0, 45, 20)), (1610, 5, datetime.datetime(2001, 1, 1, 0, 56, 49)), (292, 3, datetime.datetime(2001, 1, 1, 1, 2, 3)), (2236, 5, datetime.datetime(2001, 1, 1, 0, 47)), (3071, 4, datetime.datetime(2001, 1, 1, 0, 45, 20)), (902, 2, datetime.datetime(2001, 1, 1, 0, 41, 45)), (368, 4, datetime.datetime(2001, 1, 1, 1, 0, 2)), (1259, 5, datetime.datetime(2001, 1, 1, 0, 40, 41)), (3147, 5, datetime.datetime(2001, 1, 1, 0, 37, 32)), (1544, 4, datetime.datetime(2001, 1, 1, 1, 2, 54)), (1293, 5, datetime.datetime(2001, 1, 1, 0, 31, 1)), (1188, 4, datetime.datetime(2001, 1, 1, 0, 53, 40)), (3255, 4, datetime.datetime(2001, 1, 1, 0, 48, 41)), (3256, 2, datetime.datetime(2001, 1, 1, 0, 57, 19)), (3257, 3, datetime.datetime(2001, 1, 1, 1, 1, 13)), (110, 5, datetime.datetime(2001, 1, 1, 0, 37, 5)), (2278, 3, datetime.datetime(2001, 1, 1, 0, 58, 9)), (2490, 3, datetime.datetime(2001, 1, 1, 0, 59, 26)), (1834, 4, datetime.datetime(2001, 1, 1, 0, 40, 13)), (3471, 5, datetime.datetime(2001, 1, 1, 0, 40, 14)), (589, 4, datetime.datetime(2001, 1, 1, 0, 56, 13)), (1690, 3, datetime.datetime(2001, 1, 1, 1, 0, 51)), (3654, 3, datetime.datetime(2001, 1, 1, 0, 40, 14)), (2852, 3, datetime.datetime(2001, 1, 1, 0, 42, 38)), (1945, 5, datetime.datetime(2001, 1, 1, 0, 34, 18)), (982, 4, datetime.datetime(2001, 1, 1, 0, 47, 49)), (1873, 4, datetime.datetime(2001, 1, 1, 0, 35, 42)), (2858, 4, datetime.datetime(2001, 1, 1, 0, 33, 54)), (1225, 5, datetime.datetime(2001, 1, 1, 0, 33, 11)), (2028, 4, datetime.datetime(2001, 1, 1, 0, 56, 13)), (515, 5, datetime.datetime(2001, 1, 1, 0, 35, 42)), (442, 3, datetime.datetime(2001, 1, 1, 1, 0, 25)), (2312, 3, datetime.datetime(2001, 1, 1, 0, 44, 6)), (265, 4, datetime.datetime(2001, 1, 1, 0, 43, 46)), (1408, 3, datetime.datetime(2001, 1, 1, 0, 57, 19)), (1084, 3, datetime.datetime(2001, 1, 1, 0, 40, 13)), (3699, 2, datetime.datetime(2001, 1, 1, 0, 46, 13)), (480, 5, datetime.datetime(2001, 1, 1, 0, 56, 49)), (1442, 4, datetime.datetime(2001, 1, 1, 0, 48, 17)), (2067, 5, datetime.datetime(2001, 1, 1, 0, 37, 5)), (1265, 3, datetime.datetime(2001, 1, 1, 0, 55, 12)), (1370, 5, datetime.datetime(2001, 1, 1, 0, 58, 9)), (1193, 5, datetime.datetime(2001, 1, 1, 0, 33, 33)), (1801, 3, datetime.datetime(2001, 1, 1, 1, 0, 2)), (1372, 3, datetime.datetime(2001, 1, 1, 0, 59, 1)), (2353, 4, datetime.datetime(2001, 1, 1, 0, 57, 41)), (3334, 4, datetime.datetime(2001, 1, 1, 0, 42, 38)), (2427, 2, datetime.datetime(2001, 1, 1, 0, 58, 33)), (590, 5, datetime.datetime(2001, 1, 1, 0, 44, 43)), (1196, 5, datetime.datetime(2001, 1, 1, 0, 38, 50)), (1552, 3, datetime.datetime(2001, 1, 1, 0, 59, 1)), (736, 4, datetime.datetime(2001, 1, 1, 1, 1, 40)), (1198, 4, datetime.datetime(2001, 1, 1, 0, 28, 44)), (593, 5, datetime.datetime(2001, 1, 1, 0, 35, 17)), (2359, 3, datetime.datetime(2001, 1, 1, 0, 54, 26)), (95, 2, datetime.datetime(2001, 1, 1, 1, 2, 23)), (2717, 3, datetime.datetime(2001, 1, 1, 0, 29, 56)), (2571, 4, datetime.datetime(2001, 1, 1, 0, 56, 13)), (1917, 3, datetime.datetime(2001, 1, 1, 1, 2, 54)), (2396, 4, datetime.datetime(2001, 1, 1, 0, 54, 1)), (3735, 3, datetime.datetime(2001, 1, 1, 0, 40, 14)), (1953, 4, datetime.datetime(2001, 1, 1, 0, 39, 35)), (1597, 3, datetime.datetime(2001, 1, 1, 1, 0, 25)), (3809, 3, datetime.datetime(2001, 1, 1, 0, 55, 12)), (1954, 5, datetime.datetime(2001, 1, 1, 0, 40, 41)), (1955, 4, datetime.datetime(2001, 1, 1, 0, 46, 40)), (235, 3, datetime.datetime(2001, 1, 1, 0, 49, 11)), (1124, 5, datetime.datetime(2001, 1, 1, 0, 50, 18)), (1957, 5, datetime.datetime(2001, 1, 1, 0, 39, 10)), (163, 4, datetime.datetime(2001, 1, 1, 0, 56, 49)), (21, 1, datetime.datetime(2001, 1, 1, 0, 57, 19)), (165, 3, datetime.datetime(2001, 1, 1, 1, 0, 2)), (2321, 3, datetime.datetime(2001, 1, 1, 0, 54, 26)), (1090, 2, datetime.datetime(2001, 1, 1, 0, 36, 20)), (380, 5, datetime.datetime(2001, 1, 1, 0, 56, 49)), (2501, 5, datetime.datetime(2001, 1, 1, 0, 36, 40)), (349, 4, datetime.datetime(2001, 1, 1, 0, 57, 19)), (457, 4, datetime.datetime(2001, 1, 1, 0, 56, 13)), (1096, 4, datetime.datetime(2001, 1, 1, 0, 49, 46)), (920, 5, datetime.datetime(2001, 1, 1, 0, 39, 35)), (459, 3, datetime.datetime(2001, 1, 1, 1, 0, 2)), (1527, 4, datetime.datetime(2001, 1, 1, 0, 57, 19)), (3418, 4, datetime.datetime(2001, 1, 1, 0, 56, 49)), (1385, 3, datetime.datetime(2001, 1, 1, 0, 59, 26)), (3451, 4, datetime.datetime(2001, 1, 1, 0, 42, 4)), (3095, 4, datetime.datetime(2001, 1, 1, 0, 35, 17)), (780, 3, datetime.datetime(2001, 1, 1, 0, 59, 26)), (498, 3, datetime.datetime(2001, 1, 1, 0, 50, 18)), (2728, 3, datetime.datetime(2001, 1, 1, 0, 41, 21)), (2002, 5, datetime.datetime(2001, 1, 1, 1, 1, 40)), (1962, 5, datetime.datetime(2001, 1, 1, 0, 40, 13)), (1784, 5, datetime.datetime(2001, 1, 1, 0, 40, 41)), (2943, 4, datetime.datetime(2001, 1, 1, 0, 32, 52)), (2006, 3, datetime.datetime(2001, 1, 1, 0, 57, 41)), (318, 5, datetime.datetime(2001, 1, 1, 0, 33, 33)), (1207, 4, datetime.datetime(2001, 1, 1, 0, 34, 38)), (1968, 2, datetime.datetime(2001, 1, 1, 0, 41, 21)), (3678, 3, datetime.datetime(2001, 1, 1, 0, 47, 30)), (1244, 3, datetime.datetime(2001, 1, 1, 0, 45, 43)), (356, 5, datetime.datetime(2001, 1, 1, 0, 54, 46)), (1245, 2, datetime.datetime(2001, 1, 1, 0, 46, 40)), (1246, 5, datetime.datetime(2001, 1, 1, 0, 50, 18)), (3893, 1, datetime.datetime(2001, 1, 1, 0, 52, 15)), (1247, 5, datetime.datetime(2001, 1, 1, 0, 37, 32))]\n"
     ]
    }
   ],
   "source": [
    "print(users[2])\n",
    "print(ratings[2])"
   ]
  },
  {
   "cell_type": "code",
   "execution_count": 73,
   "metadata": {
    "pycharm": {
     "name": "#%%\n"
    }
   },
   "outputs": [],
   "source": [
    "# Поделим выборку на тренировочную и тестовую (80% к 20%)\n",
    "times = []\n",
    "for user_ratings in ratings.values():\n",
    "    times.extend(x[2] for x in user_ratings)\n",
    "times = sorted(times)\n",
    "threshold_time = times[int(0.8 * len(times))]\n",
    "\n",
    "train, test = [], []\n",
    "# Делим все рейтинги на 5, чтобы привести к шкале от 0 до 1 (min-max scaler)\n",
    "for user_id, user_ratings in ratings.items():\n",
    "    train.extend((user_id, rating[0], rating[1] / 5.0) for rating in user_ratings if rating[2] <= threshold_time)\n",
    "    test.extend((user_id, rating[0], rating[1] / 5.0) for rating in user_ratings if rating[2] > threshold_time)"
   ]
  },
  {
   "cell_type": "markdown",
   "metadata": {
    "pycharm": {
     "name": "#%% md\n"
    }
   },
   "source": [
    "Теперь начинаем считать похожести наших фильмов. Для начала найдем средний рейтинг\n",
    "каждого юзера."
   ]
  },
  {
   "cell_type": "code",
   "execution_count": 75,
   "metadata": {
    "pycharm": {
     "name": "#%%\n"
    }
   },
   "outputs": [],
   "source": [
    "user_average = defaultdict(list)\n",
    "for u, i, r in train:\n",
    "    user_average[u].append(r)\n",
    "for u in user_average.keys():\n",
    "    user_average[u] = np.sum(user_average[u]) / len(user_average[u])\n",
    "user_average = dict(user_average)"
   ]
  },
  {
   "cell_type": "code",
   "execution_count": 82,
   "metadata": {
    "pycharm": {
     "name": "#%%\n"
    }
   },
   "outputs": [],
   "source": [
    "# Теперь центрируем и нормируем.\n",
    "item_norms = defaultdict(float)\n",
    "for u, i, r in train:\n",
    "    item_norms[i] += (r - user_average[u])**2\n",
    "for i in item_norms.keys():\n",
    "    item_norms[i] = np.sqrt(item_norms[i])\n",
    "item_norms = dict(item_norms)"
   ]
  },
  {
   "cell_type": "code",
   "execution_count": 90,
   "metadata": {
    "pycharm": {
     "name": "#%%\n"
    }
   },
   "outputs": [],
   "source": [
    "# Посчитаем обновленную матрицу рейтингов, где вычтем среднее и поделим на норму вектора\n",
    "item_user = sps.csc_matrix(\n",
    "    ([(r - user_average[u]) / (item_norms[i] + 1e-06) for u, i, r in train],\n",
    "    ([e[1] for e in train], [e[0] for e in train]))\n",
    ")\n",
    "# Наконец-то мы готовы посчитать похожести фильмов\n",
    "item_item_similarity = item_user @ item_user.T"
   ]
  },
  {
   "cell_type": "code",
   "execution_count": 92,
   "metadata": {
    "pycharm": {
     "name": "#%%\n"
    }
   },
   "outputs": [],
   "source": [
    "# Обулим отрицательные похожести\n",
    "item_item_similarity[item_item_similarity < 0] = 0"
   ]
  },
  {
   "cell_type": "code",
   "execution_count": 115,
   "metadata": {
    "pycharm": {
     "name": "#%%\n"
    }
   },
   "outputs": [],
   "source": [
    "# Теперь построим рекомендацию для рандомного пользователя\n",
    "train_by_user, test_by_user = defaultdict(list), defaultdict(list)\n",
    "for u, i, r in train:\n",
    "    train_by_user[u].append((i, r))\n",
    "for u, i, r in test:\n",
    "    test_by_user[u].append((i, r))\n",
    "\n",
    "user_id = 6040\n",
    "user_ratings = train_by_user[user_id]\n",
    "\n",
    "user_rated_items = [e[0] for e in user_ratings]\n",
    "user_rated_ratings = sps.csr_matrix([[e[1]] for e in user_ratings])\n",
    "\n",
    "# Найдем столбцы в матрице похожести, которые соответствуют оцененным фильмам\n",
    "similar_items = item_item_similarity[:, user_rated_items]\n",
    "\n",
    "# Теперь эти похожести перемножим с рейтингами данного юзера и получим предсказания\n",
    "recoms = similar_items.dot(user_rated_ratings) / (similar_items.sum(axis=1) + 1e-06)"
   ]
  },
  {
   "cell_type": "code",
   "execution_count": 117,
   "metadata": {
    "pycharm": {
     "name": "#%%\n"
    }
   },
   "outputs": [
    {
     "data": {
      "text/plain": [
       "matrix([[0.        ],\n",
       "        [0.74819368],\n",
       "        [0.40285119],\n",
       "        ...,\n",
       "        [0.79236067],\n",
       "        [0.76070987],\n",
       "        [0.75454628]])"
      ]
     },
     "execution_count": 117,
     "metadata": {},
     "output_type": "execute_result"
    }
   ],
   "source": [
    "recoms"
   ]
  },
  {
   "cell_type": "code",
   "execution_count": 121,
   "metadata": {
    "pycharm": {
     "name": "#%%\n"
    }
   },
   "outputs": [
    {
     "name": "stdout",
     "output_type": "stream",
     "text": [
      "[0.81907084 0.77952099 0.7431567  0.78205121 0.8146596  0.75421669\n",
      " 0.82053979 0.79268059 0.77863912 0.78497366 0.80319477 0.82919131\n",
      " 0.79921779 0.77875818 0.72230169 0.78808294 0.75104579 0.76944995\n",
      " 0.78971198 0.79084428 0.71691417 0.75438915 0.74879743]\n",
      "[[0.8]\n",
      " [1. ]\n",
      " [0.6]\n",
      " [1. ]\n",
      " [1. ]\n",
      " [0.8]\n",
      " [0.8]\n",
      " [0.8]\n",
      " [0.8]\n",
      " [0.8]\n",
      " [1. ]\n",
      " [1. ]\n",
      " [0.8]\n",
      " [0.8]\n",
      " [0.6]\n",
      " [0.8]\n",
      " [0.8]\n",
      " [0.8]\n",
      " [0.8]\n",
      " [0.8]\n",
      " [0.6]\n",
      " [0.8]\n",
      " [0.6]]\n"
     ]
    }
   ],
   "source": [
    "# Сравним с рейтигами на тесте и сравним с нашими предсказаниями\n",
    "\n",
    "test_user_ratings = test_by_user[user_id]\n",
    "test_user_rated_items = [e[0] for e in test_user_ratings]\n",
    "test_user_rated_ratings = np.array([[e[1]] for e in test_user_ratings])\n",
    "print(np.array(recoms[test_user_rated_items, :])[:, 0])\n",
    "print(test_user_rated_ratings)"
   ]
  },
  {
   "cell_type": "code",
   "execution_count": 124,
   "metadata": {
    "pycharm": {
     "name": "#%%\n"
    }
   },
   "outputs": [
    {
     "name": "stdout",
     "output_type": "stream",
     "text": [
      "[[0.03749982]]\n"
     ]
    }
   ],
   "source": [
    "# Вычислим RMSE для наших прогнозов\n",
    "mse, COUNT = 0, 0\n",
    "for user, ratings in train_by_user.items():\n",
    "    user_rated_items = [e[0] for e in ratings]\n",
    "    user_rated_ratings = sps.csr_matrix([[e[1]] for e in ratings])\n",
    "    similar_items = item_item_similarity[:, user_rated_items]\n",
    "    recoms = similar_items.dot(user_rated_ratings) / (similar_items.sum(axis=1) + 1e-6)\n",
    "    tbu = test_by_user[user]\n",
    "    test_items = [e[0] for e in tbu]\n",
    "    test_ratings = np.array([[e[1]] for e in tbu])\n",
    "    errors = np.square(recoms[test_items, :] - test_ratings)\n",
    "    mse += sum(errors)\n",
    "    COUNT += len(errors)\n",
    "\n",
    "print(mse / COUNT)"
   ]
  },
  {
   "cell_type": "markdown",
   "metadata": {
    "pycharm": {
     "name": "#%% md\n"
    }
   },
   "source": [
    "## Matrix-based коллаборативная фильтрация - матричная факторизация\n",
    "\n",
    "### TruncatedSVD\n",
    "\n",
    "Данный метод основан на изученном на прошлом занятии методе SVD - разложения матриц. Применительно к рекомендательным\n",
    "системам мы хотим разложить нашу матрицу айтем-юзер на скрытые состояния. Вспомним еще раз SVD-разложение:\n",
    "\n",
    "$$ M = U \\Sigma V^T$$\n",
    "\n",
    "Здесь первые $k$ векторов матрицы $U$ будут описывать профили юзеров, сингулярные значения из $\\Sigma$ - важность факторов,\n",
    "а матрица $V^T$ - профили айтемов. Давайте применим SVD разложение к нашей матрице фильмов и юзеров.\n",
    "\n"
   ]
  },
  {
   "cell_type": "code",
   "execution_count": 174,
   "metadata": {
    "pycharm": {
     "name": "#%%\n"
    }
   },
   "outputs": [],
   "source": [
    "import pandas as pd\n",
    "from scipy.sparse.linalg import svds\n",
    "u, s, vt = svds(item_user, k=10)"
   ]
  },
  {
   "cell_type": "code",
   "execution_count": 161,
   "metadata": {
    "pycharm": {
     "name": "#%%\n"
    }
   },
   "outputs": [
    {
     "name": "stdout",
     "output_type": "stream",
     "text": [
      "                                                           0\n",
      "title                                                       \n",
      "Raiders of the Lost Ark (1981)                      0.055620\n",
      "Godfather, The (1972)                               0.053880\n",
      "Star Wars: Episode V - The Empire Strikes Back ...  0.052231\n",
      "Star Wars: Episode IV - A New Hope (1977)           0.052109\n",
      "Usual Suspects, The (1995)                          0.050224\n",
      "Silence of the Lambs, The (1991)                    0.047043\n",
      "Psycho (1960)                                       0.046999\n",
      "Godfather: Part II, The (1974)                      0.046961\n",
      "Dr. Strangelove or: How I Learned to Stop Worry...  0.046849\n",
      "Shawshank Redemption, The (1994)                    0.046521\n",
      "                                                    0\n",
      "title                                                \n",
      "Superman III (1983)                         -0.052563\n",
      "Superman IV: The Quest for Peace (1987)     -0.049724\n",
      "Howard the Duck (1986)                      -0.047992\n",
      "Congo (1995)                                -0.047836\n",
      "Karate Kid III, The (1989)                  -0.046761\n",
      "Judge Dredd (1995)                          -0.046200\n",
      "Rambo III (1988)                            -0.045652\n",
      "Police Academy 4: Citizens on Patrol (1987) -0.045638\n",
      "Batman & Robin (1997)                       -0.045361\n",
      "Batman Forever (1995)                       -0.044125\n"
     ]
    }
   ],
   "source": [
    "# u - матрица профилей айтемов, vt - матрица профилей юзеров\n",
    "item_profile_svd = pd.Series({key: value['Title'] for key, value in movies.items()}).to_frame(\"title\").join(\n",
    "    pd.DataFrame(u[:, 9]))\n",
    "print(item_profile_svd.set_index(\"title\").nlargest(columns=[0], n=10))\n",
    "print(item_profile_svd.set_index(\"title\").nsmallest(columns=[0], n=10))"
   ]
  },
  {
   "cell_type": "code",
   "execution_count": 162,
   "metadata": {
    "pycharm": {
     "name": "#%%\n"
    }
   },
   "outputs": [
    {
     "name": "stdout",
     "output_type": "stream",
     "text": [
      "                                        0\n",
      "title                                    \n",
      "Sleepover (1995)                 0.126654\n",
      "Shadows (Cienie) (1988)          0.126654\n",
      "Terror in a Texas Town (1958)    0.126654\n",
      "McCullochs, The (1975)           0.126654\n",
      "Anatomy (Anatomie) (2000)        0.126654\n",
      "Circus (2000)                    0.126654\n",
      "Scorta, La (1993)                0.126653\n",
      "Happy Weekend (1996)             0.126653\n",
      "Lay of the Land, The (1997)      0.126653\n",
      "Ménage (Tenue de soirée) (1986)  0.126653\n",
      "                                                           0\n",
      "title                                                       \n",
      "Foolish (1999)                                     -0.126652\n",
      "Tainted (1998)                                     -0.126652\n",
      "Resurrection Man (1998)                            -0.126652\n",
      "Born to Win (1971)                                 -0.126652\n",
      "Wooden Man's Bride, The (Wu Kui) (1994)            -0.126652\n",
      "Went to Coney Island on a Mission From God... B... -0.094033\n",
      "Chushingura (1962)                                 -0.065330\n",
      "Tic Code, The (1998)                               -0.056510\n",
      "In Too Deep (1999)                                 -0.054044\n",
      "Life and Times of Hank Greenberg, The (1998)       -0.048033\n"
     ]
    }
   ],
   "source": [
    "item_profile_svd = pd.Series({key: value['Title'] for key, value in movies.items()}).to_frame(\"title\").join(\n",
    "    pd.DataFrame(u[:, 8]))\n",
    "print(item_profile_svd.set_index(\"title\").nlargest(columns=[0], n=10))\n",
    "print(item_profile_svd.set_index(\"title\").nsmallest(columns=[0], n=10))\n"
   ]
  },
  {
   "cell_type": "code",
   "execution_count": 163,
   "metadata": {
    "pycharm": {
     "name": "#%%\n"
    }
   },
   "outputs": [
    {
     "name": "stdout",
     "output_type": "stream",
     "text": [
      "                                                0\n",
      "title                                            \n",
      "Low Life, The (1994)                     0.160180\n",
      "Hurricane Streets (1998)                 0.147782\n",
      "Go Now (1995)                            0.137563\n",
      "Grandfather, The (El Abuelo) (1998)      0.124125\n",
      "Journey of August King, The (1995)       0.120158\n",
      "Tarantella (1995)                        0.118874\n",
      "Miss Julie (1999)                        0.110993\n",
      "Venice/Venice (1992)                     0.110492\n",
      "Digging to China (1998)                  0.098337\n",
      "Crime and Punishment in Suburbia (2000)  0.095687\n",
      "                                                           0\n",
      "title                                                       \n",
      "Jar, The (Khomreh) (1992)                          -0.160179\n",
      "I Stand Alone (Seul contre tous) (1998)            -0.145778\n",
      "Nénette et Boni (1996)                             -0.141265\n",
      "JLG/JLG - autoportrait de décembre (1994)          -0.140547\n",
      "Tigrero: A Film That Was Never Made (1994)         -0.127089\n",
      "Institute Benjamenta, or This Dream People Call... -0.125692\n",
      "I Can't Sleep (J'ai pas sommeil) (1994)            -0.124976\n",
      "Eternity and a Day (Mia eoniotita ke mia mera )... -0.119006\n",
      "Public Access (1993)                               -0.107925\n",
      "Flower of My Secret, The (La Flor de Mi Secreto... -0.106092\n"
     ]
    }
   ],
   "source": [
    "item_profile_svd = pd.Series({key: value['Title'] for key, value in movies.items()}).to_frame(\"title\").join(\n",
    "    pd.DataFrame(u[:, 7]))\n",
    "print(item_profile_svd.set_index(\"title\").nlargest(columns=[0], n=10))\n",
    "print(item_profile_svd.set_index(\"title\").nsmallest(columns=[0], n=10))"
   ]
  },
  {
   "cell_type": "markdown",
   "metadata": {
    "pycharm": {
     "name": "#%% md\n"
    }
   },
   "source": [
    "Давайте попробуем порекомендовать фильмы при помощи данного метода."
   ]
  },
  {
   "cell_type": "code",
   "execution_count": 191,
   "metadata": {
    "pycharm": {
     "name": "#%%\n"
    }
   },
   "outputs": [],
   "source": [
    "# Давайте испортируем те же самые данные другим способом.\n",
    "with zipfile.ZipFile(\"ml-1m.zip\", \"r\") as z:\n",
    "    data = pd.io.parsers.read_csv(z.open('ml-1m/ratings.dat'),\n",
    "        names=['user_id', 'movie_id', 'rating', 'time'],\n",
    "        engine='python', delimiter='::',\n",
    "                                  encoding = \"ISO-8859-1\")\n",
    "    movie_data = pd.io.parsers.read_csv(z.open('ml-1m/movies.dat'),\n",
    "        names=['movie_id', 'title', 'genre'],\n",
    "        engine='python', delimiter='::',\n",
    "                                   encoding = \"ISO-8859-1\" )"
   ]
  },
  {
   "cell_type": "code",
   "execution_count": 194,
   "metadata": {
    "pycharm": {
     "name": "#%%\n"
    }
   },
   "outputs": [],
   "source": [
    "ratings_mat = np.ndarray(\n",
    "    shape=(np.max(data.movie_id.values), np.max(data.user_id.values)),\n",
    "    dtype=np.uint8)\n",
    "ratings_mat[data.movie_id.values-1, data.user_id.values-1] = data.rating.values\n",
    "normalised_mat = ratings_mat - np.asarray([(np.mean(ratings_mat, 1))]).T"
   ]
  },
  {
   "cell_type": "code",
   "execution_count": 195,
   "metadata": {
    "pycharm": {
     "name": "#%%\n"
    }
   },
   "outputs": [],
   "source": [
    "# Применим SVD разложение\n",
    "A = normalised_mat.T / np.sqrt(ratings_mat.shape[0] - 1)\n",
    "U, S, V = np.linalg.svd(A)"
   ]
  },
  {
   "cell_type": "code",
   "execution_count": 197,
   "metadata": {
    "pycharm": {
     "name": "#%%\n"
    }
   },
   "outputs": [
    {
     "name": "stdout",
     "output_type": "stream",
     "text": [
      "Рекомендация для Toy Story (1995): \n",
      "\n",
      "Toy Story (1995)\n",
      "Toy Story 2 (1999)\n",
      "Babe (1995)\n",
      "Bug's Life, A (1998)\n",
      "Pleasantville (1998)\n",
      "Babe: Pig in the City (1998)\n",
      "Aladdin (1992)\n",
      "Stuart Little (1999)\n",
      "Secret Garden, The (1993)\n",
      "Tarzan (1999)\n"
     ]
    },
    {
     "name": "stderr",
     "output_type": "stream",
     "text": [
      "<ipython-input-197-4259aaeb7c85>:6: RuntimeWarning: invalid value encountered in true_divide\n",
      "  similarity = np.dot(movie_row, data.T) / (magnitude[index] * magnitude)\n"
     ]
    }
   ],
   "source": [
    "def top_cosine_similarity(data, movie_id, top_n=10):\n",
    "    '''Функция вычисляет косинусную похожесть '''\n",
    "    index = movie_id - 1 # Movie id starts from 1\n",
    "    movie_row = data[index, :]\n",
    "    magnitude = np.sqrt(np.einsum('ij, ij -> i', data, data))\n",
    "    similarity = np.dot(movie_row, data.T) / (magnitude[index] * magnitude)\n",
    "    sort_indexes = np.argsort(-similarity)\n",
    "    return sort_indexes[:top_n]\n",
    "\n",
    "def print_similar_movies(movie_data, movie_id, top_indexes):\n",
    "    '''Функция выдает рекомендацию из похожих фильмов'''\n",
    "    print('Рекомендация для {0}: \\n'.format(\n",
    "    movie_data[movie_data.movie_id == movie_id].title.values[0]))\n",
    "    for id in top_indexes + 1:\n",
    "        print(movie_data[movie_data.movie_id == id].title.values[0])\n",
    "\n",
    "# Выберем 50 главных компонент для описания свойств фильма\n",
    "k = 50\n",
    "movie_id = 1 # Спрогнозируем похожие фильмы для первого\n",
    "top_n = 10 # Первые топ-10\n",
    "\n",
    "sliced = V.T[:, :k]\n",
    "indexes = top_cosine_similarity(sliced, movie_id, top_n)\n",
    "print_similar_movies(movie_data, movie_id, indexes)"
   ]
  },
  {
   "cell_type": "markdown",
   "metadata": {
    "pycharm": {
     "name": "#%% md\n"
    }
   },
   "source": [
    "Отметим, что проблема данного подхода заключается в том, что разложение матрицы требует наличия всех значений.\n",
    "Однако, в нашем случае (да и не только нашем), матрицы рейтингов получаются довольно разреженными. В этом случае полученное\n",
    "SVD разложение будет иметь много шума в результатах. У нас, к примеру, разложение применилось к матрице с нулями,\n",
    "где предполагалось, что вместо пропусков - нули."
   ]
  },
  {
   "cell_type": "markdown",
   "metadata": {
    "pycharm": {
     "name": "#%% md\n"
    }
   },
   "source": [
    "К счастью, хорошие люди нашли выход и из этой ситуации. Во время соревнований от Netflix, был разработан алгоритм,\n",
    "который позволяет восстанавливать пропущенные значения нашей матрицы рейтингов. В его основе заложена идея предсказания\n",
    "рейтинга следующим образом:\n",
    "\n",
    "$\\hat{r_{ui}} = \\mu + b_u + b_i + q_i^T p_u$,\n",
    "где\n",
    "\n",
    "- $\\mu$ - глобальное среднее\n",
    "\n",
    "- $b_u$ - инвидиуальный коэффициент юзера (оптимизм)\n",
    "\n",
    "- $b_i$ - индивидуальный коэффициент товара (качество)\n",
    "\n",
    "- $q_i$ - профиль товара (вектор длины $k$)\n",
    "\n",
    "- $p_u$ - профиль юзера (вектор длины $k$)\n",
    "\n",
    "Необходимы параметры будем получать из условия оптимизации:\n",
    "\n",
    "$$\\sum_{(u,i) \\in R} (\\hat{r_{ui}} -  \\mu + b_u + b_i + q_i^T p_u)^2 + \\lambda(b_u^2 + b_i^2 + ||q_i||^2 + ||p_u||^2$$\n",
    "\n",
    "Решается она при помощи метода SGD - стохастического градиентного спуска."
   ]
  },
  {
   "cell_type": "markdown",
   "metadata": {
    "pycharm": {
     "name": "#%% md\n"
    }
   },
   "source": [
    "### Явный и неявный рейтинг\n",
    "\n",
    "До сих пор мы вели речь о явных рейтингах - оценка фильма, которую пользователь оставил. Однако, в природе существуют еще\n",
    "и неявные способы, которыми юзер может сообщить нам о своем отношении к тому или иному айтему. Например, юзер мог прочитать\n",
    "статью. Однако, явно мог нам не сообщить - понравилась она ему или нет. Соответственно, мы не можем знать на 100%,\n",
    "насколько данная статья нравится пользователю. В конце данного занятия рассмотрим наиболее популярный в последнее\n",
    "время алгоритм матричной факторизации, который успешно себя зарекомендовал в trade-off между скоростью работы и\n",
    "результативностью.\n",
    "\n",
    "### ALS (alternative least squares) для явного рейтинга\n",
    "\n",
    "Идея такая же, что и в случае SVD: мы хотим найти такие вектора профилей для айтемов и юзеров, которые наиболее верно\n",
    "характеризуют выставленные рейтинги. Будем минимизировать такой функционал:\n",
    "\n",
    "$$ \\sum_{u,i}(r_{ui} - q_i^Tp_u)^2 + \\lambda (||q_i||^2 + ||p_u||^2) $$\n",
    "\n",
    "Кратное описание алгоритма:\n",
    "\n",
    "- Иницилизируем $P$, $Q$ случайными значениями\n",
    "\n",
    "- Далее запускаем цикл, где фиксируем попеременно то матрицу $Q$, то матрицу $P$ и каждый раз пересчитываем значения\n",
    "исходных матриц\n",
    "\n",
    "### ALS (alternative least squares) для неявного рейтинга\n",
    "\n",
    "В случае неявного рейтинга все чуточку сложнее. Теперь мы вводим параметр $\\rho_{ui} \\in \\{1,0\\}$ и уверенность\n",
    "$c_{ui} = 1 + \\alpha r_{ui}$\n",
    "\n",
    "В случае неявных оценок мы будем минимизировать такой функционал:\n",
    "\n",
    "$$ \\sum_{u,i} c_{ui} (\\rho_{ui} - q_i^Tp_u)^2 + \\lambda (\\sum_u||q_i||^2 + \\sum_i||p_u||^2) $$\n",
    "\n",
    "Алгоритм в этом случае такой же как и для явных оценок."
   ]
  },
  {
   "cell_type": "code",
   "execution_count": 224,
   "metadata": {
    "pycharm": {
     "name": "#%%\n"
    }
   },
   "outputs": [
    {
     "name": "stderr",
     "output_type": "stream",
     "text": [
      "WARNING:root:OpenBLAS detected. Its highly recommend to set the environment variable 'export OPENBLAS_NUM_THREADS=1' to disable its internal multithreading\n"
     ]
    },
    {
     "data": {
      "application/vnd.jupyter.widget-view+json": {
       "model_id": "d2bd874e54b3481899858238ca4d2d09",
       "version_major": 2,
       "version_minor": 0
      },
      "text/plain": [
       "  0%|          | 0/20 [00:00<?, ?it/s]"
      ]
     },
     "metadata": {},
     "output_type": "display_data"
    },
    {
     "name": "stdout",
     "output_type": "stream",
     "text": [
      "jay-z\n",
      "outkast\n",
      "snoop dogg\n",
      "2pac\n",
      "lupe fiasco\n",
      "the roots\n",
      "the streets\n",
      "atmosphere\n",
      "50 cent\n",
      "m.i.a.\n",
      "                             artist     score\n",
      "0            sly & the family stone  1.122982\n",
      "1                      brian wilson  1.111815\n",
      "2                         sam cooke  1.105208\n",
      "3  elvis costello & the attractions  1.096961\n",
      "4                        funkadelic  1.090695\n",
      "5                     the beta band  1.086622\n",
      "6                          the band  1.084952\n",
      "7                       silver jews  1.083615\n",
      "8                      randy newman  1.082963\n",
      "9                 drive-by truckers  1.082437\n"
     ]
    }
   ],
   "source": [
    "# Давайте применим готовую реализацию на данных LastFM\n",
    "import pandas as pd\n",
    "import numpy as np\n",
    "import scipy.sparse as sparse\n",
    "\n",
    "import implicit\n",
    "os.chdir(\"/Users/iakubovskii/Machine_Learning/Datasets/\")\n",
    "raw_data = pd.read_table('lastfm-dataset-360K/usersha1-artmbid-artname-plays.tsv')\n",
    "raw_data = raw_data.drop(raw_data.columns[1], axis=1)\n",
    "raw_data.columns = ['user', 'artist', 'plays']\n",
    "\n",
    "data = raw_data.dropna()\n",
    "data = data.copy()\n",
    "\n",
    "data['user'] = data['user'].astype(\"category\")\n",
    "data['artist'] = data['artist'].astype(\"category\")\n",
    "data['user_id'] = data['user'].cat.codes\n",
    "data['artist_id'] = data['artist'].cat.codes\n",
    "\n",
    "sparse_item_user = sparse.csr_matrix((data['plays'].astype(float),\n",
    "                                      (data['artist_id'], data['user_id'])))\n",
    "sparse_user_item = sparse.csr_matrix((data['plays'].astype(float),\n",
    "                                      (data['user_id'], data['artist_id'])))\n",
    "\n",
    "# Инициализируем модель\n",
    "model = implicit.als.AlternatingLeastSquares(factors=20, regularization=0.1, iterations=20)\n",
    "\n",
    "# Считаем уверенность,умножая альфу значения\n",
    "alpha_val = 15\n",
    "data_conf = (sparse_item_user * alpha_val).astype('float')\n",
    "\n",
    "# Обучаем модель\n",
    "model.fit(data_conf)\n",
    "\n",
    "# Находим 10 наиболее подходящих композиций на Jay-Z\n",
    "item_id = 147068 #Jay-Z\n",
    "n_similar = 10\n",
    "similar = model.similar_items(item_id, n_similar)\n",
    "for item in similar:\n",
    "    idx, score = item\n",
    "    print(data.artist.loc[data.artist_id == idx].iloc[0])\n",
    "\n",
    "\n",
    "# Создаем рекомендацию для юзера с id 2025\n",
    "user_id = 2025\n",
    "recommended = model.recommend(user_id, sparse_user_item)\n",
    "\n",
    "artists = []\n",
    "scores = []\n",
    "\n",
    "# Вытаскиваем имя исполнителя\n",
    "for item in recommended:\n",
    "    idx, score = item\n",
    "    artists.append(data.artist.loc[data.artist_id == idx].iloc[0])\n",
    "    scores.append(score)\n",
    "recommendations = pd.DataFrame({'artist': artists, 'score': scores})\n",
    "\n",
    "print(recommendations)"
   ]
  },
  {
   "cell_type": "code",
   "execution_count": 227,
   "metadata": {
    "pycharm": {
     "name": "#%%\n"
    }
   },
   "outputs": [
    {
     "data": {
      "text/html": [
       "<div>\n",
       "<style scoped>\n",
       "    .dataframe tbody tr th:only-of-type {\n",
       "        vertical-align: middle;\n",
       "    }\n",
       "\n",
       "    .dataframe tbody tr th {\n",
       "        vertical-align: top;\n",
       "    }\n",
       "\n",
       "    .dataframe thead th {\n",
       "        text-align: right;\n",
       "    }\n",
       "</style>\n",
       "<table border=\"1\" class=\"dataframe\">\n",
       "  <thead>\n",
       "    <tr style=\"text-align: right;\">\n",
       "      <th></th>\n",
       "      <th>user</th>\n",
       "      <th>artist</th>\n",
       "      <th>plays</th>\n",
       "    </tr>\n",
       "  </thead>\n",
       "  <tbody>\n",
       "    <tr>\n",
       "      <th>0</th>\n",
       "      <td>00000c289a1829a808ac09c00daf10bc3c4e223b</td>\n",
       "      <td>die Ärzte</td>\n",
       "      <td>1099</td>\n",
       "    </tr>\n",
       "    <tr>\n",
       "      <th>1</th>\n",
       "      <td>00000c289a1829a808ac09c00daf10bc3c4e223b</td>\n",
       "      <td>melissa etheridge</td>\n",
       "      <td>897</td>\n",
       "    </tr>\n",
       "    <tr>\n",
       "      <th>2</th>\n",
       "      <td>00000c289a1829a808ac09c00daf10bc3c4e223b</td>\n",
       "      <td>elvenking</td>\n",
       "      <td>717</td>\n",
       "    </tr>\n",
       "    <tr>\n",
       "      <th>3</th>\n",
       "      <td>00000c289a1829a808ac09c00daf10bc3c4e223b</td>\n",
       "      <td>juliette &amp; the licks</td>\n",
       "      <td>706</td>\n",
       "    </tr>\n",
       "    <tr>\n",
       "      <th>4</th>\n",
       "      <td>00000c289a1829a808ac09c00daf10bc3c4e223b</td>\n",
       "      <td>red hot chili peppers</td>\n",
       "      <td>691</td>\n",
       "    </tr>\n",
       "  </tbody>\n",
       "</table>\n",
       "</div>"
      ],
      "text/plain": [
       "                                       user                 artist  plays\n",
       "0  00000c289a1829a808ac09c00daf10bc3c4e223b              die Ärzte   1099\n",
       "1  00000c289a1829a808ac09c00daf10bc3c4e223b      melissa etheridge    897\n",
       "2  00000c289a1829a808ac09c00daf10bc3c4e223b              elvenking    717\n",
       "3  00000c289a1829a808ac09c00daf10bc3c4e223b   juliette & the licks    706\n",
       "4  00000c289a1829a808ac09c00daf10bc3c4e223b  red hot chili peppers    691"
      ]
     },
     "execution_count": 227,
     "metadata": {},
     "output_type": "execute_result"
    }
   ],
   "source": [
    "raw_data.head()"
   ]
  },
  {
   "cell_type": "code",
   "execution_count": null,
   "metadata": {
    "pycharm": {
     "name": "#%%\n"
    }
   },
   "outputs": [],
   "source": []
  }
 ],
 "metadata": {
  "kernelspec": {
   "display_name": "Python 3",
   "language": "python",
   "name": "python3"
  },
  "language_info": {
   "codemirror_mode": {
    "name": "ipython",
    "version": 3
   },
   "file_extension": ".py",
   "mimetype": "text/x-python",
   "name": "python",
   "nbconvert_exporter": "python",
   "pygments_lexer": "ipython3",
   "version": "3.8.3"
  },
  "toc": {
   "base_numbering": 1,
   "nav_menu": {},
   "number_sections": true,
   "sideBar": true,
   "skip_h1_title": false,
   "title_cell": "Table of Contents",
   "title_sidebar": "Contents",
   "toc_cell": false,
   "toc_position": {},
   "toc_section_display": true,
   "toc_window_display": false
  },
  "varInspector": {
   "cols": {
    "lenName": 16,
    "lenType": 16,
    "lenVar": 40
   },
   "kernels_config": {
    "python": {
     "delete_cmd_postfix": "",
     "delete_cmd_prefix": "del ",
     "library": "var_list.py",
     "varRefreshCmd": "print(var_dic_list())"
    },
    "r": {
     "delete_cmd_postfix": ") ",
     "delete_cmd_prefix": "rm(",
     "library": "var_list.r",
     "varRefreshCmd": "cat(var_dic_list()) "
    }
   },
   "types_to_exclude": [
    "module",
    "function",
    "builtin_function_or_method",
    "instance",
    "_Feature"
   ],
   "window_display": false
  }
 },
 "nbformat": 4,
 "nbformat_minor": 4
}
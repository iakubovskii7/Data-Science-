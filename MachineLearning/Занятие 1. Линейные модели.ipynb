{
 "cells": [
  {
   "cell_type": "code",
   "execution_count": 1,
   "metadata": {},
   "outputs": [],
   "source": [
    "# Импорт необходимых пакетов\n",
    "\n",
    "# Анализ данных\n",
    "import pandas as pd\n",
    "import numpy as np\n",
    "\n",
    "# Графики\n",
    "import matplotlib.pyplot as plt\n",
    "import seaborn as sns\n",
    "plt.rcParams['figure.figsize'] = (10,5)\n",
    "# Работа с файлами\n",
    "import os\n",
    "import glob\n",
    "\n",
    "year_path_to_ML_folder = \"/Users/iakubovskii/Machine_Learning/RANEPA/Fintech_2020/Машинное обучение/\"\n",
    "os.chdir(year_path_to_ML_folder + \"Данные\")\n",
    "\n",
    "# Отключаем предупреждения юпитера\n",
    "import warnings\n",
    "warnings.filterwarnings(\"ignore\")"
   ]
  },
  {
   "cell_type": "markdown",
   "metadata": {},
   "source": [
    "# 1. Линейная регрессия в науке о данных\n",
    "\n",
    "Основная цель любого аналитика - приблизиться к понимаю взаимосвязей между исследуемыми величинами. Например, найти зависимость между затратами на рекламу и продажами товара (рисунок ниже). "
   ]
  },
  {
   "cell_type": "code",
   "execution_count": 10,
   "metadata": {
    "scrolled": true
   },
   "outputs": [
    {
     "data": {
      "text/plain": "<Figure size 720x360 with 1 Axes>",
      "image/png": "[encoded data removed]"
     },
     "metadata": {
      "needs_background": "light"
     },
     "output_type": "display_data"
    }
   ],
   "source": [
    "advert = pd.read_csv(\"Advertising.csv\")\n",
    "advert['Advert'] = advert.drop(\"Sales\", axis=1).sum(axis=1)\n",
    "sns.regplot(data = advert, x = \"Advert\", y = \"Sales\");"
   ]
  },
  {
   "cell_type": "markdown",
   "metadata": {},
   "source": [
    "На рисунке выше изображена диаграмма рассеивания, где по оси абсцисс затраты на рекламу (тыс. долл.), а по оси ординат - продажи (тыс. единиц товара). Чем более вытянуто облако точек по диагонали, тем более тесная линейная взаимосвязь наблюдается между переменными. Если же облако точек выглядит горизонтально или вертикально, то это свидетельствует об отсутсвии связи между переменными.\n",
    "\n",
    "Линия, которая проходит сквозь данное облако точек характеризует линейную взаимосвязь между переменными. Переменная *Sales* в нашем случае является зависимой (объясняемой), а *Advert* - зависящей (объясняющей).\n",
    "\n",
    "**Линейная взаимосвязь** (по параметру) - взаимосвязь в случае, когда факторы в модели с оцененными для них коэффициентами составляют линеную комбинацию:\n",
    "\n",
    "$$ y = w_1*x_1 + w_2*x_2 + ... + w_p*x_p$$.\n",
    "\n",
    "**Нелинейная взаимосвязь** (по параметру) - любая зависимость, отличная от линейной комбинации. Например, такая:\n",
    "\n",
    "$$ y = w_1*x_1 + \\frac{w_2*x_2}{w_3 + x_2} $$\n",
    "\n",
    "**Нелинейная взаимосвязь** (между переменными) - взаимосвязь между переменными в линейной регрессии, где объясняющая переменная принимает нелинейную форму. Например, зависимость заработной платы от возраста в большинстве случаев будет иметь нелинейный вид:\n",
    "\n",
    "$$ wage = w_0 + w_1*age + w_2 * age^2 $$\n",
    "\n",
    "Нелинейную взаимосвязь между переменными стоит отличать от нелинейных оценок по параметру. Если в первом случае, мы загоняем в модель нелинейные факторы, то во втором - нелинейные параметры."
   ]
  },
  {
   "cell_type": "markdown",
   "metadata": {},
   "source": [
    "Линейные модели позволяют получить ответы на следующие вопросы:\n",
    "\n",
    "- Есть ли взаимосвязь между переменными?\n",
    "\n",
    "- Насколько эта взаимосвязь сильная?\n",
    "\n",
    "- Какие факторы вносят наибольший вклад в изменение зависимой переменной?\n",
    "\n",
    "- Насколько точны наши оценки влияния факторов?\n",
    "\n",
    "- Насколько точны наши прогнозы?\n",
    "\n",
    "- Характер влияния: линейный или нелинейный?\n",
    "\n",
    "- Насколько сильно взаимосвязь между каким-то фактором и объясняемой переменной зависит от остальных факторов?"
   ]
  },
  {
   "cell_type": "markdown",
   "metadata": {},
   "source": [
    "## 1.1 Оценка коэффициентов в линейной регрессии"
   ]
  },
  {
   "cell_type": "markdown",
   "metadata": {},
   "source": [
    "Давайте рассмотрим случай простой парной регрессии для наших рекламных данных. Общий вид для данной регрессии имеет вид (символ $i$ обозначает номер наблюдения):\n",
    "\n",
    "$$ Sales_i = \\beta_0 + \\beta_1 Advert_i + \\epsilon_i$$\n",
    "\n",
    "$\\epsilon$ здесь означает ошибку регрессии, в которую входят все прочие факторы (для можем и не можем собрать данные), которые не включены в нашу модель. Для того, чтобы численно получить оценки для константы ($\\beta_0$) и коэффициента наклона ($\\beta_1$), в самом простом случае применяется *МНК* - метод наименьших квадратов, суть которого сводится к минимизации суммы квадратов ошибок по каждому наблюдению $i$:\n",
    "\n",
    "$$ \\sum_i\\epsilon_i^2  \\implies \\underset{\\beta_0, \\beta_1} min$$\n",
    "\n",
    "Алгебраически решение данной задачи приводит к следующим оценкам коэффициентов:\n",
    "\n",
    "$$ \\beta_1 = \\frac{\\sum_{i=1}^N (Advert_i - \\bar{Advert})(Sales_i - \\bar{Sales})}\n",
    "{\\sum_{i=1}^N (Advert_i - \\bar{Advert})} $$\n",
    "\n",
    "$$ \\beta_0 = \\bar{Sales} - \\beta_1 * \\bar{Advert} $$\n",
    "\n",
    "Подстановка данных формул для наших данных дает следующие результаты для оценок коэффициентов."
   ]
  },
  {
   "cell_type": "code",
   "execution_count": 11,
   "metadata": {},
   "outputs": [
    {
     "data": {
      "text/plain": "0.04868787931904818"
     },
     "execution_count": 11,
     "metadata": {},
     "output_type": "execute_result"
    }
   ],
   "source": [
    "advert[['Sales', \"Advert\"]].cov().values[0,1] / advert['Advert'].var()"
   ]
  },
  {
   "cell_type": "code",
   "execution_count": 12,
   "metadata": {},
   "outputs": [
    {
     "name": "stdout",
     "output_type": "stream",
     "text": [
      "beta1 = 0.04868787931904818, beta0 = 4.243028216036324\n"
     ]
    }
   ],
   "source": [
    "beta1 = advert[['Sales', \"Advert\"]].cov().values[0,1] / advert['Advert'].var() # ковариация делить на дисперсию\n",
    "beta0 = advert['Sales'].mean() - beta1 * advert['Advert'].mean()\n",
    "print(f\"beta1 = {beta1}, beta0 = {beta0}\")"
   ]
  },
  {
   "cell_type": "markdown",
   "metadata": {},
   "source": [
    "Проверим результат при помощи статистического пакета `statsmodels`"
   ]
  },
  {
   "cell_type": "code",
   "execution_count": 13,
   "metadata": {},
   "outputs": [
    {
     "name": "stdout",
     "output_type": "stream",
     "text": [
      "                            OLS Regression Results                            \n",
      "==============================================================================\n",
      "Dep. Variable:                  Sales   R-squared:                       0.753\n",
      "Model:                            OLS   Adj. R-squared:                  0.752\n",
      "Method:                 Least Squares   F-statistic:                     603.4\n",
      "Date:                Tue, 13 Jul 2021   Prob (F-statistic):           5.06e-62\n",
      "Time:                        21:24:09   Log-Likelihood:                -473.88\n",
      "No. Observations:                 200   AIC:                             951.8\n",
      "Df Residuals:                     198   BIC:                             958.4\n",
      "Df Model:                           1                                         \n",
      "Covariance Type:            nonrobust                                         \n",
      "==============================================================================\n",
      "                 coef    std err          t      P>|t|      [0.025      0.975]\n",
      "------------------------------------------------------------------------------\n",
      "Intercept      4.2430      0.439      9.676      0.000       3.378       5.108\n",
      "Advert         0.0487      0.002     24.564      0.000       0.045       0.053\n",
      "==============================================================================\n",
      "Omnibus:                        6.851   Durbin-Watson:                   1.967\n",
      "Prob(Omnibus):                  0.033   Jarque-Bera (JB):                6.692\n",
      "Skew:                          -0.373   Prob(JB):                       0.0352\n",
      "Kurtosis:                       3.495   Cond. No.                         528.\n",
      "==============================================================================\n",
      "\n",
      "Notes:\n",
      "[1] Standard Errors assume that the covariance matrix of the errors is correctly specified.\n"
     ]
    }
   ],
   "source": [
    "import statsmodels.api as sm\n",
    "import statsmodels.formula.api as smf\n",
    "print(smf.ols(\"Sales ~ Advert\", data = advert).fit().summary())"
   ]
  },
  {
   "cell_type": "markdown",
   "metadata": {},
   "source": [
    "Данный протокол оценивания показывает результаты парной регрессии с константой. Видим, что константа и коэффициент наклона при переменной *Advert* совпадают с тем, что мы посчитали выше."
   ]
  },
  {
   "cell_type": "code",
   "execution_count": 6,
   "metadata": {},
   "outputs": [
    {
     "data": {
      "text/plain": [
       "Index(['TV', 'Radio', 'Newspaper', 'Sales', 'Advert'], dtype='object')"
      ]
     },
     "execution_count": 6,
     "metadata": {},
     "output_type": "execute_result"
    }
   ],
   "source": [
    "advert.columns"
   ]
  },
  {
   "cell_type": "markdown",
   "metadata": {},
   "source": [
    "Парная регрессия нам можем дать ответ о влиянии суммарного рекламного бюджета на продажи товара. Однако, интересней будет посмотреть влияние каждого медиаканала в отдельности. В этом случае нам нужно построить множественную линейную регрессию (парная линейная регрессия является частным случаем множественной). Вид нашей линейной функции теперь следующий:\n",
    "\n",
    "$$ Sales_i = \\beta_0 + \\beta_1TV_i + \\beta_2Radio_i + \\beta_3Newspaper_i + \\epsilon_i$$"
   ]
  },
  {
   "cell_type": "markdown",
   "metadata": {},
   "source": [
    "Универсальная формула для получения оценок коэффициентов $\\beta_i$ выводится из условия минимизации суммы квадратов ошибки. Обозначим $Sales_i = y$, наблюдения по рекламным переменнным за $X$,  вектор параметров за $\\beta$, а вектор ошибок за $\\epsilon$. Тогда, минимизация суммы квадратов отклонений выглядит следующим образом:\n",
    "\n",
    "$$ \\sum_i\\epsilon_i^2 = (y - \\beta X)^2 = (y - \\beta X)^T(y - \\beta X) \\implies \\underset{\\beta} min $$\n",
    "\n",
    "Решая данную оптимизационную задачу относительно $\\beta$ мы получаем формулу, которую никто из вас не должен забыть никогда:\n",
    "\n",
    "$$ \\hat{\\beta} = (X^TX)^{-1}X^Ty $$\n",
    "\n",
    "Давайте проверим, действительно ли это так на наших данных по рекламе."
   ]
  },
  {
   "cell_type": "code",
   "execution_count": 7,
   "metadata": {},
   "outputs": [
    {
     "data": {
      "text/plain": [
       "array([0.05379188, 0.22222731, 0.01681639])"
      ]
     },
     "execution_count": 7,
     "metadata": {},
     "output_type": "execute_result"
    }
   ],
   "source": [
    "X = advert[['TV', \"Radio\", \"Newspaper\"]].values\n",
    "y = advert['Sales'].values\n",
    "beta = np.linalg.inv(X.T @ X) @ X.T @ y\n",
    "beta"
   ]
  },
  {
   "cell_type": "code",
   "execution_count": 8,
   "metadata": {},
   "outputs": [
    {
     "name": "stdout",
     "output_type": "stream",
     "text": [
      "                                 OLS Regression Results                                \n",
      "=======================================================================================\n",
      "Dep. Variable:                      y   R-squared (uncentered):                   0.982\n",
      "Model:                            OLS   Adj. R-squared (uncentered):              0.982\n",
      "Method:                 Least Squares   F-statistic:                              3566.\n",
      "Date:                Tue, 27 Apr 2021   Prob (F-statistic):                   2.43e-171\n",
      "Time:                        09:50:04   Log-Likelihood:                         -423.54\n",
      "No. Observations:                 200   AIC:                                      853.1\n",
      "Df Residuals:                     197   BIC:                                      863.0\n",
      "Df Model:                           3                                                  \n",
      "Covariance Type:            nonrobust                                                  \n",
      "==============================================================================\n",
      "                 coef    std err          t      P>|t|      [0.025      0.975]\n",
      "------------------------------------------------------------------------------\n",
      "x1             0.0538      0.001     40.507      0.000       0.051       0.056\n",
      "x2             0.2222      0.009     23.595      0.000       0.204       0.241\n",
      "x3             0.0168      0.007      2.517      0.013       0.004       0.030\n",
      "==============================================================================\n",
      "Omnibus:                        5.982   Durbin-Watson:                   2.038\n",
      "Prob(Omnibus):                  0.050   Jarque-Bera (JB):                7.039\n",
      "Skew:                          -0.232   Prob(JB):                       0.0296\n",
      "Kurtosis:                       3.794   Cond. No.                         12.6\n",
      "==============================================================================\n",
      "\n",
      "Notes:\n",
      "[1] R² is computed without centering (uncentered) since the model does not contain a constant.\n",
      "[2] Standard Errors assume that the covariance matrix of the errors is correctly specified.\n"
     ]
    }
   ],
   "source": [
    "print(sm.OLS(y, X).fit().summary())"
   ]
  },
  {
   "cell_type": "markdown",
   "metadata": {},
   "source": [
    "Внимательный читатель заметит отличие оценивания предыдущей регрессии от парной. Помимо того, что мы включили больше переменных, мы еще и забыли включить константу! Модель с константой фактически означает, что в наше уравнение регрессии будет включаться переменная, тождественная равна единице, т.е. состоящая из вектора единиц. Повторим наши вычисления для множественной регрессии с константой."
   ]
  },
  {
   "cell_type": "code",
   "execution_count": 9,
   "metadata": {},
   "outputs": [
    {
     "data": {
      "text/plain": [
       "array([ 2.93888937e+00,  4.57646455e-02,  1.88530017e-01, -1.03749304e-03])"
      ]
     },
     "execution_count": 9,
     "metadata": {},
     "output_type": "execute_result"
    }
   ],
   "source": [
    "new_X = np.hstack([np.ones(X.shape[0]).reshape(-1,1), X])\n",
    "beta_with_constant = np.linalg.inv(new_X.T @ new_X) @ new_X.T @ y\n",
    "beta_with_constant"
   ]
  },
  {
   "cell_type": "code",
   "execution_count": 10,
   "metadata": {},
   "outputs": [
    {
     "name": "stdout",
     "output_type": "stream",
     "text": [
      "                            OLS Regression Results                            \n",
      "==============================================================================\n",
      "Dep. Variable:                      y   R-squared:                       0.897\n",
      "Model:                            OLS   Adj. R-squared:                  0.896\n",
      "Method:                 Least Squares   F-statistic:                     570.3\n",
      "Date:                Tue, 27 Apr 2021   Prob (F-statistic):           1.58e-96\n",
      "Time:                        09:50:04   Log-Likelihood:                -386.18\n",
      "No. Observations:                 200   AIC:                             780.4\n",
      "Df Residuals:                     196   BIC:                             793.6\n",
      "Df Model:                           3                                         \n",
      "Covariance Type:            nonrobust                                         \n",
      "==============================================================================\n",
      "                 coef    std err          t      P>|t|      [0.025      0.975]\n",
      "------------------------------------------------------------------------------\n",
      "const          2.9389      0.312      9.422      0.000       2.324       3.554\n",
      "x1             0.0458      0.001     32.809      0.000       0.043       0.049\n",
      "x2             0.1885      0.009     21.893      0.000       0.172       0.206\n",
      "x3            -0.0010      0.006     -0.177      0.860      -0.013       0.011\n",
      "==============================================================================\n",
      "Omnibus:                       60.414   Durbin-Watson:                   2.084\n",
      "Prob(Omnibus):                  0.000   Jarque-Bera (JB):              151.241\n",
      "Skew:                          -1.327   Prob(JB):                     1.44e-33\n",
      "Kurtosis:                       6.332   Cond. No.                         454.\n",
      "==============================================================================\n",
      "\n",
      "Notes:\n",
      "[1] Standard Errors assume that the covariance matrix of the errors is correctly specified.\n"
     ]
    }
   ],
   "source": [
    "print(sm.OLS(y, sm.add_constant(X)).fit().summary())"
   ]
  },
  {
   "cell_type": "markdown",
   "metadata": {},
   "source": [
    "Отметим важное свойство оценок в множественной линейной регрессии. Коэффициенты в данном случае показывают влияние объясняющего фактора на зависимую переменную, очищенное от влияние всех остальных переменных! Почему это так, читайте подробно здесь:\n",
    "http://bdemeshev.github.io/em301/notes_2016/frish-and-co.html"
   ]
  },
  {
   "cell_type": "markdown",
   "metadata": {},
   "source": [
    "## 1.2 Условия Гаусса-Маркова\n",
    "\n",
    "К сожалению, одной лишь оценкой коэффициентов наша линейная регрессионная модель не ограничивается. Поскольку любая наша модель позволяет сделать вывод о генеральной совокупности данных при помощи выборки, истинное значение коэффициента регрессии может отличаться от того, что мы получили при помощи МНК.\n",
    "\n",
    "Приведенные выше формулы позволяют нам получить несмещенные, состоятельные и эффективные оценки только лишь при соблюдении условий Гаусса-Маркова:\n",
    "\n",
    "1. Математическое ожидание ошибки равно нулю: $E(\\epsilon)=0$\n",
    "\n",
    "2. Ошибки имеют постоянную дисперсию (отсутствие гетероскедастичности): $Var(\\epsilon) = \\sigma^2$\n",
    "\n",
    "3. Ошибки не коррелируют друг с другом (отсутсвие автокорреляции): $Corr(\\epsilon_i, \\epsilon_j)=0$\n",
    "\n",
    "4. Экзогенные переменные не имеют совершенной линейной зависимости: $det(X^TX) \\neq 0$ \n",
    "\n",
    "5. Все объясняющие переменные детерменированы и действительно являются экзогенными по отношению к эндогенной переменной: $Cov(x,\\epsilon)=0$\n",
    "\n",
    "Если все условия Гаусса-Маркова выполнены, то оценки МНК являются BLUE (best linear unbiased estimators) - наилучшие несмещенные линейные оценки)."
   ]
  },
  {
   "cell_type": "markdown",
   "metadata": {},
   "source": [
    "## 1.3 Нелинейность, интерпретация коэффициентов, проверка гипотез"
   ]
  },
  {
   "cell_type": "markdown",
   "metadata": {},
   "source": [
    "Как было сказано в 1.1., помимо линейных взаимосвязей, имеет место быть и нелинейный характер зависимости между переменными. При помощи МНК напрямую получить оценки коэффициентов для таких моделей мы не можем. Однако, нам ничего не мешает в данном случае перейти обратно к линейным моделям. \n",
    "Ниже приведем основные виды нелинейных взаимосвязей, переходы и интерпретацию коэффициентов:\n",
    "\n",
    "| Вид модели | Пример случае парной регрессии | Трансформация | Интерпретация | \n",
    "| ---------- | --------------------------------------- | ------------- | ------------- |\n",
    "| lin-lin    |  $y_i = \\beta_0 + \\beta_1x_i$ | нет | изменение  на 1 ед. ведет к изменению на $\\beta_1$ единиц |\n",
    "| log-lin    |  $y_i =  \\exp^{\\beta_0 + \\beta_1x_i}$ | $log(y_i) =  \\beta_0 + \\beta_1x_i$ | изменение  на 1 ед. ведет к изменению на $\\beta_1 * 100$ процентов|\n",
    "| lin-log    |  $\\exp^{y_i} =  \\beta_0 + \\beta_1x_i$ | $y_i =  \\beta_0 + log(\\beta_1x_i)$ | изменение  на 1% ведет к изменению на $\\beta_1 / 100$ единиц|\n",
    "| log-log    |  $y_i =  \\beta_0*x_i^{\\beta_1}$ | $log(y_i) =  \\beta_0 + log(\\beta_1x_i)$ | изменение  на 1% ведет к изменению на $\\beta_1$ % |\n"
   ]
  },
  {
   "cell_type": "markdown",
   "metadata": {},
   "source": [
    "Поскольку оценивание любой модели нас лишь приближает к поиску истинного значения исследумых параметров, необходимо измерить, а на сколько точно наша оценка близка к своему истинному значению. Здесь на помощь приходят стандартные ошибки коэффициентов регрессии:\n",
    "\n",
    "$$ s.e.(\\beta) = \\sqrt{(X^TX)^{-1}\\frac{RSS}{n-p}}$$\n",
    "\n",
    "$RSS = \\sum_i(y_i - \\hat{y})^2 = \\sum_ie_i^2$ - сумма квадратов остатков (чем она меньше, тем лучше мы подобрали факторы для объяснения вариации зависимой переменной. Другая запись: $RSS = e^Te$"
   ]
  },
  {
   "cell_type": "code",
   "execution_count": 11,
   "metadata": {},
   "outputs": [
    {
     "data": {
      "text/plain": [
       "array([0.31190824, 0.0013949 , 0.00861123, 0.00587101])"
      ]
     },
     "execution_count": 11,
     "metadata": {},
     "output_type": "execute_result"
    }
   ],
   "source": [
    "resids = y - new_X @ beta_with_constant\n",
    "RSS = resids.T @ resids\n",
    "var = np.linalg.inv(new_X.T @ new_X) * \\\n",
    "    (RSS / (new_X.shape[0] - new_X.shape[1]))\n",
    "np.diag(np.sqrt(var))"
   ]
  },
  {
   "cell_type": "markdown",
   "metadata": {},
   "source": [
    "Стандартные ошибки регрессии помимо того, что служат нам неким ориентиром приближения нашей оценки к истинному значения параметра, помогают нам проверять гипотезы об истинном значении коэффициентов регрессии. Как мы выяснили, само по себе вычисление коэффициентов регрессии не может дать нам в полной мере уверенности в том, что такая взаимосвязь будет действительно иметь место в реальности. Для того, чтобы сделать более детальные выводы относительно истинного значения коэффициента, используются доверительные интервалы и проверка гипотез.\n",
    "\n",
    "Одна из основных гипотез относительно коэффициентов МНК - являются ли они статистически значимо отличны от нуля. Под статистической значимостью подразумевается наше заключение о параметрах генеральной совокупности, исходя из анализа собранных нами выборок.\n",
    "\n",
    "Схема проверки следующая. \n",
    "\n",
    "1. Формируем нулевую гипотезу:  $H_0: \\beta_1 = 0$ - истинное значение коэффициента равно 0.\n",
    "\n",
    "2. Формируем альтернативную гипотезу: \n",
    "\n",
    " - двусторонняя: $H_a: \\beta_1 \\neq 0$ - мы предполагаем, что истинное значение параметра могут быть как больше, так и меньше нуля.\n",
    " - левосторонняя: $H_a: \\beta_1 < 0$ - мы предполагаем, что истинное значение параметра может быть меньше нуля.\n",
    " - правосторонняя: $H_a: \\beta_1 > 0$ - мы предполагаем, что истинное значения параметра может быть больше нуля.\n",
    "\n",
    "3. Вычисляем статистику теста. В случае проверки гипотез о коэффициентах регрессии статистика теста вычисляется следующим образом:\n",
    "\n",
    "$$t_{stat} = \\frac{\\hat{\\beta_1} - \\beta_1(H_0)}{s.e.(\\hat{\\beta_1})} = \\frac{\\hat{\\beta_1}}{s.e.(\\hat{\\beta_1})}$$\n",
    "\n",
    "Данная статистика при выполнении условий Гаусса-Маркова имеет $t$ - распределение Стьюдента со степенями свободы $n-p$\n",
    "\n",
    "4. Сравниваем данную статистику с критическим значением на выбранном зараннее уровне значимости (обычно 1%, 5%, 10%). Если статистика теста попадает в область отвержения нулевой гипотезы (находится за пределами $\\alpha$ процентного квантиля, то мы делаем вывод об отвержении нулевой гипотезы в пользу альтернативной (у нас достаточно оснований, чтобы отвергнуть нулевую гипотезу)."
   ]
  },
  {
   "cell_type": "markdown",
   "metadata": {},
   "source": [
    "Другим методом проверки на статистическую значимость коэффициента выступает метод построения доверительных интервалов. Используя зараннее выбранный уровень доверия (1 - уровень значимости) мы можем построить доверительный интервал, который накрывает истинное значение исследуемого параметра при заданном уровне доверия. \n",
    "\n",
    "Доверительный интервал для $\\beta_1$:\n",
    "\n",
    "$$ (\\hat{\\beta_1} - s.e.(\\hat{\\beta_1})t_{\\alpha, n-p};\n",
    "(\\hat{\\beta_1} + s.e.(\\hat{\\beta_1})t_{\\alpha, n-p}$$, \n",
    "где $t_{\\alpha, n-p}$ - $\\alpha$ - квантиль распределения Стьюдента со степенями свободы $n-p$"
   ]
  },
  {
   "cell_type": "markdown",
   "metadata": {},
   "source": [
    "Вообще говоря, для того, чтобы сделать вывод в пользу той или иной гипотезы, нам достаточно посмотреть на значение p-value (probability value), которое по сути своей заменяет сравнение статистики теста с критическим значением на заданном уровне значимости. p-value показывает вероятность того, насколько мы далеки от центра распределения статистики. Чем выше p-value, тем ближе наша статистика находится к центру (иллюстрация ниже).\n",
    "\n",
    "![](https://blog.minitab.com/hubfs/Imported_Blog_Media/p_value.png)"
   ]
  },
  {
   "cell_type": "code",
   "execution_count": 12,
   "metadata": {
    "scrolled": true
   },
   "outputs": [
    {
     "name": "stdout",
     "output_type": "stream",
     "text": [
      "                            OLS Regression Results                            \n",
      "==============================================================================\n",
      "Dep. Variable:                  Sales   R-squared:                       0.897\n",
      "Model:                            OLS   Adj. R-squared:                  0.896\n",
      "Method:                 Least Squares   F-statistic:                     570.3\n",
      "Date:                Tue, 27 Apr 2021   Prob (F-statistic):           1.58e-96\n",
      "Time:                        09:50:04   Log-Likelihood:                -386.18\n",
      "No. Observations:                 200   AIC:                             780.4\n",
      "Df Residuals:                     196   BIC:                             793.6\n",
      "Df Model:                           3                                         \n",
      "Covariance Type:            nonrobust                                         \n",
      "==============================================================================\n",
      "                 coef    std err          t      P>|t|      [0.025      0.975]\n",
      "------------------------------------------------------------------------------\n",
      "const          2.9389      0.312      9.422      0.000       2.324       3.554\n",
      "TV             0.0458      0.001     32.809      0.000       0.043       0.049\n",
      "Radio          0.1885      0.009     21.893      0.000       0.172       0.206\n",
      "Newspaper     -0.0010      0.006     -0.177      0.860      -0.013       0.011\n",
      "==============================================================================\n",
      "Omnibus:                       60.414   Durbin-Watson:                   2.084\n",
      "Prob(Omnibus):                  0.000   Jarque-Bera (JB):              151.241\n",
      "Skew:                          -1.327   Prob(JB):                     1.44e-33\n",
      "Kurtosis:                       6.332   Cond. No.                         454.\n",
      "==============================================================================\n",
      "\n",
      "Notes:\n",
      "[1] Standard Errors assume that the covariance matrix of the errors is correctly specified.\n"
     ]
    }
   ],
   "source": [
    "print(sm.OLS(advert['Sales'], sm.add_constant(advert[['TV', \"Radio\", \"Newspaper\"]])).fit().summary())"
   ]
  },
  {
   "cell_type": "code",
   "execution_count": 13,
   "metadata": {},
   "outputs": [
    {
     "data": {
      "text/html": [
       "<div>\n",
       "<style scoped>\n",
       "    .dataframe tbody tr th:only-of-type {\n",
       "        vertical-align: middle;\n",
       "    }\n",
       "\n",
       "    .dataframe tbody tr th {\n",
       "        vertical-align: top;\n",
       "    }\n",
       "\n",
       "    .dataframe thead th {\n",
       "        text-align: right;\n",
       "    }\n",
       "</style>\n",
       "<table border=\"1\" class=\"dataframe\">\n",
       "  <thead>\n",
       "    <tr style=\"text-align: right;\">\n",
       "      <th></th>\n",
       "      <th>TV</th>\n",
       "      <th>Radio</th>\n",
       "      <th>Newspaper</th>\n",
       "    </tr>\n",
       "  </thead>\n",
       "  <tbody>\n",
       "    <tr>\n",
       "      <th>TV</th>\n",
       "      <td>1.000000</td>\n",
       "      <td>0.054809</td>\n",
       "      <td>0.056648</td>\n",
       "    </tr>\n",
       "    <tr>\n",
       "      <th>Radio</th>\n",
       "      <td>0.054809</td>\n",
       "      <td>1.000000</td>\n",
       "      <td>0.354104</td>\n",
       "    </tr>\n",
       "    <tr>\n",
       "      <th>Newspaper</th>\n",
       "      <td>0.056648</td>\n",
       "      <td>0.354104</td>\n",
       "      <td>1.000000</td>\n",
       "    </tr>\n",
       "  </tbody>\n",
       "</table>\n",
       "</div>"
      ],
      "text/plain": [
       "                 TV     Radio  Newspaper\n",
       "TV         1.000000  0.054809   0.056648\n",
       "Radio      0.054809  1.000000   0.354104\n",
       "Newspaper  0.056648  0.354104   1.000000"
      ]
     },
     "execution_count": 13,
     "metadata": {},
     "output_type": "execute_result"
    }
   ],
   "source": [
    "advert[['TV', \"Radio\", \"Newspaper\"]].corr()"
   ]
  },
  {
   "cell_type": "markdown",
   "metadata": {},
   "source": [
    "В нашей модели все переменные значимо отличны от нуля на 1% уровне значимости, кроме затрат на рекламу в прессе. Интерпретация коэффициентов следующая: рост рекламных расходов на 1 доллар (очищенное от влияния других переменных) приводит к росту выручки на:\n",
    "\n",
    "- 0.04 единиц в случае ТВ-рекламы\n",
    "\n",
    "- 0.18 единиц в случае Радио рекламы\n",
    "\n",
    "- 0 единиц (статистически незначимое влияние) в случае рекламы в Прессе"
   ]
  },
  {
   "cell_type": "markdown",
   "metadata": {},
   "source": [
    "## 1.4 Дамми-переменные"
   ]
  },
  {
   "cell_type": "markdown",
   "metadata": {},
   "source": [
    "Среди факторов, включаемых в модель, есть как количественные переменные (обычно принимают несчетное количество значений), так и качественные (принимающие ограниченно количество возможных значений). \n",
    "\n",
    "Рассмотрим датасет *Credit*. "
   ]
  },
  {
   "cell_type": "code",
   "execution_count": 16,
   "metadata": {},
   "outputs": [
    {
     "data": {
      "text/plain": "ID           400\nIncome       399\nLimit        387\nRating       283\nCards          9\nAge           68\nEducation     16\nGender         2\nStudent        2\nMarried        2\nEthnicity      3\nBalance      284\ndtype: int64"
     },
     "execution_count": 16,
     "metadata": {},
     "output_type": "execute_result"
    }
   ],
   "source": [
    "credit = pd.read_csv(\"Credit.csv\")\n",
    "credit.nunique()"
   ]
  },
  {
   "cell_type": "markdown",
   "metadata": {},
   "source": [
    "Как видим, переменные *Gender*, *Student* и *Married** принимают всего два уникальных значения. Данные переменные характеризуют пол заемщика, является ли он студентом или замужем. Давайте прогоним регрессию с такими переменными. В качестве зависимой переменной будет баланс кредитных карт на конец месяца *Balance*. Предварительно заменим текстовые значения на 1 и 0."
   ]
  },
  {
   "cell_type": "code",
   "execution_count": 17,
   "metadata": {},
   "outputs": [],
   "source": [
    "# Удалим лишние пробелы по бокам в столбцах \n",
    "for obj_var in credit.select_dtypes(\"object\"):\n",
    "    credit[obj_var] = credit[obj_var].str.strip()\n",
    "# Заменим на логический тип    \n",
    "credit = credit.replace(\n",
    "    {\n",
    "    \"Male\": 1, \"Female\": 0,\n",
    "    \"Yes\": 1, \"No\": 0\n",
    "    })"
   ]
  },
  {
   "cell_type": "code",
   "execution_count": 18,
   "metadata": {},
   "outputs": [
    {
     "name": "stdout",
     "output_type": "stream",
     "text": [
      "                            OLS Regression Results                            \n",
      "==============================================================================\n",
      "Dep. Variable:                Balance   R-squared:                       0.067\n",
      "Model:                            OLS   Adj. R-squared:                  0.060\n",
      "Method:                 Least Squares   F-statistic:                     9.531\n",
      "Date:                Tue, 13 Jul 2021   Prob (F-statistic):           4.32e-06\n",
      "Time:                        21:27:12   Log-Likelihood:                -3005.4\n",
      "No. Observations:                 400   AIC:                             6019.\n",
      "Df Residuals:                     396   BIC:                             6035.\n",
      "Df Model:                           3                                         \n",
      "Covariance Type:            nonrobust                                         \n",
      "==============================================================================\n",
      "                 coef    std err          t      P>|t|      [0.025      0.975]\n",
      "------------------------------------------------------------------------------\n",
      "const        475.1499     43.332     10.965      0.000     389.961     560.339\n",
      "Gender        -6.4353     44.670     -0.144      0.886     -94.255      81.385\n",
      "Student      397.5424     74.620      5.328      0.000     250.842     544.243\n",
      "Married       13.4137     45.884      0.292      0.770     -76.793     103.621\n",
      "==============================================================================\n",
      "Omnibus:                       20.877   Durbin-Watson:                   1.946\n",
      "Prob(Omnibus):                  0.000   Jarque-Bera (JB):               21.905\n",
      "Skew:                           0.543   Prob(JB):                     1.75e-05\n",
      "Kurtosis:                       2.635   Cond. No.                         4.51\n",
      "==============================================================================\n",
      "\n",
      "Notes:\n",
      "[1] Standard Errors assume that the covariance matrix of the errors is correctly specified.\n"
     ]
    }
   ],
   "source": [
    "print(sm.OLS(credit['Balance'], \n",
    "             sm.add_constant(credit[['Gender', \"Student\", \"Married\"]])).fit().summary())"
   ]
  },
  {
   "cell_type": "markdown",
   "metadata": {},
   "source": [
    "Для качественных переменных стандартные ошибки расcчитываются аналогично. Единственное отличие - меняется интерпретация. Например, в нашем случае в среднем баланс кредитных карт у мужчин на 6 долларов выше, чем в женщин. Женатые/замужние клиенты банка имеют в среднем на 13 долларов больше, а студенты в среднем - на 397 долларов больше. "
   ]
  },
  {
   "cell_type": "markdown",
   "metadata": {},
   "source": [
    "Но как быть, когда количество возможных вариантов качественной переменной больше двух? Как правило, в таком случае применяют One-Hot кодирование, когда создают ровно столько переменных, сколько уникальных значений качественного признака (на самом деле на одно меньше). Проделаем такое с переменной *Ethnicity*."
   ]
  },
  {
   "cell_type": "code",
   "execution_count": 30,
   "metadata": {},
   "outputs": [],
   "source": [
    "Ethnicity_cols = pd.get_dummies(credit['Ethnicity'], drop_first=False)\n",
    "credit1 = credit.join(Ethnicity_cols)"
   ]
  },
  {
   "cell_type": "markdown",
   "metadata": {},
   "source": [
    "Обратим внимание на вторую заметку: \n",
    "The smallest eigenvalue is 7.47e-30. This might indicate that there are\n",
    "strong multicollinearity problems or that the design matrix is singular.\n",
    "\n",
    "Это результат того, что мы включили в модель константу. Из-за этого, у нас в данных совершенная линейная зависимость между факторами. Вспоминаем, что константа - это вектор, состоящий из единиц. Таким образом, любая строчка нашей матрицы объясняющих переменных дает нам в сумме единицу, что сигнализирует о строгой линейной связи."
   ]
  },
  {
   "cell_type": "code",
   "execution_count": 31,
   "metadata": {
    "scrolled": true
   },
   "outputs": [
    {
     "name": "stdout",
     "output_type": "stream",
     "text": [
      "Singular matrix\n"
     ]
    }
   ],
   "source": [
    "X_dummy_trap = np.hstack([np.ones(Ethnicity_cols.shape[0]).reshape(-1,1),\n",
    "                          Ethnicity_cols.values])\n",
    "try:\n",
    "    np.linalg.inv(X_dummy_trap.T @ X_dummy_trap) @ X_dummy_trap.T @ credit['Balance'].values\n",
    "except Exception as e:\n",
    "    print(e)"
   ]
  },
  {
   "cell_type": "markdown",
   "metadata": {},
   "source": [
    "LinAlgError: Singular matrix"
   ]
  },
  {
   "cell_type": "markdown",
   "metadata": {},
   "source": [
    "## 1.5 Потенциальные проблемы в линейной регрессии и возможные решения\n",
    "\n",
    "Среди потенциальных проблем, с которыми обычно сталкиваются исследователи при построении линейных моделей можно выделить следующие:\n",
    "\n",
    "1. Нелинейный характер взаимосвязи\n",
    "\n",
    "2. Автокорреляция\n",
    "\n",
    "3. Гетероскедастичность\n",
    "\n",
    "4. Выбросы\n",
    "\n",
    "5.  Наблюдения с высокой разбалансировкой\n",
    "\n",
    "6. Мультиколлинерность."
   ]
  },
  {
   "cell_type": "markdown",
   "metadata": {},
   "source": [
    "### 1.5.1 Нелинейность\n",
    "\n",
    "Когда мы оцениваем линейную взаимосвязь между переменными в то время когда истинная зависимость нелинейная, наши выводы относительно коэффициентов модели являются неверными. Один из способов убедиться в том, что линейная взаимосвязь неверно истолковывает данные - это посмотреть на график остатков против подобранных значений $\\hat{y}$."
   ]
  },
  {
   "cell_type": "code",
   "execution_count": 19,
   "metadata": {},
   "outputs": [],
   "source": [
    "auto = pd.read_csv(\"Auto.csv\")\n",
    "auto['horsepower_square'] = auto['horsepower'] ** 2"
   ]
  },
  {
   "cell_type": "code",
   "execution_count": 20,
   "metadata": {},
   "outputs": [
    {
     "data": {
      "image/png": "[encoded data removed]",
      "text/plain": [
       "<Figure size 720x360 with 2 Axes>"
      ]
     },
     "metadata": {
      "needs_background": "light"
     },
     "output_type": "display_data"
    }
   ],
   "source": [
    "auto_fit_linear = sm.OLS(auto['mpg'], \n",
    "                         sm.add_constant(auto['horsepower'])\n",
    "                        ).fit()\n",
    "auto_fit_non_linear = sm.OLS(auto['mpg'], \n",
    "                         sm.add_constant(auto[['horsepower', 'horsepower_square']])\n",
    "                        ).fit()\n",
    "plot_linear_data = pd.DataFrame(np.vstack([auto_fit_linear.resid.values,\n",
    "                                          auto_fit_linear.fittedvalues.values]).\n",
    "                                                                  reshape(-1,2),\n",
    "                                         columns = ['resid', 'fitted'])\n",
    "fig, axs = plt.subplots(ncols = 2)\n",
    "sns.regplot(y = auto_fit_linear.resid, x = auto_fit_linear.fittedvalues,\n",
    "           ax = axs[0]);\n",
    "sns.regplot(y = auto_fit_non_linear.resid, x = auto_fit_non_linear.fittedvalues,\n",
    "           ax = axs[1]);"
   ]
  },
  {
   "cell_type": "markdown",
   "metadata": {},
   "source": [
    "Еще один способ посмотреть на график остатков (уже против объясняющей переменной)."
   ]
  },
  {
   "cell_type": "code",
   "execution_count": 21,
   "metadata": {
    "scrolled": true
   },
   "outputs": [
    {
     "data": {
      "image/png": "[encoded data removed]",
      "text/plain": [
       "<Figure size 720x360 with 2 Axes>"
      ]
     },
     "metadata": {
      "needs_background": "light"
     },
     "output_type": "display_data"
    }
   ],
   "source": [
    "fig, axs = plt.subplots(ncols=2)\n",
    "sns.residplot(x = 'horsepower', y = 'mpg', \n",
    "              data = auto, lowess = True, order=1, ax=axs[0]);\n",
    "sns.residplot(x = 'horsepower', y = 'mpg', \n",
    "              data = auto, lowess = True, order=2, ax=axs[1]);"
   ]
  },
  {
   "cell_type": "code",
   "execution_count": 22,
   "metadata": {},
   "outputs": [
    {
     "name": "stdout",
     "output_type": "stream",
     "text": [
      "                            OLS Regression Results                            \n",
      "==============================================================================\n",
      "Dep. Variable:                    mpg   R-squared:                       0.688\n",
      "Model:                            OLS   Adj. R-squared:                  0.686\n",
      "Method:                 Least Squares   F-statistic:                     428.0\n",
      "Date:                Tue, 27 Apr 2021   Prob (F-statistic):           5.40e-99\n",
      "Time:                        09:50:05   Log-Likelihood:                -1133.2\n",
      "No. Observations:                 392   AIC:                             2272.\n",
      "Df Residuals:                     389   BIC:                             2284.\n",
      "Df Model:                           2                                         \n",
      "Covariance Type:            nonrobust                                         \n",
      "=====================================================================================\n",
      "                        coef    std err          t      P>|t|      [0.025      0.975]\n",
      "-------------------------------------------------------------------------------------\n",
      "const                56.9001      1.800     31.604      0.000      53.360      60.440\n",
      "horsepower           -0.4662      0.031    -14.978      0.000      -0.527      -0.405\n",
      "horsepower_square     0.0012      0.000     10.080      0.000       0.001       0.001\n",
      "==============================================================================\n",
      "Omnibus:                       16.158   Durbin-Watson:                   1.078\n",
      "Prob(Omnibus):                  0.000   Jarque-Bera (JB):               30.662\n",
      "Skew:                           0.218   Prob(JB):                     2.20e-07\n",
      "Kurtosis:                       4.299   Cond. No.                     1.29e+05\n",
      "==============================================================================\n",
      "\n",
      "Notes:\n",
      "[1] Standard Errors assume that the covariance matrix of the errors is correctly specified.\n",
      "[2] The condition number is large, 1.29e+05. This might indicate that there are\n",
      "strong multicollinearity or other numerical problems.\n"
     ]
    }
   ],
   "source": [
    "print(sm.OLS(auto['mpg'], \n",
    "                         sm.add_constant(auto[['horsepower', 'horsepower_square']])\n",
    "                        ).fit().summary())"
   ]
  },
  {
   "cell_type": "markdown",
   "metadata": {},
   "source": [
    "В конечном счете, видим, что перед нами квадратичная зависимость. В нашем случае - это парабола с ветвями вверх (коэффициент перед квадратичным членом положительный)."
   ]
  },
  {
   "cell_type": "markdown",
   "metadata": {},
   "source": [
    "### 1.5.2 Автокорреляция\n",
    "\n",
    "Автокорреляция предполагает наличие связи между остатками в модели регрессии. Почему это плохо? Потому что в этом случае стандартные ошибки в модели будут являться недооцененными, что исказит наши результаты (получаем значимость коэффициентов, когда на самом деле они не значимы).\n",
    "\n",
    "Зачастую автокорреляция проявляется в случае регрессии временных рядов, когда мы собираем наблюдения в различные моменты времени. \n",
    "\n",
    "Однако, автокорреляция может свидетельствовать также и о пропуске важных переменных. Например, мы хотим предсказывать рост респондентов по их весу. Корреляция между остатками может быть вызвана тем, что респонденты из одной семьи, либо употребляют одну и ту же диету. Другими словами, данные респонденты обладают неким общим свойством, которое может быть как оценено количественно, так и не оценено. \n",
    "\n",
    "Посмотрим график остатков в случае различных линейных моделей.\n"
   ]
  },
  {
   "cell_type": "code",
   "execution_count": 23,
   "metadata": {},
   "outputs": [
    {
     "name": "stdout",
     "output_type": "stream",
     "text": [
      "Correlation between resid and lag1 resid: \n",
      " advert = -0.04709189714421426 auto = 0.5397905087253321\n"
     ]
    },
    {
     "data": {
      "image/png": "[encoded data removed]",
      "text/plain": [
       "<Figure size 720x360 with 2 Axes>"
      ]
     },
     "metadata": {
      "needs_background": "light"
     },
     "output_type": "display_data"
    }
   ],
   "source": [
    "advert_model = sm.OLS(advert['Sales'], \n",
    "                      sm.add_constant(advert[['TV', \"Radio\", \"Newspaper\"]])).fit()\n",
    "# Стандартизируем остатки (для того, чтобы было корректно их сравнивать)\n",
    "from sklearn.preprocessing import StandardScaler\n",
    "sc = StandardScaler()\n",
    "advert_resid = sc.fit_transform(advert_model.resid.values.reshape(-1,1))\n",
    "auto_resid = sc.fit_transform(auto_fit_linear.resid.values.reshape(-1,1))\n",
    "\n",
    "fig, axs = plt.subplots(nrows = 2)\n",
    "pd.Series(advert_resid.reshape(-1)).plot(ax = axs[0]);\n",
    "pd.Series(auto_resid.reshape(-1)).iloc[:200].plot(ax = axs[1]);\n",
    "print(\"Correlation between resid and lag1 resid: \\n\",\n",
    "      f\"advert = {pd.Series(advert_resid.reshape(-1)).corr(pd.Series(advert_resid.reshape(-1)).shift(1))}\",\n",
    "      f\"auto = {pd.Series(auto_resid.reshape(-1)).corr(pd.Series(auto_resid.reshape(-1)).shift(1))}\")"
   ]
  },
  {
   "cell_type": "markdown",
   "metadata": {},
   "source": [
    "Как видно из графиков, автокорреляция наблюдается в случае линейной модели влияния *horse* на *mpg*."
   ]
  },
  {
   "cell_type": "markdown",
   "metadata": {},
   "source": [
    "### 1.5.3 Гетероскедастичность\n",
    "\n",
    "Гетероскедастичность (неоднородность) остатков проявляется, как правило, в кросс-секционных (в один момент времени) выборках. Нарушение условия постоянства дисперсии (гомоскедастичность) приводит к тому, что статистика вида $\\frac{\\hat{\\theta}}{s.e(\\hat{\\theta})}$ больше не имеет распределение Стьюдента. Соответственно, строить доверительные интервалы и проверять гипотезы классических способов нельзя с научной точки зрения. \n",
    "\n",
    "Одним из наиболее простых решений по борьбе с гетероскедастичностью является логарифмирование переменных. Рисунок ниже иллюстрирует вышесказанное."
   ]
  },
  {
   "cell_type": "code",
   "execution_count": 24,
   "metadata": {},
   "outputs": [
    {
     "name": "stdout",
     "output_type": "stream",
     "text": [
      "дисперсия остатков первых 200 наблюдений с линейной зависимой переменной: \n",
      " 11.57456133008462 дисперсия остатков последних 200 наблюдений с линейной зависимой переменной: \n",
      " 17.97892897324328\n",
      "дисперсия остатков последних 200 наблюдений с линейной зависимой переменной: \n",
      " 0.023565130572859784 дисперсия остатков последних 200 наблюдений с логарифмической зависимой переменной: \n",
      " 0.0246947303461133\n"
     ]
    },
    {
     "data": {
      "image/png": "[encoded data removed]",
      "text/plain": [
       "<Figure size 720x360 with 2 Axes>"
      ]
     },
     "metadata": {
      "needs_background": "light"
     },
     "output_type": "display_data"
    }
   ],
   "source": [
    "auto_fit_non_linear_non_log = sm.OLS(auto['mpg'], \n",
    "                         sm.add_constant(auto[['horsepower', 'horsepower_square']])\n",
    "                        ).fit()\n",
    "auto_fit_non_linear_log = sm.OLS(np.log(auto['mpg']), \n",
    "                         sm.add_constant(auto[['horsepower', 'horsepower_square']])\n",
    "                        ).fit()\n",
    "\n",
    "fig, axs = plt.subplots(ncols = 2)\n",
    "sns.regplot(y = auto_fit_non_linear_non_log.resid, \n",
    "            x = auto_fit_non_linear_non_log.fittedvalues,\n",
    "           ax = axs[0]);\n",
    "sns.regplot(y = auto_fit_non_linear_log.resid, \n",
    "            x = auto_fit_non_linear_log.fittedvalues,\n",
    "           ax = axs[1]);\n",
    "print(\n",
    "     f\"дисперсия остатков первых 200 наблюдений с линейной зависимой переменной: \\n\",\n",
    "     f\"{np.var(auto_fit_non_linear_non_log.resid.iloc[:200])}\",\n",
    "     f\"дисперсия остатков последних 200 наблюдений с линейной зависимой переменной: \\n\",\n",
    "     f\"{np.var(auto_fit_non_linear_non_log.resid.iloc[200:])}\",\n",
    "     )\n",
    "print(\n",
    "     f\"дисперсия остатков последних 200 наблюдений с линейной зависимой переменной: \\n\",\n",
    "     f\"{np.var(auto_fit_non_linear_log.resid.iloc[:200])}\",\n",
    "     f\"дисперсия остатков последних 200 наблюдений с логарифмической зависимой переменной: \\n\",\n",
    "     f\"{np.var(auto_fit_non_linear_log.resid.iloc[200:])}\",\n",
    "     )"
   ]
  },
  {
   "cell_type": "markdown",
   "metadata": {},
   "source": [
    "### 1.5.4 Выбросы (ураганные значения)\n",
    "\n",
    "Выбросами являются, как правило, те наблюдения, которые очень сильно выбиваются из основной массы. Из-за присутствия таких наблюдений в выборке, результаты регрессии могут существенно отклониться от истинной зависимости. Как таковых четких правил для определения ураганнных значений нет. Однако, на практике применяется такой подход. Оценивается модель и полученные остатки приводят к стандартизированному виду (распределение с нулевым средним и единичным стандартным отклонением). Тогда удаляются все те наблюдения, для которых остатки принимают значения за пределами интервала [-3;3]."
   ]
  },
  {
   "cell_type": "code",
   "execution_count": 25,
   "metadata": {},
   "outputs": [
    {
     "data": {
      "text/plain": [
       "Index(['mpg', 'cylinders', 'displacement', 'horsepower', 'weight',\n",
       "       'acceleration', 'year', 'origin', 'name', 'horsepower_square'],\n",
       "      dtype='object')"
      ]
     },
     "execution_count": 25,
     "metadata": {},
     "output_type": "execute_result"
    }
   ],
   "source": [
    "auto.columns"
   ]
  },
  {
   "cell_type": "code",
   "execution_count": 26,
   "metadata": {},
   "outputs": [
    {
     "data": {
      "text/plain": [
       "<matplotlib.lines.Line2D at 0x7fd919b61f10>"
      ]
     },
     "execution_count": 26,
     "metadata": {},
     "output_type": "execute_result"
    },
    {
     "data": {
      "image/png": "[encoded data removed]",
      "text/plain": [
       "<Figure size 720x360 with 1 Axes>"
      ]
     },
     "metadata": {
      "needs_background": "light"
     },
     "output_type": "display_data"
    }
   ],
   "source": [
    "mpg_cyl = smf.ols(\"mpg ~ cylinders\", \n",
    "                data = auto).fit()\n",
    "stand_resid = sc.fit_transform(mpg_cyl.resid.values.reshape(-1,1))\n",
    "mpg_cyl_fit = mpg_cyl.fittedvalues\n",
    "g = sns.regplot(x = mpg_cyl_fit, y = stand_resid);\n",
    "g.axhline(-3, ls='--', color = \"red\")\n",
    "g.axhline(3, ls='--', color = \"red\")"
   ]
  },
  {
   "cell_type": "markdown",
   "metadata": {},
   "source": [
    "### 1.5.5 Наблюдения с высокой разбалансировкой\n",
    "\n",
    "В то время как выбросы - это выделяющиеся наблюдения $y_i$ при фиксированных значениях $x_i$, наблюдения с высокой разбалансировкой относятся к нерегулярным значениям $x_i$. Для их выявления используется формула:\n",
    "\n",
    "$$ h_i = \\frac{1}{n} + \\frac{(x_i - \\bar{x})^2}{\\sum_{i'=1}^N(x_{i'} - \\bar{x})^2 } $$"
   ]
  },
  {
   "cell_type": "markdown",
   "metadata": {},
   "source": [
    "### 1.5.6 Мультиколлинеарность\n",
    "\n",
    "Включение в модель признаков, которые сильно связаны друг с другом (коэффициент корреляции близок к 1)  может повлечь за собой ряд проблем:\n",
    "\n",
    "- Статистически незначимые коэффициенты при значимости регрессии в целом\n",
    "\n",
    "- Сильное изменение оценок коэффициентов при добавлении или удалении переменных\n"
   ]
  },
  {
   "cell_type": "markdown",
   "metadata": {},
   "source": [
    "Наличие мультиколлинеарности можно проверить:\n",
    "\n",
    "- Корреляционной матрицей (как правило, перед началом анализа)\n",
    "\n",
    "- VIF (Variance inflation factor)"
   ]
  },
  {
   "cell_type": "code",
   "execution_count": 27,
   "metadata": {},
   "outputs": [
    {
     "data": {
      "text/html": [
       "<div>\n",
       "<style scoped>\n",
       "    .dataframe tbody tr th:only-of-type {\n",
       "        vertical-align: middle;\n",
       "    }\n",
       "\n",
       "    .dataframe tbody tr th {\n",
       "        vertical-align: top;\n",
       "    }\n",
       "\n",
       "    .dataframe thead th {\n",
       "        text-align: right;\n",
       "    }\n",
       "</style>\n",
       "<table border=\"1\" class=\"dataframe\">\n",
       "  <thead>\n",
       "    <tr style=\"text-align: right;\">\n",
       "      <th></th>\n",
       "      <th>Income</th>\n",
       "      <th>Limit</th>\n",
       "      <th>Rating</th>\n",
       "      <th>Cards</th>\n",
       "      <th>Age</th>\n",
       "      <th>Education</th>\n",
       "      <th>Gender</th>\n",
       "      <th>Student</th>\n",
       "      <th>Married</th>\n",
       "      <th>Asian</th>\n",
       "      <th>Caucasian</th>\n",
       "    </tr>\n",
       "  </thead>\n",
       "  <tbody>\n",
       "    <tr>\n",
       "      <th>0</th>\n",
       "      <td>14.891</td>\n",
       "      <td>3606</td>\n",
       "      <td>283</td>\n",
       "      <td>2</td>\n",
       "      <td>34</td>\n",
       "      <td>11</td>\n",
       "      <td>1</td>\n",
       "      <td>0</td>\n",
       "      <td>1</td>\n",
       "      <td>0</td>\n",
       "      <td>1</td>\n",
       "    </tr>\n",
       "    <tr>\n",
       "      <th>1</th>\n",
       "      <td>106.025</td>\n",
       "      <td>6645</td>\n",
       "      <td>483</td>\n",
       "      <td>3</td>\n",
       "      <td>82</td>\n",
       "      <td>15</td>\n",
       "      <td>0</td>\n",
       "      <td>1</td>\n",
       "      <td>1</td>\n",
       "      <td>1</td>\n",
       "      <td>0</td>\n",
       "    </tr>\n",
       "    <tr>\n",
       "      <th>2</th>\n",
       "      <td>104.593</td>\n",
       "      <td>7075</td>\n",
       "      <td>514</td>\n",
       "      <td>4</td>\n",
       "      <td>71</td>\n",
       "      <td>11</td>\n",
       "      <td>1</td>\n",
       "      <td>0</td>\n",
       "      <td>0</td>\n",
       "      <td>1</td>\n",
       "      <td>0</td>\n",
       "    </tr>\n",
       "    <tr>\n",
       "      <th>3</th>\n",
       "      <td>148.924</td>\n",
       "      <td>9504</td>\n",
       "      <td>681</td>\n",
       "      <td>3</td>\n",
       "      <td>36</td>\n",
       "      <td>11</td>\n",
       "      <td>0</td>\n",
       "      <td>0</td>\n",
       "      <td>0</td>\n",
       "      <td>1</td>\n",
       "      <td>0</td>\n",
       "    </tr>\n",
       "    <tr>\n",
       "      <th>4</th>\n",
       "      <td>55.882</td>\n",
       "      <td>4897</td>\n",
       "      <td>357</td>\n",
       "      <td>2</td>\n",
       "      <td>68</td>\n",
       "      <td>16</td>\n",
       "      <td>1</td>\n",
       "      <td>0</td>\n",
       "      <td>1</td>\n",
       "      <td>0</td>\n",
       "      <td>1</td>\n",
       "    </tr>\n",
       "  </tbody>\n",
       "</table>\n",
       "</div>"
      ],
      "text/plain": [
       "    Income  Limit  Rating  Cards  Age  Education  Gender  Student  Married  \\\n",
       "0   14.891   3606     283      2   34         11       1        0        1   \n",
       "1  106.025   6645     483      3   82         15       0        1        1   \n",
       "2  104.593   7075     514      4   71         11       1        0        0   \n",
       "3  148.924   9504     681      3   36         11       0        0        0   \n",
       "4   55.882   4897     357      2   68         16       1        0        1   \n",
       "\n",
       "   Asian  Caucasian  \n",
       "0      0          1  \n",
       "1      1          0  \n",
       "2      1          0  \n",
       "3      1          0  \n",
       "4      0          1  "
      ]
     },
     "execution_count": 27,
     "metadata": {},
     "output_type": "execute_result"
    }
   ],
   "source": [
    "X_reg_credit_all = pd.get_dummies(credit.drop(['ID', \"Balance\", \"Ethnicity\"], axis=1),\n",
    "                                 drop_first = True)\n",
    "X_reg_credit_all.head()"
   ]
  },
  {
   "cell_type": "code",
   "execution_count": 28,
   "metadata": {},
   "outputs": [
    {
     "data": {
      "text/html": [
       "<table class=\"simpletable\">\n",
       "<caption>OLS Regression Results</caption>\n",
       "<tr>\n",
       "  <th>Dep. Variable:</th>         <td>Balance</td>     <th>  R-squared:         </th> <td>   0.955</td> \n",
       "</tr>\n",
       "<tr>\n",
       "  <th>Model:</th>                   <td>OLS</td>       <th>  Adj. R-squared:    </th> <td>   0.954</td> \n",
       "</tr>\n",
       "<tr>\n",
       "  <th>Method:</th>             <td>Least Squares</td>  <th>  F-statistic:       </th> <td>   750.3</td> \n",
       "</tr>\n",
       "<tr>\n",
       "  <th>Date:</th>             <td>Tue, 27 Apr 2021</td> <th>  Prob (F-statistic):</th> <td>1.11e-253</td>\n",
       "</tr>\n",
       "<tr>\n",
       "  <th>Time:</th>                 <td>09:50:06</td>     <th>  Log-Likelihood:    </th> <td> -2398.7</td> \n",
       "</tr>\n",
       "<tr>\n",
       "  <th>No. Observations:</th>      <td>   400</td>      <th>  AIC:               </th> <td>   4821.</td> \n",
       "</tr>\n",
       "<tr>\n",
       "  <th>Df Residuals:</th>          <td>   388</td>      <th>  BIC:               </th> <td>   4869.</td> \n",
       "</tr>\n",
       "<tr>\n",
       "  <th>Df Model:</th>              <td>    11</td>      <th>                     </th>     <td> </td>    \n",
       "</tr>\n",
       "<tr>\n",
       "  <th>Covariance Type:</th>      <td>nonrobust</td>    <th>                     </th>     <td> </td>    \n",
       "</tr>\n",
       "</table>\n",
       "<table class=\"simpletable\">\n",
       "<tr>\n",
       "      <td></td>         <th>coef</th>     <th>std err</th>      <th>t</th>      <th>P>|t|</th>  <th>[0.025</th>    <th>0.975]</th>  \n",
       "</tr>\n",
       "<tr>\n",
       "  <th>const</th>     <td> -489.8611</td> <td>   35.801</td> <td>  -13.683</td> <td> 0.000</td> <td> -560.250</td> <td> -419.473</td>\n",
       "</tr>\n",
       "<tr>\n",
       "  <th>Income</th>    <td>   -7.8031</td> <td>    0.234</td> <td>  -33.314</td> <td> 0.000</td> <td>   -8.264</td> <td>   -7.343</td>\n",
       "</tr>\n",
       "<tr>\n",
       "  <th>Limit</th>     <td>    0.1909</td> <td>    0.033</td> <td>    5.824</td> <td> 0.000</td> <td>    0.126</td> <td>    0.255</td>\n",
       "</tr>\n",
       "<tr>\n",
       "  <th>Rating</th>    <td>    1.1365</td> <td>    0.491</td> <td>    2.315</td> <td> 0.021</td> <td>    0.171</td> <td>    2.102</td>\n",
       "</tr>\n",
       "<tr>\n",
       "  <th>Cards</th>     <td>   17.7245</td> <td>    4.341</td> <td>    4.083</td> <td> 0.000</td> <td>    9.190</td> <td>   26.259</td>\n",
       "</tr>\n",
       "<tr>\n",
       "  <th>Age</th>       <td>   -0.6139</td> <td>    0.294</td> <td>   -2.088</td> <td> 0.037</td> <td>   -1.192</td> <td>   -0.036</td>\n",
       "</tr>\n",
       "<tr>\n",
       "  <th>Education</th> <td>   -1.0989</td> <td>    1.598</td> <td>   -0.688</td> <td> 0.492</td> <td>   -4.241</td> <td>    2.043</td>\n",
       "</tr>\n",
       "<tr>\n",
       "  <th>Gender</th>    <td>   10.6532</td> <td>    9.914</td> <td>    1.075</td> <td> 0.283</td> <td>   -8.839</td> <td>   30.145</td>\n",
       "</tr>\n",
       "<tr>\n",
       "  <th>Student</th>   <td>  425.7474</td> <td>   16.723</td> <td>   25.459</td> <td> 0.000</td> <td>  392.869</td> <td>  458.626</td>\n",
       "</tr>\n",
       "<tr>\n",
       "  <th>Married</th>   <td>   -8.5339</td> <td>   10.363</td> <td>   -0.824</td> <td> 0.411</td> <td>  -28.908</td> <td>   11.841</td>\n",
       "</tr>\n",
       "<tr>\n",
       "  <th>Asian</th>     <td>   16.8042</td> <td>   14.119</td> <td>    1.190</td> <td> 0.235</td> <td>  -10.955</td> <td>   44.564</td>\n",
       "</tr>\n",
       "<tr>\n",
       "  <th>Caucasian</th> <td>   10.1070</td> <td>   12.210</td> <td>    0.828</td> <td> 0.408</td> <td>  -13.899</td> <td>   34.113</td>\n",
       "</tr>\n",
       "</table>\n",
       "<table class=\"simpletable\">\n",
       "<tr>\n",
       "  <th>Omnibus:</th>       <td>34.899</td> <th>  Durbin-Watson:     </th> <td>   1.968</td>\n",
       "</tr>\n",
       "<tr>\n",
       "  <th>Prob(Omnibus):</th> <td> 0.000</td> <th>  Jarque-Bera (JB):  </th> <td>  41.766</td>\n",
       "</tr>\n",
       "<tr>\n",
       "  <th>Skew:</th>          <td> 0.782</td> <th>  Prob(JB):          </th> <td>8.52e-10</td>\n",
       "</tr>\n",
       "<tr>\n",
       "  <th>Kurtosis:</th>      <td> 3.241</td> <th>  Cond. No.          </th> <td>3.87e+04</td>\n",
       "</tr>\n",
       "</table><br/><br/>Notes:<br/>[1] Standard Errors assume that the covariance matrix of the errors is correctly specified.<br/>[2] The condition number is large, 3.87e+04. This might indicate that there are<br/>strong multicollinearity or other numerical problems."
      ],
      "text/plain": [
       "<class 'statsmodels.iolib.summary.Summary'>\n",
       "\"\"\"\n",
       "                            OLS Regression Results                            \n",
       "==============================================================================\n",
       "Dep. Variable:                Balance   R-squared:                       0.955\n",
       "Model:                            OLS   Adj. R-squared:                  0.954\n",
       "Method:                 Least Squares   F-statistic:                     750.3\n",
       "Date:                Tue, 27 Apr 2021   Prob (F-statistic):          1.11e-253\n",
       "Time:                        09:50:06   Log-Likelihood:                -2398.7\n",
       "No. Observations:                 400   AIC:                             4821.\n",
       "Df Residuals:                     388   BIC:                             4869.\n",
       "Df Model:                          11                                         \n",
       "Covariance Type:            nonrobust                                         \n",
       "==============================================================================\n",
       "                 coef    std err          t      P>|t|      [0.025      0.975]\n",
       "------------------------------------------------------------------------------\n",
       "const       -489.8611     35.801    -13.683      0.000    -560.250    -419.473\n",
       "Income        -7.8031      0.234    -33.314      0.000      -8.264      -7.343\n",
       "Limit          0.1909      0.033      5.824      0.000       0.126       0.255\n",
       "Rating         1.1365      0.491      2.315      0.021       0.171       2.102\n",
       "Cards         17.7245      4.341      4.083      0.000       9.190      26.259\n",
       "Age           -0.6139      0.294     -2.088      0.037      -1.192      -0.036\n",
       "Education     -1.0989      1.598     -0.688      0.492      -4.241       2.043\n",
       "Gender        10.6532      9.914      1.075      0.283      -8.839      30.145\n",
       "Student      425.7474     16.723     25.459      0.000     392.869     458.626\n",
       "Married       -8.5339     10.363     -0.824      0.411     -28.908      11.841\n",
       "Asian         16.8042     14.119      1.190      0.235     -10.955      44.564\n",
       "Caucasian     10.1070     12.210      0.828      0.408     -13.899      34.113\n",
       "==============================================================================\n",
       "Omnibus:                       34.899   Durbin-Watson:                   1.968\n",
       "Prob(Omnibus):                  0.000   Jarque-Bera (JB):               41.766\n",
       "Skew:                           0.782   Prob(JB):                     8.52e-10\n",
       "Kurtosis:                       3.241   Cond. No.                     3.87e+04\n",
       "==============================================================================\n",
       "\n",
       "Notes:\n",
       "[1] Standard Errors assume that the covariance matrix of the errors is correctly specified.\n",
       "[2] The condition number is large, 3.87e+04. This might indicate that there are\n",
       "strong multicollinearity or other numerical problems.\n",
       "\"\"\""
      ]
     },
     "execution_count": 28,
     "metadata": {},
     "output_type": "execute_result"
    }
   ],
   "source": [
    "X_a_l = sm.add_constant(X_reg_credit_all)\n",
    "y_a_l = credit['Balance']\n",
    "sm.OLS(y_a_l, X_a_l).fit().summary()"
   ]
  },
  {
   "cell_type": "code",
   "execution_count": 29,
   "metadata": {},
   "outputs": [
    {
     "data": {
      "text/html": [
       "<div>\n",
       "<style scoped>\n",
       "    .dataframe tbody tr th:only-of-type {\n",
       "        vertical-align: middle;\n",
       "    }\n",
       "\n",
       "    .dataframe tbody tr th {\n",
       "        vertical-align: top;\n",
       "    }\n",
       "\n",
       "    .dataframe thead th {\n",
       "        text-align: right;\n",
       "    }\n",
       "</style>\n",
       "<table border=\"1\" class=\"dataframe\">\n",
       "  <thead>\n",
       "    <tr style=\"text-align: right;\">\n",
       "      <th></th>\n",
       "      <th>var_1</th>\n",
       "      <th>var_2</th>\n",
       "      <th>corr</th>\n",
       "      <th>corr_abs</th>\n",
       "    </tr>\n",
       "  </thead>\n",
       "  <tbody>\n",
       "    <tr>\n",
       "      <th>10</th>\n",
       "      <td>Limit</td>\n",
       "      <td>Rating</td>\n",
       "      <td>0.996880</td>\n",
       "      <td>0.996880</td>\n",
       "    </tr>\n",
       "    <tr>\n",
       "      <th>0</th>\n",
       "      <td>Income</td>\n",
       "      <td>Limit</td>\n",
       "      <td>0.792088</td>\n",
       "      <td>0.792088</td>\n",
       "    </tr>\n",
       "    <tr>\n",
       "      <th>1</th>\n",
       "      <td>Income</td>\n",
       "      <td>Rating</td>\n",
       "      <td>0.791378</td>\n",
       "      <td>0.791378</td>\n",
       "    </tr>\n",
       "    <tr>\n",
       "      <th>54</th>\n",
       "      <td>Asian</td>\n",
       "      <td>Caucasian</td>\n",
       "      <td>-0.582131</td>\n",
       "      <td>0.582131</td>\n",
       "    </tr>\n",
       "    <tr>\n",
       "      <th>3</th>\n",
       "      <td>Income</td>\n",
       "      <td>Age</td>\n",
       "      <td>0.175338</td>\n",
       "      <td>0.175338</td>\n",
       "    </tr>\n",
       "  </tbody>\n",
       "</table>\n",
       "</div>"
      ],
      "text/plain": [
       "     var_1      var_2      corr  corr_abs\n",
       "10   Limit     Rating  0.996880  0.996880\n",
       "0   Income      Limit  0.792088  0.792088\n",
       "1   Income     Rating  0.791378  0.791378\n",
       "54   Asian  Caucasian -0.582131  0.582131\n",
       "3   Income        Age  0.175338  0.175338"
      ]
     },
     "execution_count": 29,
     "metadata": {},
     "output_type": "execute_result"
    }
   ],
   "source": [
    "def get_corr_df(X):\n",
    "    dataCorr = X.corr(method='pearson')\n",
    "    dataCorr = dataCorr.mask(np.tril(np.ones(dataCorr.shape)).astype(np.bool))\n",
    "    dataCorr = dataCorr.stack().reset_index()\n",
    "    dataCorr.columns = ['var_1', 'var_2', 'corr']\n",
    "    dataCorr['corr_abs'] = np.abs(dataCorr['corr'])\n",
    "    dataCorr.sort_values(\"corr_abs\", ascending=False, inplace=True)\n",
    "    return dataCorr\n",
    "get_corr_df(X_reg_credit_all).head()"
   ]
  },
  {
   "cell_type": "code",
   "execution_count": 30,
   "metadata": {},
   "outputs": [
    {
     "data": {
      "text/html": [
       "<div>\n",
       "<style scoped>\n",
       "    .dataframe tbody tr th:only-of-type {\n",
       "        vertical-align: middle;\n",
       "    }\n",
       "\n",
       "    .dataframe tbody tr th {\n",
       "        vertical-align: top;\n",
       "    }\n",
       "\n",
       "    .dataframe thead th {\n",
       "        text-align: right;\n",
       "    }\n",
       "</style>\n",
       "<table border=\"1\" class=\"dataframe\">\n",
       "  <thead>\n",
       "    <tr style=\"text-align: right;\">\n",
       "      <th></th>\n",
       "      <th>var_1</th>\n",
       "      <th>var_2</th>\n",
       "      <th>corr</th>\n",
       "      <th>corr_abs</th>\n",
       "      <th>index_var1</th>\n",
       "      <th>VIF_var1</th>\n",
       "      <th>index_var2</th>\n",
       "      <th>VIF_var2</th>\n",
       "    </tr>\n",
       "  </thead>\n",
       "  <tbody>\n",
       "    <tr>\n",
       "      <th>0</th>\n",
       "      <td>Limit</td>\n",
       "      <td>Rating</td>\n",
       "      <td>0.996880</td>\n",
       "      <td>0.996880</td>\n",
       "      <td>Limit</td>\n",
       "      <td>234.028100</td>\n",
       "      <td>Rating</td>\n",
       "      <td>235.848259</td>\n",
       "    </tr>\n",
       "    <tr>\n",
       "      <th>54</th>\n",
       "      <td>Income</td>\n",
       "      <td>Limit</td>\n",
       "      <td>0.792088</td>\n",
       "      <td>0.792088</td>\n",
       "      <td>Income</td>\n",
       "      <td>2.786182</td>\n",
       "      <td>Limit</td>\n",
       "      <td>234.028100</td>\n",
       "    </tr>\n",
       "    <tr>\n",
       "      <th>1</th>\n",
       "      <td>Income</td>\n",
       "      <td>Rating</td>\n",
       "      <td>0.791378</td>\n",
       "      <td>0.791378</td>\n",
       "      <td>Income</td>\n",
       "      <td>2.786182</td>\n",
       "      <td>Rating</td>\n",
       "      <td>235.848259</td>\n",
       "    </tr>\n",
       "    <tr>\n",
       "      <th>46</th>\n",
       "      <td>Asian</td>\n",
       "      <td>Caucasian</td>\n",
       "      <td>-0.582131</td>\n",
       "      <td>0.582131</td>\n",
       "      <td>Asian</td>\n",
       "      <td>1.552157</td>\n",
       "      <td>Caucasian</td>\n",
       "      <td>1.527504</td>\n",
       "    </tr>\n",
       "    <tr>\n",
       "      <th>3</th>\n",
       "      <td>Income</td>\n",
       "      <td>Age</td>\n",
       "      <td>0.175338</td>\n",
       "      <td>0.175338</td>\n",
       "      <td>Income</td>\n",
       "      <td>2.786182</td>\n",
       "      <td>Age</td>\n",
       "      <td>1.051410</td>\n",
       "    </tr>\n",
       "    <tr>\n",
       "      <th>4</th>\n",
       "      <td>Rating</td>\n",
       "      <td>Age</td>\n",
       "      <td>0.103165</td>\n",
       "      <td>0.103165</td>\n",
       "      <td>Rating</td>\n",
       "      <td>235.848259</td>\n",
       "      <td>Age</td>\n",
       "      <td>1.051410</td>\n",
       "    </tr>\n",
       "    <tr>\n",
       "      <th>2</th>\n",
       "      <td>Limit</td>\n",
       "      <td>Age</td>\n",
       "      <td>0.100888</td>\n",
       "      <td>0.100888</td>\n",
       "      <td>Limit</td>\n",
       "      <td>234.028100</td>\n",
       "      <td>Age</td>\n",
       "      <td>1.051410</td>\n",
       "    </tr>\n",
       "    <tr>\n",
       "      <th>9</th>\n",
       "      <td>Married</td>\n",
       "      <td>Asian</td>\n",
       "      <td>0.088595</td>\n",
       "      <td>0.088595</td>\n",
       "      <td>Married</td>\n",
       "      <td>1.044638</td>\n",
       "      <td>Asian</td>\n",
       "      <td>1.552157</td>\n",
       "    </tr>\n",
       "    <tr>\n",
       "      <th>18</th>\n",
       "      <td>Student</td>\n",
       "      <td>Married</td>\n",
       "      <td>-0.076974</td>\n",
       "      <td>0.076974</td>\n",
       "      <td>Student</td>\n",
       "      <td>1.031517</td>\n",
       "      <td>Married</td>\n",
       "      <td>1.044638</td>\n",
       "    </tr>\n",
       "    <tr>\n",
       "      <th>19</th>\n",
       "      <td>Age</td>\n",
       "      <td>Married</td>\n",
       "      <td>-0.073136</td>\n",
       "      <td>0.073136</td>\n",
       "      <td>Age</td>\n",
       "      <td>1.051410</td>\n",
       "      <td>Married</td>\n",
       "      <td>1.044638</td>\n",
       "    </tr>\n",
       "  </tbody>\n",
       "</table>\n",
       "</div>"
      ],
      "text/plain": [
       "      var_1      var_2      corr  corr_abs index_var1    VIF_var1 index_var2  \\\n",
       "0     Limit     Rating  0.996880  0.996880      Limit  234.028100     Rating   \n",
       "54   Income      Limit  0.792088  0.792088     Income    2.786182      Limit   \n",
       "1    Income     Rating  0.791378  0.791378     Income    2.786182     Rating   \n",
       "46    Asian  Caucasian -0.582131  0.582131      Asian    1.552157  Caucasian   \n",
       "3    Income        Age  0.175338  0.175338     Income    2.786182        Age   \n",
       "4    Rating        Age  0.103165  0.103165     Rating  235.848259        Age   \n",
       "2     Limit        Age  0.100888  0.100888      Limit  234.028100        Age   \n",
       "9   Married      Asian  0.088595  0.088595    Married    1.044638      Asian   \n",
       "18  Student    Married -0.076974  0.076974    Student    1.031517    Married   \n",
       "19      Age    Married -0.073136  0.073136        Age    1.051410    Married   \n",
       "\n",
       "      VIF_var2  \n",
       "0   235.848259  \n",
       "54  234.028100  \n",
       "1   235.848259  \n",
       "46    1.527504  \n",
       "3     1.051410  \n",
       "4     1.051410  \n",
       "2     1.051410  \n",
       "9     1.552157  \n",
       "18    1.044638  \n",
       "19    1.044638  "
      ]
     },
     "execution_count": 30,
     "metadata": {},
     "output_type": "execute_result"
    }
   ],
   "source": [
    "# VIF\n",
    "def vif(X):\n",
    "    \"\"\"\n",
    "    X - dataframe with colnames\n",
    "    \"\"\"\n",
    "    return pd.DataFrame(\n",
    "        dict(zip(X.columns,\n",
    "         np.diag(np.linalg.inv(X.corr().values)))\n",
    "    ), index = [\"VIF\"]\n",
    "    ).T.reset_index()\n",
    "vif(X_reg_credit_all)\n",
    "get_corr_df(X_reg_credit_all).merge(\n",
    "vif(X_reg_credit_all), left_on = \"var_1\", right_on = \"index\").merge(\n",
    "vif(X_reg_credit_all), left_on = \"var_2\", right_on = \"index\",\n",
    "suffixes = ['_var1', \"_var2\"]).sort_values(\"corr_abs\", ascending=False).head(10)"
   ]
  },
  {
   "cell_type": "markdown",
   "metadata": {},
   "source": [
    "# 2. Смещение и разброс"
   ]
  },
  {
   "cell_type": "markdown",
   "metadata": {},
   "source": [
    "Давайте поговорим об ошибках прогноза в линейных моделях (верно и для остальных видов моделей). Для этого введем следующие предположения:\n",
    "\n",
    "- истинное значение целевой переменной представляет из себя сумму подобранной функции (детерминированной, т.е. неслучайной) $f\\left(\\textbf{x}\\right)$ и случайной ошибки $\\epsilon$: $y = f\\left(\\textbf{x}\\right) + \\epsilon$;\n",
    "- ошибки имеют нормальное распределение с нулевым средним и постоянной дисперсией: $\\epsilon \\sim \\mathcal{N}\\left(0, \\sigma^2\\right)$;\n",
    "- соответственно и истинное значение целевой переменной распределенно также нормально: $y \\sim \\mathcal{N}\\left(f\\left(\\textbf{x}\\right), \\sigma^2\\right)$;\n",
    "- мы пытаемся аппроксимировать нашу неизвестную функцию $f\\left(\\textbf{x}\\right)$ в предположении ее линейности с выбранными переменными (еще мы любим называть их ковариатами) $\\widehat{f}\\left(\\textbf{x}\\right)$, которая, в свою очередь, является точечной оценкой  $f$ в пространстве элементарных функций (в нашем случае - это семейство линейных функций).\n",
    "\n",
    "Таким образом, ошибка регрессии $\\textbf{x}$ раскладывается следующим образом при помощи формулы для дисперсии:\n",
    "$$\\Large \\begin{array}{rcl} \n",
    "\\text{Err}\\left(\\textbf{x}\\right) &=& \\mathbb{E}\\left[\\left(y - \\widehat{f}\\left(\\textbf{x}\\right)\\right)^2\\right] \\\\\n",
    "&=& \\mathbb{E}\\left[y^2\\right] + \\mathbb{E}\\left[\\left(\\widehat{f}\\left(\\textbf{x}\\right)\\right)^2\\right] - 2\\mathbb{E}\\left[y\\widehat{f}\\left(\\textbf{x}\\right)\\right] \\\\\n",
    "&=& \\mathbb{E}\\left[y^2\\right] + \\mathbb{E}\\left[\\widehat{f}^2\\right] - 2\\mathbb{E}\\left[y\\widehat{f}\\right] \\\\\n",
    "\\end{array}$$\n",
    "\n",
    "Давайте проанализируем на каждое слагаемое отдельно. Первые два раскладываются следующим образом: $\\text{Var}\\left(z\\right) = \\mathbb{E}\\left[z^2\\right] - \\mathbb{E}\\left[z\\right]^2$:\n",
    "\n",
    "$$\\Large \\begin{array}{rcl} \n",
    "\\mathbb{E}\\left[y^2\\right] &=& \\text{Var}\\left(y\\right) + \\mathbb{E}\\left[y\\right]^2 = \\sigma^2 + f^2\\\\\n",
    "\\mathbb{E}\\left[\\widehat{f}^2\\right] &=& \\text{Var}\\left(\\widehat{f}\\right) + \\mathbb{E}\\left[\\widehat{f}\\right]^2 \\\\\n",
    "\\end{array}$$\n",
    "\n",
    "Заметим, что (это как \"очевидно\" в книгах по матану):\n",
    "\n",
    "$$\\Large \\begin{array}{rcl} \n",
    "\\text{Var}\\left(y\\right) &=& \\mathbb{E}\\left[\\left(y - \\mathbb{E}\\left[y\\right]\\right)^2\\right] \\\\\n",
    "&=& \\mathbb{E}\\left[\\left(y - f\\right)^2\\right] \\\\\n",
    "&=& \\mathbb{E}\\left[\\left(f + \\epsilon - f\\right)^2\\right] \\\\\n",
    "&=& \\mathbb{E}\\left[\\epsilon^2\\right] = \\sigma^2\n",
    "\\end{array}$$\n",
    "\n",
    "$$\\Large \\mathbb{E}[y] = \\mathbb{E}[f + \\epsilon] = \\mathbb{E}[f] + \\mathbb{E}[\\epsilon] = f$$\n",
    "\n",
    "Вспомним. что ошибка и целевая переменная являются независимыми (потому что мы так предположили!, хех):\n",
    "\n",
    "$$\\Large \\begin{array}{rcl} \n",
    "\\mathbb{E}\\left[y\\widehat{f}\\right] &=& \\mathbb{E}\\left[\\left(f + \\epsilon\\right)\\widehat{f}\\right] \\\\\n",
    "&=& \\mathbb{E}\\left[f\\widehat{f}\\right] + \\mathbb{E}\\left[\\epsilon\\widehat{f}\\right] \\\\\n",
    "&=& f\\mathbb{E}\\left[\\widehat{f}\\right] + \\mathbb{E}\\left[\\epsilon\\right] \\mathbb{E}\\left[\\widehat{f}\\right]  = f\\mathbb{E}\\left[\\widehat{f}\\right]\n",
    "\\end{array}$$\n",
    "\n",
    "Теперь соберем все вместе:\n",
    "\n",
    "$$\\Large \\begin{array}{rcl} \n",
    "\\text{Err}\\left(\\textbf{x}\\right) &=& \\mathbb{E}\\left[\\left(y - \\widehat{f}\\left(\\textbf{x}\\right)\\right)^2\\right] \\\\\n",
    "&=& \\sigma^2 + f^2 + \\text{Var}\\left(\\widehat{f}\\right) + \\mathbb{E}\\left[\\widehat{f}\\right]^2 - 2f\\mathbb{E}\\left[\\widehat{f}\\right] \\\\\n",
    "&=& \\left(f - \\mathbb{E}\\left[\\widehat{f}\\right]\\right)^2 + \\text{Var}\\left(\\widehat{f}\\right) + \\sigma^2 \\\\\n",
    "&=& \\text{Bias}\\left(\\widehat{f}\\right)^2 + \\text{Var}\\left(\\widehat{f}\\right) + \\sigma^2\n",
    "\\end{array}$$\n",
    "\n",
    "Последняя формула и показывает то, из чего состоит ошибка модели: $y = f\\left(\\textbf{x}\\right) + \\epsilon$ состоит из следующих элементов:\n",
    "\n",
    "- квадрат смещения: $\\text{Bias}\\left(\\widehat{f}\\right)$ средняя ошибка аппроксимации\n",
    "- разброс: $\\text{Var}\\left(\\widehat{f}\\right)$ вариация ошибки, или то, насколько сильно изменяются наши результаты при оценивании одной и той же модели на различных наборах данных\n",
    "- ошибка, которую нельзя искоренить: $\\sigma^2$.\n",
    "\n",
    "К сожалению мы не можем повлиять на $\\sigma^2$, мы можем повлиять на две остальные. В идеале нам бы обнулить эти две ошибки (правая верхняя мишень на картинке ниже). Однако,практика - дело суровое и, как правило, мы балансируем между снижением разброса и смещения."
   ]
  },
  {
   "cell_type": "markdown",
   "metadata": {},
   "source": [
    "<div>\n",
    "<img src=https://encrypted-tbn0.gstatic.com/images?q=tbn:ANd9GcToSoHEU5afeAUJJGhKjbmXJNNGsY8CNwve8Q&usqp=CAU width=\"600\"\n",
    "<div>\n",
    "    \n",
    "    "
   ]
  },
  {
   "cell_type": "markdown",
   "metadata": {},
   "source": [
    "Вообще говоря, при росте сложности модели (например, количества переменных) дисперсия ошибки начинает расти, а смещение снижается. \n",
    "\n",
    "Переобучение (высокий разброс) - наша модель черезчур подобрала зависимость под тренировочную выборку и на новых данных качество модели существенно падает.\n",
    "\n",
    "Недообучение (высокое смещение) - наша модель слишком плохо подобрала истинную зависимость и дает в целом плохой прогноз."
   ]
  },
  {
   "cell_type": "markdown",
   "metadata": {},
   "source": [
    "<div>\n",
    "<img src=https://cdn-images-1.medium.com/max/883/1*8sV6Sr9uc0Ef39YBivLzrw.jpeg width=\"800\">\n",
    "<div>"
   ]
  },
  {
   "cell_type": "markdown",
   "metadata": {},
   "source": [
    "# 3. Регуляризация\n",
    "\n",
    "Теперь мы плавно переходим из светлой стороны эконометрики с ее поиском истинных взаимосвязей между переменными на темную сторону машинного обучения. В машинном обучении, как правило, нас не волнуют истинные взаимосвязи между переменными. Наиболее интересным здесь представляется получение ТОЧНЫХ ПРОГНОЗОВ НА НОВЫХ ДАННЫХ. (снижение разброса вместо снижения смещения).\n",
    "\n",
    "Давайте представим, что мы находимся где-нибудь в Лондоне в осенний период и собираемся выйти на улицу. Мы думаем, взять с собой зонт или нет, т.е. нас интересует вопрос - пойдет ли дождь сегодня или нет?\n",
    "\n",
    "Эконометрист при решении данной задачи в первую очередь спросит: а какие факторы и каким образом влияют на то, идет дождь или нет? \n",
    "\n",
    "\n",
    "Машин-лернер-биг-датер в первую очередь спросит с какой точностью наша модель предскажет вероятность дождя?\n",
    "\n",
    "Если мы посмотрим на картнинку с мишенью, то эконометрист будет находиться справа вверху, а специалист по машинному обучению - слева внизу, поскольку основная задача - предсказание при помощи нашей модели на НОВЫХ ДАННЫХ, а не поиск истинных взаимосвязей на СТАРЫХ."
   ]
  },
  {
   "cell_type": "markdown",
   "metadata": {},
   "source": [
    "Как мы с вами уже знаем, оценки в линейной регрессии являются несмещенными, а значит, что при выполнении условий Гаусса-Маркова, наши оценки будут с нулевым смещеним. Однако, значит ли это, что мы можем при помощи такой модели без проблем предсказывать целевую переменную на новых данных? Спойлер: нет!\n",
    "\n",
    "Для того, чтобы наша модель хорошо работала и на новых данных мы обычно жертвуем несмещенностью в пользу снижения дисперсии, т.е. наши прогнозы более точны на новых данных, хоть и модельные значения коэффициентов могут отличаться от истинных взаимосвязей. \n",
    "\n",
    "Для достижения данной цели нам помогает регрессия с регуляризацией. \n",
    "\n",
    "Очень хорошо описывается в этом [видосике](https://www.youtube.com/watch?v=Q81RR3yKn30)"
   ]
  },
  {
   "cell_type": "markdown",
   "metadata": {},
   "source": [
    "## 3.1 L2-регуляризация (RIDGE регрессия)\n",
    "\n",
    "В случае L2-регуляризации мы минимизируем теперь не просто сумму квадратов ошибок, но добавляем еще и некий штраф для коэффициентов модели:\n",
    "\n",
    "$$ \\Large \\sum_i( y_i - \\beta_{0} - \\sum_j\\beta_jx_{ij})^2 + \\lambda \\sum_j\\beta_j^2$$\n",
    "\n",
    "$\\lambda$ в данном случае помогает нам корректировать коэффициенты регрессии. При $\\lambda = 0$ мы получаем классические МНК-оценки. \n",
    "\n",
    "Заметим, что в случае простой парной регрессии с константой, $\\sum_j\\beta_j^2 = (\\beta_0 + \\beta_1)^2$. Данное уравнение описывает окружность в точке, где коэффициенты регрессии принимают нулевые значения. Радиус окружности, а следовательно и то, насколько данные коэффициенты далеки от нулевых значения, зависит от суммы квадратов отклонений обоих коэффициентов от нуля. В итоге получаем, что чем больше эта сумма квадратов, тем больше оптимизируемая нами ошибка. Соответственно, при помощи данного регуляризатора мы как бы сдерживаем коэффициенты регрессии в рамках определенного круга значений. Чем больше $\\lambda$, тем больше данный фактор сдерживания. Кстати говоря, данный вид регуляризации помогает нам бороться с последствиями мультиколлинеарности - коэффициенты регрессии оцениваются более стабильно и не так сильно изменяются в зависимости от выборки и спецификации модели.\n",
    "\n",
    "С ростом $\\lambda$, мы увеличиваем смещение, но снижаем разброс."
   ]
  },
  {
   "cell_type": "markdown",
   "metadata": {},
   "source": [
    "## 3.2 L1-регуляризация (LASSO регрессия)\n",
    "\n",
    "В случае L1-регуляризации квадрат заменяется на модуль:\n",
    "\n",
    "$$ \\Large \\sum_i( y_i - \\beta_{0} - \\sum_j\\beta_jx_{ij})^2 + \\lambda \\sum_j|\\beta_j|$$\n",
    "\n",
    "Теперь у нас не окружность, а ромб. LASSO регрессия, в отличие от RIDGE, позволяет нам занулить ненужные факторы, включаемые в модель."
   ]
  },
  {
   "cell_type": "markdown",
   "metadata": {},
   "source": [
    "## 3.3 Сравнение L1 и L2 регуляризаций"
   ]
  },
  {
   "cell_type": "markdown",
   "metadata": {},
   "source": [
    "\n",
    "<div>\n",
    "<img src=https://encrypted-tbn0.gstatic.com/images?q=tbn:ANd9GcSCMf2i_pt6-Fo_UjM_je659692VubepG6l2g&usqp=CAU width=\"500\">\n",
    "<div>"
   ]
  },
  {
   "cell_type": "code",
   "execution_count": 31,
   "metadata": {},
   "outputs": [],
   "source": [
    "from sklearn.linear_model import Ridge\n",
    "from sklearn.linear_model import Lasso\n",
    "from sklearn.preprocessing import StandardScaler"
   ]
  },
  {
   "cell_type": "markdown",
   "metadata": {},
   "source": [
    "$$x_{stand} = \\frac{x - mean(x)} {std(x)}$$"
   ]
  },
  {
   "cell_type": "code",
   "execution_count": 53,
   "metadata": {},
   "outputs": [
    {
     "name": "stdout",
     "output_type": "stream",
     "text": [
      "{'Income': -0.60902107848124, 'Limit': 0.6109014772036733, 'Rating': 0.7371554320926514, 'Student': 0.9204775104355936}\n"
     ]
    }
   ],
   "source": [
    "# Перед регуляризацией обязательно нужно стандартизировать признаки!\n",
    "sc = StandardScaler()\n",
    "X_cred = credit[['Income', \"Limit\", \"Rating\", \"Student\"]] \n",
    "X_cred_values = sc.fit_transform(X_cred)\n",
    "X_cred_values[:, 3] = X_cred['Student'].values\n",
    "y_cred_values = credit.Balance.values.reshape(-1, 1)\n",
    "y_cred_values = sc.fit_transform(y_cred_values)\n",
    "\n",
    "ridge = Ridge(alpha=0) # Чем больше, тем сильней регуляризация.\n",
    "model_ridge = ridge.fit(X_cred_values, y_cred_values)\n",
    "print(dict(zip(X_cred.columns, model_ridge.coef_[0, :])))"
   ]
  },
  {
   "cell_type": "code",
   "execution_count": 54,
   "metadata": {},
   "outputs": [],
   "source": [
    "# Давайте посмотрим, как изменяются коэффициенты модели при изменении параметра alpha.\n",
    "def ridge_coefs(alpha_):\n",
    "    ridge_ = Ridge(alpha=alpha_)\n",
    "    model_ridge = ridge_.fit(X_cred_values, y_cred_values)\n",
    "    coefs = model_ridge.coef_[0, :]\n",
    "    return coefs\n",
    "models_different_alpha = list(map(ridge_coefs, np.linspace(0.01, 1000, 20000)))\n",
    "\n",
    "coefs_df = pd.DataFrame(np.vstack(models_different_alpha),\n",
    "                                 columns = X_cred.columns)\n",
    "coefs_df['alpha'] = np.linspace(-2, 10000, 20000)\n",
    "coefs_df.set_index(\"alpha\").plot();"
   ]
  },
  {
   "cell_type": "code",
   "execution_count": 56,
   "metadata": {},
   "outputs": [
    {
     "data": {
      "image/png": "[encoded data removed]",
      "text/plain": [
       "<Figure size 720x360 with 1 Axes>"
      ]
     },
     "metadata": {
      "needs_background": "light"
     },
     "output_type": "display_data"
    }
   ],
   "source": [
    "from sklearn.metrics import mean_squared_error\n",
    "# Теперь посмотрим как изменяется точность модели при изменении параметра alpha.\n",
    "def ridge_mse(alpha_):\n",
    "    ridge_ = Ridge(alpha=alpha_)\n",
    "    model_ridge = ridge_.fit(X_cred_values, y_cred_values)\n",
    "    y_pred = model_ridge.predict(X_cred_values) \n",
    "    mse_in_sample = mean_squared_error(y_cred_values, y_pred)\n",
    "    return mse_in_sample\n",
    "mse_in_sample_alpha = list(map(ridge_mse, np.linspace(0.01, 100, 20000)))\n",
    "mse_df = pd.DataFrame(mse_in_sample_alpha, columns = ['mse'])\n",
    "mse_df['alpha'] = np.linspace(0.01, 1000, 20000)\n",
    "\n",
    "mse_df.set_index('alpha').plot();"
   ]
  },
  {
   "cell_type": "markdown",
   "metadata": {},
   "source": [
    "Видим, что MSE стабильно растет! Но в чем тогда смысл использовать L2-регуляризацию?\n",
    "Внимательный студент заметит, что MSE мы считаем на тренировочной выборке, тогда как в реальной жизни машин-лернерам-биг-датерам важней смотреть, как наша модель себя ведет на новых данных (тестовых). \n",
    "Давайте разобьем нашу выборку на тренировочную (70%) и тестовую (30%).\n",
    "\n"
   ]
  },
  {
   "cell_type": "code",
   "execution_count": 57,
   "metadata": {},
   "outputs": [
    {
     "name": "stdout",
     "output_type": "stream",
     "text": [
      "Количество наблюдений на тренировочной выборке: 280 \n",
      " Количество наблюдений на тестовой выборке:120\n"
     ]
    },
    {
     "data": {
      "text/plain": [
       "True"
      ]
     },
     "execution_count": 57,
     "metadata": {},
     "output_type": "execute_result"
    }
   ],
   "source": [
    "X_cred_values_train = X_cred_values[:int(X_cred_values.shape[0]*0.7), :]\n",
    "X_cred_values_test = X_cred_values[int(X_cred_values.shape[0]*0.7):, :]\n",
    "y_cred_values_train = y_cred_values[:int(y_cred_values.shape[0]*0.7), :]\n",
    "y_cred_values_test = y_cred_values[int(y_cred_values.shape[0]*0.7):, :]\n",
    "\n",
    "print(f\"Количество наблюдений на тренировочной выборке: {X_cred_values_train.shape[0]} \\n\",\n",
    "f\"Количество наблюдений на тестовой выборке:{X_cred_values_test.shape[0]}\")\n",
    "\n",
    "np.allclose(280/120, 7/3)"
   ]
  },
  {
   "cell_type": "code",
   "execution_count": 61,
   "metadata": {},
   "outputs": [
    {
     "data": {
      "image/png": "[encoded data removed]",
      "text/plain": [
       "<Figure size 720x360 with 1 Axes>"
      ]
     },
     "metadata": {
      "needs_background": "light"
     },
     "output_type": "display_data"
    }
   ],
   "source": [
    "def ridge_mse_test(alpha_):\n",
    "    ridge_ = Ridge(alpha=alpha_)\n",
    "    model_ridge = ridge_.fit(X_cred_values_train, y_cred_values_train)\n",
    "    y_pred = model_ridge.predict(X_cred_values_test) \n",
    "    mse_in_sample = mean_squared_error(y_cred_values_test, y_pred)\n",
    "    return mse_in_sample\n",
    "mse_out_sample_alpha = list(map(ridge_mse_test, np.linspace(0.01, 100, 2000)))\n",
    "mse_df = pd.DataFrame(mse_out_sample_alpha, columns = ['mse'])\n",
    "mse_df['alpha'] = np.linspace(0.01, 100, 2000)\n",
    "\n",
    "mse_df.set_index('alpha').plot();"
   ]
  },
  {
   "cell_type": "markdown",
   "metadata": {},
   "source": [
    "Теперь видим, что умеренная регуляризация позволила нам снизить тестовое значение MSE. Однако, при черезчур больших значений $alpha$ ошибка опять улетает в небеса."
   ]
  },
  {
   "cell_type": "code",
   "execution_count": 59,
   "metadata": {},
   "outputs": [
    {
     "data": {
      "image/png": "[encoded data removed]",
      "text/plain": [
       "<Figure size 720x360 with 1 Axes>"
      ]
     },
     "metadata": {
      "needs_background": "light"
     },
     "output_type": "display_data"
    }
   ],
   "source": [
    "# Давайте посмотрим, как изменяются коэффициенты модели при изменении параметра alpha.\n",
    "def lasso_coefs(alpha_):\n",
    "    lasso_ = Lasso(alpha=alpha_)\n",
    "    model_lasso = lasso_.fit(X_cred_values, y_cred_values)\n",
    "    coefs = model_lasso.coef_\n",
    "    return coefs\n",
    "models_different_alpha_lasso = list(map(lasso_coefs, np.linspace(0.01, 10, 200)))\n",
    "\n",
    "coefs_df_lasso = pd.DataFrame(np.vstack(models_different_alpha_lasso),\n",
    "                                 columns = X_cred.columns)\n",
    "coefs_df_lasso['alpha'] = np.linspace(-2, 10, 200)\n",
    "coefs_df_lasso.set_index(\"alpha\").plot();"
   ]
  },
  {
   "cell_type": "markdown",
   "metadata": {},
   "source": [
    "# 4. Практика\n",
    "\n"
   ]
  },
  {
   "cell_type": "code",
   "execution_count": 62,
   "metadata": {},
   "outputs": [
    {
     "name": "stdout",
     "output_type": "stream",
     "text": [
      "dict_keys(['data', 'target', 'feature_names', 'DESCR', 'filename'])\n",
      ".. _boston_dataset:\n",
      "\n",
      "Boston house prices dataset\n",
      "---------------------------\n",
      "\n",
      "**Data Set Characteristics:**  \n",
      "\n",
      "    :Number of Instances: 506 \n",
      "\n",
      "    :Number of Attributes: 13 numeric/categorical predictive. Median Value (attribute 14) is usually the target.\n",
      "\n",
      "    :Attribute Information (in order):\n",
      "        - CRIM     per capita crime rate by town\n",
      "        - ZN       proportion of residential land zoned for lots over 25,000 sq.ft.\n",
      "        - INDUS    proportion of non-retail business acres per town\n",
      "        - CHAS     Charles River dummy variable (= 1 if tract bounds river; 0 otherwise)\n",
      "        - NOX      nitric oxides concentration (parts per 10 million)\n",
      "        - RM       average number of rooms per dwelling\n",
      "        - AGE      proportion of owner-occupied units built prior to 1940\n",
      "        - DIS      weighted distances to five Boston employment centres\n",
      "        - RAD      index of accessibility to radial highways\n",
      "        - TAX      full-value property-tax rate per $10,000\n",
      "        - PTRATIO  pupil-teacher ratio by town\n",
      "        - B        1000(Bk - 0.63)^2 where Bk is the proportion of blacks by town\n",
      "        - LSTAT    % lower status of the population\n",
      "        - MEDV     Median value of owner-occupied homes in $1000's\n",
      "\n",
      "    :Missing Attribute Values: None\n",
      "\n",
      "    :Creator: Harrison, D. and Rubinfeld, D.L.\n",
      "\n",
      "This is a copy of UCI ML housing dataset.\n",
      "https://archive.ics.uci.edu/ml/machine-learning-databases/housing/\n",
      "\n",
      "\n",
      "This dataset was taken from the StatLib library which is maintained at Carnegie Mellon University.\n",
      "\n",
      "The Boston house-price data of Harrison, D. and Rubinfeld, D.L. 'Hedonic\n",
      "prices and the demand for clean air', J. Environ. Economics & Management,\n",
      "vol.5, 81-102, 1978.   Used in Belsley, Kuh & Welsch, 'Regression diagnostics\n",
      "...', Wiley, 1980.   N.B. Various transformations are used in the table on\n",
      "pages 244-261 of the latter.\n",
      "\n",
      "The Boston house-price data has been used in many machine learning papers that address regression\n",
      "problems.   \n",
      "     \n",
      ".. topic:: References\n",
      "\n",
      "   - Belsley, Kuh & Welsch, 'Regression diagnostics: Identifying Influential Data and Sources of Collinearity', Wiley, 1980. 244-261.\n",
      "   - Quinlan,R. (1993). Combining Instance-Based and Model-Based Learning. In Proceedings on the Tenth International Conference of Machine Learning, 236-243, University of Massachusetts, Amherst. Morgan Kaufmann.\n",
      "\n"
     ]
    },
    {
     "data": {
      "text/html": [
       "<div>\n",
       "<style scoped>\n",
       "    .dataframe tbody tr th:only-of-type {\n",
       "        vertical-align: middle;\n",
       "    }\n",
       "\n",
       "    .dataframe tbody tr th {\n",
       "        vertical-align: top;\n",
       "    }\n",
       "\n",
       "    .dataframe thead th {\n",
       "        text-align: right;\n",
       "    }\n",
       "</style>\n",
       "<table border=\"1\" class=\"dataframe\">\n",
       "  <thead>\n",
       "    <tr style=\"text-align: right;\">\n",
       "      <th></th>\n",
       "      <th>CRIM</th>\n",
       "      <th>ZN</th>\n",
       "      <th>INDUS</th>\n",
       "      <th>CHAS</th>\n",
       "      <th>NOX</th>\n",
       "      <th>RM</th>\n",
       "      <th>AGE</th>\n",
       "      <th>DIS</th>\n",
       "      <th>RAD</th>\n",
       "      <th>TAX</th>\n",
       "      <th>PTRATIO</th>\n",
       "      <th>B</th>\n",
       "      <th>LSTAT</th>\n",
       "      <th>medv</th>\n",
       "    </tr>\n",
       "  </thead>\n",
       "  <tbody>\n",
       "    <tr>\n",
       "      <th>0</th>\n",
       "      <td>0.00632</td>\n",
       "      <td>18.0</td>\n",
       "      <td>2.31</td>\n",
       "      <td>0.0</td>\n",
       "      <td>0.538</td>\n",
       "      <td>6.575</td>\n",
       "      <td>65.2</td>\n",
       "      <td>4.0900</td>\n",
       "      <td>1.0</td>\n",
       "      <td>296.0</td>\n",
       "      <td>15.3</td>\n",
       "      <td>396.90</td>\n",
       "      <td>4.98</td>\n",
       "      <td>24.0</td>\n",
       "    </tr>\n",
       "    <tr>\n",
       "      <th>1</th>\n",
       "      <td>0.02731</td>\n",
       "      <td>0.0</td>\n",
       "      <td>7.07</td>\n",
       "      <td>0.0</td>\n",
       "      <td>0.469</td>\n",
       "      <td>6.421</td>\n",
       "      <td>78.9</td>\n",
       "      <td>4.9671</td>\n",
       "      <td>2.0</td>\n",
       "      <td>242.0</td>\n",
       "      <td>17.8</td>\n",
       "      <td>396.90</td>\n",
       "      <td>9.14</td>\n",
       "      <td>21.6</td>\n",
       "    </tr>\n",
       "    <tr>\n",
       "      <th>2</th>\n",
       "      <td>0.02729</td>\n",
       "      <td>0.0</td>\n",
       "      <td>7.07</td>\n",
       "      <td>0.0</td>\n",
       "      <td>0.469</td>\n",
       "      <td>7.185</td>\n",
       "      <td>61.1</td>\n",
       "      <td>4.9671</td>\n",
       "      <td>2.0</td>\n",
       "      <td>242.0</td>\n",
       "      <td>17.8</td>\n",
       "      <td>392.83</td>\n",
       "      <td>4.03</td>\n",
       "      <td>34.7</td>\n",
       "    </tr>\n",
       "    <tr>\n",
       "      <th>3</th>\n",
       "      <td>0.03237</td>\n",
       "      <td>0.0</td>\n",
       "      <td>2.18</td>\n",
       "      <td>0.0</td>\n",
       "      <td>0.458</td>\n",
       "      <td>6.998</td>\n",
       "      <td>45.8</td>\n",
       "      <td>6.0622</td>\n",
       "      <td>3.0</td>\n",
       "      <td>222.0</td>\n",
       "      <td>18.7</td>\n",
       "      <td>394.63</td>\n",
       "      <td>2.94</td>\n",
       "      <td>33.4</td>\n",
       "    </tr>\n",
       "    <tr>\n",
       "      <th>4</th>\n",
       "      <td>0.06905</td>\n",
       "      <td>0.0</td>\n",
       "      <td>2.18</td>\n",
       "      <td>0.0</td>\n",
       "      <td>0.458</td>\n",
       "      <td>7.147</td>\n",
       "      <td>54.2</td>\n",
       "      <td>6.0622</td>\n",
       "      <td>3.0</td>\n",
       "      <td>222.0</td>\n",
       "      <td>18.7</td>\n",
       "      <td>396.90</td>\n",
       "      <td>5.33</td>\n",
       "      <td>36.2</td>\n",
       "    </tr>\n",
       "  </tbody>\n",
       "</table>\n",
       "</div>"
      ],
      "text/plain": [
       "      CRIM    ZN  INDUS  CHAS    NOX     RM   AGE     DIS  RAD    TAX  \\\n",
       "0  0.00632  18.0   2.31   0.0  0.538  6.575  65.2  4.0900  1.0  296.0   \n",
       "1  0.02731   0.0   7.07   0.0  0.469  6.421  78.9  4.9671  2.0  242.0   \n",
       "2  0.02729   0.0   7.07   0.0  0.469  7.185  61.1  4.9671  2.0  242.0   \n",
       "3  0.03237   0.0   2.18   0.0  0.458  6.998  45.8  6.0622  3.0  222.0   \n",
       "4  0.06905   0.0   2.18   0.0  0.458  7.147  54.2  6.0622  3.0  222.0   \n",
       "\n",
       "   PTRATIO       B  LSTAT  medv  \n",
       "0     15.3  396.90   4.98  24.0  \n",
       "1     17.8  396.90   9.14  21.6  \n",
       "2     17.8  392.83   4.03  34.7  \n",
       "3     18.7  394.63   2.94  33.4  \n",
       "4     18.7  396.90   5.33  36.2  "
      ]
     },
     "execution_count": 62,
     "metadata": {},
     "output_type": "execute_result"
    }
   ],
   "source": [
    "from sklearn.datasets import load_boston\n",
    "print(load_boston().keys())\n",
    "print(load_boston()['DESCR'])\n",
    "df = pd.DataFrame(load_boston()['data'], columns = load_boston()['feature_names'])\n",
    "df['medv'] = load_boston()['target']\n",
    "df.head()"
   ]
  },
  {
   "cell_type": "code",
   "execution_count": 64,
   "metadata": {},
   "outputs": [
    {
     "name": "stdout",
     "output_type": "stream",
     "text": [
      "                            OLS Regression Results                            \n",
      "==============================================================================\n",
      "Dep. Variable:                   medv   R-squared:                       0.741\n",
      "Model:                            OLS   Adj. R-squared:                  0.734\n",
      "Method:                 Least Squares   F-statistic:                     108.1\n",
      "Date:                Tue, 27 Apr 2021   Prob (F-statistic):          6.72e-135\n",
      "Time:                        10:03:30   Log-Likelihood:                -1498.8\n",
      "No. Observations:                 506   AIC:                             3026.\n",
      "Df Residuals:                     492   BIC:                             3085.\n",
      "Df Model:                          13                                         \n",
      "Covariance Type:            nonrobust                                         \n",
      "==============================================================================\n",
      "                 coef    std err          t      P>|t|      [0.025      0.975]\n",
      "------------------------------------------------------------------------------\n",
      "Intercept     36.4595      5.103      7.144      0.000      26.432      46.487\n",
      "CRIM          -0.1080      0.033     -3.287      0.001      -0.173      -0.043\n",
      "ZN             0.0464      0.014      3.382      0.001       0.019       0.073\n",
      "INDUS          0.0206      0.061      0.334      0.738      -0.100       0.141\n",
      "CHAS           2.6867      0.862      3.118      0.002       0.994       4.380\n",
      "NOX          -17.7666      3.820     -4.651      0.000     -25.272     -10.262\n",
      "RM             3.8099      0.418      9.116      0.000       2.989       4.631\n",
      "AGE            0.0007      0.013      0.052      0.958      -0.025       0.027\n",
      "DIS           -1.4756      0.199     -7.398      0.000      -1.867      -1.084\n",
      "RAD            0.3060      0.066      4.613      0.000       0.176       0.436\n",
      "TAX           -0.0123      0.004     -3.280      0.001      -0.020      -0.005\n",
      "PTRATIO       -0.9527      0.131     -7.283      0.000      -1.210      -0.696\n",
      "B              0.0093      0.003      3.467      0.001       0.004       0.015\n",
      "LSTAT         -0.5248      0.051    -10.347      0.000      -0.624      -0.425\n",
      "==============================================================================\n",
      "Omnibus:                      178.041   Durbin-Watson:                   1.078\n",
      "Prob(Omnibus):                  0.000   Jarque-Bera (JB):              783.126\n",
      "Skew:                           1.521   Prob(JB):                    8.84e-171\n",
      "Kurtosis:                       8.281   Cond. No.                     1.51e+04\n",
      "==============================================================================\n",
      "\n",
      "Notes:\n",
      "[1] Standard Errors assume that the covariance matrix of the errors is correctly specified.\n",
      "[2] The condition number is large, 1.51e+04. This might indicate that there are\n",
      "strong multicollinearity or other numerical problems.\n"
     ]
    }
   ],
   "source": [
    "# Построим регрессию\n",
    "import statsmodels.formula.api as smf\n",
    "frml = \"medv ~ \" + \" + \".join(df.drop(\"medv\", axis=1).columns.tolist())\n",
    "reg_mult = smf.ols(formula = frml, data=df).fit()\n",
    "print(reg_mult.summary())"
   ]
  },
  {
   "cell_type": "code",
   "execution_count": 65,
   "metadata": {},
   "outputs": [
    {
     "data": {
      "text/plain": [
       "Intercept    36.459488\n",
       "CRIM         -0.108011\n",
       "ZN            0.046420\n",
       "INDUS         0.020559\n",
       "CHAS          2.686734\n",
       "NOX         -17.766611\n",
       "RM            3.809865\n",
       "AGE           0.000692\n",
       "DIS          -1.475567\n",
       "RAD           0.306049\n",
       "TAX          -0.012335\n",
       "PTRATIO      -0.952747\n",
       "B             0.009312\n",
       "LSTAT        -0.524758\n",
       "dtype: float64"
      ]
     },
     "execution_count": 65,
     "metadata": {},
     "output_type": "execute_result"
    }
   ],
   "source": [
    "reg_mult.params"
   ]
  },
  {
   "cell_type": "code",
   "execution_count": 67,
   "metadata": {
    "scrolled": true
   },
   "outputs": [
    {
     "name": "stdout",
     "output_type": "stream",
     "text": [
      "                            OLS Regression Results                            \n",
      "==============================================================================\n",
      "Dep. Variable:                   medv   R-squared:                       0.556\n",
      "Model:                            OLS   Adj. R-squared:                  0.553\n",
      "Method:                 Least Squares   F-statistic:                     209.3\n",
      "Date:                Tue, 27 Apr 2021   Prob (F-statistic):           4.86e-88\n",
      "Time:                        10:04:24   Log-Likelihood:                -1635.0\n",
      "No. Observations:                 506   AIC:                             3278.\n",
      "Df Residuals:                     502   BIC:                             3295.\n",
      "Df Model:                           3                                         \n",
      "Covariance Type:            nonrobust                                         \n",
      "==============================================================================\n",
      "                 coef    std err          t      P>|t|      [0.025      0.975]\n",
      "------------------------------------------------------------------------------\n",
      "Intercept     36.0885      1.470     24.553      0.000      33.201      38.976\n",
      "LSTAT         -1.3921      0.167     -8.313      0.000      -1.721      -1.063\n",
      "AGE           -0.0007      0.020     -0.036      0.971      -0.040       0.038\n",
      "LSTAT:AGE      0.0042      0.002      2.244      0.025       0.001       0.008\n",
      "==============================================================================\n",
      "Omnibus:                      135.601   Durbin-Watson:                   0.965\n",
      "Prob(Omnibus):                  0.000   Jarque-Bera (JB):              296.955\n",
      "Skew:                           1.417   Prob(JB):                     3.29e-65\n",
      "Kurtosis:                       5.461   Cond. No.                     6.88e+03\n",
      "==============================================================================\n",
      "\n",
      "Notes:\n",
      "[1] Standard Errors assume that the covariance matrix of the errors is correctly specified.\n",
      "[2] The condition number is large, 6.88e+03. This might indicate that there are\n",
      "strong multicollinearity or other numerical problems.\n"
     ]
    }
   ],
   "source": [
    "frml = \"medv ~ LSTAT * AGE\"\n",
    "reg_mult = smf.ols(formula = frml, data=df).fit()\n",
    "print(reg_mult.summary())"
   ]
  },
  {
   "cell_type": "code",
   "execution_count": 68,
   "metadata": {},
   "outputs": [
    {
     "name": "stdout",
     "output_type": "stream",
     "text": [
      "                            OLS Regression Results                            \n",
      "==============================================================================\n",
      "Dep. Variable:                   medv   R-squared:                       0.641\n",
      "Model:                            OLS   Adj. R-squared:                  0.639\n",
      "Method:                 Least Squares   F-statistic:                     448.5\n",
      "Date:                Tue, 27 Apr 2021   Prob (F-statistic):          1.56e-112\n",
      "Time:                        10:04:24   Log-Likelihood:                -1581.3\n",
      "No. Observations:                 506   AIC:                             3169.\n",
      "Df Residuals:                     503   BIC:                             3181.\n",
      "Df Model:                           2                                         \n",
      "Covariance Type:            nonrobust                                         \n",
      "=================================================================================\n",
      "                    coef    std err          t      P>|t|      [0.025      0.975]\n",
      "---------------------------------------------------------------------------------\n",
      "Intercept        42.8620      0.872     49.149      0.000      41.149      44.575\n",
      "LSTAT            -2.3328      0.124    -18.843      0.000      -2.576      -2.090\n",
      "I(LSTAT ** 2)     0.0435      0.004     11.628      0.000       0.036       0.051\n",
      "==============================================================================\n",
      "Omnibus:                      107.006   Durbin-Watson:                   0.921\n",
      "Prob(Omnibus):                  0.000   Jarque-Bera (JB):              228.388\n",
      "Skew:                           1.128   Prob(JB):                     2.55e-50\n",
      "Kurtosis:                       5.397   Cond. No.                     1.13e+03\n",
      "==============================================================================\n",
      "\n",
      "Notes:\n",
      "[1] Standard Errors assume that the covariance matrix of the errors is correctly specified.\n",
      "[2] The condition number is large, 1.13e+03. This might indicate that there are\n",
      "strong multicollinearity or other numerical problems.\n"
     ]
    }
   ],
   "source": [
    "frml = \"medv ~ LSTAT + I(LSTAT**2)\"\n",
    "reg_mult = smf.ols(formula = frml, data=df).fit()\n",
    "print(reg_mult.summary())"
   ]
  },
  {
   "cell_type": "code",
   "execution_count": 69,
   "metadata": {},
   "outputs": [
    {
     "name": "stdout",
     "output_type": "stream",
     "text": [
      "                            OLS Regression Results                            \n",
      "==============================================================================\n",
      "Dep. Variable:                   medv   R-squared:                       0.668\n",
      "Model:                            OLS   Adj. R-squared:                  0.667\n",
      "Method:                 Least Squares   F-statistic:                     506.4\n",
      "Date:                Tue, 27 Apr 2021   Prob (F-statistic):          3.30e-121\n",
      "Time:                        10:04:24   Log-Likelihood:                -1561.2\n",
      "No. Observations:                 506   AIC:                             3128.\n",
      "Df Residuals:                     503   BIC:                             3141.\n",
      "Df Model:                           2                                         \n",
      "Covariance Type:            nonrobust                                         \n",
      "=====================================================================================\n",
      "                        coef    std err          t      P>|t|      [0.025      0.975]\n",
      "-------------------------------------------------------------------------------------\n",
      "Intercept            68.6836      2.535     27.089      0.000      63.702      73.665\n",
      "LSTAT                 0.9008      0.102      8.856      0.000       0.701       1.101\n",
      "I(np.sqrt(LSTAT))   -20.1734      1.471    -13.709      0.000     -23.064     -17.282\n",
      "I(np.abs(LSTAT))      0.9008      0.102      8.856      0.000       0.701       1.101\n",
      "==============================================================================\n",
      "Omnibus:                      116.598   Durbin-Watson:                   0.925\n",
      "Prob(Omnibus):                  0.000   Jarque-Bera (JB):              304.768\n",
      "Skew:                           1.136   Prob(JB):                     6.61e-67\n",
      "Kurtosis:                       6.048   Cond. No.                     6.52e+15\n",
      "==============================================================================\n",
      "\n",
      "Notes:\n",
      "[1] Standard Errors assume that the covariance matrix of the errors is correctly specified.\n",
      "[2] The smallest eigenvalue is 5.17e-27. This might indicate that there are\n",
      "strong multicollinearity problems or that the design matrix is singular.\n"
     ]
    }
   ],
   "source": [
    "# Можем и корень квадратный включить (но это не очень полезно)\n",
    "frml = \"medv ~ LSTAT + I(np.sqrt(LSTAT)) + I(np.abs(LSTAT))\"\n",
    "reg_mult = smf.ols(formula = frml, data=df).fit()\n",
    "print(reg_mult.summary())"
   ]
  },
  {
   "cell_type": "code",
   "execution_count": 70,
   "metadata": {},
   "outputs": [
    {
     "name": "stdout",
     "output_type": "stream",
     "text": [
      "                            OLS Regression Results                            \n",
      "==============================================================================\n",
      "Dep. Variable:        I(np.log(medv))   R-squared:                       0.648\n",
      "Model:                            OLS   Adj. R-squared:                  0.647\n",
      "Method:                 Least Squares   F-statistic:                     928.1\n",
      "Date:                Tue, 27 Apr 2021   Prob (F-statistic):          2.23e-116\n",
      "Time:                        10:04:24   Log-Likelihood:               -0.57634\n",
      "No. Observations:                 506   AIC:                             5.153\n",
      "Df Residuals:                     504   BIC:                             13.61\n",
      "Df Model:                           1                                         \n",
      "Covariance Type:            nonrobust                                         \n",
      "==============================================================================\n",
      "                 coef    std err          t      P>|t|      [0.025      0.975]\n",
      "------------------------------------------------------------------------------\n",
      "Intercept      3.6176      0.022    164.654      0.000       3.574       3.661\n",
      "LSTAT         -0.0461      0.002    -30.465      0.000      -0.049      -0.043\n",
      "==============================================================================\n",
      "Omnibus:                       27.562   Durbin-Watson:                   0.909\n",
      "Prob(Omnibus):                  0.000   Jarque-Bera (JB):               50.719\n",
      "Skew:                           0.351   Prob(JB):                     9.69e-12\n",
      "Kurtosis:                       4.383   Cond. No.                         29.7\n",
      "==============================================================================\n",
      "\n",
      "Notes:\n",
      "[1] Standard Errors assume that the covariance matrix of the errors is correctly specified.\n"
     ]
    }
   ],
   "source": [
    "# логафрим целевой переменной\n",
    "frml = \"I(np.log(medv)) ~ LSTAT\"\n",
    "reg_mult = smf.ols(formula = frml, data=df).fit()\n",
    "print(reg_mult.summary())"
   ]
  },
  {
   "cell_type": "code",
   "execution_count": 71,
   "metadata": {},
   "outputs": [],
   "source": [
    "# Бейсбол\n",
    "hitters = pd.read_csv('Hitters.csv').dropna()\n",
    "hitters.set_index(\"Unnamed: 0\", inplace=True)"
   ]
  },
  {
   "cell_type": "code",
   "execution_count": 72,
   "metadata": {},
   "outputs": [],
   "source": [
    "y, X = hitters['Salary'], hitters.drop(\"Salary\", axis=1).select_dtypes(\"int\")"
   ]
  },
  {
   "cell_type": "code",
   "execution_count": 74,
   "metadata": {
    "scrolled": true
   },
   "outputs": [
    {
     "data": {
      "image/png": "[encoded data removed]",
      "text/plain": [
       "<Figure size 720x360 with 1 Axes>"
      ]
     },
     "metadata": {
      "needs_background": "light"
     },
     "output_type": "display_data"
    }
   ],
   "source": [
    "# Давайте посмотрим, как изменяются коэффициенты модели при изменении параметра alpha.\n",
    "X_scal = sc.fit_transform(X)\n",
    "y_scal = sc.fit_transform(y.values.reshape(-1,1))\n",
    "def ridge_coefs(alpha_):\n",
    "    ridge_ = Ridge(alpha=alpha_)\n",
    "    model_ridge = ridge_.fit(X_scal, y_scal)\n",
    "    coefs = model_ridge.coef_[0, :]\n",
    "    return coefs\n",
    "grid_alpha = 10**np.linspace(-2, 2, 100)\n",
    "models_different_alpha = list(map(ridge_coefs, grid_alpha))\n",
    "\n",
    "coefs_df = pd.DataFrame(np.vstack(models_different_alpha),\n",
    "                                 columns = X.columns)\n",
    "coefs_df['alpha'] = grid_alpha\n",
    "coefs_df.set_index('alpha').plot();"
   ]
  },
  {
   "cell_type": "code",
   "execution_count": 79,
   "metadata": {},
   "outputs": [
    {
     "data": {
      "image/png": "[encoded data removed]",
      "text/plain": [
       "<Figure size 720x360 with 1 Axes>"
      ]
     },
     "metadata": {
      "needs_background": "light"
     },
     "output_type": "display_data"
    }
   ],
   "source": [
    "# Давайте посмотрим, как изменяются коэффициенты модели при изменении параметра alpha.\n",
    "X_scal = sc.fit_transform(X)\n",
    "y_scal = sc.fit_transform(y.values.reshape(-1,1))\n",
    "def lasso_coefs(alpha_):\n",
    "    lasso_ = Lasso(alpha=alpha_)\n",
    "    model_lasso = lasso_.fit(X_scal, y_scal)\n",
    "    coefs = model_lasso.coef_\n",
    "    return coefs\n",
    "grid_alpha = 10**np.linspace(-2, 0.01, 100)\n",
    "models_different_alpha = list(map(lasso_coefs, grid_alpha))\n",
    "\n",
    "coefs_df = pd.DataFrame(np.vstack(models_different_alpha),\n",
    "                                 columns = X.columns)\n",
    "coefs_df['alpha'] = grid_alpha\n",
    "coefs_df.set_index('alpha').plot();"
   ]
  },
  {
   "cell_type": "code",
   "execution_count": null,
   "metadata": {},
   "outputs": [],
   "source": []
  }
 ],
 "metadata": {
  "kernelspec": {
   "display_name": "Python 3",
   "language": "python",
   "name": "python3"
  },
  "language_info": {
   "codemirror_mode": {
    "name": "ipython",
    "version": 3
   },
   "file_extension": ".py",
   "mimetype": "text/x-python",
   "name": "python",
   "nbconvert_exporter": "python",
   "pygments_lexer": "ipython3",
   "version": "3.8.3"
  },
  "toc": {
   "base_numbering": 1,
   "nav_menu": {},
   "number_sections": true,
   "sideBar": true,
   "skip_h1_title": false,
   "title_cell": "Table of Contents",
   "title_sidebar": "Contents",
   "toc_cell": false,
   "toc_position": {
    "height": "calc(100% - 180px)",
    "left": "10px",
    "top": "150px",
    "width": "301.171875px"
   },
   "toc_section_display": true,
   "toc_window_display": false
  },
  "varInspector": {
   "cols": {
    "lenName": 16,
    "lenType": 16,
    "lenVar": 40
   },
   "kernels_config": {
    "python": {
     "delete_cmd_postfix": "",
     "delete_cmd_prefix": "del ",
     "library": "var_list.py",
     "varRefreshCmd": "print(var_dic_list())"
    },
    "r": {
     "delete_cmd_postfix": ") ",
     "delete_cmd_prefix": "rm(",
     "library": "var_list.r",
     "varRefreshCmd": "cat(var_dic_list()) "
    }
   },
   "position": {
    "height": "144px",
    "left": "930px",
    "right": "20px",
    "top": "93px",
    "width": "350px"
   },
   "types_to_exclude": [
    "module",
    "function",
    "builtin_function_or_method",
    "instance",
    "_Feature"
   ],
   "window_display": false
  }
 },
 "nbformat": 4,
 "nbformat_minor": 4
}
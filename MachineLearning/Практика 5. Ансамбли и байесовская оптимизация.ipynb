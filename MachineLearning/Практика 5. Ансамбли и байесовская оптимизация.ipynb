{
 "cells": [
  {
   "cell_type": "markdown",
   "source": [
    "***Пример подбора оптимальных гиперпараметров для ансамблевых методов при помощи Байесовской оптимизации,\n",
    "используя данные по сердечно-сосудистым заболеваниям***"
   ],
   "metadata": {
    "collapsed": false,
    "pycharm": {
     "name": "#%% md\n"
    }
   }
  },
  {
   "cell_type": "code",
   "execution_count": 31,
   "metadata": {
    "collapsed": true
   },
   "outputs": [],
   "source": [
    "import os\n",
    "import warnings\n",
    "import pprint\n",
    "from time import time\n",
    "from datetime import datetime\n",
    "\n",
    "# Files\n",
    "import pickle\n",
    "import pandas as pd\n",
    "import numpy as np\n",
    "\n",
    "from sklearn.metrics import (roc_auc_score, recall_score,\n",
    "                             f1_score, precision_score)\n",
    "from sklearn.metrics import make_scorer\n",
    "from sklearn.preprocessing import StandardScaler\n",
    "from sklearn.pipeline import Pipeline\n",
    "from sklearn.compose import ColumnTransformer\n",
    "from sklearn.impute import SimpleImputer\n",
    "import category_encoders as ce\n",
    "\n",
    "from sklearn.model_selection import StratifiedKFold, train_test_split\n",
    "from sklearn.ensemble import RandomForestClassifier\n",
    "from xgboost import XGBClassifier\n",
    "from lightgbm import LGBMClassifier\n",
    "from catboost import CatBoostClassifier\n",
    "\n",
    "from skopt.space import Real, Categorical, Integer\n",
    "from skopt import BayesSearchCV\n",
    "from skopt.callbacks import VerboseCallback, DeadlineStopper\n"
   ]
  },
  {
   "cell_type": "code",
   "execution_count": 34,
   "outputs": [
    {
     "name": "stdout",
     "output_type": "stream",
     "text": [
      "(49000, 11) (49000,) (21000, 11) (21000,)\n"
     ]
    }
   ],
   "source": [
    "df = pd.read_csv('https://raw.githubusercontent.com/iakubovskii7/DataScience/main/DataAnalysis/Data/cardio.csv', sep=';')\n",
    "df.drop(\"id\", axis=1, inplace=True)\n",
    "X_train, X_test, y_train, y_test = train_test_split(df.drop(\"cardio\", axis=1), df['cardio'],\n",
    "                                                    test_size=0.3, random_state=17)\n",
    "X_train.head()\n",
    "print(X_train.shape, y_train.shape, X_test.shape, y_test.shape)"
   ],
   "metadata": {
    "collapsed": false,
    "pycharm": {
     "name": "#%%\n"
    }
   }
  },
  {
   "cell_type": "code",
   "execution_count": 33,
   "outputs": [
    {
     "data": {
      "text/plain": "age            7791\ngender            2\nheight          101\nweight          251\nap_hi           146\nap_lo           139\ncholesterol       3\ngluc              3\nsmoke             2\nalco              2\nactive            2\ndtype: int64"
     },
     "execution_count": 33,
     "metadata": {},
     "output_type": "execute_result"
    }
   ],
   "source": [
    "X_train.nunique()"
   ],
   "metadata": {
    "collapsed": false,
    "pycharm": {
     "name": "#%%\n"
    }
   }
  },
  {
   "cell_type": "code",
   "execution_count": 17,
   "outputs": [],
   "source": [
    "# TRANSFORMATION PIPELINE\n",
    "\n",
    "categorical_features = ['cholesterol',\n",
    "                        'gluc',\n",
    "                        'smoke',\n",
    "                        'alco',\n",
    "                        'active',\n",
    "                        'gender'\n",
    "                        ]\n",
    "for col_cat in categorical_features:\n",
    "    X_train[col_cat] = X_train[col_cat].astype(\"category\")\n",
    "    X_test[col_cat] = X_test[col_cat].astype(\"category\")\n",
    "\n",
    "numeric_features = [i for i in X_train.columns if i not in categorical_features]\n",
    "\n",
    "numeric_transformer = Pipeline(steps=[\n",
    "    ('imputer', SimpleImputer(strategy='median')),\n",
    "    ('scaler', StandardScaler(with_std=True, with_mean=True))])\n",
    "\n",
    "categorical_transformer = ce.OneHotEncoder(use_cat_names=True)\n",
    "# categorical_transformer = OneHotEncoder(drop='if_binary')\n",
    "# categorical_transformer = DataFrameOneHotEncoder(col_overrule_params={\"in_app_purchase\":{\"drop\":\"first\"}})\n",
    "# categorical_transformer = ce.GLMMEncoder()\n",
    "# categorical_transformer = ce.CatBoostEncoder()\n",
    "\n",
    "preprocessor = ColumnTransformer(\n",
    "    transformers=[\n",
    "        ('num', numeric_transformer, numeric_features),\n",
    "        ('cat', categorical_transformer, categorical_features)])"
   ],
   "metadata": {
    "collapsed": false,
    "pycharm": {
     "name": "#%%\n"
    }
   }
  },
  {
   "cell_type": "code",
   "execution_count": 40,
   "outputs": [],
   "source": [
    "# BAYESIAN VALIDATION\n",
    "\n",
    "def report_perf(optimizer, X, y, title, callbacks=None):\n",
    "    \"\"\"\n",
    "    A wrapper for measuring time and performances of different optmizers\n",
    "    optimizer = a sklearn or a skopt optimizer\n",
    "    X = the training set\n",
    "    y = our target\n",
    "    title = a string label for the experiment\n",
    "    \"\"\"\n",
    "    start = time()\n",
    "    if callbacks:\n",
    "        optimizer.fit(X, y, callback=callbacks)\n",
    "    else:\n",
    "        optimizer.fit(X, y)\n",
    "    d = pd.DataFrame(optimizer.cv_results_)\n",
    "    best_score = optimizer.best_score_\n",
    "    best_score_std = d.iloc[optimizer.best_index_].std_test_score\n",
    "    best_params = optimizer.best_params_\n",
    "    print((title + \" took %.2f seconds,  candidates checked: %d, best CV score: %.3f \"\n",
    "           + u\"\\u00B1\" + \" %.3f\") % (time() - start,\n",
    "                                     len(optimizer.cv_results_['params']),\n",
    "                                     best_score,\n",
    "                                     best_score_std))\n",
    "    print('Best parameters:')\n",
    "    pprint.pprint(best_params)\n",
    "    return best_params, optimizer\n",
    "\n",
    "\n",
    "# Define scoring function\n",
    "recall_opt = make_scorer(recall_score, greater_is_better=True, needs_threshold=False)\n",
    "\n",
    "# Cross-validation\n",
    "skf = StratifiedKFold(n_splits=5)\n",
    "\n",
    "pipe_forest = Pipeline([('scl', preprocessor),\n",
    "                        ('clf', RandomForestClassifier(n_jobs=-1, oob_score=False))\n",
    "                        ])  # pipeline with all steps\n",
    "forest_search_spaces = {'clf__max_depth': Integer(3, 15),\n",
    "                         'clf__n_estimators': Integer(100, 1000),\n",
    "                         'clf__max_features': ['sqrt', 'log2'],\n",
    "                         'clf__min_samples_leaf': Integer(1, 15)\n",
    "                         }  # parameters for Grid\n",
    "\n",
    "pipe_xgboost = Pipeline([('scl', preprocessor),\n",
    "                        ('clf', XGBClassifier(eval_metric=\"logloss\", n_jobs=-1, use_label_encoder=False))\n",
    "                        ])  # pipeline with all steps\n",
    "xgboost_search_spaces = {\"subsample\": Real(0.5, 0.9, 'log-uniform'),\n",
    "                         'max_depth': Integer(1, 5),\n",
    "                         'colsample_bytree': Real(0.75, 0.9, 'log-uniform'),\n",
    "                         'colsample_bylevel': Real(0.75, 0.9, 'log-uniform'),\n",
    "                         'colsample_bynode': Real(0.75, 0.9, 'log-uniform'),\n",
    "                         'learning_rate': Real(0.01, 0.5, 'log-uniform'),\n",
    "                         'alpha': Real(0.01, 5, 'log-uniform'),\n",
    "                         'lambda': Real(0.01, 5, 'log-uniform'),\n",
    "                         'n_estimators': Integer(100, 300)\n",
    "                         }\n",
    "xgboost_search_spaces = {\"clf__\" + key: value for key, value in xgboost_search_spaces.items()}"
   ],
   "metadata": {
    "collapsed": false,
    "pycharm": {
     "name": "#%%\n"
    }
   }
  },
  {
   "cell_type": "markdown",
   "source": [
    "# Подбор для случайного леса"
   ],
   "metadata": {
    "collapsed": false,
    "pycharm": {
     "name": "#%% md\n"
    }
   }
  },
  {
   "cell_type": "code",
   "execution_count": 35,
   "outputs": [
    {
     "name": "stdout",
     "output_type": "stream",
     "text": [
      "Iteration No: 1 started. Searching for the next optimal point.\n",
      "Iteration No: 1 ended. Search finished for the next optimal point.\n",
      "Time taken: 14.4397\n",
      "Function value obtained: -0.6714\n",
      "Current minimum: -0.6714\n",
      "Iteration No: 2 started. Searching for the next optimal point.\n",
      "Iteration No: 2 ended. Search finished for the next optimal point.\n",
      "Time taken: 6.2953\n",
      "Function value obtained: -0.6979\n",
      "Current minimum: -0.6979\n",
      "Iteration No: 3 started. Searching for the next optimal point.\n",
      "Iteration No: 3 ended. Search finished for the next optimal point.\n",
      "Time taken: 13.5004\n",
      "Function value obtained: -0.6760\n",
      "Current minimum: -0.6979\n",
      "Iteration No: 4 started. Searching for the next optimal point.\n",
      "cardio took 35.53 seconds,  candidates checked: 3, best CV score: 0.698 ± 0.007\n",
      "Best parameters:\n",
      "OrderedDict([('clf__max_depth', 11),\n",
      "             ('clf__max_features', 'sqrt'),\n",
      "             ('clf__min_samples_leaf', 13),\n",
      "             ('clf__n_estimators', 236)])\n",
      "0.6923882017126546\n"
     ]
    }
   ],
   "source": [
    "model_param_search = BayesSearchCV(pipe_forest,\n",
    "                                   forest_search_spaces,\n",
    "                                   scoring=recall_opt,\n",
    "                                   cv=skf,\n",
    "                                   n_iter=3,\n",
    "                                   n_jobs=1,\n",
    "                                   return_train_score=True,\n",
    "                                   refit=True,\n",
    "                                   random_state=17\n",
    "                                   )\n",
    "\n",
    "best_params,  optimizer_model = report_perf(model_param_search,\n",
    "                                            title=\"cardio\",\n",
    "                                            X=X_train, y=y_train,\n",
    "                                            callbacks=[VerboseCallback(100),\n",
    "                                                       DeadlineStopper(60 * 10)\n",
    "                                                       ])\n",
    "print(recall_score(y_test, optimizer_model.predict(X_test)))"
   ],
   "metadata": {
    "collapsed": false,
    "pycharm": {
     "name": "#%%\n"
    }
   }
  },
  {
   "cell_type": "markdown",
   "source": [
    "# XGBoost"
   ],
   "metadata": {
    "collapsed": false,
    "pycharm": {
     "name": "#%% md\n"
    }
   }
  },
  {
   "cell_type": "code",
   "execution_count": 41,
   "outputs": [
    {
     "name": "stdout",
     "output_type": "stream",
     "text": [
      "Iteration No: 1 started. Searching for the next optimal point.\n",
      "Iteration No: 1 ended. Search finished for the next optimal point.\n",
      "Time taken: 4.0731\n",
      "Function value obtained: -0.6797\n",
      "Current minimum: -0.6797\n",
      "Iteration No: 2 started. Searching for the next optimal point.\n",
      "Iteration No: 2 ended. Search finished for the next optimal point.\n",
      "Time taken: 4.6732\n",
      "Function value obtained: -0.6814\n",
      "Current minimum: -0.6814\n",
      "Iteration No: 3 started. Searching for the next optimal point.\n",
      "Iteration No: 3 ended. Search finished for the next optimal point.\n",
      "Time taken: 3.9285\n",
      "Function value obtained: -0.6960\n",
      "Current minimum: -0.6960\n",
      "Iteration No: 4 started. Searching for the next optimal point.\n",
      "Iteration No: 4 ended. Search finished for the next optimal point.\n",
      "Time taken: 6.3372\n",
      "Function value obtained: -0.6974\n",
      "Current minimum: -0.6974\n",
      "Iteration No: 5 started. Searching for the next optimal point.\n",
      "Iteration No: 5 ended. Search finished for the next optimal point.\n",
      "Time taken: 2.6316\n",
      "Function value obtained: -0.6476\n",
      "Current minimum: -0.6974\n",
      "Iteration No: 6 started. Searching for the next optimal point.\n",
      "Iteration No: 6 ended. Search finished for the next optimal point.\n",
      "Time taken: 3.0172\n",
      "Function value obtained: -0.6906\n",
      "Current minimum: -0.6974\n",
      "Iteration No: 7 started. Searching for the next optimal point.\n",
      "Iteration No: 7 ended. Search finished for the next optimal point.\n",
      "Time taken: 6.6360\n",
      "Function value obtained: -0.6884\n",
      "Current minimum: -0.6974\n",
      "Iteration No: 8 started. Searching for the next optimal point.\n",
      "Iteration No: 8 ended. Search finished for the next optimal point.\n",
      "Time taken: 3.3712\n",
      "Function value obtained: -0.6634\n",
      "Current minimum: -0.6974\n",
      "Iteration No: 9 started. Searching for the next optimal point.\n",
      "Iteration No: 9 ended. Search finished for the next optimal point.\n",
      "Time taken: 5.4332\n",
      "Function value obtained: -0.6962\n",
      "Current minimum: -0.6974\n",
      "Iteration No: 10 started. Searching for the next optimal point.\n",
      "Iteration No: 10 ended. Search finished for the next optimal point.\n",
      "Time taken: 8.0832\n",
      "Function value obtained: -0.6914\n",
      "Current minimum: -0.6974\n",
      "Iteration No: 11 started. Searching for the next optimal point.\n",
      "cardio took 49.85 seconds,  candidates checked: 10, best CV score: 0.697 ± 0.010\n",
      "Best parameters:\n",
      "OrderedDict([('clf__alpha', 0.022865313621962827),\n",
      "             ('clf__colsample_bylevel', 0.8667900696674757),\n",
      "             ('clf__colsample_bynode', 0.840989463195167),\n",
      "             ('clf__colsample_bytree', 0.7505564218463501),\n",
      "             ('clf__lambda', 1.4817305045963363),\n",
      "             ('clf__learning_rate', 0.19016785592872243),\n",
      "             ('clf__max_depth', 4),\n",
      "             ('clf__n_estimators', 250),\n",
      "             ('clf__subsample', 0.6047959014193963)])\n",
      "0.6985727878211228\n"
     ]
    }
   ],
   "source": [
    "model_param_search = BayesSearchCV(pipe_xgboost,\n",
    "                                   xgboost_search_spaces,\n",
    "                                   scoring=recall_opt,\n",
    "                                   cv=skf,\n",
    "                                   n_iter=10,\n",
    "                                   n_jobs=1,\n",
    "                                   return_train_score=True,\n",
    "                                   refit=True,\n",
    "                                   random_state=17\n",
    "                                   )\n",
    "\n",
    "best_params,  optimizer_model = report_perf(model_param_search,\n",
    "                                            title=\"cardio\",\n",
    "                                            X=X_train, y=y_train,\n",
    "                                            callbacks=[VerboseCallback(100),\n",
    "                                                       DeadlineStopper(60 * 10)\n",
    "                                                       ])\n",
    "print(recall_score(y_test, optimizer_model.predict(X_test)))"
   ],
   "metadata": {
    "collapsed": false,
    "pycharm": {
     "name": "#%%\n"
    }
   }
  },
  {
   "cell_type": "code",
   "execution_count": 39,
   "outputs": [
    {
     "data": {
      "text/plain": "OrderedDict([('clf__alpha', 1.380272949988061),\n             ('clf__colsample_bylevel', 0.8186574048164795),\n             ('clf__colsample_bynode', 0.8622995982444401),\n             ('clf__colsample_bytree', 0.8452140717058321),\n             ('clf__lambda', 2.746079488438246),\n             ('clf__learning_rate', 0.21293969214950273),\n             ('clf__max_depth', 4),\n             ('clf__n_estimators', 124),\n             ('clf__subsample', 0.6593625754470993)])"
     },
     "execution_count": 39,
     "metadata": {},
     "output_type": "execute_result"
    }
   ],
   "source": [
    "best_params"
   ],
   "metadata": {
    "collapsed": false,
    "pycharm": {
     "name": "#%%\n"
    }
   }
  },
  {
   "cell_type": "code",
   "execution_count": null,
   "outputs": [],
   "source": [],
   "metadata": {
    "collapsed": false,
    "pycharm": {
     "name": "#%%\n"
    }
   }
  }
 ],
 "metadata": {
  "kernelspec": {
   "display_name": "Python 3",
   "language": "python",
   "name": "python3"
  },
  "language_info": {
   "codemirror_mode": {
    "name": "ipython",
    "version": 2
   },
   "file_extension": ".py",
   "mimetype": "text/x-python",
   "name": "python",
   "nbconvert_exporter": "python",
   "pygments_lexer": "ipython2",
   "version": "2.7.6"
  }
 },
 "nbformat": 4,
 "nbformat_minor": 0
}
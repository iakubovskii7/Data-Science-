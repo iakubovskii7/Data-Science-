{
 "cells": [
  {
   "cell_type": "markdown",
   "source": [
    "# Ключевые нюансы numpy\n",
    "\n",
    "После лекции рекомендуется ознакомиться с решением 100 задачек в numpy:\n",
    "https://pythonworld.ru/numpy/100-exercises.html"
   ],
   "metadata": {
    "collapsed": false
   }
  },
  {
   "cell_type": "code",
   "execution_count": 9,
   "outputs": [],
   "source": [
    "import numpy as np\n",
    "# Скорость \n",
    "my_arr = np.arange(1000000)\n",
    "my_list = list(range(1000000))\n",
    "# %timeit for _ in range(10): my_arr2 = my_arr * 2 \n",
    "# %timeit for _ in range(10): my_list2 = list(map(lambda x: x * 2, my_list))"
   ],
   "metadata": {
    "collapsed": false,
    "pycharm": {
     "name": "#%%\n"
    }
   }
  },
  {
   "cell_type": "code",
   "execution_count": 3,
   "outputs": [
    {
     "name": "stdout",
     "output_type": "stream",
     "text": [
      "[[ 1  2  3  4]\n",
      " [ 5  6  7  8]\n",
      " [ 9 10 11 12]]\n",
      "2\n",
      "[[1 2 3]\n",
      " [5 6 7]]\n",
      "[[7]]\n",
      "[[ 7  8]\n",
      " [11 12]]\n",
      "[5 6 7 8]\n",
      "[[5 6 7 8]]\n",
      "[[5 6 7 8]]\n",
      "[ 2  6 10]\n",
      "[[ 2]\n",
      " [ 6]\n",
      " [10]]\n"
     ]
    }
   ],
   "source": [
    "# Индексация\n",
    "a = np.array([[1,2,3,4], [5,6,7,8], [9,10,11,12]])\n",
    "print(a)\n",
    "print(a[0, 1])\n",
    "print(a[:2, :3])\n",
    "print(a[1:2, 2:3])\n",
    "print(a[1:, 2:])\n",
    "print(a[1, :])    \n",
    "print(a[1:2, :])  \n",
    "print(a[[1], :]) \n",
    "print(a[:, 1])\n",
    "print(a[:, 1:2])"
   ],
   "metadata": {
    "collapsed": false,
    "pycharm": {
     "name": "#%%\n"
    }
   }
  },
  {
   "cell_type": "code",
   "execution_count": 4,
   "outputs": [
    {
     "name": "stdout",
     "output_type": "stream",
     "text": [
      "[0. 0. 0. 0. 0.]\n",
      "[[0. 0. 0. 0.]\n",
      " [0. 0. 0. 0.]]\n",
      "[[0 0]\n",
      " [0 0]]\n",
      "[[0. 0. 0. 0.]\n",
      " [0. 0. 0. 0.]]\n",
      "[1. 1. 1. 1. 1.]\n",
      "[[1. 1. 1. 1.]\n",
      " [1. 1. 1. 1.]]\n",
      "[[1 1]\n",
      " [1 1]]\n",
      "[ 0  1  2  3  4  5  6  7  8  9 10 11 12 13 14]\n",
      "[[1. 0.]\n",
      " [0. 1.]]\n",
      "[[1. 0.]\n",
      " [0. 1.]]\n"
     ]
    }
   ],
   "source": [
    "# Создание различных шаблонных массивов\n",
    "\n",
    "# Нулевой массив \n",
    "print(np.zeros(5))\n",
    "print(np.zeros((2, 4)))\n",
    "print(np.zeros_like([[2,3], [1,5]]))\n",
    "print(np.empty((2, 4)))\n",
    "# Единичный массив\n",
    "print(np.ones(5))\n",
    "print(np.ones((2, 4)))\n",
    "print(np.ones_like([[2,3], [1,5]]))\n",
    "\n",
    "# Одномерный массив целочисленных положительных чисел\n",
    "print(np.arange(15))\n",
    "\n",
    "# Единичный массив / матрица\n",
    "print(np.eye(2))\n",
    "print(np.identity(2))"
   ],
   "metadata": {
    "collapsed": false,
    "pycharm": {
     "name": "#%%\n"
    }
   }
  },
  {
   "cell_type": "code",
   "execution_count": 5,
   "outputs": [
    {
     "name": "stdout",
     "output_type": "stream",
     "text": [
      "(3, 3)\n",
      "[1 2 3] \n",
      " [[1]\n",
      " [2]\n",
      " [3]]\n",
      "[[[ 0  1]\n",
      "  [ 2  3]\n",
      "  [ 4  5]\n",
      "  [ 6  7]]\n",
      "\n",
      " [[ 8  9]\n",
      "  [10 11]\n",
      "  [12 13]\n",
      "  [14 15]]]\n",
      "[[[[ 0  1]\n",
      "   [ 2  3]]\n",
      "\n",
      "  [[ 4  5]\n",
      "   [ 6  7]]\n",
      "\n",
      "  [[ 8  9]\n",
      "   [10 11]]\n",
      "\n",
      "  [[12 13]\n",
      "   [14 15]]]]\n",
      "[0 1 2 3 0 0 0 0]\n"
     ]
    }
   ],
   "source": [
    "# Размерность массивов\n",
    "b = np.array([[1,2,3], [4,5,6], [7,8,9]])\n",
    "print(b.shape)\n",
    "\n",
    "# Изменение размерности (умноженные размерности совпадают)\n",
    "v = np.array([1,2,3]) \n",
    "print(v, \"\\n\", v.reshape(3, 1))\n",
    "\n",
    "print(np.arange(16).reshape(2, 4, 2))\n",
    "print(np.arange(16).reshape(1, 4, 2, 2))\n",
    "\n",
    "# Изменение размерности (новая размерность другая - заполнение нулями)\n",
    "a0 = np.arange(4)\n",
    "a0.resize((8,))\n",
    "print(a0)"
   ],
   "metadata": {
    "collapsed": false,
    "pycharm": {
     "name": "#%%\n"
    }
   }
  },
  {
   "cell_type": "markdown",
   "source": [
    "Numpy позволяет оперировать массивами разных размерностей.\n",
    "Например:"
   ],
   "metadata": {
    "collapsed": false
   }
  },
  {
   "cell_type": "code",
   "execution_count": 6,
   "outputs": [
    {
     "name": "stdout",
     "output_type": "stream",
     "text": [
      "[[ 2  2  4]\n",
      " [ 5  5  7]\n",
      " [ 8  8 10]\n",
      " [11 11 13]]\n"
     ]
    }
   ],
   "source": [
    "x = np.array([[1,2,3], [4,5,6], [7,8,9], [10, 11, 12]])\n",
    "v = np.array([1, 0, 1])\n",
    "y = np.empty_like(x)   # Создаем пустой массив с той же размерностью\n",
    "\n",
    "# Прибавляем вектор v к каждой строке матрицы x явным циклом\n",
    "for i in range(4):\n",
    "    y[i, :] = x[i, :] + v\n",
    "print(y)"
   ],
   "metadata": {
    "collapsed": false,
    "pycharm": {
     "name": "#%%\n"
    }
   }
  },
  {
   "cell_type": "code",
   "execution_count": 7,
   "outputs": [
    {
     "name": "stdout",
     "output_type": "stream",
     "text": [
      "[[1 0 1]\n",
      " [1 0 1]\n",
      " [1 0 1]\n",
      " [1 0 1]]\n",
      "[[ 2  2  4]\n",
      " [ 5  5  7]\n",
      " [ 8  8 10]\n",
      " [11 11 13]]\n"
     ]
    }
   ],
   "source": [
    "vv = np.tile(v, (4, 1))  # Стакаем сверху вниз 4 копии v\n",
    "print(vv) \n",
    "y = x + vv  # Складываем два массива\n",
    "print(y)"
   ],
   "metadata": {
    "collapsed": false,
    "pycharm": {
     "name": "#%%\n"
    }
   }
  },
  {
   "cell_type": "markdown",
   "source": [
    "Иллюстрация броадкастинга"
   ],
   "metadata": {
    "collapsed": false
   }
  },
  {
   "cell_type": "code",
   "execution_count": 8,
   "outputs": [
    {
     "name": "stdout",
     "output_type": "stream",
     "text": [
      "(4, 3)\n",
      "(3,)\n",
      "[[ 2  2  4]\n",
      " [ 5  5  7]\n",
      " [ 8  8 10]\n",
      " [11 11 13]]\n"
     ]
    }
   ],
   "source": [
    "x = np.array([[1,2,3], [4,5,6], [7,8,9], [10, 11, 12]])\n",
    "print(x.shape)\n",
    "v = np.array([1, 0, 1])\n",
    "print(v.shape)\n",
    "v4 = np.array([1, 0, 1, 4])\n",
    "y = x + v \n",
    "print(y)"
   ],
   "metadata": {
    "collapsed": false,
    "pycharm": {
     "name": "#%%\n"
    }
   }
  },
  {
   "cell_type": "markdown",
   "source": [
    "**Вывод:** не обязательно приводить массивы к одной размерности для осуществления математических операций. Памятка по броадкастингу:\n",
    "1. Если массивы не имеют одинакового ранга, размерность массива нижнего ранга изменяется с первого до тех пор, пока обе размерности не будут иметь одинаковую длину.\n",
    "2. Считается, что оба массива совместимы в одном измерении, если они имеют одинаковый размер в этом измерении, или если один из массивов имеет размер 1 в этом измерении.\n",
    "3. Массивы могут броадкаститься вместе, если они совместимы во всех измерениях.\n",
    "4. После броадкастинга каждый массив ведет себя так, как если бы он имел размерность, равную элементарному максимуму размерности двух входных массивов.\n",
    "5. В любом измерении, где один массив имеет размер 1, а другой больше 1, первый массив ведет себя так, как если бы он был скопирован по этому измерению.\n",
    "\n",
    "Документация:\n",
    "\n",
    "https://numpy.org/doc/stable/user/basics.broadcasting.html"
   ],
   "metadata": {
    "collapsed": false
   }
  },
  {
   "cell_type": "code",
   "execution_count": 9,
   "outputs": [
    {
     "name": "stdout",
     "output_type": "stream",
     "text": [
      "[[3 4 5]\n",
      " [1 1 2]]\n",
      "[[1 0 2]\n",
      " [0 2 1]]\n",
      "[[[3 4 5]\n",
      "  [4 5 3]]\n",
      "\n",
      " [[2 1 1]\n",
      "  [1 1 2]]]\n"
     ]
    }
   ],
   "source": [
    "# Сортировка\n",
    "\n",
    "c = np.array([[4, 3, 5], [1, 2, 1]])\n",
    "print(np.sort(c, axis=1))\n",
    "\n",
    "# Возвращает индексы элементов, которые были отсортированы \n",
    "j = np.argsort(c)\n",
    "print(j)\n",
    "print(c[:, j])"
   ],
   "metadata": {
    "collapsed": false,
    "pycharm": {
     "name": "#%%\n"
    }
   }
  },
  {
   "cell_type": "code",
   "execution_count": 10,
   "outputs": [
    {
     "name": "stdout",
     "output_type": "stream",
     "text": [
      "[[0 1 2]\n",
      " [1 0 2]\n",
      " [0 1 2]\n",
      " [1 0 2]]\n",
      "[[1 3 2 0]\n",
      " [1 0 2 3]\n",
      " [0 1 3 2]\n",
      " [1 0 2 3]]\n"
     ]
    }
   ],
   "source": [
    "print(np.array([[1,3,5],[5,4,5],[1,2,10],[5,4,6]]).argpartition(kth = 2, axis = 1))\n",
    "print(np.array([[10,3,5, 3],[5,4,5, 5],[1,2,10, 7],[5,4,6, 15]]).argsort(axis=1))"
   ],
   "metadata": {
    "collapsed": false,
    "pycharm": {
     "name": "#%%\n"
    }
   }
  },
  {
   "cell_type": "code",
   "execution_count": 11,
   "outputs": [
    {
     "name": "stdout",
     "output_type": "stream",
     "text": [
      "[1 2 3]\n",
      "[4 5 6]\n",
      "[[-0.22236702  1.53039652  1.21048547 -0.48386638]\n",
      " [-2.52453485  0.87142975  0.33475401  1.02366059]\n",
      " [-1.72122445 -1.21893447  2.79510352 -0.12567316]\n",
      " [ 2.10442341  0.02055312  0.88330036 -0.80537704]\n",
      " [ 0.06381348  0.20230835  0.87450259  0.54041368]\n",
      " [-0.51969933 -0.79921701  0.70735145 -1.68357774]\n",
      " [-0.13597121  0.44354722  0.91243819 -1.87058599]]\n",
      "[[-0.22236702  1.53039652  1.21048547 -0.48386638]\n",
      " [ 2.10442341  0.02055312  0.88330036 -0.80537704]]\n",
      "[[ 1.21048547 -0.48386638]\n",
      " [ 0.88330036 -0.80537704]]\n"
     ]
    }
   ],
   "source": [
    "# Условия и циклы\n",
    "for i in np.array([[1,2,3],[4,5,6]]):\n",
    "    print(i)\n",
    "names = np.array(['Bob', 'Joe', 'Will', 'Bob', 'Will', 'Joe', 'Joe'])\n",
    "data = np.random.randn(7, 4)\n",
    "print(data)\n",
    "print(data[names == \"Bob\"])\n",
    "print(data[names == 'Bob', 2:])"
   ],
   "metadata": {
    "collapsed": false,
    "pycharm": {
     "name": "#%%\n"
    }
   }
  },
  {
   "cell_type": "code",
   "execution_count": 12,
   "outputs": [
    {
     "data": {
      "text/plain": "array([[0, 1, 1, 0],\n       [0, 1, 1, 1],\n       [0, 0, 1, 0],\n       [1, 1, 1, 0],\n       [1, 1, 1, 1],\n       [0, 0, 1, 0],\n       [0, 1, 1, 0]])"
     },
     "execution_count": 12,
     "metadata": {},
     "output_type": "execute_result"
    }
   ],
   "source": [
    "# Присвоение по условию (если, то)\n",
    "np.where(data, data>0, 0)"
   ],
   "metadata": {
    "collapsed": false,
    "pycharm": {
     "name": "#%%\n"
    }
   }
  },
  {
   "cell_type": "code",
   "execution_count": 13,
   "outputs": [
    {
     "name": "stdout",
     "output_type": "stream",
     "text": [
      "[1 2 3 4 5 6]\n",
      "Вертикальное : \n",
      " [[ 0  1  2]\n",
      " [ 3  4  5]\n",
      " [ 6  7  8]\n",
      " [10 11 12]\n",
      " [13 14 15]\n",
      " [16 17 18]]\n",
      "Горизонтальное : \n",
      " [[ 0  1  2 10 11 12]\n",
      " [ 3  4  5 13 14 15]\n",
      " [ 6  7  8 16 17 18]]\n"
     ]
    }
   ],
   "source": [
    "# Слияние массивов\n",
    "x,y,z = np.arange(1,3), np.arange(3,5), np.arange(5,7)\n",
    "print(np.concatenate([x,y,z]))\n",
    "\n",
    "array2D_1 = np.array([[0, 1, 2],\n",
    "       [3, 4, 5],\n",
    "       [6, 7, 8]])\n",
    "array2D_2 = np.array([[10, 11, 12],\n",
    "       [13, 14, 15],\n",
    "       [16, 17, 18]])\n",
    "\n",
    "# Вертикальное слияние\n",
    "print(f\"Вертикальное : \\n {np.vstack((array2D_1, array2D_2))}\")\n",
    "\n",
    "# Горизонтальное слияние\n",
    "print(f\"Горизонтальное : \\n {np.hstack((array2D_1, array2D_2))}\")"
   ],
   "metadata": {
    "collapsed": false,
    "pycharm": {
     "name": "#%%\n"
    }
   }
  },
  {
   "cell_type": "code",
   "execution_count": 14,
   "outputs": [
    {
     "name": "stdout",
     "output_type": "stream",
     "text": [
      "[0.93559384 0.15759632 0.75450153]\n",
      "[1.68452406 0.16316763]\n"
     ]
    }
   ],
   "source": [
    "# Применение функции к разным осям массива\n",
    "m = np.random.randn(3,2)\n",
    "# Сначала указываем функцию, потом по какой оси, а затем указываем сам массив\n",
    "print(np.apply_along_axis(lambda x: sum(x ** 2), 1, m)) \n",
    "print(np.apply_along_axis(lambda x: sum(x ** 2), 0, m)) \n",
    "# Обратим внимание, что у функции может быть только один аргумент - это значения массива из конкретной оси"
   ],
   "metadata": {
    "collapsed": false,
    "pycharm": {
     "name": "#%%\n"
    }
   }
  },
  {
   "cell_type": "code",
   "execution_count": 15,
   "outputs": [
    {
     "data": {
      "text/plain": "False"
     },
     "execution_count": 15,
     "metadata": {},
     "output_type": "execute_result"
    }
   ],
   "source": [
    "# Траблы с округлением при сравнении\n",
    "np.round(0.3, 17) == np.round(3 * 0.1, 17)"
   ],
   "metadata": {
    "collapsed": false,
    "pycharm": {
     "name": "#%%\n"
    }
   }
  },
  {
   "cell_type": "code",
   "execution_count": 16,
   "outputs": [
    {
     "data": {
      "text/plain": "True"
     },
     "execution_count": 16,
     "metadata": {},
     "output_type": "execute_result"
    }
   ],
   "source": [
    "# Используем такую функцию, чтобы проверить, равны ли массивы\n",
    "np.allclose(0.3, 3*0.1)"
   ],
   "metadata": {
    "collapsed": false,
    "pycharm": {
     "name": "#%%\n"
    }
   }
  },
  {
   "cell_type": "code",
   "execution_count": 17,
   "outputs": [
    {
     "name": "stdout",
     "output_type": "stream",
     "text": [
      "[[(0.        , 0.        ) (0.11111111, 0.        )\n",
      "  (0.22222222, 0.        ) (0.33333333, 0.        )\n",
      "  (0.44444444, 0.        )]\n",
      " [(0.        , 0.11111111) (0.11111111, 0.11111111)\n",
      "  (0.22222222, 0.11111111) (0.33333333, 0.11111111)\n",
      "  (0.44444444, 0.11111111)]\n",
      " [(0.        , 0.22222222) (0.11111111, 0.22222222)\n",
      "  (0.22222222, 0.22222222) (0.33333333, 0.22222222)\n",
      "  (0.44444444, 0.22222222)]\n",
      " [(0.        , 0.33333333) (0.11111111, 0.33333333)\n",
      "  (0.22222222, 0.33333333) (0.33333333, 0.33333333)\n",
      "  (0.44444444, 0.33333333)]\n",
      " [(0.        , 0.44444444) (0.11111111, 0.44444444)\n",
      "  (0.22222222, 0.44444444) (0.33333333, 0.44444444)\n",
      "  (0.44444444, 0.44444444)]]\n",
      "(10, 10)\n"
     ]
    }
   ],
   "source": [
    "# Сетка для графического отображения\n",
    "Z = np.zeros((10,10), [('x',float),('y',float)])\n",
    "Z['x'], Z['y'] = np.meshgrid(np.linspace(0,1,10),\n",
    "                             np.linspace(0,1,10))\n",
    "print(Z[:5, :5])\n",
    "print(Z.shape)"
   ],
   "metadata": {
    "collapsed": false,
    "pycharm": {
     "name": "#%%\n"
    }
   }
  },
  {
   "cell_type": "markdown",
   "source": [
    "# Линейная алгебра"
   ],
   "metadata": {
    "collapsed": false
   }
  },
  {
   "cell_type": "markdown",
   "source": [
    "#### np\n",
    "\n",
    "**diag** - вернуть диагональные (или недиагональные) элементы квадратной матрицы в виде 1D-массива, или преобразовать 1D-массив в квадратную матрицу с нулями на остальных элементах.\n",
    "\n",
    "**dot, @** - матричное умножение\n",
    "\n",
    "**trace** - вычислить сумму диагональных элементов (след матрицы)\n",
    "\n",
    "#### linalg\n",
    "\n",
    "**det** - определитель матрицы.\n",
    "\n",
    "**eig** - вычислить собственные значения и собственные векторы квадратной матрицы.  \n",
    "\n",
    "**inv** - вычислить обратную  матрицу любой квадратной матрицы (определитель должен быть не равен нулю)\n",
    "\n",
    "**svd** - вычислить сингулярное разложение значений (SVD).\n",
    "\n",
    "**solve** решение линейной системы уравнений Ax = b для x, где A - квадратная матрица. \n",
    "\n",
    "**lstsq** - вычислить оценки методом наименьших квадратов для Ax = b"
   ],
   "metadata": {
    "collapsed": false
   }
  },
  {
   "cell_type": "code",
   "execution_count": 18,
   "outputs": [
    {
     "name": "stdout",
     "output_type": "stream",
     "text": [
      "True\n"
     ]
    }
   ],
   "source": [
    "x = np.array([[1,2,3],[4,5,6],[7,8,9]])\n",
    "w, v = np.linalg.eig(x)\n",
    "print(np.allclose(x @ v[:, 0], w[0]*v[:, 0]))"
   ],
   "metadata": {
    "collapsed": false,
    "pycharm": {
     "name": "#%%\n"
    }
   }
  },
  {
   "cell_type": "code",
   "execution_count": 19,
   "outputs": [
    {
     "name": "stdout",
     "output_type": "stream",
     "text": [
      "[[ 0.24547418 -0.49912974  0.14507905 -0.05125712 -0.13836301]\n",
      " [-1.44467921  1.43548245  0.60325032 -1.05864694 -0.71409851]\n",
      " [-0.92215927  1.7802998   0.5926479  -1.81477115 -0.69265463]\n",
      " [ 3.84040615 -6.9899482  -3.16001714  4.72921152  2.06802784]\n",
      " [-1.20997605  2.65559261  1.09536573 -1.838506   -0.97186472]]\n",
      "-2.301920345000651\n"
     ]
    }
   ],
   "source": [
    "from numpy.linalg import inv, det\n",
    "mat = np.random.randn(5, 5)\n",
    "print(inv(mat))\n",
    "print(det(mat))"
   ],
   "metadata": {
    "collapsed": false,
    "pycharm": {
     "name": "#%%\n"
    }
   }
  },
  {
   "cell_type": "markdown",
   "source": [
    "# Генеральная совокупность и выборка\n",
    "\n",
    "Допустим, что перед нами стоит задача выявить средний рост жителей Москвы.\n",
    "В идеальном варианте нам нужно измерить абсолютно каждого жителя и посчитать\n",
    "среднее арифметическое. Однако, этот способ довольно затратный и\n",
    "статистики придумали способ попроще.\n",
    "\n",
    "Для решения такой задачи вполне достаточно собрать *репрезентативную выборку*,\n",
    "которая отражает нашу *генеральную совокупность данных* (всех реальных\n",
    "жителей города). Таким образом, реальное распределение роста всех\n",
    "жителей Москвы будет нашим *теоретическим распределением* с некоторым\n",
    "математическим ожиданием, которое и соответствует реальному среднему росту\n",
    "москвичей. Значения роста жителей Москвы по *выборке* будет представлять собой\n",
    "*эмпирическое распределение* роста по нашим наблюдениям, а среднее\n",
    "арифметическое будет являться хорошей оценкой для среднего роста всех\n",
    "жителей.\n",
    "\n",
    "Таким образом, для того, чтобы сделать вывод относительно любой генеральной\n",
    "совокупности, нам достаточно правильно собрать репрезентативную выборку\n",
    "и посчитать все необходимые статистики. Величины в статистике подразделяются\n",
    "на *теоретические* (какие они есть в реальности) и *выборочные* (то, что\n",
    "мы получаем согласно нашим наблюдениям).\n"
   ],
   "metadata": {
    "collapsed": false,
    "pycharm": {
     "name": "#%% md\n"
    }
   }
  },
  {
   "cell_type": "markdown",
   "source": [
    "## Основные характеристики в теории вероятностей\n",
    "\n",
    "В теории вероятностей мы имеем дело с вероятностью события в пространстве\n",
    "элементарных исходов. Отсюда возникает понятие теоретического распределения\n",
    "случайной величины (в примере выше это было распределение роста всех\n",
    "жителей Москвы). Ниже приведем основные числовые характеристики случайных\n",
    "величин."
   ],
   "metadata": {
    "collapsed": false,
    "pycharm": {
     "name": "#%% md\n"
    }
   }
  },
  {
   "cell_type": "markdown",
   "source": [
    "## Основные теоретические характеристики в статистике:\n",
    "\n",
    "$ \\mathbb{E}(x) = \\sum_i p_i x_i $\n",
    "\n",
    "$ Var(x) =  \\mathbb{E}((x - \\mathbb{E}(x) ^ 2)$\n",
    "\n",
    "$ \\sigma = \\sqrt{Var(x)} $\n",
    "\n",
    "$ Cov(x,y) = \\mathbb{E}((x - \\mathbb{E}(x)) * ((x - \\mathbb{E}(y)) $ - мера связи между переменными. НО! Ковариация является безразмерной величиной\n",
    "\n",
    "$ Corr(x,y) = \\frac {Cov(x,y)} {\\sigma(x) \\cdot \\sigma(y)} $ - мера тесноты линейной связи между двумя переменными\n"
   ],
   "metadata": {
    "collapsed": false,
    "pycharm": {
     "name": "#%% md\n"
    }
   }
  },
  {
   "cell_type": "markdown",
   "source": [
    "## Основные выборочные характеристики в статистике:\n",
    "\n",
    "$ \\bar{x} = \\frac {\\sum_i {x_i}} {n} $\n",
    "\n",
    "$ \\sigma^2 = \\frac {\\sum_i  {(x_i - \\bar{x})^2}} {n} $\n",
    "\n",
    "$ \\sigma = \\sqrt{\\sigma^2} $\n",
    "\n",
    "$ Cov(x,y) = \\frac{1}{n}\\sum_i  {[(x_i - \\bar{x}) \\cdot (y_i - \\bar{y})]} $ - мера связи между переменными. НО! Ковариация является безразмерной величиной\n",
    "\n",
    "$ Corr(x,y) = \\frac {Cov(x,y)} {\\sigma(x) \\cdot \\sigma(y)} $ - мера тесноты линейной связи между двумя переменными"
   ],
   "metadata": {
    "collapsed": false
   }
  },
  {
   "cell_type": "markdown",
   "source": [
    "##### Всегда помните: КОРРЕЛЯЦИЯ НЕ ОЗНАЧАЕТ ПРИЧИННО-СЛЕДСТВЕННУЮ СВЯЗЬ МЕЖДУ ПЕРЕМЕННЫМИ!!!"
   ],
   "metadata": {
    "collapsed": false
   }
  },
  {
   "cell_type": "code",
   "execution_count": 20,
   "outputs": [
    {
     "name": "stdout",
     "output_type": "stream",
     "text": [
      "Выборочное среднее = (0.4453674408848716, 0.5418575371785995)\n",
      "Выборочная дисперсия = (0.08421453790651726, 0.09163812315703838)\n",
      "Выборочное стандартное отклонение = (0.2901974119569595, 0.30271789368492635)\n"
     ]
    }
   ],
   "source": [
    "# Случайные величины\n",
    "x = np.random.random_sample((1, 100))\n",
    "y = np.random.random_sample((1, 100))\n",
    "\n",
    "print(f\"Выборочное среднее = {x.mean(), y.mean()}\")\n",
    "print(f\"Выборочная дисперсия = {x.var(), y.var()}\")\n",
    "print(f\"Выборочное стандартное отклонение = {x.std(), y.std()}\")"
   ],
   "metadata": {
    "collapsed": false,
    "pycharm": {
     "name": "#%%\n"
    }
   }
  },
  {
   "cell_type": "code",
   "execution_count": 21,
   "outputs": [
    {
     "data": {
      "text/plain": "array([[ 0.08506519, -0.00744958],\n       [-0.00744958,  0.09256376]])"
     },
     "execution_count": 21,
     "metadata": {},
     "output_type": "execute_result"
    }
   ],
   "source": [
    "# Ковариационная матрица\n",
    "np.cov(x, y)"
   ],
   "metadata": {
    "collapsed": false,
    "pycharm": {
     "name": "#%%\n"
    }
   }
  },
  {
   "cell_type": "code",
   "execution_count": 22,
   "outputs": [
    {
     "data": {
      "text/plain": "array([[ 1.        , -0.08395281],\n       [-0.08395281,  1.        ]])"
     },
     "execution_count": 22,
     "metadata": {},
     "output_type": "execute_result"
    }
   ],
   "source": [
    "# Корреляционная матрица\n",
    "np.corrcoef(x, y)\n",
    "\n"
   ],
   "metadata": {
    "collapsed": false,
    "pycharm": {
     "name": "#%%\n"
    }
   }
  },
  {
   "cell_type": "markdown",
   "source": [
    "# Основные распределения в статистике"
   ],
   "metadata": {
    "collapsed": false,
    "pycharm": {
     "name": "#%% md\n"
    }
   }
  },
  {
   "cell_type": "code",
   "execution_count": 23,
   "outputs": [],
   "source": [
    "import math"
   ],
   "metadata": {
    "collapsed": false,
    "pycharm": {
     "name": "#%%\n"
    }
   }
  },
  {
   "cell_type": "markdown",
   "source": [
    "## Дискретные\n",
    "\n",
    "### Биномиальное распределение\n",
    "\n",
    "$$  P(X = x) = {n\\choose x} p^x (1-p)^{n-x}, $$\n",
    "\n",
    "где ***n*** - количество испытаний, ***p*** - вероятность успеха,\n",
    "***x*** - количество успешных испытаний (случайная величина)"
   ],
   "metadata": {
    "collapsed": false,
    "pycharm": {
     "name": "#%% md\n"
    }
   }
  },
  {
   "cell_type": "code",
   "execution_count": 24,
   "outputs": [
    {
     "name": "stdout",
     "output_type": "stream",
     "text": [
      "0.5491236007687873\n"
     ]
    }
   ],
   "source": [
    "def binomial_prob(n, p, x):\n",
    "    b = (math.factorial(n)/(math.factorial(x)*math.factorial(n-x)))*(p**x)*((1-p)**(n-x))\n",
    "    return b\n",
    "prob_binom = 0\n",
    "# Вероятность того, что количество успешных испытаний будет менее или равно 30\n",
    "for x in range(31):\n",
    "    prob_binom += binomial_prob(n=100, p=0.3, x=x)\n",
    "print(prob_binom)\n"
   ],
   "metadata": {
    "collapsed": false,
    "pycharm": {
     "name": "#%%\n"
    }
   }
  },
  {
   "cell_type": "code",
   "execution_count": 1,
   "outputs": [
    {
     "name": "stdout",
     "output_type": "stream",
     "text": [
      "Вероятность ровно 45 раз успешно выполнить испытание (плотность вероятности)= 0.048474296626430755\n",
      "Вероятность 45 раз и менее успешно выполнить испытание (кумулятивная вероятность)= 0.18410080866334774\n",
      "То же самое, только по выборке : 0.043333333333333335\n",
      "То же самое, только по выборке : 0.21\n"
     ]
    },
    {
     "data": {
      "text/plain": "<Figure size 360x360 with 1 Axes>",
      "image/png": "[encoded data removed]"
     },
     "metadata": {
      "needs_background": "light"
     },
     "output_type": "display_data"
    }
   ],
   "source": [
    "import seaborn as sns\n",
    "import matplotlib.pyplot as plt\n",
    "# Моделируем распределение случайной величины Бернулли (по Биномиальному закону)\n",
    "# В данном случае - подбрасывание монетки (сколько выпадет орлов)\n",
    "# n - количество испытаний для одной случайной величины (n раз подбросим монетку)\n",
    "# size - количество случайных величин Бернулли (сколько испытаний будет проведено\n",
    "#- сколько раз по n раз мы будем подбрасывать монетку)\n",
    "\n",
    "# p - вероятность успеха (в нашем случае - 50%)\n",
    "# Результат метода rvs будет количество успешных испытаний для каждой случайной величины\n",
    "from scipy.stats import binom\n",
    "monetka = binom.rvs(size=300, p=0.5, n=100)\n",
    "sns.displot(monetka, kde=False);\n",
    "\n",
    "print(f\"Вероятность ровно 45 раз успешно выполнить испытание (плотность вероятности)= \"\n",
    "      f\"{binom.pmf(k=45, n=100, p=0.5)}\")\n",
    "print(f\"Вероятность 45 раз и менее успешно выполнить испытание \"\n",
    "      f\"(кумулятивная, накопленная вероятность)= \"\n",
    "      f\"{binom.cdf(k=45, n=100, p=0.5)}\")\n",
    "\n",
    "print(f\"Плотность вероятности по выборке : {monetka[monetka == 45].shape[0] / monetka.shape[0]}\")\n",
    "print(f\"Кумулятивная накопленная вероятность по выборке : {monetka[monetka <= 45].shape[0] / monetka.shape[0]}\")\n",
    "\n"
   ],
   "metadata": {
    "collapsed": false,
    "pycharm": {
     "name": "#%%\n"
    }
   }
  },
  {
   "cell_type": "markdown",
   "source": [
    "Отличие в том, что в первом случае мы берем вероятности из ***теоретического распределения***, а во втором -\n",
    "из ***эмпирического***"
   ],
   "metadata": {
    "collapsed": false,
    "pycharm": {
     "name": "#%% md\n"
    }
   }
  },
  {
   "cell_type": "markdown",
   "source": [
    "### Распределение Пуассона\n",
    "$$  P(X = x) = \\frac{\\mu^x * \\exp^{-\\mu}}{x!}, $$\n",
    "where $\\mu = n*p$\n",
    "\n",
    "Данное распределение приближает распределение Бернулли\n",
    "для маловероятных событий (p мало) в больших выборках (n велико)"
   ],
   "metadata": {
    "collapsed": false
   }
  },
  {
   "cell_type": "code",
   "execution_count": 37,
   "outputs": [
    {
     "name": "stdout",
     "output_type": "stream",
     "text": [
      "Вероятность для распределения Пуассона при БОЛЬШОМ n = 0.07952295146806546\n",
      "Вероятность для распределения Бернулли при БОЛЬШОМ n = 0.0815881110121301\n",
      "Вероятность для распределения Пуассона при МАЛОМ n = 0.014119955446892825\n",
      "Вероятность для распределения Бернулли при МАЛОМ n = 0.012353024533531267\n"
     ]
    }
   ],
   "source": [
    "from math import exp, factorial\n",
    "def poisson_prob(n, p, x):\n",
    "    mu = n * p\n",
    "    return ((mu**x) * exp(-mu)) / factorial(x)\n",
    "n, p, x = 500, 0.05, 25\n",
    "print(f\"Вероятность для распределения Пуассона при БОЛЬШОМ n = {poisson_prob(n, p, x)}\")\n",
    "print(f\"Вероятность для распределения Бернулли при БОЛЬШОМ n = {binomial_prob(n, p, x)}\")\n",
    "\n",
    "n, p, x = 30, 0.05, 5\n",
    "print(f\"Вероятность для распределения Пуассона при МАЛОМ n = {poisson_prob(n, p, x)}\")\n",
    "print(f\"Вероятность для распределения Бернулли при МАЛОМ n = {binomial_prob(n, p, x)}\")"
   ],
   "metadata": {
    "collapsed": false,
    "pycharm": {
     "name": "#%%\n"
    }
   }
  },
  {
   "cell_type": "code",
   "execution_count": 39,
   "outputs": [
    {
     "name": "stdout",
     "output_type": "stream",
     "text": [
      "5% квантиль = 2.0\n",
      "Согласно нашему смоделированному распределению Пуассона, 5% квантиль = 2.0\n"
     ]
    },
    {
     "data": {
      "text/plain": "<Figure size 360x360 with 1 Axes>",
      "image/png": "[encoded data removed]"
     },
     "metadata": {
      "needs_background": "light"
     },
     "output_type": "display_data"
    }
   ],
   "source": [
    "from scipy.stats import poisson\n",
    "pois_distr = poisson.rvs(size=300, mu=100 * 0.05)\n",
    "sns.displot(pois_distr);\n",
    "\n",
    "# Вытащим 5% квантиль распределения Пуассона готовым методом\n",
    "\n",
    "print(f\"5% квантиль = {poisson.ppf(mu=100 * 0.05, q=0.05)}\")\n",
    "# Левее данного числа расположены 5% всех значений для данного распределения\n",
    "print(f\"Согласно нашему смоделированному распределению Пуассона, 5% квантиль = \\\n",
    "{np.quantile(pois_distr, 0.05)}\")"
   ],
   "metadata": {
    "collapsed": false,
    "pycharm": {
     "name": "#%%\n"
    }
   }
  },
  {
   "cell_type": "markdown",
   "source": [
    "Квантиль уровня p - это такое число, левее которого площадь под кривой\n",
    "как раз составляет p% от всей кривой (накопленная вероятность)."
   ],
   "metadata": {
    "collapsed": false,
    "pycharm": {
     "name": "#%% md\n"
    }
   }
  },
  {
   "cell_type": "markdown",
   "source": [
    "### Геометрическое распределение\n",
    "$$  P(X = x) = (1-p)^{x-1} * p, $$\n",
    "\n",
    "Данное распределение повторяет схему независимых испытаний Бернулли до первого успешного испытания\n"
   ],
   "metadata": {
    "collapsed": false,
    "pycharm": {
     "name": "#%% md\n"
    }
   }
  },
  {
   "cell_type": "code",
   "execution_count": 43,
   "outputs": [
    {
     "name": "stdout",
     "output_type": "stream",
     "text": [
      "Вероятность успеха на десятой попытке: 0.03151247048623045\n",
      "Вероятность того, что успех случится на 10 испытании или раньше: 0.422382169222759\n"
     ]
    }
   ],
   "source": [
    "def geometric_prob(p, x):\n",
    "    g = (1-p)**(x-1) * p\n",
    "    return g\n",
    "p, x = 0.05, 10\n",
    "print(f\"Вероятность успеха на десятой попытке: {geometric_prob(p, x)}\")\n",
    "\n",
    "prob_geom = 0\n",
    "for x in range(10):\n",
    "    prob_geom += geometric_prob(p=p, x=x)\n",
    "print(f\"Вероятность того, что успех случится на 10 испытании или раньше: {prob_geom}\")"
   ],
   "metadata": {
    "collapsed": false,
    "pycharm": {
     "name": "#%%\n"
    }
   }
  },
  {
   "cell_type": "code",
   "execution_count": 3,
   "outputs": [
    {
     "data": {
      "text/plain": "Counter({2: 41,\n         5: 28,\n         7: 14,\n         1: 68,\n         10: 10,\n         4: 32,\n         6: 17,\n         17: 3,\n         3: 36,\n         8: 6,\n         11: 9,\n         15: 5,\n         24: 3,\n         13: 2,\n         21: 2,\n         9: 8,\n         12: 6,\n         16: 3,\n         14: 1,\n         22: 1,\n         23: 1,\n         20: 3,\n         19: 1})"
     },
     "execution_count": 3,
     "metadata": {},
     "output_type": "execute_result"
    },
    {
     "data": {
      "text/plain": "<Figure size 360x360 with 1 Axes>",
      "image/png": "[encoded data removed]"
     },
     "metadata": {
      "needs_background": "light"
     },
     "output_type": "display_data"
    }
   ],
   "source": [
    "from scipy.stats import geom\n",
    "geom_dist = geom.rvs(size=300, p=0.2)\n",
    "sns.displot(geom_dist);\n",
    "\n",
    "from collections import Counter\n",
    "Counter(geom_dist)"
   ],
   "metadata": {
    "collapsed": false,
    "pycharm": {
     "name": "#%%\n"
    }
   }
  },
  {
   "cell_type": "markdown",
   "source": [
    "## Непрерывные\n",
    "\n",
    "Число возможных значений несчетно (бесконечное)"
   ],
   "metadata": {
    "collapsed": false,
    "pycharm": {
     "name": "#%% md\n"
    }
   }
  },
  {
   "cell_type": "markdown",
   "source": [
    "### Экспоненциальное (показательное)\n",
    "\n",
    "$$ f(x) = \\lambda \\exp^{-\\lambda x}, x > 0$$\n",
    "\n",
    "Позволяет моделировать интервалы времени между наступлением событий. Представляет из себя распределение вероятности времени между событиями в случайном распределении Пуассона.\n",
    "Подробнее: https://medium.com/nuances-of-programming/экспоненциальное-распределение-восприятие-происхождение-применение-33d689e01de5"
   ],
   "metadata": {
    "collapsed": false,
    "pycharm": {
     "name": "#%% md\n"
    }
   }
  },
  {
   "cell_type": "code",
   "execution_count": 49,
   "outputs": [
    {
     "name": "stdout",
     "output_type": "stream",
     "text": [
      "Средний временной интервал между двумя людьми, зашедшими в магазин = 12 минут\n",
      "Вероятность того, что временной интервал между людьми составит 20 минут = 0.8111243971624382\n"
     ]
    }
   ],
   "source": [
    "from scipy.stats import expon\n",
    "def expon_prob(lambda_, x):\n",
    "    g = lambda_ * math.exp(-lambda_ * x)\n",
    "    return g\n",
    "# Зададим параметры для lambda\n",
    "# Пусть в районе живет 100 человек. Вероятность в течение 60 минут зайти в магазин = 5%.\n",
    "n=100; p=0.05\n",
    "lambda_ = n * p\n",
    "print(f\"Средний временной интервал между двумя людьми, зашедшими в магазин = {int(60/lambda_)} минут\")\n",
    "print(f\"Вероятность того, что временной интервал между людьми составит 20 минут = \"\n",
    "      f\"{expon.cdf(x=20, scale = 60/lambda_)}\")"
   ],
   "metadata": {
    "collapsed": false,
    "pycharm": {
     "name": "#%%\n"
    }
   }
  },
  {
   "cell_type": "markdown",
   "source": [
    "### Равномерное распределение\n",
    "\n",
    "$$ f(x) = \\cases{p, x \\in [a,b] \\\\ 0, x \\notin [a,b]}  $$"
   ],
   "metadata": {
    "collapsed": false
   }
  },
  {
   "cell_type": "code",
   "execution_count": 5,
   "outputs": [
    {
     "data": {
      "text/plain": "<Figure size 360x360 with 1 Axes>",
      "image/png": "[encoded data removed]"
     },
     "metadata": {
      "needs_background": "light"
     },
     "output_type": "display_data"
    }
   ],
   "source": [
    "from scipy.stats import uniform\n",
    "sns.displot(uniform.rvs(size=1000));"
   ],
   "metadata": {
    "collapsed": false,
    "pycharm": {
     "name": "#%%\n"
    }
   }
  },
  {
   "cell_type": "markdown",
   "source": [
    "Несмотря на то, что столбики не одинаковы, теоретическая вероятность\n",
    "события все равно равняется 0.5. (1-0 / 2)"
   ],
   "metadata": {
    "collapsed": false,
    "pycharm": {
     "name": "#%% md\n"
    }
   }
  },
  {
   "cell_type": "markdown",
   "source": [
    "### Нормальное распределение\n",
    "\n",
    "$$ f(x) = \\frac{1}{\\sigma \\sqrt{2\\pi}} \\exp^{-\\frac{(x-\\mu)^2}{2\\sigma^2}} $$\n",
    "\n",
    "где $\\mu$ - математическое ожидание, $\\sigma^2$ - дисперсия"
   ],
   "metadata": {
    "collapsed": false,
    "pycharm": {
     "name": "#%% md\n"
    }
   }
  },
  {
   "cell_type": "code",
   "execution_count": 53,
   "outputs": [
    {
     "data": {
      "text/html": "<img src=\"https://s3.nat-geo.ru/images/2019/4/10/08f4d4f5dec34925a7384c03b2de85b1.max-2000x1000.jpg\"/>",
      "text/plain": "<IPython.core.display.Image object>"
     },
     "execution_count": 53,
     "metadata": {},
     "output_type": "execute_result"
    }
   ],
   "source": [
    "from IPython.display import Image\n",
    "from IPython.core.display import HTML\n",
    "Image(url= \"https://s3.nat-geo.ru/images/2019/4/10/08f4d4f5dec34925a7384c03b2de85b1.max-2000x1000.jpg\")"
   ],
   "metadata": {
    "collapsed": false,
    "pycharm": {
     "name": "#%%\n"
    }
   }
  },
  {
   "cell_type": "markdown",
   "source": [
    "### Стандартное нормальное распределение\n",
    "$$ f(x) = \\frac{1}{\\sqrt{2\\pi}} \\exp^{-\\frac{x^2}{2}} $$\n",
    "\n",
    "где в предыдущей формуле $\\mu=0$ (математическое ожидание),\n",
    "$\\sigma$ = 1 (дисперсия)"
   ],
   "metadata": {
    "collapsed": false,
    "pycharm": {
     "name": "#%% md\n"
    }
   }
  },
  {
   "cell_type": "code",
   "execution_count": 57,
   "outputs": [
    {
     "data": {
      "text/plain": "<Figure size 432x288 with 1 Axes>",
      "image/png": "[encoded data removed]"
     },
     "metadata": {
      "needs_background": "light"
     },
     "output_type": "display_data"
    }
   ],
   "source": [
    "def normal_distr(x, mu=0, sigma=1):\n",
    "    return 1/(sigma * np.sqrt(2*math.pi)) * np.exp(-((x - mu)**2 / (2 * sigma**2) ))\n",
    "x = np.linspace(-5,5, 1000)\n",
    "y = normal_distr(x)\n",
    "plt.plot(x, y);"
   ],
   "metadata": {
    "collapsed": false,
    "pycharm": {
     "name": "#%%\n"
    }
   }
  },
  {
   "cell_type": "code",
   "execution_count": 10,
   "outputs": [
    {
     "name": "stdout",
     "output_type": "stream",
     "text": [
      "5% квантиль нормального распределения = -1.6448536269514729\n",
      "95% квантиль нормального распределения = 1.6448536269514722\n",
      "97.5% квантиль нормального распределения = 1.959963984540054\n",
      "97.5% квантиль нормального распределения c размером size = 1000000 равен 1.9567144553275477\n",
      "Вероятность того, что случайная величина примет значение 1.96 или меньше = 0.9750021048517795\n"
     ]
    },
    {
     "data": {
      "text/plain": "<Figure size 360x360 with 1 Axes>",
      "image/png": "[encoded data removed]"
     },
     "metadata": {
      "needs_background": "light"
     },
     "output_type": "display_data"
    }
   ],
   "source": [
    "from scipy.stats import norm\n",
    "sns.displot(norm.rvs(size=10**5), bins=1000)\n",
    "print(f\"5% квантиль нормального распределения = {norm.ppf(0.05)}\")\n",
    "print(f\"95% квантиль нормального распределения = {norm.ppf(0.95)}\")\n",
    "print(f\"97.5% квантиль нормального распределения = {norm.ppf(0.975)}\")\n",
    "size_normal = 10**6\n",
    "print(f\"97.5% квантиль нормального распределения c размером size = {size_normal} равен \\\n",
    "{np.quantile(norm.rvs(size=size_normal), 0.975)}\")\n",
    "print(f\"Вероятность того, что случайная величина примет значение 1.96 или меньше = {norm.cdf(1.96)}\")"
   ],
   "metadata": {
    "collapsed": false,
    "pycharm": {
     "name": "#%%\n"
    }
   }
  },
  {
   "cell_type": "markdown",
   "source": [
    "### Хи-квадрат распределение\n",
    "$\\chi_p^2 = \\sum_p\\xi_p^2$,\n",
    "\n",
    "где $$\\xi \\in N(0,1)$$ - случайная величина, имеющая стандартное нормальное распределение"
   ],
   "metadata": {
    "collapsed": false
   }
  },
  {
   "cell_type": "code",
   "execution_count": 8,
   "outputs": [
    {
     "ename": "NameError",
     "evalue": "name 'np' is not defined",
     "output_type": "error",
     "traceback": [
      "\u001B[0;31m---------------------------------------------------------------------------\u001B[0m",
      "\u001B[0;31mNameError\u001B[0m                                 Traceback (most recent call last)",
      "\u001B[0;32m<ipython-input-8-5b190c224b14>\u001B[0m in \u001B[0;36m<module>\u001B[0;34m\u001B[0m\n\u001B[1;32m      5\u001B[0m \u001B[0;31m# Генерируем Хи-квадрат распределение согласно определению\u001B[0m\u001B[0;34m\u001B[0m\u001B[0;34m\u001B[0m\u001B[0;34m\u001B[0m\u001B[0m\n\u001B[1;32m      6\u001B[0m \u001B[0msize_chi\u001B[0m\u001B[0;34m,\u001B[0m \u001B[0mdf\u001B[0m \u001B[0;34m=\u001B[0m \u001B[0;36m10\u001B[0m\u001B[0;34m**\u001B[0m\u001B[0;36m5\u001B[0m\u001B[0;34m,\u001B[0m \u001B[0;36m10\u001B[0m \u001B[0;31m# Всего 1 млн значений для 10 степеней свободы\u001B[0m\u001B[0;34m\u001B[0m\u001B[0;34m\u001B[0m\u001B[0m\n\u001B[0;32m----> 7\u001B[0;31m \u001B[0mChi2_values\u001B[0m \u001B[0;34m=\u001B[0m \u001B[0;34m[\u001B[0m\u001B[0mchi_distr\u001B[0m\u001B[0;34m(\u001B[0m\u001B[0mdf\u001B[0m\u001B[0;34m=\u001B[0m\u001B[0mdf\u001B[0m\u001B[0;34m)\u001B[0m \u001B[0;32mfor\u001B[0m \u001B[0m_\u001B[0m \u001B[0;32min\u001B[0m \u001B[0mrange\u001B[0m\u001B[0;34m(\u001B[0m\u001B[0msize_chi\u001B[0m\u001B[0;34m)\u001B[0m\u001B[0;34m]\u001B[0m\u001B[0;34m\u001B[0m\u001B[0;34m\u001B[0m\u001B[0m\n\u001B[0m\u001B[1;32m      8\u001B[0m \u001B[0;34m\u001B[0m\u001B[0m\n\u001B[1;32m      9\u001B[0m \u001B[0;34m\u001B[0m\u001B[0m\n",
      "\u001B[0;32m<ipython-input-8-5b190c224b14>\u001B[0m in \u001B[0;36m<listcomp>\u001B[0;34m(.0)\u001B[0m\n\u001B[1;32m      5\u001B[0m \u001B[0;31m# Генерируем Хи-квадрат распределение согласно определению\u001B[0m\u001B[0;34m\u001B[0m\u001B[0;34m\u001B[0m\u001B[0;34m\u001B[0m\u001B[0m\n\u001B[1;32m      6\u001B[0m \u001B[0msize_chi\u001B[0m\u001B[0;34m,\u001B[0m \u001B[0mdf\u001B[0m \u001B[0;34m=\u001B[0m \u001B[0;36m10\u001B[0m\u001B[0;34m**\u001B[0m\u001B[0;36m5\u001B[0m\u001B[0;34m,\u001B[0m \u001B[0;36m10\u001B[0m \u001B[0;31m# Всего 1 млн значений для 10 степеней свободы\u001B[0m\u001B[0;34m\u001B[0m\u001B[0;34m\u001B[0m\u001B[0m\n\u001B[0;32m----> 7\u001B[0;31m \u001B[0mChi2_values\u001B[0m \u001B[0;34m=\u001B[0m \u001B[0;34m[\u001B[0m\u001B[0mchi_distr\u001B[0m\u001B[0;34m(\u001B[0m\u001B[0mdf\u001B[0m\u001B[0;34m=\u001B[0m\u001B[0mdf\u001B[0m\u001B[0;34m)\u001B[0m \u001B[0;32mfor\u001B[0m \u001B[0m_\u001B[0m \u001B[0;32min\u001B[0m \u001B[0mrange\u001B[0m\u001B[0;34m(\u001B[0m\u001B[0msize_chi\u001B[0m\u001B[0;34m)\u001B[0m\u001B[0;34m]\u001B[0m\u001B[0;34m\u001B[0m\u001B[0;34m\u001B[0m\u001B[0m\n\u001B[0m\u001B[1;32m      8\u001B[0m \u001B[0;34m\u001B[0m\u001B[0m\n\u001B[1;32m      9\u001B[0m \u001B[0;34m\u001B[0m\u001B[0m\n",
      "\u001B[0;32m<ipython-input-8-5b190c224b14>\u001B[0m in \u001B[0;36mchi_distr\u001B[0;34m(df)\u001B[0m\n\u001B[1;32m      1\u001B[0m \u001B[0;32mfrom\u001B[0m \u001B[0mscipy\u001B[0m\u001B[0;34m.\u001B[0m\u001B[0mstats\u001B[0m \u001B[0;32mimport\u001B[0m \u001B[0mnorm\u001B[0m\u001B[0;34m,\u001B[0m \u001B[0mchi2\u001B[0m\u001B[0;34m\u001B[0m\u001B[0;34m\u001B[0m\u001B[0m\n\u001B[1;32m      2\u001B[0m \u001B[0;32mdef\u001B[0m \u001B[0mchi_distr\u001B[0m\u001B[0;34m(\u001B[0m\u001B[0mdf\u001B[0m\u001B[0;34m=\u001B[0m\u001B[0;36m1\u001B[0m\u001B[0;34m)\u001B[0m\u001B[0;34m:\u001B[0m\u001B[0;34m\u001B[0m\u001B[0;34m\u001B[0m\u001B[0m\n\u001B[0;32m----> 3\u001B[0;31m     \u001B[0;32mreturn\u001B[0m \u001B[0mnp\u001B[0m\u001B[0;34m.\u001B[0m\u001B[0msum\u001B[0m\u001B[0;34m(\u001B[0m\u001B[0mnorm\u001B[0m\u001B[0;34m.\u001B[0m\u001B[0mrvs\u001B[0m\u001B[0;34m(\u001B[0m\u001B[0msize\u001B[0m\u001B[0;34m=\u001B[0m\u001B[0mdf\u001B[0m\u001B[0;34m)\u001B[0m\u001B[0;34m**\u001B[0m\u001B[0;36m2\u001B[0m\u001B[0;34m)\u001B[0m\u001B[0;34m\u001B[0m\u001B[0;34m\u001B[0m\u001B[0m\n\u001B[0m\u001B[1;32m      4\u001B[0m \u001B[0;34m\u001B[0m\u001B[0m\n\u001B[1;32m      5\u001B[0m \u001B[0;31m# Генерируем Хи-квадрат распределение согласно определению\u001B[0m\u001B[0;34m\u001B[0m\u001B[0;34m\u001B[0m\u001B[0;34m\u001B[0m\u001B[0m\n",
      "\u001B[0;31mNameError\u001B[0m: name 'np' is not defined"
     ]
    }
   ],
   "source": [
    "from scipy.stats import norm, chi2\n",
    "def chi_distr(df=1):\n",
    "    return np.sum(norm.rvs(size=df)**2)\n",
    "\n",
    "# Генерируем Хи-квадрат распределение согласно определению\n",
    "size_chi, df = 10**5, 10 # Всего 1 млн значений для 10 степеней свободы\n",
    "Chi2_values = [chi_distr(df=df) for _ in range(size_chi)]\n",
    "\n",
    "\n",
    "# Воспользуемся генерацией из готового пакета - теоретическое распределение\n",
    "from scipy.stats import chi2\n",
    "Chi_values_rvs = chi2.rvs(df=df, size=size_chi)\n",
    "\n",
    "# Сравним графики плотностей распределения\n",
    "sns.displot(Chi2_values);\n",
    "sns.displot(Chi_values_rvs);\n",
    "print(f\"97.5% квантиль распределения теоретического распределения Хи-квадрат\"\n",
    "      f\"= {chi2.ppf(df=df, q=0.975)}\")\n",
    "print(f\"97.5% квантиль эмпирического распределения Хи-квадрат\"\n",
    "      f\"= {np.quantile(Chi2_values, 0.975)}\")\n"
   ],
   "metadata": {
    "collapsed": false,
    "pycharm": {
     "name": "#%%\n"
    }
   }
  },
  {
   "cell_type": "markdown",
   "source": [
    "### t-распределение Стьюдента\n",
    "\n",
    "***Для малых n - более тяжелые хвосты, чем у нормального распределения***\n",
    "\n",
    "***Для больших n - почти идентично нормальному***\n",
    "\n",
    "$$t_p = \\frac{\\xi_0}{\\sqrt{\\chi_p^2/p}}$$\n",
    "\n",
    "$\\xi_0$ ~ N(0,1) - случайная величина, имеющая стандартное нормальное распределение,\n",
    "\n",
    "$\\chi_p^2$ - случайная величина, имеющая распределение Хи-квадрат"
   ],
   "metadata": {
    "collapsed": false,
    "pycharm": {
     "name": "#%% md\n"
    }
   }
  },
  {
   "cell_type": "code",
   "execution_count": 11,
   "outputs": [
    {
     "name": "stdout",
     "output_type": "stream",
     "text": [
      "97.5% квантиль теоретического распределения Стьюдента = 2.2281388519649385\n",
      "97.5% квантиль эмпирического распределения Стьюдента полученного полуручным способом = 2.214193691393817\n",
      "97.5% квантиль эмпирического распределения Стьюдента полученного ручным способом = 2.2206965978518265\n"
     ]
    },
    {
     "data": {
      "text/plain": "<Figure size 360x360 with 1 Axes>",
      "image/png": "[encoded data removed]"
     },
     "metadata": {
      "needs_background": "light"
     },
     "output_type": "display_data"
    },
    {
     "data": {
      "text/plain": "<Figure size 360x360 with 1 Axes>",
      "image/png": "[encoded data removed]"
     },
     "metadata": {
      "needs_background": "light"
     },
     "output_type": "display_data"
    }
   ],
   "source": [
    "def t_distr(df=1):\n",
    "    return (norm.rvs(size=1) / np.sqrt(chi_distr(df) / df))[0]\n",
    "\n",
    "# Генерируем распределение Стьюдента согласно определению\n",
    "size_t, df = 10**5, 10 # Всего 1 млн значений для 10 степеней свободы\n",
    "t_values = [t_distr(df=df) for _ in range(size_t)]\n",
    "\n",
    "# Воспользуемся генерацией из готового пакета\n",
    "import scipy.stats as sts\n",
    "t_values_rvs = sts.t.rvs(size=size_t, df=df)\n",
    "\n",
    "# Сравним графики плотностей распределения\n",
    "sns.displot(t_values);\n",
    "sns.displot(t_values_rvs);\n",
    "\n",
    "print(f\"97.5% квантиль теоретического распределения Стьюдента = \"\n",
    "      f\"{sts.t.ppf(df=df, q=0.975)}\")\n",
    "print(f\"97.5% квантиль эмпирического распределения Стьюдента полученного полуручным способом = \"\n",
    "      f\"{np.quantile(t_values_rvs, 0.975)}\")\n",
    "print(f\"97.5% квантиль эмпирического распределения Стьюдента полученного ручным способом = \"\n",
    "      f\"{np.quantile(t_values, 0.975)}\")"
   ],
   "metadata": {
    "collapsed": false,
    "pycharm": {
     "name": "#%%\n"
    }
   }
  },
  {
   "cell_type": "markdown",
   "source": [
    "### F-распределение Фишера\n",
    "$$ F_{d_1, d_2} = \\frac{\\chi^2_{d_1}/d_1} {\\chi^2_{d_2}/d_2} $$\n",
    "\n",
    "$\\chi^2_{d_1}, \\chi^2_{d_2}$ - случайные величины, имеющие Хи-квадрат распределение\n",
    "с d1 и d2 степенями свободы"
   ],
   "metadata": {
    "collapsed": false
   }
  },
  {
   "cell_type": "code",
   "execution_count": 63,
   "outputs": [
    {
     "name": "stdout",
     "output_type": "stream",
     "text": [
      "97.5% квантиль теоретического распределения Фишера = 3.1286844836294967\n",
      "97.5% квантиль эмпирического распределения Фишера полученного полуручным способом =3.1842511260855413\n",
      "97.5% квантиль эмпирического распределения Фишера полученного ручным способом = 3.1842511260855413\n"
     ]
    },
    {
     "data": {
      "text/plain": "<Figure size 360x360 with 1 Axes>",
      "image/png": "[encoded data removed]"
     },
     "metadata": {
      "needs_background": "light"
     },
     "output_type": "display_data"
    },
    {
     "data": {
      "text/plain": "<Figure size 360x360 with 1 Axes>",
      "image/png": "[encoded data removed]"
     },
     "metadata": {
      "needs_background": "light"
     },
     "output_type": "display_data"
    }
   ],
   "source": [
    "def F_distr(df1=1, df2=1):\n",
    "    return (chi_distr(df1)/df1) / (chi_distr(df2)/df2)\n",
    "\n",
    "# Генерируем распределение Фишера согласно определению\n",
    "size_F, df1, df2 = 10**4, 5, 25 # Всего 1 млн значений для степеней свободы 5 и 5\n",
    "F_values = [F_distr(df1=df1, df2=df2) for _ in range(size_F)]\n",
    "\n",
    "# Воспользуемся генерацией из готового пакета\n",
    "import scipy.stats as sts\n",
    "F_values_rvs = sts.f.rvs(size=size_F, dfn=df1, dfd=df2)\n",
    "\n",
    "# Сравним графики плотностей распределения\n",
    "sns.displot(F_values)\n",
    "sns.displot(F_values_rvs)\n",
    "\n",
    "print(f\"97.5% квантиль теоретического распределения Фишера = \"\n",
    "      f\"{sts.f.ppf(dfn=df1, dfd=df2, q=0.975)}\")\n",
    "print(f\"97.5% квантиль эмпирического распределения Фишера полученного полуручным способом = \"\n",
    "      f\"{np.quantile(F_values_rvs, 0.975)}\")\n",
    "print(f\"97.5% квантиль эмпирического распределения Фишера полученного ручным способом = \"\n",
    "      f\"{np.quantile(F_values_rvs, 0.975)}\")"
   ],
   "metadata": {
    "collapsed": false,
    "pycharm": {
     "name": "#%%\n"
    }
   }
  },
  {
   "cell_type": "markdown",
   "source": [
    "# Случайные величины в numpy\n",
    "Случайные числа в numpy на самом деле не такие уж и случайные.\n",
    "В зависимости от типа случайности выдаются одни и те же значения."
   ],
   "metadata": {
    "collapsed": false,
    "pycharm": {
     "name": "#%% md\n"
    }
   }
  },
  {
   "cell_type": "code",
   "execution_count": 29,
   "outputs": [
    {
     "name": "stdout",
     "output_type": "stream",
     "text": [
      "Средние для сида в 1: [0.05593271 0.07499207]\n",
      "Средние для сида в 2: [-0.02298815 -0.06120652]\n"
     ]
    }
   ],
   "source": [
    "np.random.seed(1) # определить тип псевдослучайных чисел\n",
    "print(f\"Средние для сида в 1: {np.random.normal(loc=0, scale=1, size=(300, 2)).mean(axis=0)}\")   # стандартное нормальное распределение\n",
    "\n",
    "np.random.seed(2) # определить тип псевдослучайных чисел\n",
    "print(f\"Средние для сида в 2: {np.random.normal(loc=0, scale=1, size=(300, 2)).mean(axis=0)}\")   # стандартное нормальное распределение"
   ],
   "metadata": {
    "collapsed": false,
    "pycharm": {
     "name": "#%%\n"
    }
   }
  },
  {
   "cell_type": "code",
   "execution_count": 47,
   "outputs": [],
   "source": [
    "binom = np.random.binomial(n=100, p=0.2, size=100) # Биномиальное\n",
    "poison = np.random.poisson(lam=2, size=100) # Пуассон\n",
    "geom = np.random.geometric(p=0.2, size=100) # Геометрическое\n",
    "\n",
    "beta = np.random.beta(a=1, b=1, size=100)  # Бета-распределение - вероятность в испытаниях бернули\n",
    "chi = np.random.chisquare(df=1, size=100) # Хи-квадрат\n",
    "normal_st = np.random.standard_normal(size=100)  # Cтандартное нормальное\n",
    "normal = np.random.normal(loc=1, scale=2, size=100) # Нормальное\n",
    "student = np.random.standard_t(df=5, size=100) # Стьюдент\n",
    "expon = np.random.exponential(scale=2, size=100) # Экспоненциальное"
   ],
   "metadata": {
    "collapsed": false,
    "pycharm": {
     "name": "#%%\n"
    }
   }
  },
  {
   "cell_type": "code",
   "execution_count": 42,
   "outputs": [
    {
     "data": {
      "text/plain": "<Figure size 432x288 with 1 Axes>",
      "image/png": "[encoded data removed]"
     },
     "metadata": {
      "needs_background": "light"
     },
     "output_type": "display_data"
    }
   ],
   "source": [
    "plt.hist([binom, poison, geom], color=['r','b', 'g'], alpha=0.5);"
   ],
   "metadata": {
    "collapsed": false,
    "pycharm": {
     "name": "#%%\n"
    }
   }
  },
  {
   "cell_type": "code",
   "execution_count": 48,
   "outputs": [
    {
     "data": {
      "text/plain": "<Figure size 432x288 with 1 Axes>",
      "image/png": "[encoded data removed]"
     },
     "metadata": {
      "needs_background": "light"
     },
     "output_type": "display_data"
    }
   ],
   "source": [
    "plt.hist([normal_st, normal, student], color=['r','b', 'g'], alpha=0.5);"
   ],
   "metadata": {
    "collapsed": false,
    "pycharm": {
     "name": "#%%\n"
    }
   }
  },
  {
   "cell_type": "code",
   "execution_count": 49,
   "outputs": [
    {
     "data": {
      "text/plain": "<Figure size 432x288 with 1 Axes>",
      "image/png": "[encoded data removed]"
     },
     "metadata": {
      "needs_background": "light"
     },
     "output_type": "display_data"
    }
   ],
   "source": [
    "plt.hist([beta, chi, expon], color=['r','b', 'g'], alpha=0.5);\n"
   ],
   "metadata": {
    "collapsed": false,
    "pycharm": {
     "name": "#%%\n"
    }
   }
  },
  {
   "cell_type": "code",
   "execution_count": null,
   "outputs": [],
   "source": [],
   "metadata": {
    "collapsed": false,
    "pycharm": {
     "name": "#%%\n"
    }
   }
  }
 ],
 "metadata": {
  "kernelspec": {
   "display_name": "Python 3",
   "language": "python",
   "name": "python3"
  },
  "language_info": {
   "codemirror_mode": {
    "name": "ipython",
    "version": 3
   },
   "file_extension": ".py",
   "mimetype": "text/x-python",
   "name": "python",
   "nbconvert_exporter": "python",
   "pygments_lexer": "ipython3",
   "version": "3.8.3"
  },
  "toc": {
   "base_numbering": 1,
   "nav_menu": {},
   "number_sections": true,
   "sideBar": true,
   "skip_h1_title": false,
   "title_cell": "Table of Contents",
   "title_sidebar": "Contents",
   "toc_cell": false,
   "toc_position": {},
   "toc_section_display": true,
   "toc_window_display": false
  },
  "varInspector": {
   "cols": {
    "lenName": 16,
    "lenType": 16,
    "lenVar": 40
   },
   "kernels_config": {
    "python": {
     "delete_cmd_postfix": "",
     "delete_cmd_prefix": "del ",
     "library": "var_list.py",
     "varRefreshCmd": "print(var_dic_list())"
    },
    "r": {
     "delete_cmd_postfix": ") ",
     "delete_cmd_prefix": "rm(",
     "library": "var_list.r",
     "varRefreshCmd": "cat(var_dic_list()) "
    }
   },
   "types_to_exclude": [
    "module",
    "function",
    "builtin_function_or_method",
    "instance",
    "_Feature"
   ],
   "window_display": false
  }
 },
 "nbformat": 4,
 "nbformat_minor": 4
}
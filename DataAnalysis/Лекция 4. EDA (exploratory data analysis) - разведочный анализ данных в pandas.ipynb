{
 "cells": [
  {
   "cell_type": "markdown",
   "source": [
    "**Pandas** - основной инструмент работы аналитика на *малых данных*.\n",
    "Сразу отметим, что на *больших данных* у пандаса начинаются проблемы\n",
    "с оперативной памятью и скоростью обработки данных.\n",
    "\n",
    "Практически все основные функции описаны в этой книге:\n",
    "https://github.com/PacktPublishing/Learning-Pandas-Second-Edition\n",
    "\n",
    "В этой лекции рассмотрим основные функции pandas, numpy\n",
    "и нативного Python, которые полезно использовать\n",
    "при работе с данными."
   ],
   "metadata": {
    "collapsed": false
   }
  },
  {
   "cell_type": "code",
   "execution_count": 12,
   "outputs": [],
   "source": [
    "# Импортируем библиотеки для графиков и вычислений\n",
    "import numpy as np # массивы для быстрых вычислений\n",
    "import pandas as pd  # pandas - для работы с датафреймами\n",
    "\n",
    "import matplotlib.pyplot as plt # классика графиков\n",
    "import seaborn as sns # более красивая классика графиков\n",
    "# https://pyprog.pro/mpl/mpl_magic_teams.html\n",
    "plt.rcParams['figure.figsize'] = (16, 9) # глобально меняем размер графиков\n",
    "\n",
    "# Отключить предупреждения Анаконды\n",
    "import warnings\n",
    "warnings.filterwarnings(\"ignore\")"
   ],
   "metadata": {
    "collapsed": false,
    "pycharm": {
     "name": "#%%\n"
    }
   }
  },
  {
   "cell_type": "code",
   "execution_count": 13,
   "outputs": [
    {
     "name": "stdout",
     "output_type": "stream",
     "text": [
      "/Users/iakubovskii/Репетитор/DataScience/Data-Science-/DataAnalysis\n"
     ]
    }
   ],
   "source": [
    "# Импорт файла\n",
    "import os # работа с директориями\n",
    "# Установить радочую директорию - по умолчанию Python считывать файлы отсюда\n",
    "print(os.getcwd()) # показать рабочую директорию\n",
    "# os.chdir() - меняем рабочую директорию\n",
    "# Импортируем датасет с результатами олимпийских игр прям с гитхаба\n",
    "df = pd.read_csv('https://raw.githubusercontent.com/iakubovskii7/DataScience/main/DataAnalysis/Data/athlete_events.csv')"
   ],
   "metadata": {
    "collapsed": false,
    "pycharm": {
     "name": "#%%\n"
    }
   }
  },
  {
   "cell_type": "code",
   "execution_count": 14,
   "outputs": [
    {
     "data": {
      "text/plain": "['Лекция 3. АB тестирование как частный случай проверки гипотез.ipynb',\n 'Лекция 4. EDA (exploratory data analysis) - разведочный анализ данных в pandas.ipynb',\n 'Лекция 2. Numpy и основные распределения в статистике.ipynb',\n 'Лекция 1. Контейнеры, функции.ipynb',\n 'Homeworks',\n 'Обобщение знаний.ipynb',\n 'Data']"
     },
     "execution_count": 14,
     "metadata": {},
     "output_type": "execute_result"
    }
   ],
   "source": [
    "# glob - посмотреть на все файлы с нужными расширениями\n",
    "import glob\n",
    "glob.glob(\"*.csv\") # все csv файлы в рабочей директории\n",
    "\n",
    "glob.glob(\"*.ipynb\") # все тетрадки\n",
    "\n",
    "glob.glob(\"*\")  # все файлы"
   ],
   "metadata": {
    "collapsed": false,
    "pycharm": {
     "name": "#%%\n"
    }
   }
  },
  {
   "cell_type": "markdown",
   "source": [
    "# 1. Контейнеры: списки, кортежи, множества, словари"
   ],
   "metadata": {
    "collapsed": false
   }
  },
  {
   "cell_type": "code",
   "execution_count": 15,
   "outputs": [
    {
     "name": "stdout",
     "output_type": "stream",
     "text": [
      "['Abdul Aziz Hassan Al-Hadba Abdul Karim Abdul Kareem', 'Abdul Aziz Hassan Al-Hadba Abdul Karim Abdul Kareem', 'Edith Addams de Habbelinck (-Lutjens, -Taylor, -Bel Geddes)']\n"
     ]
    }
   ],
   "source": [
    "name_list = df['Name'].tolist() # Из пандаса в список\n",
    "\n",
    "len(name_list) # Длина списка\n",
    "\n",
    "sports_len_bigger_50 = [i for i in name_list if len(i)>50] # Вытащим спортсменов с длиной полного имени больше 50 (list comprehension)\n",
    "print(sports_len_bigger_50[:3])"
   ],
   "metadata": {
    "collapsed": false,
    "pycharm": {
     "name": "#%%\n"
    }
   }
  },
  {
   "cell_type": "code",
   "execution_count": 16,
   "outputs": [
    {
     "name": "stdout",
     "output_type": "stream",
     "text": [
      "[12, 12, 12, 12, 12, 12, 34, 34, 16, 30]\n"
     ]
    }
   ],
   "source": [
    "# Применяем анонимную функцию длины строки к списку. Данная функция применяется к каждому элементу списка.\n",
    "# Здесь x - каждый элемент списка\n",
    "count_A = list(map(lambda x: len(x), name_list))\n",
    "print(count_A[20:30])"
   ],
   "metadata": {
    "collapsed": false,
    "pycharm": {
     "name": "#%%\n"
    }
   }
  },
  {
   "cell_type": "code",
   "execution_count": 17,
   "outputs": [
    {
     "name": "stdout",
     "output_type": "stream",
     "text": [
      "['A', 'Dijiang']\n"
     ]
    },
    {
     "data": {
      "text/plain": "'A Diijiiang'"
     },
     "execution_count": 17,
     "metadata": {},
     "output_type": "execute_result"
    }
   ],
   "source": [
    "# Операции с текстовыми переменными\n",
    "name_0 = name_list[0] # вытащим первый элемент списка\n",
    "\n",
    "print(name_0.split(\" \")) # разобьем данную переменную на два элемента при помощи разделителя \"пробел\"\n",
    "\n",
    "name_0.replace(\"i\", \"ii\") # заменим букву i на двойную i"
   ],
   "metadata": {
    "collapsed": false,
    "pycharm": {
     "name": "#%%\n"
    }
   }
  },
  {
   "cell_type": "code",
   "execution_count": 18,
   "outputs": [
    {
     "name": "stdout",
     "output_type": "stream",
     "text": [
      "Длина списка = 271116, длина множества из этого списка = 134732\n"
     ]
    }
   ],
   "source": [
    "# Множества - уникальный список (список, где не повторяются элементы)\n",
    "set(name_list)\n",
    "# f-string\n",
    " # сравним длину списка с длиной множества, для данного списка\n",
    "print(f\"Длина списка = {len(name_list)}, длина множества из этого списка = {len(set(name_list))}\")\n"
   ],
   "metadata": {
    "collapsed": false,
    "pycharm": {
     "name": "#%%\n"
    }
   }
  },
  {
   "cell_type": "code",
   "execution_count": 19,
   "outputs": [
    {
     "data": {
      "text/plain": "[('A Dijiang', 9),\n ('A Lamusi', 8),\n ('Gunnar Nielsen Aaby', 19),\n ('Edgar Lindenau Aabye', 20),\n ('Christine Jacoba Aaftink', 24)]"
     },
     "execution_count": 19,
     "metadata": {},
     "output_type": "execute_result"
    }
   ],
   "source": [
    "# Словарик из двух списков через zip. Ключ - имя, значение - длина имени.\n",
    "# Найдем длину имени\n",
    "# 1 способ - list comprehension\n",
    "name_list_len = [len(i) for i in name_list]\n",
    "# 2 способ - через map с лямбдой\n",
    "name_list_len = list(map(lambda x: len(x), name_list))\n",
    "# 3 способ - через map без лямбды\n",
    "name_list_len = list(map(len, name_list))\n",
    "\n",
    "# Соединяем через zip\n",
    "dict_name_len = dict(zip(name_list, name_list_len))\n",
    "# Вытащим первые пять пар ключ-значения из полученного словаря\n",
    "from itertools import islice\n",
    "\n",
    "def take(n, iterable):\n",
    "    \"Return first n items of the iterable as a list\"\n",
    "    return list(islice(iterable, n))\n",
    "\n",
    "\n",
    "take(5, dict_name_len.items())"
   ],
   "metadata": {
    "collapsed": false,
    "pycharm": {
     "name": "#%%\n"
    }
   }
  },
  {
   "cell_type": "code",
   "execution_count": 20,
   "outputs": [
    {
     "data": {
      "text/plain": "[('A Dijiang', 9),\n ('A Lamusi', 8),\n ('Rolf Aas', 8),\n ('Luc Abalo', 9),\n ('Pter Abay', 9)]"
     },
     "execution_count": 20,
     "metadata": {},
     "output_type": "execute_result"
    }
   ],
   "source": [
    "keys = dict_name_len.keys() # вытащить все ключи\n",
    "values = dict_name_len.values() # вытащить все значения\n",
    "items = dict_name_len.items()# вытащить ключ-значение\n",
    "# Dict comprehension - filter\n",
    "short_names = {k: v for k, v in items if v < 10}\n",
    "take(5, short_names.items())"
   ],
   "metadata": {
    "collapsed": false,
    "pycharm": {
     "name": "#%%\n"
    }
   }
  },
  {
   "cell_type": "markdown",
   "source": [
    "# 2. Numpy\n",
    "\n",
    "Векторизованные массивы для ускоренных вычислений."
   ],
   "metadata": {
    "collapsed": false
   }
  },
  {
   "cell_type": "code",
   "execution_count": 21,
   "outputs": [],
   "source": [
    "# Перейдем из пандаса-сериес к массиву (несколько способов) - векторизация столбцов\n",
    "age = df['Age'].values\n",
    "age = np.array(df['Age'])\n",
    "age_not_nan = df['Age'].dropna().values\n",
    "\n",
    "height_not_nan = df['Height'].dropna().values\n",
    "\n",
    "age_fill_nan = df['Age'].fillna(df['Age'].mean()).values\n",
    "\n",
    "height_fill_nan = df['Height'].fillna(df['Height'].mean()).values"
   ],
   "metadata": {
    "collapsed": false,
    "pycharm": {
     "name": "#%%\n"
    }
   }
  },
  {
   "cell_type": "code",
   "execution_count": 22,
   "outputs": [
    {
     "name": "stdout",
     "output_type": "stream",
     "text": [
      "(271116,)\n",
      "(271116, 1)\n"
     ]
    }
   ],
   "source": [
    "# Размерность\n",
    "print(age.shape) # размерность массива - нет столбцов и строк, а есть только число элементов\n",
    "\n",
    "# Поэтому зачастую нам нужно явно указать, что у нас матрица с 1 столбцом\n",
    "age = age.reshape(-1, 1)\n",
    "\n",
    "# Посмотрим на новую размерность\n",
    "print(age.shape)"
   ],
   "metadata": {
    "collapsed": false,
    "pycharm": {
     "name": "#%%\n"
    }
   }
  },
  {
   "cell_type": "code",
   "execution_count": 23,
   "outputs": [
    {
     "data": {
      "text/plain": "array([[ 24.,  23.,  24., ...,  27.,  30.,  34.],\n       [180., 170.,  nan, ..., 176., 185., 185.]])"
     },
     "execution_count": 23,
     "metadata": {},
     "output_type": "execute_result"
    }
   ],
   "source": [
    "# Транспонирование\n",
    "age_height = df[['Age',\"Height\"]].values\n",
    "age_height.T"
   ],
   "metadata": {
    "collapsed": false,
    "pycharm": {
     "name": "#%%\n"
    }
   }
  },
  {
   "cell_type": "code",
   "execution_count": 24,
   "outputs": [
    {
     "data": {
      "text/plain": "array([[ 24., 180.,   1.],\n       [ 23., 170.,   1.],\n       [ 24.,  nan,   1.],\n       ...,\n       [ 27., 176.,   1.],\n       [ 30., 185.,   1.],\n       [ 34., 185.,   1.]])"
     },
     "execution_count": 24,
     "metadata": {},
     "output_type": "execute_result"
    }
   ],
   "source": [
    "# Объединяем массивы\n",
    "np.hstack([age_height, age]) # если нам нужно добавить столбец\n",
    "np.vstack([age_height[1:100], age_height[101:200]]) # если нужно добавить строки\n",
    "# Еще один способ\n",
    "np.c_[age_height, np.ones(age_height.shape[0]).reshape(-1,1)] # так же как hstack"
   ],
   "metadata": {
    "collapsed": false,
    "pycharm": {
     "name": "#%%\n"
    }
   }
  },
  {
   "cell_type": "code",
   "execution_count": 25,
   "outputs": [
    {
     "name": "stdout",
     "output_type": "stream",
     "text": [
      "25.556898357297374 6.393548628877116 40.87746406981645\n",
      "25.556898357297374 6.393548628877115 40.87746406981643\n",
      "----------------------------------------------------------------------------------------------------\n",
      "[[39.449169    6.23212917]\n",
      " [ 6.23212917 86.08314663]]\n",
      "----------------------------------------------------------------------------------------------------\n",
      "[[1.        0.1069445]\n",
      " [0.1069445 1.       ]]\n"
     ]
    }
   ],
   "source": [
    "# Статистики (одна переменная). Помним, что в случае присутствия nan - выдаст nan как результат\n",
    "print(np.nanmean(age), np.nanstd(age), np.nanvar(age))\n",
    "\n",
    "# Нет nan\n",
    "print(np.mean(age_not_nan), np.std(age_not_nan), np.var(age_not_nan))\n",
    "print(\"-\"*100)\n",
    "# Статистики (две переменные)\n",
    "\n",
    "# Ковариация\n",
    "print(np.cov(np.hstack([age_fill_nan.reshape(-1,1),\n",
    "                            height_fill_nan.reshape(-1,1)]).T))\n",
    "print(\"-\"*100)\n",
    "# Корреляция\n",
    "print(np.corrcoef(np.hstack([age_fill_nan.reshape(-1,1),\n",
    "                            height_fill_nan.reshape(-1,1)]).T))"
   ],
   "metadata": {
    "collapsed": false,
    "pycharm": {
     "name": "#%%\n"
    }
   }
  },
  {
   "cell_type": "code",
   "execution_count": 26,
   "outputs": [
    {
     "data": {
      "text/plain": "array([[ 24.        ,  23.        ,  24.        , ...,  27.        ,\n         30.        ,  34.        ],\n       [180.        , 170.        , 175.33896987, ..., 176.        ,\n        185.        , 185.        ]])"
     },
     "execution_count": 26,
     "metadata": {},
     "output_type": "execute_result"
    }
   ],
   "source": [
    "np.hstack([age_fill_nan.reshape(-1,1),\n",
    "                            height_fill_nan.reshape(-1,1)]).T"
   ],
   "metadata": {
    "collapsed": false,
    "pycharm": {
     "name": "#%%\n"
    }
   }
  },
  {
   "cell_type": "code",
   "execution_count": 27,
   "outputs": [
    {
     "name": "stdout",
     "output_type": "stream",
     "text": [
      "[15. 18. 19. 22. 25. 28. 37. 48.]\n",
      "----------------------------------------------------------------------------------------------------\n",
      "0.01209814249251243\n",
      "0.1191482612608625\n",
      "Количество людей в возрасте менее 25 лет = 150841\n",
      "Количество людей в возрасте более 25 лет = 139982\n"
     ]
    }
   ],
   "source": [
    "# Квантили\n",
    "print(np.percentile(age_fill_nan, [1,5,10,25,50,75,95,99]))\n",
    "print(\"-\"*100)\n",
    "\n",
    "# Квантили вручную\n",
    "# Количество людей возраста 15 и менее лет делить на общее количество людей\n",
    "print(age_fill_nan[age_fill_nan<=15].shape[0] / age_fill_nan.shape[0])\n",
    "\n",
    "# Количество людей возраста 19 и менее лет делить на общее количество людей\n",
    "print(age_fill_nan[age_fill_nan<=19].shape[0] / age_fill_nan.shape[0])\n",
    "\n",
    "# Медиана - 50% квантиль\n",
    "print(f\"Количество людей в возрасте менее 25 лет = {age_fill_nan[age_fill_nan<=25].shape[0]}\")\n",
    "\n",
    "print(f\"Количество людей в возрасте более 25 лет = {age_fill_nan[age_fill_nan>=25].shape[0]}\")"
   ],
   "metadata": {
    "collapsed": false,
    "pycharm": {
     "name": "#%%\n"
    }
   }
  },
  {
   "cell_type": "markdown",
   "source": [
    "# 3. Pandas. Часть 1"
   ],
   "metadata": {
    "collapsed": false
   }
  },
  {
   "cell_type": "code",
   "execution_count": 28,
   "outputs": [
    {
     "name": "stdout",
     "output_type": "stream",
     "text": [
      "(271116, 15)\n",
      "Index(['ID', 'Name', 'Sex', 'Age', 'Height', 'Weight', 'Team', 'NOC', 'Games',\n",
      "       'Year', 'Season', 'City', 'Sport', 'Event', 'Medal'],\n",
      "      dtype='object')\n",
      "<class 'pandas.core.frame.DataFrame'>\n",
      "RangeIndex: 271116 entries, 0 to 271115\n",
      "Data columns (total 15 columns):\n",
      " #   Column  Non-Null Count   Dtype  \n",
      "---  ------  --------------   -----  \n",
      " 0   ID      271116 non-null  int64  \n",
      " 1   Name    271116 non-null  object \n",
      " 2   Sex     271116 non-null  object \n",
      " 3   Age     261642 non-null  float64\n",
      " 4   Height  210945 non-null  float64\n",
      " 5   Weight  208241 non-null  float64\n",
      " 6   Team    271116 non-null  object \n",
      " 7   NOC     271116 non-null  object \n",
      " 8   Games   271116 non-null  object \n",
      " 9   Year    271116 non-null  int64  \n",
      " 10  Season  271116 non-null  object \n",
      " 11  City    271116 non-null  object \n",
      " 12  Sport   271116 non-null  object \n",
      " 13  Event   271116 non-null  object \n",
      " 14  Medal   39783 non-null   object \n",
      "dtypes: float64(3), int64(2), object(10)\n",
      "memory usage: 31.0+ MB\n",
      "None\n",
      "<class 'pandas.core.frame.DataFrame'>\n",
      "RangeIndex: 271116 entries, 0 to 271115\n",
      "Data columns (total 15 columns):\n",
      " #   Column  Non-Null Count   Dtype  \n",
      "---  ------  --------------   -----  \n",
      " 0   ID      271116 non-null  int64  \n",
      " 1   Name    271116 non-null  object \n",
      " 2   Sex     271116 non-null  object \n",
      " 3   Age     261642 non-null  float64\n",
      " 4   Height  210945 non-null  float64\n",
      " 5   Weight  208241 non-null  float64\n",
      " 6   Team    271116 non-null  object \n",
      " 7   NOC     271116 non-null  object \n",
      " 8   Games   271116 non-null  object \n",
      " 9   Year    271116 non-null  int64  \n",
      " 10  Season  271116 non-null  object \n",
      " 11  City    271116 non-null  object \n",
      " 12  Sport   271116 non-null  object \n",
      " 13  Event   271116 non-null  object \n",
      " 14  Medal   39783 non-null   object \n",
      "dtypes: float64(3), int64(2), object(10)\n",
      "memory usage: 177.8 MB\n",
      "None\n"
     ]
    }
   ],
   "source": [
    "# Tidy datasets - строки - наблюдения, стобцы - переменные.\n",
    "print(df.shape) # количество строк и столбцов\n",
    "\n",
    "print(df.columns) # названия столбцов\n",
    "\n",
    "print(df.info()) # общая информация\n",
    "print(df.info(memory_usage=\"deep\")) # точный размер датасета"
   ],
   "metadata": {
    "collapsed": false,
    "pycharm": {
     "name": "#%%\n"
    }
   }
  },
  {
   "cell_type": "code",
   "execution_count": 29,
   "outputs": [
    {
     "data": {
      "text/plain": "   id                      Name Sex   Age  Height  Weight            Team  \\\n0   1                 A Dijiang   M  24.0   180.0    80.0           China   \n1   2                  A Lamusi   M  23.0   170.0    60.0           China   \n2   3       Gunnar Nielsen Aaby   M  24.0     NaN     NaN         Denmark   \n3   4      Edgar Lindenau Aabye   M  34.0     NaN     NaN  Denmark/Sweden   \n4   5  Christine Jacoba Aaftink   F  21.0   185.0    82.0     Netherlands   \n\n   NOC        Games  Year  Season       City          Sport  \\\n0  CHN  1992 Summer  1992  Summer  Barcelona     Basketball   \n1  CHN  2012 Summer  2012  Summer     London           Judo   \n2  DEN  1920 Summer  1920  Summer  Antwerpen       Football   \n3  DEN  1900 Summer  1900  Summer      Paris     Tug-Of-War   \n4  NED  1988 Winter  1988  Winter    Calgary  Speed Skating   \n\n                              Event Medal  \n0       Basketball Men's Basketball   NaN  \n1      Judo Men's Extra-Lightweight   NaN  \n2           Football Men's Football   NaN  \n3       Tug-Of-War Men's Tug-Of-War  Gold  \n4  Speed Skating Women's 500 metres   NaN  ",
      "text/html": "<div>\n<style scoped>\n    .dataframe tbody tr th:only-of-type {\n        vertical-align: middle;\n    }\n\n    .dataframe tbody tr th {\n        vertical-align: top;\n    }\n\n    .dataframe thead th {\n        text-align: right;\n    }\n</style>\n<table border=\"1\" class=\"dataframe\">\n  <thead>\n    <tr style=\"text-align: right;\">\n      <th></th>\n      <th>id</th>\n      <th>Name</th>\n      <th>Sex</th>\n      <th>Age</th>\n      <th>Height</th>\n      <th>Weight</th>\n      <th>Team</th>\n      <th>NOC</th>\n      <th>Games</th>\n      <th>Year</th>\n      <th>Season</th>\n      <th>City</th>\n      <th>Sport</th>\n      <th>Event</th>\n      <th>Medal</th>\n    </tr>\n  </thead>\n  <tbody>\n    <tr>\n      <th>0</th>\n      <td>1</td>\n      <td>A Dijiang</td>\n      <td>M</td>\n      <td>24.0</td>\n      <td>180.0</td>\n      <td>80.0</td>\n      <td>China</td>\n      <td>CHN</td>\n      <td>1992 Summer</td>\n      <td>1992</td>\n      <td>Summer</td>\n      <td>Barcelona</td>\n      <td>Basketball</td>\n      <td>Basketball Men's Basketball</td>\n      <td>NaN</td>\n    </tr>\n    <tr>\n      <th>1</th>\n      <td>2</td>\n      <td>A Lamusi</td>\n      <td>M</td>\n      <td>23.0</td>\n      <td>170.0</td>\n      <td>60.0</td>\n      <td>China</td>\n      <td>CHN</td>\n      <td>2012 Summer</td>\n      <td>2012</td>\n      <td>Summer</td>\n      <td>London</td>\n      <td>Judo</td>\n      <td>Judo Men's Extra-Lightweight</td>\n      <td>NaN</td>\n    </tr>\n    <tr>\n      <th>2</th>\n      <td>3</td>\n      <td>Gunnar Nielsen Aaby</td>\n      <td>M</td>\n      <td>24.0</td>\n      <td>NaN</td>\n      <td>NaN</td>\n      <td>Denmark</td>\n      <td>DEN</td>\n      <td>1920 Summer</td>\n      <td>1920</td>\n      <td>Summer</td>\n      <td>Antwerpen</td>\n      <td>Football</td>\n      <td>Football Men's Football</td>\n      <td>NaN</td>\n    </tr>\n    <tr>\n      <th>3</th>\n      <td>4</td>\n      <td>Edgar Lindenau Aabye</td>\n      <td>M</td>\n      <td>34.0</td>\n      <td>NaN</td>\n      <td>NaN</td>\n      <td>Denmark/Sweden</td>\n      <td>DEN</td>\n      <td>1900 Summer</td>\n      <td>1900</td>\n      <td>Summer</td>\n      <td>Paris</td>\n      <td>Tug-Of-War</td>\n      <td>Tug-Of-War Men's Tug-Of-War</td>\n      <td>Gold</td>\n    </tr>\n    <tr>\n      <th>4</th>\n      <td>5</td>\n      <td>Christine Jacoba Aaftink</td>\n      <td>F</td>\n      <td>21.0</td>\n      <td>185.0</td>\n      <td>82.0</td>\n      <td>Netherlands</td>\n      <td>NED</td>\n      <td>1988 Winter</td>\n      <td>1988</td>\n      <td>Winter</td>\n      <td>Calgary</td>\n      <td>Speed Skating</td>\n      <td>Speed Skating Women's 500 metres</td>\n      <td>NaN</td>\n    </tr>\n  </tbody>\n</table>\n</div>"
     },
     "execution_count": 29,
     "metadata": {},
     "output_type": "execute_result"
    }
   ],
   "source": [
    "# Переименовать столбцы\n",
    "df = df.rename(columns = {\"ID\":\"id\"})\n",
    "df.head()"
   ],
   "metadata": {
    "collapsed": false,
    "pycharm": {
     "name": "#%%\n"
    }
   }
  },
  {
   "cell_type": "code",
   "execution_count": 30,
   "outputs": [
    {
     "data": {
      "text/plain": "0    1.0\n1    1.0\n2    1.0\n3    2.0\ndtype: float64"
     },
     "execution_count": 30,
     "metadata": {},
     "output_type": "execute_result"
    }
   ],
   "source": [
    "# Заполнить пропуски\n",
    "# method ffill - присваивает пропуску предыдущее значение (если мы идем сверху вниз)\n",
    "pd.Series([1,np.nan,np.nan,2]).fillna(method = \"ffill\")"
   ],
   "metadata": {
    "collapsed": false,
    "pycharm": {
     "name": "#%%\n"
    }
   }
  },
  {
   "cell_type": "code",
   "execution_count": 31,
   "outputs": [
    {
     "data": {
      "text/plain": "0    1.0\n1    2.0\n2    2.0\n3    2.0\ndtype: float64"
     },
     "execution_count": 31,
     "metadata": {},
     "output_type": "execute_result"
    }
   ],
   "source": [
    "# Заполнить пропуски\n",
    "# method bfill - присваивает пропуску последующее значение (если мы идем сверху вниз)\n",
    "pd.Series([1,np.nan,np.nan,2]).fillna(method = \"bfill\")"
   ],
   "metadata": {
    "collapsed": false,
    "pycharm": {
     "name": "#%%\n"
    }
   }
  },
  {
   "cell_type": "code",
   "execution_count": 32,
   "outputs": [
    {
     "data": {
      "text/plain": "0    1.0\n1    0.0\n2    0.0\n3    2.0\ndtype: float64"
     },
     "execution_count": 32,
     "metadata": {},
     "output_type": "execute_result"
    }
   ],
   "source": [
    "# Заполнить пропуски числами\n",
    "pd.Series([1,np.nan,np.nan,2]).fillna(0)"
   ],
   "metadata": {
    "collapsed": false,
    "pycharm": {
     "name": "#%%\n"
    }
   }
  },
  {
   "cell_type": "code",
   "execution_count": 33,
   "outputs": [
    {
     "data": {
      "text/plain": "                  id            Age         Height         Weight  \\\ncount  271116.000000  261642.000000  210945.000000  208241.000000   \nmean    68248.954396      25.556898     175.338970      70.702393   \nstd     39022.286345       6.393561      10.518462      14.348020   \nmin         1.000000      10.000000     127.000000      25.000000   \n25%     34643.000000      21.000000     168.000000      60.000000   \n50%     68205.000000      24.000000     175.000000      70.000000   \n75%    102097.250000      28.000000     183.000000      79.000000   \nmax    135571.000000      97.000000     226.000000     214.000000   \n\n                Year  \ncount  271116.000000  \nmean     1978.378480  \nstd        29.877632  \nmin      1896.000000  \n25%      1960.000000  \n50%      1988.000000  \n75%      2002.000000  \nmax      2016.000000  ",
      "text/html": "<div>\n<style scoped>\n    .dataframe tbody tr th:only-of-type {\n        vertical-align: middle;\n    }\n\n    .dataframe tbody tr th {\n        vertical-align: top;\n    }\n\n    .dataframe thead th {\n        text-align: right;\n    }\n</style>\n<table border=\"1\" class=\"dataframe\">\n  <thead>\n    <tr style=\"text-align: right;\">\n      <th></th>\n      <th>id</th>\n      <th>Age</th>\n      <th>Height</th>\n      <th>Weight</th>\n      <th>Year</th>\n    </tr>\n  </thead>\n  <tbody>\n    <tr>\n      <th>count</th>\n      <td>271116.000000</td>\n      <td>261642.000000</td>\n      <td>210945.000000</td>\n      <td>208241.000000</td>\n      <td>271116.000000</td>\n    </tr>\n    <tr>\n      <th>mean</th>\n      <td>68248.954396</td>\n      <td>25.556898</td>\n      <td>175.338970</td>\n      <td>70.702393</td>\n      <td>1978.378480</td>\n    </tr>\n    <tr>\n      <th>std</th>\n      <td>39022.286345</td>\n      <td>6.393561</td>\n      <td>10.518462</td>\n      <td>14.348020</td>\n      <td>29.877632</td>\n    </tr>\n    <tr>\n      <th>min</th>\n      <td>1.000000</td>\n      <td>10.000000</td>\n      <td>127.000000</td>\n      <td>25.000000</td>\n      <td>1896.000000</td>\n    </tr>\n    <tr>\n      <th>25%</th>\n      <td>34643.000000</td>\n      <td>21.000000</td>\n      <td>168.000000</td>\n      <td>60.000000</td>\n      <td>1960.000000</td>\n    </tr>\n    <tr>\n      <th>50%</th>\n      <td>68205.000000</td>\n      <td>24.000000</td>\n      <td>175.000000</td>\n      <td>70.000000</td>\n      <td>1988.000000</td>\n    </tr>\n    <tr>\n      <th>75%</th>\n      <td>102097.250000</td>\n      <td>28.000000</td>\n      <td>183.000000</td>\n      <td>79.000000</td>\n      <td>2002.000000</td>\n    </tr>\n    <tr>\n      <th>max</th>\n      <td>135571.000000</td>\n      <td>97.000000</td>\n      <td>226.000000</td>\n      <td>214.000000</td>\n      <td>2016.000000</td>\n    </tr>\n  </tbody>\n</table>\n</div>"
     },
     "execution_count": 33,
     "metadata": {},
     "output_type": "execute_result"
    }
   ],
   "source": [
    "# Статистики в пандасе\n",
    "df.describe()"
   ],
   "metadata": {
    "collapsed": false,
    "pycharm": {
     "name": "#%%\n"
    }
   }
  },
  {
   "cell_type": "code",
   "execution_count": 34,
   "outputs": [
    {
     "data": {
      "text/plain": "                  id            Age         Height         Weight  \\\ncount  271116.000000  261642.000000  210945.000000  208241.000000   \nmean    68248.954396      25.556898     175.338970      70.702393   \nstd     39022.286345       6.393561      10.518462      14.348020   \nmin         1.000000      10.000000     127.000000      25.000000   \n20%     27817.000000      21.000000     167.000000      59.000000   \n50%     68205.000000      24.000000     175.000000      70.000000   \n95%    128978.000000      37.000000     193.000000      95.000000   \nmax    135571.000000      97.000000     226.000000     214.000000   \n\n                Year  \ncount  271116.000000  \nmean     1978.378480  \nstd        29.877632  \nmin      1896.000000  \n20%      1952.000000  \n50%      1988.000000  \n95%      2016.000000  \nmax      2016.000000  ",
      "text/html": "<div>\n<style scoped>\n    .dataframe tbody tr th:only-of-type {\n        vertical-align: middle;\n    }\n\n    .dataframe tbody tr th {\n        vertical-align: top;\n    }\n\n    .dataframe thead th {\n        text-align: right;\n    }\n</style>\n<table border=\"1\" class=\"dataframe\">\n  <thead>\n    <tr style=\"text-align: right;\">\n      <th></th>\n      <th>id</th>\n      <th>Age</th>\n      <th>Height</th>\n      <th>Weight</th>\n      <th>Year</th>\n    </tr>\n  </thead>\n  <tbody>\n    <tr>\n      <th>count</th>\n      <td>271116.000000</td>\n      <td>261642.000000</td>\n      <td>210945.000000</td>\n      <td>208241.000000</td>\n      <td>271116.000000</td>\n    </tr>\n    <tr>\n      <th>mean</th>\n      <td>68248.954396</td>\n      <td>25.556898</td>\n      <td>175.338970</td>\n      <td>70.702393</td>\n      <td>1978.378480</td>\n    </tr>\n    <tr>\n      <th>std</th>\n      <td>39022.286345</td>\n      <td>6.393561</td>\n      <td>10.518462</td>\n      <td>14.348020</td>\n      <td>29.877632</td>\n    </tr>\n    <tr>\n      <th>min</th>\n      <td>1.000000</td>\n      <td>10.000000</td>\n      <td>127.000000</td>\n      <td>25.000000</td>\n      <td>1896.000000</td>\n    </tr>\n    <tr>\n      <th>20%</th>\n      <td>27817.000000</td>\n      <td>21.000000</td>\n      <td>167.000000</td>\n      <td>59.000000</td>\n      <td>1952.000000</td>\n    </tr>\n    <tr>\n      <th>50%</th>\n      <td>68205.000000</td>\n      <td>24.000000</td>\n      <td>175.000000</td>\n      <td>70.000000</td>\n      <td>1988.000000</td>\n    </tr>\n    <tr>\n      <th>95%</th>\n      <td>128978.000000</td>\n      <td>37.000000</td>\n      <td>193.000000</td>\n      <td>95.000000</td>\n      <td>2016.000000</td>\n    </tr>\n    <tr>\n      <th>max</th>\n      <td>135571.000000</td>\n      <td>97.000000</td>\n      <td>226.000000</td>\n      <td>214.000000</td>\n      <td>2016.000000</td>\n    </tr>\n  </tbody>\n</table>\n</div>"
     },
     "execution_count": 34,
     "metadata": {},
     "output_type": "execute_result"
    }
   ],
   "source": [
    "# Выбрать квантили\n",
    "df.describe(percentiles = [.2,.5,.95])"
   ],
   "metadata": {
    "collapsed": false,
    "pycharm": {
     "name": "#%%\n"
    }
   }
  },
  {
   "cell_type": "code",
   "execution_count": 35,
   "outputs": [
    {
     "data": {
      "text/plain": "                   id                  Name     Sex            Age  \\\ncount   271116.000000                271116  271116  261642.000000   \nunique            NaN                134732       2            NaN   \ntop               NaN  Robert Tait McKenzie       M            NaN   \nfreq              NaN                    58  196594            NaN   \nmean     68248.954396                   NaN     NaN      25.556898   \nstd      39022.286345                   NaN     NaN       6.393561   \nmin          1.000000                   NaN     NaN      10.000000   \n25%      34643.000000                   NaN     NaN      21.000000   \n50%      68205.000000                   NaN     NaN      24.000000   \n75%     102097.250000                   NaN     NaN      28.000000   \nmax     135571.000000                   NaN     NaN      97.000000   \n\n               Height         Weight           Team     NOC        Games  \\\ncount   210945.000000  208241.000000         271116  271116       271116   \nunique            NaN            NaN           1184     230           51   \ntop               NaN            NaN  United States     USA  2000 Summer   \nfreq              NaN            NaN          17847   18853        13821   \nmean       175.338970      70.702393            NaN     NaN          NaN   \nstd         10.518462      14.348020            NaN     NaN          NaN   \nmin        127.000000      25.000000            NaN     NaN          NaN   \n25%        168.000000      60.000000            NaN     NaN          NaN   \n50%        175.000000      70.000000            NaN     NaN          NaN   \n75%        183.000000      79.000000            NaN     NaN          NaN   \nmax        226.000000     214.000000            NaN     NaN          NaN   \n\n                 Year  Season    City      Sport                    Event  \\\ncount   271116.000000  271116  271116     271116                   271116   \nunique            NaN       2      42         66                      765   \ntop               NaN  Summer  London  Athletics  Football Men's Football   \nfreq              NaN  222552   22426      38624                     5733   \nmean      1978.378480     NaN     NaN        NaN                      NaN   \nstd         29.877632     NaN     NaN        NaN                      NaN   \nmin       1896.000000     NaN     NaN        NaN                      NaN   \n25%       1960.000000     NaN     NaN        NaN                      NaN   \n50%       1988.000000     NaN     NaN        NaN                      NaN   \n75%       2002.000000     NaN     NaN        NaN                      NaN   \nmax       2016.000000     NaN     NaN        NaN                      NaN   \n\n        Medal  \ncount   39783  \nunique      3  \ntop      Gold  \nfreq    13372  \nmean      NaN  \nstd       NaN  \nmin       NaN  \n25%       NaN  \n50%       NaN  \n75%       NaN  \nmax       NaN  ",
      "text/html": "<div>\n<style scoped>\n    .dataframe tbody tr th:only-of-type {\n        vertical-align: middle;\n    }\n\n    .dataframe tbody tr th {\n        vertical-align: top;\n    }\n\n    .dataframe thead th {\n        text-align: right;\n    }\n</style>\n<table border=\"1\" class=\"dataframe\">\n  <thead>\n    <tr style=\"text-align: right;\">\n      <th></th>\n      <th>id</th>\n      <th>Name</th>\n      <th>Sex</th>\n      <th>Age</th>\n      <th>Height</th>\n      <th>Weight</th>\n      <th>Team</th>\n      <th>NOC</th>\n      <th>Games</th>\n      <th>Year</th>\n      <th>Season</th>\n      <th>City</th>\n      <th>Sport</th>\n      <th>Event</th>\n      <th>Medal</th>\n    </tr>\n  </thead>\n  <tbody>\n    <tr>\n      <th>count</th>\n      <td>271116.000000</td>\n      <td>271116</td>\n      <td>271116</td>\n      <td>261642.000000</td>\n      <td>210945.000000</td>\n      <td>208241.000000</td>\n      <td>271116</td>\n      <td>271116</td>\n      <td>271116</td>\n      <td>271116.000000</td>\n      <td>271116</td>\n      <td>271116</td>\n      <td>271116</td>\n      <td>271116</td>\n      <td>39783</td>\n    </tr>\n    <tr>\n      <th>unique</th>\n      <td>NaN</td>\n      <td>134732</td>\n      <td>2</td>\n      <td>NaN</td>\n      <td>NaN</td>\n      <td>NaN</td>\n      <td>1184</td>\n      <td>230</td>\n      <td>51</td>\n      <td>NaN</td>\n      <td>2</td>\n      <td>42</td>\n      <td>66</td>\n      <td>765</td>\n      <td>3</td>\n    </tr>\n    <tr>\n      <th>top</th>\n      <td>NaN</td>\n      <td>Robert Tait McKenzie</td>\n      <td>M</td>\n      <td>NaN</td>\n      <td>NaN</td>\n      <td>NaN</td>\n      <td>United States</td>\n      <td>USA</td>\n      <td>2000 Summer</td>\n      <td>NaN</td>\n      <td>Summer</td>\n      <td>London</td>\n      <td>Athletics</td>\n      <td>Football Men's Football</td>\n      <td>Gold</td>\n    </tr>\n    <tr>\n      <th>freq</th>\n      <td>NaN</td>\n      <td>58</td>\n      <td>196594</td>\n      <td>NaN</td>\n      <td>NaN</td>\n      <td>NaN</td>\n      <td>17847</td>\n      <td>18853</td>\n      <td>13821</td>\n      <td>NaN</td>\n      <td>222552</td>\n      <td>22426</td>\n      <td>38624</td>\n      <td>5733</td>\n      <td>13372</td>\n    </tr>\n    <tr>\n      <th>mean</th>\n      <td>68248.954396</td>\n      <td>NaN</td>\n      <td>NaN</td>\n      <td>25.556898</td>\n      <td>175.338970</td>\n      <td>70.702393</td>\n      <td>NaN</td>\n      <td>NaN</td>\n      <td>NaN</td>\n      <td>1978.378480</td>\n      <td>NaN</td>\n      <td>NaN</td>\n      <td>NaN</td>\n      <td>NaN</td>\n      <td>NaN</td>\n    </tr>\n    <tr>\n      <th>std</th>\n      <td>39022.286345</td>\n      <td>NaN</td>\n      <td>NaN</td>\n      <td>6.393561</td>\n      <td>10.518462</td>\n      <td>14.348020</td>\n      <td>NaN</td>\n      <td>NaN</td>\n      <td>NaN</td>\n      <td>29.877632</td>\n      <td>NaN</td>\n      <td>NaN</td>\n      <td>NaN</td>\n      <td>NaN</td>\n      <td>NaN</td>\n    </tr>\n    <tr>\n      <th>min</th>\n      <td>1.000000</td>\n      <td>NaN</td>\n      <td>NaN</td>\n      <td>10.000000</td>\n      <td>127.000000</td>\n      <td>25.000000</td>\n      <td>NaN</td>\n      <td>NaN</td>\n      <td>NaN</td>\n      <td>1896.000000</td>\n      <td>NaN</td>\n      <td>NaN</td>\n      <td>NaN</td>\n      <td>NaN</td>\n      <td>NaN</td>\n    </tr>\n    <tr>\n      <th>25%</th>\n      <td>34643.000000</td>\n      <td>NaN</td>\n      <td>NaN</td>\n      <td>21.000000</td>\n      <td>168.000000</td>\n      <td>60.000000</td>\n      <td>NaN</td>\n      <td>NaN</td>\n      <td>NaN</td>\n      <td>1960.000000</td>\n      <td>NaN</td>\n      <td>NaN</td>\n      <td>NaN</td>\n      <td>NaN</td>\n      <td>NaN</td>\n    </tr>\n    <tr>\n      <th>50%</th>\n      <td>68205.000000</td>\n      <td>NaN</td>\n      <td>NaN</td>\n      <td>24.000000</td>\n      <td>175.000000</td>\n      <td>70.000000</td>\n      <td>NaN</td>\n      <td>NaN</td>\n      <td>NaN</td>\n      <td>1988.000000</td>\n      <td>NaN</td>\n      <td>NaN</td>\n      <td>NaN</td>\n      <td>NaN</td>\n      <td>NaN</td>\n    </tr>\n    <tr>\n      <th>75%</th>\n      <td>102097.250000</td>\n      <td>NaN</td>\n      <td>NaN</td>\n      <td>28.000000</td>\n      <td>183.000000</td>\n      <td>79.000000</td>\n      <td>NaN</td>\n      <td>NaN</td>\n      <td>NaN</td>\n      <td>2002.000000</td>\n      <td>NaN</td>\n      <td>NaN</td>\n      <td>NaN</td>\n      <td>NaN</td>\n      <td>NaN</td>\n    </tr>\n    <tr>\n      <th>max</th>\n      <td>135571.000000</td>\n      <td>NaN</td>\n      <td>NaN</td>\n      <td>97.000000</td>\n      <td>226.000000</td>\n      <td>214.000000</td>\n      <td>NaN</td>\n      <td>NaN</td>\n      <td>NaN</td>\n      <td>2016.000000</td>\n      <td>NaN</td>\n      <td>NaN</td>\n      <td>NaN</td>\n      <td>NaN</td>\n      <td>NaN</td>\n    </tr>\n  </tbody>\n</table>\n</div>"
     },
     "execution_count": 35,
     "metadata": {},
     "output_type": "execute_result"
    }
   ],
   "source": [
    "# Включить в результат не только количественные переменные\n",
    "df.describe(include = \"all\")"
   ],
   "metadata": {
    "collapsed": false,
    "pycharm": {
     "name": "#%%\n"
    }
   }
  },
  {
   "cell_type": "code",
   "execution_count": 36,
   "outputs": [
    {
     "data": {
      "text/plain": "           id                  Name Sex   Age  Height  Weight    Team  NOC  \\\n154798  77710  Robert Tait McKenzie   M  44.0     NaN     NaN  Canada  CAN   \n154799  77710  Robert Tait McKenzie   M  60.0     NaN     NaN  Canada  CAN   \n154800  77710  Robert Tait McKenzie   M  60.0     NaN     NaN  Canada  CAN   \n154801  77710  Robert Tait McKenzie   M  60.0     NaN     NaN  Canada  CAN   \n154802  77710  Robert Tait McKenzie   M  60.0     NaN     NaN  Canada  CAN   \n\n              Games  Year  Season       City             Sport  \\\n154798  1912 Summer  1912  Summer  Stockholm  Art Competitions   \n154799  1928 Summer  1928  Summer  Amsterdam  Art Competitions   \n154800  1928 Summer  1928  Summer  Amsterdam  Art Competitions   \n154801  1928 Summer  1928  Summer  Amsterdam  Art Competitions   \n154802  1928 Summer  1928  Summer  Amsterdam  Art Competitions   \n\n                                              Event Medal  \n154798           Art Competitions Mixed Sculpturing   NaN  \n154799  Art Competitions Mixed Sculpturing, Statues   NaN  \n154800  Art Competitions Mixed Sculpturing, Statues   NaN  \n154801  Art Competitions Mixed Sculpturing, Statues   NaN  \n154802  Art Competitions Mixed Sculpturing, Statues   NaN  ",
      "text/html": "<div>\n<style scoped>\n    .dataframe tbody tr th:only-of-type {\n        vertical-align: middle;\n    }\n\n    .dataframe tbody tr th {\n        vertical-align: top;\n    }\n\n    .dataframe thead th {\n        text-align: right;\n    }\n</style>\n<table border=\"1\" class=\"dataframe\">\n  <thead>\n    <tr style=\"text-align: right;\">\n      <th></th>\n      <th>id</th>\n      <th>Name</th>\n      <th>Sex</th>\n      <th>Age</th>\n      <th>Height</th>\n      <th>Weight</th>\n      <th>Team</th>\n      <th>NOC</th>\n      <th>Games</th>\n      <th>Year</th>\n      <th>Season</th>\n      <th>City</th>\n      <th>Sport</th>\n      <th>Event</th>\n      <th>Medal</th>\n    </tr>\n  </thead>\n  <tbody>\n    <tr>\n      <th>154798</th>\n      <td>77710</td>\n      <td>Robert Tait McKenzie</td>\n      <td>M</td>\n      <td>44.0</td>\n      <td>NaN</td>\n      <td>NaN</td>\n      <td>Canada</td>\n      <td>CAN</td>\n      <td>1912 Summer</td>\n      <td>1912</td>\n      <td>Summer</td>\n      <td>Stockholm</td>\n      <td>Art Competitions</td>\n      <td>Art Competitions Mixed Sculpturing</td>\n      <td>NaN</td>\n    </tr>\n    <tr>\n      <th>154799</th>\n      <td>77710</td>\n      <td>Robert Tait McKenzie</td>\n      <td>M</td>\n      <td>60.0</td>\n      <td>NaN</td>\n      <td>NaN</td>\n      <td>Canada</td>\n      <td>CAN</td>\n      <td>1928 Summer</td>\n      <td>1928</td>\n      <td>Summer</td>\n      <td>Amsterdam</td>\n      <td>Art Competitions</td>\n      <td>Art Competitions Mixed Sculpturing, Statues</td>\n      <td>NaN</td>\n    </tr>\n    <tr>\n      <th>154800</th>\n      <td>77710</td>\n      <td>Robert Tait McKenzie</td>\n      <td>M</td>\n      <td>60.0</td>\n      <td>NaN</td>\n      <td>NaN</td>\n      <td>Canada</td>\n      <td>CAN</td>\n      <td>1928 Summer</td>\n      <td>1928</td>\n      <td>Summer</td>\n      <td>Amsterdam</td>\n      <td>Art Competitions</td>\n      <td>Art Competitions Mixed Sculpturing, Statues</td>\n      <td>NaN</td>\n    </tr>\n    <tr>\n      <th>154801</th>\n      <td>77710</td>\n      <td>Robert Tait McKenzie</td>\n      <td>M</td>\n      <td>60.0</td>\n      <td>NaN</td>\n      <td>NaN</td>\n      <td>Canada</td>\n      <td>CAN</td>\n      <td>1928 Summer</td>\n      <td>1928</td>\n      <td>Summer</td>\n      <td>Amsterdam</td>\n      <td>Art Competitions</td>\n      <td>Art Competitions Mixed Sculpturing, Statues</td>\n      <td>NaN</td>\n    </tr>\n    <tr>\n      <th>154802</th>\n      <td>77710</td>\n      <td>Robert Tait McKenzie</td>\n      <td>M</td>\n      <td>60.0</td>\n      <td>NaN</td>\n      <td>NaN</td>\n      <td>Canada</td>\n      <td>CAN</td>\n      <td>1928 Summer</td>\n      <td>1928</td>\n      <td>Summer</td>\n      <td>Amsterdam</td>\n      <td>Art Competitions</td>\n      <td>Art Competitions Mixed Sculpturing, Statues</td>\n      <td>NaN</td>\n    </tr>\n  </tbody>\n</table>\n</div>"
     },
     "execution_count": 36,
     "metadata": {},
     "output_type": "execute_result"
    }
   ],
   "source": [
    "# Срезы - фильтрация по условии\n",
    "df[df[\"Name\"] == \"Robert Tait McKenzie\"].head(5)"
   ],
   "metadata": {
    "collapsed": false,
    "pycharm": {
     "name": "#%%\n"
    }
   }
  },
  {
   "cell_type": "code",
   "execution_count": 37,
   "outputs": [
    {
     "data": {
      "text/plain": "            id                                  Name Sex   Age  Height  \\\n1180       660            Karem Faride Achach Ramrez   F  25.0   169.0   \n4579      2604                       Khaido Alexouli   F  25.0   180.0   \n5612      3174            Lzaro Jorge lvarez Estrada   M  25.0   173.0   \n6131      3451                      Iraj Amir-Akhori   M  25.0   164.0   \n7191      4018                           Misako Ando   F  25.0   163.0   \n...        ...                                   ...  ..   ...     ...   \n270806  135436                            Luis Zuiga   M  25.0   167.0   \n270831  135447                           Matja Zupan   M  25.0   179.0   \n270832  135447                           Matja Zupan   M  25.0   179.0   \n270977  135502  Nataliya Maratovna \"Natasha\" Zvereva   F  25.0   172.0   \n270978  135502  Nataliya Maratovna \"Natasha\" Zvereva   F  25.0   172.0   \n\n        Weight      Team  NOC        Games  Year  Season            City  \\\n1180      60.0    Mexico  MEX  2016 Summer  2016  Summer  Rio de Janeiro   \n4579      60.0    Greece  GRE  2016 Summer  2016  Summer  Rio de Janeiro   \n5612      60.0      Cuba  CUB  2016 Summer  2016  Summer  Rio de Janeiro   \n6131      60.0      Iran  IRI  1988 Summer  1988  Summer           Seoul   \n7191      60.0     Japan  JPN  1996 Summer  1996  Summer         Atlanta   \n...        ...       ...  ...          ...   ...     ...             ...   \n270806    60.0     Chile  CHI  1964 Summer  1964  Summer           Tokyo   \n270831    60.0  Slovenia  SLO  1994 Winter  1994  Winter     Lillehammer   \n270832    60.0  Slovenia  SLO  1994 Winter  1994  Winter     Lillehammer   \n270977    60.0   Belarus  BLR  1996 Summer  1996  Summer         Atlanta   \n270978    60.0   Belarus  BLR  1996 Summer  1996  Summer         Atlanta   \n\n                        Sport                                     Event  \\\n1180    Synchronized Swimming        Synchronized Swimming Women's Duet   \n4579                Athletics               Athletics Women's Long Jump   \n5612                   Boxing                  Boxing Men's Lightweight   \n6131                  Cycling       Cycling Men's Road Race, Individual   \n7191                 Softball                 Softball Women's Softball   \n...                       ...                                       ...   \n270806                 Boxing                  Boxing Men's Lightweight   \n270831            Ski Jumping  Ski Jumping Men's Large Hill, Individual   \n270832            Ski Jumping        Ski Jumping Men's Large Hill, Team   \n270977                 Tennis                    Tennis Women's Singles   \n270978                 Tennis                    Tennis Women's Doubles   \n\n         Medal  \n1180       NaN  \n4579       NaN  \n5612    Bronze  \n6131       NaN  \n7191       NaN  \n...        ...  \n270806     NaN  \n270831     NaN  \n270832     NaN  \n270977     NaN  \n270978     NaN  \n\n[585 rows x 15 columns]",
      "text/html": "<div>\n<style scoped>\n    .dataframe tbody tr th:only-of-type {\n        vertical-align: middle;\n    }\n\n    .dataframe tbody tr th {\n        vertical-align: top;\n    }\n\n    .dataframe thead th {\n        text-align: right;\n    }\n</style>\n<table border=\"1\" class=\"dataframe\">\n  <thead>\n    <tr style=\"text-align: right;\">\n      <th></th>\n      <th>id</th>\n      <th>Name</th>\n      <th>Sex</th>\n      <th>Age</th>\n      <th>Height</th>\n      <th>Weight</th>\n      <th>Team</th>\n      <th>NOC</th>\n      <th>Games</th>\n      <th>Year</th>\n      <th>Season</th>\n      <th>City</th>\n      <th>Sport</th>\n      <th>Event</th>\n      <th>Medal</th>\n    </tr>\n  </thead>\n  <tbody>\n    <tr>\n      <th>1180</th>\n      <td>660</td>\n      <td>Karem Faride Achach Ramrez</td>\n      <td>F</td>\n      <td>25.0</td>\n      <td>169.0</td>\n      <td>60.0</td>\n      <td>Mexico</td>\n      <td>MEX</td>\n      <td>2016 Summer</td>\n      <td>2016</td>\n      <td>Summer</td>\n      <td>Rio de Janeiro</td>\n      <td>Synchronized Swimming</td>\n      <td>Synchronized Swimming Women's Duet</td>\n      <td>NaN</td>\n    </tr>\n    <tr>\n      <th>4579</th>\n      <td>2604</td>\n      <td>Khaido Alexouli</td>\n      <td>F</td>\n      <td>25.0</td>\n      <td>180.0</td>\n      <td>60.0</td>\n      <td>Greece</td>\n      <td>GRE</td>\n      <td>2016 Summer</td>\n      <td>2016</td>\n      <td>Summer</td>\n      <td>Rio de Janeiro</td>\n      <td>Athletics</td>\n      <td>Athletics Women's Long Jump</td>\n      <td>NaN</td>\n    </tr>\n    <tr>\n      <th>5612</th>\n      <td>3174</td>\n      <td>Lzaro Jorge lvarez Estrada</td>\n      <td>M</td>\n      <td>25.0</td>\n      <td>173.0</td>\n      <td>60.0</td>\n      <td>Cuba</td>\n      <td>CUB</td>\n      <td>2016 Summer</td>\n      <td>2016</td>\n      <td>Summer</td>\n      <td>Rio de Janeiro</td>\n      <td>Boxing</td>\n      <td>Boxing Men's Lightweight</td>\n      <td>Bronze</td>\n    </tr>\n    <tr>\n      <th>6131</th>\n      <td>3451</td>\n      <td>Iraj Amir-Akhori</td>\n      <td>M</td>\n      <td>25.0</td>\n      <td>164.0</td>\n      <td>60.0</td>\n      <td>Iran</td>\n      <td>IRI</td>\n      <td>1988 Summer</td>\n      <td>1988</td>\n      <td>Summer</td>\n      <td>Seoul</td>\n      <td>Cycling</td>\n      <td>Cycling Men's Road Race, Individual</td>\n      <td>NaN</td>\n    </tr>\n    <tr>\n      <th>7191</th>\n      <td>4018</td>\n      <td>Misako Ando</td>\n      <td>F</td>\n      <td>25.0</td>\n      <td>163.0</td>\n      <td>60.0</td>\n      <td>Japan</td>\n      <td>JPN</td>\n      <td>1996 Summer</td>\n      <td>1996</td>\n      <td>Summer</td>\n      <td>Atlanta</td>\n      <td>Softball</td>\n      <td>Softball Women's Softball</td>\n      <td>NaN</td>\n    </tr>\n    <tr>\n      <th>...</th>\n      <td>...</td>\n      <td>...</td>\n      <td>...</td>\n      <td>...</td>\n      <td>...</td>\n      <td>...</td>\n      <td>...</td>\n      <td>...</td>\n      <td>...</td>\n      <td>...</td>\n      <td>...</td>\n      <td>...</td>\n      <td>...</td>\n      <td>...</td>\n      <td>...</td>\n    </tr>\n    <tr>\n      <th>270806</th>\n      <td>135436</td>\n      <td>Luis Zuiga</td>\n      <td>M</td>\n      <td>25.0</td>\n      <td>167.0</td>\n      <td>60.0</td>\n      <td>Chile</td>\n      <td>CHI</td>\n      <td>1964 Summer</td>\n      <td>1964</td>\n      <td>Summer</td>\n      <td>Tokyo</td>\n      <td>Boxing</td>\n      <td>Boxing Men's Lightweight</td>\n      <td>NaN</td>\n    </tr>\n    <tr>\n      <th>270831</th>\n      <td>135447</td>\n      <td>Matja Zupan</td>\n      <td>M</td>\n      <td>25.0</td>\n      <td>179.0</td>\n      <td>60.0</td>\n      <td>Slovenia</td>\n      <td>SLO</td>\n      <td>1994 Winter</td>\n      <td>1994</td>\n      <td>Winter</td>\n      <td>Lillehammer</td>\n      <td>Ski Jumping</td>\n      <td>Ski Jumping Men's Large Hill, Individual</td>\n      <td>NaN</td>\n    </tr>\n    <tr>\n      <th>270832</th>\n      <td>135447</td>\n      <td>Matja Zupan</td>\n      <td>M</td>\n      <td>25.0</td>\n      <td>179.0</td>\n      <td>60.0</td>\n      <td>Slovenia</td>\n      <td>SLO</td>\n      <td>1994 Winter</td>\n      <td>1994</td>\n      <td>Winter</td>\n      <td>Lillehammer</td>\n      <td>Ski Jumping</td>\n      <td>Ski Jumping Men's Large Hill, Team</td>\n      <td>NaN</td>\n    </tr>\n    <tr>\n      <th>270977</th>\n      <td>135502</td>\n      <td>Nataliya Maratovna \"Natasha\" Zvereva</td>\n      <td>F</td>\n      <td>25.0</td>\n      <td>172.0</td>\n      <td>60.0</td>\n      <td>Belarus</td>\n      <td>BLR</td>\n      <td>1996 Summer</td>\n      <td>1996</td>\n      <td>Summer</td>\n      <td>Atlanta</td>\n      <td>Tennis</td>\n      <td>Tennis Women's Singles</td>\n      <td>NaN</td>\n    </tr>\n    <tr>\n      <th>270978</th>\n      <td>135502</td>\n      <td>Nataliya Maratovna \"Natasha\" Zvereva</td>\n      <td>F</td>\n      <td>25.0</td>\n      <td>172.0</td>\n      <td>60.0</td>\n      <td>Belarus</td>\n      <td>BLR</td>\n      <td>1996 Summer</td>\n      <td>1996</td>\n      <td>Summer</td>\n      <td>Atlanta</td>\n      <td>Tennis</td>\n      <td>Tennis Women's Doubles</td>\n      <td>NaN</td>\n    </tr>\n  </tbody>\n</table>\n<p>585 rows × 15 columns</p>\n</div>"
     },
     "execution_count": 37,
     "metadata": {},
     "output_type": "execute_result"
    }
   ],
   "source": [
    "# Срезы - фильтрация по условии - несколько условий\n",
    "df[(df[\"Age\"] == 25) & (df['Weight'] == 60)]"
   ],
   "metadata": {
    "collapsed": false,
    "pycharm": {
     "name": "#%%\n"
    }
   }
  },
  {
   "cell_type": "code",
   "execution_count": 38,
   "outputs": [
    {
     "data": {
      "text/plain": "(585, 15)"
     },
     "execution_count": 38,
     "metadata": {},
     "output_type": "execute_result"
    }
   ],
   "source": [
    "# Срезы - фильтрация по условии - несколько условий - избегаем лишние скобки\n",
    "df.query(\"Age == 25 & Weight == 60\").shape"
   ],
   "metadata": {
    "collapsed": false,
    "pycharm": {
     "name": "#%%\n"
    }
   }
  },
  {
   "cell_type": "code",
   "execution_count": 39,
   "outputs": [
    {
     "data": {
      "text/plain": "    id                       Name Sex   Age  Height  Weight         Team  NOC  \\\n6    5   Christine Jacoba Aaftink   F  25.0   185.0    82.0  Netherlands  NED   \n7    5   Christine Jacoba Aaftink   F  25.0   185.0    82.0  Netherlands  NED   \n8    5   Christine Jacoba Aaftink   F  27.0   185.0    82.0  Netherlands  NED   \n9    5   Christine Jacoba Aaftink   F  27.0   185.0    82.0  Netherlands  NED   \n79  21  Ragnhild Margrethe Aamodt   F  27.0   163.0     NaN       Norway  NOR   \n\n          Games  Year  Season         City          Sport  \\\n6   1992 Winter  1992  Winter  Albertville  Speed Skating   \n7   1992 Winter  1992  Winter  Albertville  Speed Skating   \n8   1994 Winter  1994  Winter  Lillehammer  Speed Skating   \n9   1994 Winter  1994  Winter  Lillehammer  Speed Skating   \n79  2008 Summer  2008  Summer      Beijing       Handball   \n\n                                 Event Medal  \n6     Speed Skating Women's 500 metres   NaN  \n7   Speed Skating Women's 1,000 metres   NaN  \n8     Speed Skating Women's 500 metres   NaN  \n9   Speed Skating Women's 1,000 metres   NaN  \n79           Handball Women's Handball  Gold  ",
      "text/html": "<div>\n<style scoped>\n    .dataframe tbody tr th:only-of-type {\n        vertical-align: middle;\n    }\n\n    .dataframe tbody tr th {\n        vertical-align: top;\n    }\n\n    .dataframe thead th {\n        text-align: right;\n    }\n</style>\n<table border=\"1\" class=\"dataframe\">\n  <thead>\n    <tr style=\"text-align: right;\">\n      <th></th>\n      <th>id</th>\n      <th>Name</th>\n      <th>Sex</th>\n      <th>Age</th>\n      <th>Height</th>\n      <th>Weight</th>\n      <th>Team</th>\n      <th>NOC</th>\n      <th>Games</th>\n      <th>Year</th>\n      <th>Season</th>\n      <th>City</th>\n      <th>Sport</th>\n      <th>Event</th>\n      <th>Medal</th>\n    </tr>\n  </thead>\n  <tbody>\n    <tr>\n      <th>6</th>\n      <td>5</td>\n      <td>Christine Jacoba Aaftink</td>\n      <td>F</td>\n      <td>25.0</td>\n      <td>185.0</td>\n      <td>82.0</td>\n      <td>Netherlands</td>\n      <td>NED</td>\n      <td>1992 Winter</td>\n      <td>1992</td>\n      <td>Winter</td>\n      <td>Albertville</td>\n      <td>Speed Skating</td>\n      <td>Speed Skating Women's 500 metres</td>\n      <td>NaN</td>\n    </tr>\n    <tr>\n      <th>7</th>\n      <td>5</td>\n      <td>Christine Jacoba Aaftink</td>\n      <td>F</td>\n      <td>25.0</td>\n      <td>185.0</td>\n      <td>82.0</td>\n      <td>Netherlands</td>\n      <td>NED</td>\n      <td>1992 Winter</td>\n      <td>1992</td>\n      <td>Winter</td>\n      <td>Albertville</td>\n      <td>Speed Skating</td>\n      <td>Speed Skating Women's 1,000 metres</td>\n      <td>NaN</td>\n    </tr>\n    <tr>\n      <th>8</th>\n      <td>5</td>\n      <td>Christine Jacoba Aaftink</td>\n      <td>F</td>\n      <td>27.0</td>\n      <td>185.0</td>\n      <td>82.0</td>\n      <td>Netherlands</td>\n      <td>NED</td>\n      <td>1994 Winter</td>\n      <td>1994</td>\n      <td>Winter</td>\n      <td>Lillehammer</td>\n      <td>Speed Skating</td>\n      <td>Speed Skating Women's 500 metres</td>\n      <td>NaN</td>\n    </tr>\n    <tr>\n      <th>9</th>\n      <td>5</td>\n      <td>Christine Jacoba Aaftink</td>\n      <td>F</td>\n      <td>27.0</td>\n      <td>185.0</td>\n      <td>82.0</td>\n      <td>Netherlands</td>\n      <td>NED</td>\n      <td>1994 Winter</td>\n      <td>1994</td>\n      <td>Winter</td>\n      <td>Lillehammer</td>\n      <td>Speed Skating</td>\n      <td>Speed Skating Women's 1,000 metres</td>\n      <td>NaN</td>\n    </tr>\n    <tr>\n      <th>79</th>\n      <td>21</td>\n      <td>Ragnhild Margrethe Aamodt</td>\n      <td>F</td>\n      <td>27.0</td>\n      <td>163.0</td>\n      <td>NaN</td>\n      <td>Norway</td>\n      <td>NOR</td>\n      <td>2008 Summer</td>\n      <td>2008</td>\n      <td>Summer</td>\n      <td>Beijing</td>\n      <td>Handball</td>\n      <td>Handball Women's Handball</td>\n      <td>Gold</td>\n    </tr>\n  </tbody>\n</table>\n</div>"
     },
     "execution_count": 39,
     "metadata": {},
     "output_type": "execute_result"
    }
   ],
   "source": [
    "# Срезы - фильрация по нескольким условиям\n",
    "df[df['Age'].isin([25,27,29])].head()"
   ],
   "metadata": {
    "collapsed": false,
    "pycharm": {
     "name": "#%%\n"
    }
   }
  },
  {
   "cell_type": "code",
   "execution_count": 40,
   "outputs": [
    {
     "data": {
      "text/plain": "   id                      Name Sex   Age  Height  Weight         Team  NOC  \\\n4   5  Christine Jacoba Aaftink   F  21.0   185.0    82.0  Netherlands  NED   \n5   5  Christine Jacoba Aaftink   F  21.0   185.0    82.0  Netherlands  NED   \n6   5  Christine Jacoba Aaftink   F  25.0   185.0    82.0  Netherlands  NED   \n7   5  Christine Jacoba Aaftink   F  25.0   185.0    82.0  Netherlands  NED   \n8   5  Christine Jacoba Aaftink   F  27.0   185.0    82.0  Netherlands  NED   \n\n         Games  Year  Season         City          Sport  \\\n4  1988 Winter  1988  Winter      Calgary  Speed Skating   \n5  1988 Winter  1988  Winter      Calgary  Speed Skating   \n6  1992 Winter  1992  Winter  Albertville  Speed Skating   \n7  1992 Winter  1992  Winter  Albertville  Speed Skating   \n8  1994 Winter  1994  Winter  Lillehammer  Speed Skating   \n\n                                Event Medal  \n4    Speed Skating Women's 500 metres   NaN  \n5  Speed Skating Women's 1,000 metres   NaN  \n6    Speed Skating Women's 500 metres   NaN  \n7  Speed Skating Women's 1,000 metres   NaN  \n8    Speed Skating Women's 500 metres   NaN  ",
      "text/html": "<div>\n<style scoped>\n    .dataframe tbody tr th:only-of-type {\n        vertical-align: middle;\n    }\n\n    .dataframe tbody tr th {\n        vertical-align: top;\n    }\n\n    .dataframe thead th {\n        text-align: right;\n    }\n</style>\n<table border=\"1\" class=\"dataframe\">\n  <thead>\n    <tr style=\"text-align: right;\">\n      <th></th>\n      <th>id</th>\n      <th>Name</th>\n      <th>Sex</th>\n      <th>Age</th>\n      <th>Height</th>\n      <th>Weight</th>\n      <th>Team</th>\n      <th>NOC</th>\n      <th>Games</th>\n      <th>Year</th>\n      <th>Season</th>\n      <th>City</th>\n      <th>Sport</th>\n      <th>Event</th>\n      <th>Medal</th>\n    </tr>\n  </thead>\n  <tbody>\n    <tr>\n      <th>4</th>\n      <td>5</td>\n      <td>Christine Jacoba Aaftink</td>\n      <td>F</td>\n      <td>21.0</td>\n      <td>185.0</td>\n      <td>82.0</td>\n      <td>Netherlands</td>\n      <td>NED</td>\n      <td>1988 Winter</td>\n      <td>1988</td>\n      <td>Winter</td>\n      <td>Calgary</td>\n      <td>Speed Skating</td>\n      <td>Speed Skating Women's 500 metres</td>\n      <td>NaN</td>\n    </tr>\n    <tr>\n      <th>5</th>\n      <td>5</td>\n      <td>Christine Jacoba Aaftink</td>\n      <td>F</td>\n      <td>21.0</td>\n      <td>185.0</td>\n      <td>82.0</td>\n      <td>Netherlands</td>\n      <td>NED</td>\n      <td>1988 Winter</td>\n      <td>1988</td>\n      <td>Winter</td>\n      <td>Calgary</td>\n      <td>Speed Skating</td>\n      <td>Speed Skating Women's 1,000 metres</td>\n      <td>NaN</td>\n    </tr>\n    <tr>\n      <th>6</th>\n      <td>5</td>\n      <td>Christine Jacoba Aaftink</td>\n      <td>F</td>\n      <td>25.0</td>\n      <td>185.0</td>\n      <td>82.0</td>\n      <td>Netherlands</td>\n      <td>NED</td>\n      <td>1992 Winter</td>\n      <td>1992</td>\n      <td>Winter</td>\n      <td>Albertville</td>\n      <td>Speed Skating</td>\n      <td>Speed Skating Women's 500 metres</td>\n      <td>NaN</td>\n    </tr>\n    <tr>\n      <th>7</th>\n      <td>5</td>\n      <td>Christine Jacoba Aaftink</td>\n      <td>F</td>\n      <td>25.0</td>\n      <td>185.0</td>\n      <td>82.0</td>\n      <td>Netherlands</td>\n      <td>NED</td>\n      <td>1992 Winter</td>\n      <td>1992</td>\n      <td>Winter</td>\n      <td>Albertville</td>\n      <td>Speed Skating</td>\n      <td>Speed Skating Women's 1,000 metres</td>\n      <td>NaN</td>\n    </tr>\n    <tr>\n      <th>8</th>\n      <td>5</td>\n      <td>Christine Jacoba Aaftink</td>\n      <td>F</td>\n      <td>27.0</td>\n      <td>185.0</td>\n      <td>82.0</td>\n      <td>Netherlands</td>\n      <td>NED</td>\n      <td>1994 Winter</td>\n      <td>1994</td>\n      <td>Winter</td>\n      <td>Lillehammer</td>\n      <td>Speed Skating</td>\n      <td>Speed Skating Women's 500 metres</td>\n      <td>NaN</td>\n    </tr>\n  </tbody>\n</table>\n</div>"
     },
     "execution_count": 40,
     "metadata": {},
     "output_type": "execute_result"
    }
   ],
   "source": [
    "# Фильтрация по текстовой переменной\n",
    "df[df['Name'].str.contains(\"Christine\")].head() # можно указывать регулярное выражение"
   ],
   "metadata": {
    "collapsed": false,
    "pycharm": {
     "name": "#%%\n"
    }
   }
  },
  {
   "cell_type": "code",
   "execution_count": 41,
   "outputs": [],
   "source": [
    "# Добавляем переменную\n",
    "df['Male'] = np.where(df['Sex']==\"M\", 1, 0) # 1 способ\n",
    "\n",
    "# 2 способ\n",
    "df.loc[df['Sex'] == \"M\", \"Male_\"] = 1\n",
    "df.loc[df['Sex'] == \"F\", \"Male_\"] = 0"
   ],
   "metadata": {
    "collapsed": false,
    "pycharm": {
     "name": "#%%\n"
    }
   }
  },
  {
   "cell_type": "code",
   "execution_count": 42,
   "outputs": [
    {
     "data": {
      "text/plain": "1992    16413\n1988    14676\n2000    13821\n1996    13780\n2016    13688\n2008    13602\n2004    13443\n2012    12920\n1972    11959\n1984    11588\nName: Year, dtype: int64"
     },
     "execution_count": 42,
     "metadata": {},
     "output_type": "execute_result"
    }
   ],
   "source": [
    "# Подсчитаем частоту значений в столбце\n",
    "df[\"Year\"].value_counts().head(10)"
   ],
   "metadata": {
    "collapsed": false,
    "pycharm": {
     "name": "#%%\n"
    }
   }
  },
  {
   "cell_type": "code",
   "execution_count": 43,
   "outputs": [
    {
     "data": {
      "text/plain": "array([1992, 2012, 1920, 1900, 1988, 1994, 1932, 2002, 1952, 1980, 2000,\n       1996, 1912, 1924, 2014, 1948, 1998, 2006, 2008, 2016, 2004, 1960,\n       1964, 1984, 1968, 1972, 1936, 1956, 1928, 1976, 2010, 1906, 1904,\n       1908, 1896])"
     },
     "execution_count": 43,
     "metadata": {},
     "output_type": "execute_result"
    }
   ],
   "source": [
    "# Подсчитаем уникальные значения\n",
    "df[\"Year\"].unique()"
   ],
   "metadata": {
    "collapsed": false,
    "pycharm": {
     "name": "#%%\n"
    }
   }
  },
  {
   "cell_type": "code",
   "execution_count": 44,
   "outputs": [
    {
     "data": {
      "text/plain": "35"
     },
     "execution_count": 44,
     "metadata": {},
     "output_type": "execute_result"
    }
   ],
   "source": [
    "# Подсчитаем количество уникальных значений\n",
    "df[\"Year\"].nunique()"
   ],
   "metadata": {
    "collapsed": false,
    "pycharm": {
     "name": "#%%\n"
    }
   }
  },
  {
   "cell_type": "code",
   "execution_count": 45,
   "outputs": [
    {
     "data": {
      "text/plain": "0     9\n1     8\n2    19\n3    20\n4    24\nName: Name_len, dtype: int64"
     },
     "execution_count": 45,
     "metadata": {},
     "output_type": "execute_result"
    }
   ],
   "source": [
    "# MAP к столбцам\n",
    "df['Name_len'] = df['Name'].map(len)\n",
    "df['Name_len'].iloc[:5]"
   ],
   "metadata": {
    "collapsed": false,
    "pycharm": {
     "name": "#%%\n"
    }
   }
  },
  {
   "cell_type": "code",
   "execution_count": 46,
   "outputs": [
    {
     "data": {
      "text/plain": "     id       Name Sex   Age  Height  Weight    Team  NOC        Games  Year  \\\n0     1  A Dijiang   M  24.0   180.0    80.0   China  CHN  1992 Summer  1992   \n1     2   A Lamusi   M  23.0   170.0    60.0   China  CHN  2012 Summer  2012   \n116  41   Rolf Aas   M  28.0     NaN     NaN  Norway  NOR  1920 Summer  1920   \n173  73  Luc Abalo   M  23.0   182.0    86.0  France  FRA  2008 Summer  2008   \n174  73  Luc Abalo   M  27.0   182.0    86.0  France  FRA  2012 Summer  2012   \n\n     Season       City       Sport                         Event Medal  Male  \\\n0    Summer  Barcelona  Basketball   Basketball Men's Basketball   NaN     1   \n1    Summer     London        Judo  Judo Men's Extra-Lightweight   NaN     1   \n116  Summer  Antwerpen    Football       Football Men's Football   NaN     1   \n173  Summer    Beijing    Handball       Handball Men's Handball  Gold     1   \n174  Summer     London    Handball       Handball Men's Handball  Gold     1   \n\n     Male_  Name_len  \n0      1.0         9  \n1      1.0         8  \n116    1.0         8  \n173    1.0         9  \n174    1.0         9  ",
      "text/html": "<div>\n<style scoped>\n    .dataframe tbody tr th:only-of-type {\n        vertical-align: middle;\n    }\n\n    .dataframe tbody tr th {\n        vertical-align: top;\n    }\n\n    .dataframe thead th {\n        text-align: right;\n    }\n</style>\n<table border=\"1\" class=\"dataframe\">\n  <thead>\n    <tr style=\"text-align: right;\">\n      <th></th>\n      <th>id</th>\n      <th>Name</th>\n      <th>Sex</th>\n      <th>Age</th>\n      <th>Height</th>\n      <th>Weight</th>\n      <th>Team</th>\n      <th>NOC</th>\n      <th>Games</th>\n      <th>Year</th>\n      <th>Season</th>\n      <th>City</th>\n      <th>Sport</th>\n      <th>Event</th>\n      <th>Medal</th>\n      <th>Male</th>\n      <th>Male_</th>\n      <th>Name_len</th>\n    </tr>\n  </thead>\n  <tbody>\n    <tr>\n      <th>0</th>\n      <td>1</td>\n      <td>A Dijiang</td>\n      <td>M</td>\n      <td>24.0</td>\n      <td>180.0</td>\n      <td>80.0</td>\n      <td>China</td>\n      <td>CHN</td>\n      <td>1992 Summer</td>\n      <td>1992</td>\n      <td>Summer</td>\n      <td>Barcelona</td>\n      <td>Basketball</td>\n      <td>Basketball Men's Basketball</td>\n      <td>NaN</td>\n      <td>1</td>\n      <td>1.0</td>\n      <td>9</td>\n    </tr>\n    <tr>\n      <th>1</th>\n      <td>2</td>\n      <td>A Lamusi</td>\n      <td>M</td>\n      <td>23.0</td>\n      <td>170.0</td>\n      <td>60.0</td>\n      <td>China</td>\n      <td>CHN</td>\n      <td>2012 Summer</td>\n      <td>2012</td>\n      <td>Summer</td>\n      <td>London</td>\n      <td>Judo</td>\n      <td>Judo Men's Extra-Lightweight</td>\n      <td>NaN</td>\n      <td>1</td>\n      <td>1.0</td>\n      <td>8</td>\n    </tr>\n    <tr>\n      <th>116</th>\n      <td>41</td>\n      <td>Rolf Aas</td>\n      <td>M</td>\n      <td>28.0</td>\n      <td>NaN</td>\n      <td>NaN</td>\n      <td>Norway</td>\n      <td>NOR</td>\n      <td>1920 Summer</td>\n      <td>1920</td>\n      <td>Summer</td>\n      <td>Antwerpen</td>\n      <td>Football</td>\n      <td>Football Men's Football</td>\n      <td>NaN</td>\n      <td>1</td>\n      <td>1.0</td>\n      <td>8</td>\n    </tr>\n    <tr>\n      <th>173</th>\n      <td>73</td>\n      <td>Luc Abalo</td>\n      <td>M</td>\n      <td>23.0</td>\n      <td>182.0</td>\n      <td>86.0</td>\n      <td>France</td>\n      <td>FRA</td>\n      <td>2008 Summer</td>\n      <td>2008</td>\n      <td>Summer</td>\n      <td>Beijing</td>\n      <td>Handball</td>\n      <td>Handball Men's Handball</td>\n      <td>Gold</td>\n      <td>1</td>\n      <td>1.0</td>\n      <td>9</td>\n    </tr>\n    <tr>\n      <th>174</th>\n      <td>73</td>\n      <td>Luc Abalo</td>\n      <td>M</td>\n      <td>27.0</td>\n      <td>182.0</td>\n      <td>86.0</td>\n      <td>France</td>\n      <td>FRA</td>\n      <td>2012 Summer</td>\n      <td>2012</td>\n      <td>Summer</td>\n      <td>London</td>\n      <td>Handball</td>\n      <td>Handball Men's Handball</td>\n      <td>Gold</td>\n      <td>1</td>\n      <td>1.0</td>\n      <td>9</td>\n    </tr>\n  </tbody>\n</table>\n</div>"
     },
     "execution_count": 46,
     "metadata": {},
     "output_type": "execute_result"
    }
   ],
   "source": [
    "# Фильтрация по столбцам через map\n",
    "df[df[\"Name\"].map(len)<10].head() # фильтруем все строки, где длины имени меньше 10"
   ],
   "metadata": {
    "collapsed": false,
    "pycharm": {
     "name": "#%%\n"
    }
   }
  },
  {
   "cell_type": "code",
   "execution_count": 47,
   "outputs": [],
   "source": [
    "# Заполнить пропуски\n",
    "df['Age'] = df['Age'].fillna(df['Age'].mean())"
   ],
   "metadata": {
    "collapsed": false,
    "pycharm": {
     "name": "#%%\n"
    }
   }
  },
  {
   "cell_type": "code",
   "execution_count": 48,
   "outputs": [
    {
     "data": {
      "text/plain": "                Sport\n0          Basketball\n1                Judo\n2            Football\n3          Tug-Of-War\n4       Speed Skating\n...               ...\n21488    Jeu De Paume\n29994           Roque\n30323        Alpinism\n50275   Basque Pelota\n214105    Aeronautics\n\n[66 rows x 1 columns]",
      "text/html": "<div>\n<style scoped>\n    .dataframe tbody tr th:only-of-type {\n        vertical-align: middle;\n    }\n\n    .dataframe tbody tr th {\n        vertical-align: top;\n    }\n\n    .dataframe thead th {\n        text-align: right;\n    }\n</style>\n<table border=\"1\" class=\"dataframe\">\n  <thead>\n    <tr style=\"text-align: right;\">\n      <th></th>\n      <th>Sport</th>\n    </tr>\n  </thead>\n  <tbody>\n    <tr>\n      <th>0</th>\n      <td>Basketball</td>\n    </tr>\n    <tr>\n      <th>1</th>\n      <td>Judo</td>\n    </tr>\n    <tr>\n      <th>2</th>\n      <td>Football</td>\n    </tr>\n    <tr>\n      <th>3</th>\n      <td>Tug-Of-War</td>\n    </tr>\n    <tr>\n      <th>4</th>\n      <td>Speed Skating</td>\n    </tr>\n    <tr>\n      <th>...</th>\n      <td>...</td>\n    </tr>\n    <tr>\n      <th>21488</th>\n      <td>Jeu De Paume</td>\n    </tr>\n    <tr>\n      <th>29994</th>\n      <td>Roque</td>\n    </tr>\n    <tr>\n      <th>30323</th>\n      <td>Alpinism</td>\n    </tr>\n    <tr>\n      <th>50275</th>\n      <td>Basque Pelota</td>\n    </tr>\n    <tr>\n      <th>214105</th>\n      <td>Aeronautics</td>\n    </tr>\n  </tbody>\n</table>\n<p>66 rows × 1 columns</p>\n</div>"
     },
     "execution_count": 48,
     "metadata": {},
     "output_type": "execute_result"
    }
   ],
   "source": [
    "# Удалить дубликаты (посмотрим на все олимпийские виды спорта за всю историю)\n",
    "df[[\"Sport\"]].drop_duplicates()"
   ],
   "metadata": {
    "collapsed": false,
    "pycharm": {
     "name": "#%%\n"
    }
   }
  },
  {
   "cell_type": "code",
   "execution_count": 49,
   "outputs": [
    {
     "data": {
      "text/plain": "        Season          Sport\n0       Summer     Basketball\n1       Summer           Judo\n2       Summer       Football\n3       Summer     Tug-Of-War\n4       Winter  Speed Skating\n...        ...            ...\n29994   Summer          Roque\n30323   Winter       Alpinism\n50275   Summer  Basque Pelota\n60639   Summer       Alpinism\n214105  Summer    Aeronautics\n\n[69 rows x 2 columns]",
      "text/html": "<div>\n<style scoped>\n    .dataframe tbody tr th:only-of-type {\n        vertical-align: middle;\n    }\n\n    .dataframe tbody tr th {\n        vertical-align: top;\n    }\n\n    .dataframe thead th {\n        text-align: right;\n    }\n</style>\n<table border=\"1\" class=\"dataframe\">\n  <thead>\n    <tr style=\"text-align: right;\">\n      <th></th>\n      <th>Season</th>\n      <th>Sport</th>\n    </tr>\n  </thead>\n  <tbody>\n    <tr>\n      <th>0</th>\n      <td>Summer</td>\n      <td>Basketball</td>\n    </tr>\n    <tr>\n      <th>1</th>\n      <td>Summer</td>\n      <td>Judo</td>\n    </tr>\n    <tr>\n      <th>2</th>\n      <td>Summer</td>\n      <td>Football</td>\n    </tr>\n    <tr>\n      <th>3</th>\n      <td>Summer</td>\n      <td>Tug-Of-War</td>\n    </tr>\n    <tr>\n      <th>4</th>\n      <td>Winter</td>\n      <td>Speed Skating</td>\n    </tr>\n    <tr>\n      <th>...</th>\n      <td>...</td>\n      <td>...</td>\n    </tr>\n    <tr>\n      <th>29994</th>\n      <td>Summer</td>\n      <td>Roque</td>\n    </tr>\n    <tr>\n      <th>30323</th>\n      <td>Winter</td>\n      <td>Alpinism</td>\n    </tr>\n    <tr>\n      <th>50275</th>\n      <td>Summer</td>\n      <td>Basque Pelota</td>\n    </tr>\n    <tr>\n      <th>60639</th>\n      <td>Summer</td>\n      <td>Alpinism</td>\n    </tr>\n    <tr>\n      <th>214105</th>\n      <td>Summer</td>\n      <td>Aeronautics</td>\n    </tr>\n  </tbody>\n</table>\n<p>69 rows × 2 columns</p>\n</div>"
     },
     "execution_count": 49,
     "metadata": {},
     "output_type": "execute_result"
    }
   ],
   "source": [
    "# Удалить дубликаты (посмотрим на все олимпийские виды спорта в разбивке по летним и зимним)\n",
    "df[[\"Season\", \"Sport\"]].drop_duplicates()"
   ],
   "metadata": {
    "collapsed": false,
    "pycharm": {
     "name": "#%%\n"
    }
   }
  },
  {
   "cell_type": "code",
   "execution_count": 50,
   "outputs": [
    {
     "data": {
      "text/plain": "0         False\n1         False\n2         False\n3         False\n4         False\n          ...  \n271111     True\n271112     True\n271113     True\n271114     True\n271115     True\nLength: 271116, dtype: bool"
     },
     "execution_count": 50,
     "metadata": {},
     "output_type": "execute_result"
    }
   ],
   "source": [
    "# Вывести дубликаты  (выдает False если такое значение еще не встречалось в столбце)\n",
    "df[['Sport']].duplicated()"
   ],
   "metadata": {
    "collapsed": false,
    "pycharm": {
     "name": "#%%\n"
    }
   }
  },
  {
   "cell_type": "code",
   "execution_count": 51,
   "outputs": [
    {
     "data": {
      "text/plain": "142882    10.0\n94058     11.0\n102916    11.0\n152798    11.0\n43468     11.0\n          ... \n60861     88.0\n60862     88.0\n60863     88.0\n98118     96.0\n257054    97.0\nName: Age, Length: 271116, dtype: float64"
     },
     "execution_count": 51,
     "metadata": {},
     "output_type": "execute_result"
    }
   ],
   "source": [
    "# Сортировка (например - по возрасту)\n",
    "# По умолчанию - по возрастанию\n",
    "df['Age'].sort_values()"
   ],
   "metadata": {
    "collapsed": false,
    "pycharm": {
     "name": "#%%\n"
    }
   }
  },
  {
   "cell_type": "code",
   "execution_count": 52,
   "outputs": [
    {
     "data": {
      "text/plain": "23156     214.0\n23155     214.0\n205467    198.0\n75031     190.0\n237040    182.0\n          ...  \n271038      NaN\n271042      NaN\n271043      NaN\n271075      NaN\n271100      NaN\nName: Weight, Length: 271116, dtype: float64"
     },
     "execution_count": 52,
     "metadata": {},
     "output_type": "execute_result"
    }
   ],
   "source": [
    "# Сортировка (например - по весу)\n",
    "# По умолчанию - по возрастанию\n",
    "df['Weight'].sort_values(ascending = False)"
   ],
   "metadata": {
    "collapsed": false,
    "pycharm": {
     "name": "#%%\n"
    }
   }
  },
  {
   "cell_type": "code",
   "execution_count": 53,
   "outputs": [
    {
     "name": "stdout",
     "output_type": "stream",
     "text": [
      "257054    97.0\n",
      "98118     96.0\n",
      "60861     88.0\n",
      "60862     88.0\n",
      "60863     88.0\n",
      "9371      84.0\n",
      "154855    81.0\n",
      "236912    81.0\n",
      "138812    80.0\n",
      "138813    80.0\n",
      "Name: Age, dtype: float64\n"
     ]
    },
    {
     "data": {
      "text/plain": "142882    10.0\n43468     11.0\n73461     11.0\n79024     11.0\n94058     11.0\n101378    11.0\n102916    11.0\n140650    11.0\n152798    11.0\n237141    11.0\nName: Age, dtype: float64"
     },
     "execution_count": 53,
     "metadata": {},
     "output_type": "execute_result"
    }
   ],
   "source": [
    "# Вытащить первые n наблюдений (наибольшие или наименьшие)\n",
    "print(df['Age'].nlargest(10))\n",
    "df['Age'].nsmallest(10)"
   ],
   "metadata": {
    "collapsed": false,
    "pycharm": {
     "name": "#%%\n"
    }
   }
  },
  {
   "cell_type": "code",
   "execution_count": 54,
   "outputs": [
    {
     "data": {
      "text/plain": "Year  1896  1900  1904  1906  1908  1912  1920       1924       1928  1932  \\\nNOC                                                                          \nAFG    NaN   NaN   NaN   NaN   NaN   NaN   NaN        NaN        NaN   NaN   \nAHO    NaN   NaN   NaN   NaN   NaN   NaN   NaN        NaN        NaN   NaN   \nALB    NaN   NaN   NaN   NaN   NaN   NaN   NaN        NaN        NaN   NaN   \nALG    NaN   NaN   NaN   NaN   NaN   NaN   NaN        NaN        NaN   NaN   \nAND    NaN   NaN   NaN   NaN   NaN   NaN   NaN        NaN        NaN   NaN   \n..     ...   ...   ...   ...   ...   ...   ...        ...        ...   ...   \nYEM    NaN   NaN   NaN   NaN   NaN   NaN   NaN        NaN        NaN   NaN   \nYMD    NaN   NaN   NaN   NaN   NaN   NaN   NaN        NaN        NaN   NaN   \nYUG    NaN   NaN   NaN   NaN   NaN   NaN  22.2  25.468434  25.903302  34.0   \nZAM    NaN   NaN   NaN   NaN   NaN   NaN   NaN        NaN        NaN   NaN   \nZIM    NaN   NaN   NaN   NaN   NaN   NaN   NaN        NaN  22.778449   NaN   \n\nYear  ...       1998       2000  2002       2004       2006       2008   2010  \\\nNOC   ...                                                                       \nAFG   ...        NaN        NaN   NaN  18.600000        NaN  22.500000    NaN   \nAHO   ...        NaN  30.625000   NaN  32.333333        NaN  23.000000    NaN   \nALB   ...        NaN  31.200000   NaN  20.857143  19.000000  27.250000  23.00   \nALG   ...        NaN  24.901961   NaN  25.084507  24.333333  25.210526  17.00   \nAND   ...  23.857143  31.000000  24.6  29.666667  24.800000  26.600000  23.55   \n..    ...        ...        ...   ...        ...        ...        ...    ...   \nYEM   ...        NaN  25.000000   NaN  20.000000        NaN  21.375000    NaN   \nYMD   ...        NaN        NaN   NaN        NaN        NaN        NaN    NaN   \nYUG   ...        NaN        NaN   NaN        NaN        NaN        NaN    NaN   \nZAM   ...        NaN  23.000000   NaN  22.500000        NaN  21.875000    NaN   \nZIM   ...        NaN  24.961538   NaN  25.071429        NaN  26.062500    NaN   \n\nYear       2012  2014       2016  \nNOC                               \nAFG   24.833333   NaN  24.666667  \nAHO         NaN   NaN        NaN  \nALB   25.700000  20.0  23.666667  \nALG   24.846154   NaN  23.959459  \nAND   32.000000  23.5  26.000000  \n..          ...   ...        ...  \nYEM   20.000000   NaN  19.333333  \nYMD         NaN   NaN        NaN  \nYUG         NaN   NaN        NaN  \nZAM   22.571429   NaN  24.142857  \nZIM   27.333333  20.0  27.483871  \n\n[230 rows x 35 columns]",
      "text/html": "<div>\n<style scoped>\n    .dataframe tbody tr th:only-of-type {\n        vertical-align: middle;\n    }\n\n    .dataframe tbody tr th {\n        vertical-align: top;\n    }\n\n    .dataframe thead th {\n        text-align: right;\n    }\n</style>\n<table border=\"1\" class=\"dataframe\">\n  <thead>\n    <tr style=\"text-align: right;\">\n      <th>Year</th>\n      <th>1896</th>\n      <th>1900</th>\n      <th>1904</th>\n      <th>1906</th>\n      <th>1908</th>\n      <th>1912</th>\n      <th>1920</th>\n      <th>1924</th>\n      <th>1928</th>\n      <th>1932</th>\n      <th>...</th>\n      <th>1998</th>\n      <th>2000</th>\n      <th>2002</th>\n      <th>2004</th>\n      <th>2006</th>\n      <th>2008</th>\n      <th>2010</th>\n      <th>2012</th>\n      <th>2014</th>\n      <th>2016</th>\n    </tr>\n    <tr>\n      <th>NOC</th>\n      <th></th>\n      <th></th>\n      <th></th>\n      <th></th>\n      <th></th>\n      <th></th>\n      <th></th>\n      <th></th>\n      <th></th>\n      <th></th>\n      <th></th>\n      <th></th>\n      <th></th>\n      <th></th>\n      <th></th>\n      <th></th>\n      <th></th>\n      <th></th>\n      <th></th>\n      <th></th>\n      <th></th>\n    </tr>\n  </thead>\n  <tbody>\n    <tr>\n      <th>AFG</th>\n      <td>NaN</td>\n      <td>NaN</td>\n      <td>NaN</td>\n      <td>NaN</td>\n      <td>NaN</td>\n      <td>NaN</td>\n      <td>NaN</td>\n      <td>NaN</td>\n      <td>NaN</td>\n      <td>NaN</td>\n      <td>...</td>\n      <td>NaN</td>\n      <td>NaN</td>\n      <td>NaN</td>\n      <td>18.600000</td>\n      <td>NaN</td>\n      <td>22.500000</td>\n      <td>NaN</td>\n      <td>24.833333</td>\n      <td>NaN</td>\n      <td>24.666667</td>\n    </tr>\n    <tr>\n      <th>AHO</th>\n      <td>NaN</td>\n      <td>NaN</td>\n      <td>NaN</td>\n      <td>NaN</td>\n      <td>NaN</td>\n      <td>NaN</td>\n      <td>NaN</td>\n      <td>NaN</td>\n      <td>NaN</td>\n      <td>NaN</td>\n      <td>...</td>\n      <td>NaN</td>\n      <td>30.625000</td>\n      <td>NaN</td>\n      <td>32.333333</td>\n      <td>NaN</td>\n      <td>23.000000</td>\n      <td>NaN</td>\n      <td>NaN</td>\n      <td>NaN</td>\n      <td>NaN</td>\n    </tr>\n    <tr>\n      <th>ALB</th>\n      <td>NaN</td>\n      <td>NaN</td>\n      <td>NaN</td>\n      <td>NaN</td>\n      <td>NaN</td>\n      <td>NaN</td>\n      <td>NaN</td>\n      <td>NaN</td>\n      <td>NaN</td>\n      <td>NaN</td>\n      <td>...</td>\n      <td>NaN</td>\n      <td>31.200000</td>\n      <td>NaN</td>\n      <td>20.857143</td>\n      <td>19.000000</td>\n      <td>27.250000</td>\n      <td>23.00</td>\n      <td>25.700000</td>\n      <td>20.0</td>\n      <td>23.666667</td>\n    </tr>\n    <tr>\n      <th>ALG</th>\n      <td>NaN</td>\n      <td>NaN</td>\n      <td>NaN</td>\n      <td>NaN</td>\n      <td>NaN</td>\n      <td>NaN</td>\n      <td>NaN</td>\n      <td>NaN</td>\n      <td>NaN</td>\n      <td>NaN</td>\n      <td>...</td>\n      <td>NaN</td>\n      <td>24.901961</td>\n      <td>NaN</td>\n      <td>25.084507</td>\n      <td>24.333333</td>\n      <td>25.210526</td>\n      <td>17.00</td>\n      <td>24.846154</td>\n      <td>NaN</td>\n      <td>23.959459</td>\n    </tr>\n    <tr>\n      <th>AND</th>\n      <td>NaN</td>\n      <td>NaN</td>\n      <td>NaN</td>\n      <td>NaN</td>\n      <td>NaN</td>\n      <td>NaN</td>\n      <td>NaN</td>\n      <td>NaN</td>\n      <td>NaN</td>\n      <td>NaN</td>\n      <td>...</td>\n      <td>23.857143</td>\n      <td>31.000000</td>\n      <td>24.6</td>\n      <td>29.666667</td>\n      <td>24.800000</td>\n      <td>26.600000</td>\n      <td>23.55</td>\n      <td>32.000000</td>\n      <td>23.5</td>\n      <td>26.000000</td>\n    </tr>\n    <tr>\n      <th>...</th>\n      <td>...</td>\n      <td>...</td>\n      <td>...</td>\n      <td>...</td>\n      <td>...</td>\n      <td>...</td>\n      <td>...</td>\n      <td>...</td>\n      <td>...</td>\n      <td>...</td>\n      <td>...</td>\n      <td>...</td>\n      <td>...</td>\n      <td>...</td>\n      <td>...</td>\n      <td>...</td>\n      <td>...</td>\n      <td>...</td>\n      <td>...</td>\n      <td>...</td>\n      <td>...</td>\n    </tr>\n    <tr>\n      <th>YEM</th>\n      <td>NaN</td>\n      <td>NaN</td>\n      <td>NaN</td>\n      <td>NaN</td>\n      <td>NaN</td>\n      <td>NaN</td>\n      <td>NaN</td>\n      <td>NaN</td>\n      <td>NaN</td>\n      <td>NaN</td>\n      <td>...</td>\n      <td>NaN</td>\n      <td>25.000000</td>\n      <td>NaN</td>\n      <td>20.000000</td>\n      <td>NaN</td>\n      <td>21.375000</td>\n      <td>NaN</td>\n      <td>20.000000</td>\n      <td>NaN</td>\n      <td>19.333333</td>\n    </tr>\n    <tr>\n      <th>YMD</th>\n      <td>NaN</td>\n      <td>NaN</td>\n      <td>NaN</td>\n      <td>NaN</td>\n      <td>NaN</td>\n      <td>NaN</td>\n      <td>NaN</td>\n      <td>NaN</td>\n      <td>NaN</td>\n      <td>NaN</td>\n      <td>...</td>\n      <td>NaN</td>\n      <td>NaN</td>\n      <td>NaN</td>\n      <td>NaN</td>\n      <td>NaN</td>\n      <td>NaN</td>\n      <td>NaN</td>\n      <td>NaN</td>\n      <td>NaN</td>\n      <td>NaN</td>\n    </tr>\n    <tr>\n      <th>YUG</th>\n      <td>NaN</td>\n      <td>NaN</td>\n      <td>NaN</td>\n      <td>NaN</td>\n      <td>NaN</td>\n      <td>NaN</td>\n      <td>22.2</td>\n      <td>25.468434</td>\n      <td>25.903302</td>\n      <td>34.0</td>\n      <td>...</td>\n      <td>NaN</td>\n      <td>NaN</td>\n      <td>NaN</td>\n      <td>NaN</td>\n      <td>NaN</td>\n      <td>NaN</td>\n      <td>NaN</td>\n      <td>NaN</td>\n      <td>NaN</td>\n      <td>NaN</td>\n    </tr>\n    <tr>\n      <th>ZAM</th>\n      <td>NaN</td>\n      <td>NaN</td>\n      <td>NaN</td>\n      <td>NaN</td>\n      <td>NaN</td>\n      <td>NaN</td>\n      <td>NaN</td>\n      <td>NaN</td>\n      <td>NaN</td>\n      <td>NaN</td>\n      <td>...</td>\n      <td>NaN</td>\n      <td>23.000000</td>\n      <td>NaN</td>\n      <td>22.500000</td>\n      <td>NaN</td>\n      <td>21.875000</td>\n      <td>NaN</td>\n      <td>22.571429</td>\n      <td>NaN</td>\n      <td>24.142857</td>\n    </tr>\n    <tr>\n      <th>ZIM</th>\n      <td>NaN</td>\n      <td>NaN</td>\n      <td>NaN</td>\n      <td>NaN</td>\n      <td>NaN</td>\n      <td>NaN</td>\n      <td>NaN</td>\n      <td>NaN</td>\n      <td>22.778449</td>\n      <td>NaN</td>\n      <td>...</td>\n      <td>NaN</td>\n      <td>24.961538</td>\n      <td>NaN</td>\n      <td>25.071429</td>\n      <td>NaN</td>\n      <td>26.062500</td>\n      <td>NaN</td>\n      <td>27.333333</td>\n      <td>20.0</td>\n      <td>27.483871</td>\n    </tr>\n  </tbody>\n</table>\n<p>230 rows × 35 columns</p>\n</div>"
     },
     "execution_count": 54,
     "metadata": {},
     "output_type": "execute_result"
    }
   ],
   "source": [
    "# Cводные таблицы\n",
    "df.pivot_table(index = \"NOC\", columns = \"Year\", values = \"Age\",\n",
    "              aggfunc = np.mean)"
   ],
   "metadata": {
    "collapsed": false,
    "pycharm": {
     "name": "#%%\n"
    }
   }
  },
  {
   "cell_type": "code",
   "execution_count": 55,
   "outputs": [
    {
     "data": {
      "text/plain": "NOC\nAFG    24.307390\nAHO    26.576670\nALB    25.342857\nALG    24.383560\nAND    23.065089\n         ...    \nYEM    21.093750\nYMD    23.600000\nYUG    24.786233\nZAM    23.793170\nZIM    25.202938\nName: Age, Length: 230, dtype: float64"
     },
     "execution_count": 55,
     "metadata": {},
     "output_type": "execute_result"
    }
   ],
   "source": [
    "# Группировка\n",
    "df.groupby(['NOC'])['Age'].mean()"
   ],
   "metadata": {
    "collapsed": false,
    "pycharm": {
     "name": "#%%\n"
    }
   }
  },
  {
   "cell_type": "code",
   "execution_count": 56,
   "outputs": [
    {
     "data": {
      "text/plain": "     NOC        Age\n0    AFG  24.307390\n1    AHO  26.576670\n2    ALB  25.342857\n3    ALG  24.383560\n4    AND  23.065089\n..   ...        ...\n225  YEM  21.093750\n226  YMD  23.600000\n227  YUG  24.786233\n228  ZAM  23.793170\n229  ZIM  25.202938\n\n[230 rows x 2 columns]",
      "text/html": "<div>\n<style scoped>\n    .dataframe tbody tr th:only-of-type {\n        vertical-align: middle;\n    }\n\n    .dataframe tbody tr th {\n        vertical-align: top;\n    }\n\n    .dataframe thead th {\n        text-align: right;\n    }\n</style>\n<table border=\"1\" class=\"dataframe\">\n  <thead>\n    <tr style=\"text-align: right;\">\n      <th></th>\n      <th>NOC</th>\n      <th>Age</th>\n    </tr>\n  </thead>\n  <tbody>\n    <tr>\n      <th>0</th>\n      <td>AFG</td>\n      <td>24.307390</td>\n    </tr>\n    <tr>\n      <th>1</th>\n      <td>AHO</td>\n      <td>26.576670</td>\n    </tr>\n    <tr>\n      <th>2</th>\n      <td>ALB</td>\n      <td>25.342857</td>\n    </tr>\n    <tr>\n      <th>3</th>\n      <td>ALG</td>\n      <td>24.383560</td>\n    </tr>\n    <tr>\n      <th>4</th>\n      <td>AND</td>\n      <td>23.065089</td>\n    </tr>\n    <tr>\n      <th>...</th>\n      <td>...</td>\n      <td>...</td>\n    </tr>\n    <tr>\n      <th>225</th>\n      <td>YEM</td>\n      <td>21.093750</td>\n    </tr>\n    <tr>\n      <th>226</th>\n      <td>YMD</td>\n      <td>23.600000</td>\n    </tr>\n    <tr>\n      <th>227</th>\n      <td>YUG</td>\n      <td>24.786233</td>\n    </tr>\n    <tr>\n      <th>228</th>\n      <td>ZAM</td>\n      <td>23.793170</td>\n    </tr>\n    <tr>\n      <th>229</th>\n      <td>ZIM</td>\n      <td>25.202938</td>\n    </tr>\n  </tbody>\n</table>\n<p>230 rows × 2 columns</p>\n</div>"
     },
     "execution_count": 56,
     "metadata": {},
     "output_type": "execute_result"
    }
   ],
   "source": [
    "# Группировка\n",
    "df.groupby(['NOC'], as_index = False)['Age'].mean()"
   ],
   "metadata": {
    "collapsed": false,
    "pycharm": {
     "name": "#%%\n"
    }
   }
  },
  {
   "cell_type": "code",
   "execution_count": 57,
   "outputs": [
    {
     "data": {
      "text/plain": "NOC\nMON    29.910362\nNAM    27.857143\nDEN    27.347466\nIRL    27.318934\nISV    27.318608\nASA    27.216216\nMNE    27.074468\nPOR    26.989752\nAUT    26.916465\nGBR    26.841294\nName: Age, dtype: float64"
     },
     "execution_count": 57,
     "metadata": {},
     "output_type": "execute_result"
    }
   ],
   "source": [
    "# Группировка - вытащить 10 самых больших значений\n",
    "df.groupby(['NOC'])['Age'].mean().nlargest(10)"
   ],
   "metadata": {
    "collapsed": false,
    "pycharm": {
     "name": "#%%\n"
    }
   }
  },
  {
   "cell_type": "code",
   "execution_count": 58,
   "outputs": [
    {
     "data": {
      "text/plain": "      NOC  Year        Age\n0     AFG  1936  24.347306\n1     AFG  1948  25.556898\n2     AFG  1956  25.556898\n3     AFG  1960  23.312500\n4     AFG  1964  22.444612\n...   ...   ...        ...\n3300  ZIM  2004  25.071429\n3301  ZIM  2008  26.062500\n3302  ZIM  2012  27.333333\n3303  ZIM  2014  20.000000\n3304  ZIM  2016  27.483871\n\n[3305 rows x 3 columns]",
      "text/html": "<div>\n<style scoped>\n    .dataframe tbody tr th:only-of-type {\n        vertical-align: middle;\n    }\n\n    .dataframe tbody tr th {\n        vertical-align: top;\n    }\n\n    .dataframe thead th {\n        text-align: right;\n    }\n</style>\n<table border=\"1\" class=\"dataframe\">\n  <thead>\n    <tr style=\"text-align: right;\">\n      <th></th>\n      <th>NOC</th>\n      <th>Year</th>\n      <th>Age</th>\n    </tr>\n  </thead>\n  <tbody>\n    <tr>\n      <th>0</th>\n      <td>AFG</td>\n      <td>1936</td>\n      <td>24.347306</td>\n    </tr>\n    <tr>\n      <th>1</th>\n      <td>AFG</td>\n      <td>1948</td>\n      <td>25.556898</td>\n    </tr>\n    <tr>\n      <th>2</th>\n      <td>AFG</td>\n      <td>1956</td>\n      <td>25.556898</td>\n    </tr>\n    <tr>\n      <th>3</th>\n      <td>AFG</td>\n      <td>1960</td>\n      <td>23.312500</td>\n    </tr>\n    <tr>\n      <th>4</th>\n      <td>AFG</td>\n      <td>1964</td>\n      <td>22.444612</td>\n    </tr>\n    <tr>\n      <th>...</th>\n      <td>...</td>\n      <td>...</td>\n      <td>...</td>\n    </tr>\n    <tr>\n      <th>3300</th>\n      <td>ZIM</td>\n      <td>2004</td>\n      <td>25.071429</td>\n    </tr>\n    <tr>\n      <th>3301</th>\n      <td>ZIM</td>\n      <td>2008</td>\n      <td>26.062500</td>\n    </tr>\n    <tr>\n      <th>3302</th>\n      <td>ZIM</td>\n      <td>2012</td>\n      <td>27.333333</td>\n    </tr>\n    <tr>\n      <th>3303</th>\n      <td>ZIM</td>\n      <td>2014</td>\n      <td>20.000000</td>\n    </tr>\n    <tr>\n      <th>3304</th>\n      <td>ZIM</td>\n      <td>2016</td>\n      <td>27.483871</td>\n    </tr>\n  </tbody>\n</table>\n<p>3305 rows × 3 columns</p>\n</div>"
     },
     "execution_count": 58,
     "metadata": {},
     "output_type": "execute_result"
    }
   ],
   "source": [
    "#  Группировка\n",
    "df.groupby(['NOC',\"Year\"], as_index = False)['Age'].mean()"
   ],
   "metadata": {
    "collapsed": false,
    "pycharm": {
     "name": "#%%\n"
    }
   }
  },
  {
   "cell_type": "code",
   "execution_count": 59,
   "outputs": [
    {
     "data": {
      "text/plain": "Year  1896  1900  1904  1906  1908  1912  1920       1924       1928  1932  \\\nNOC                                                                          \nAFG    NaN   NaN   NaN   NaN   NaN   NaN   NaN        NaN        NaN   NaN   \nAHO    NaN   NaN   NaN   NaN   NaN   NaN   NaN        NaN        NaN   NaN   \nALB    NaN   NaN   NaN   NaN   NaN   NaN   NaN        NaN        NaN   NaN   \nALG    NaN   NaN   NaN   NaN   NaN   NaN   NaN        NaN        NaN   NaN   \nAND    NaN   NaN   NaN   NaN   NaN   NaN   NaN        NaN        NaN   NaN   \n..     ...   ...   ...   ...   ...   ...   ...        ...        ...   ...   \nYEM    NaN   NaN   NaN   NaN   NaN   NaN   NaN        NaN        NaN   NaN   \nYMD    NaN   NaN   NaN   NaN   NaN   NaN   NaN        NaN        NaN   NaN   \nYUG    NaN   NaN   NaN   NaN   NaN   NaN  22.2  25.468434  25.903302  34.0   \nZAM    NaN   NaN   NaN   NaN   NaN   NaN   NaN        NaN        NaN   NaN   \nZIM    NaN   NaN   NaN   NaN   NaN   NaN   NaN        NaN  22.778449   NaN   \n\nYear  ...       1998       2000  2002       2004       2006       2008   2010  \\\nNOC   ...                                                                       \nAFG   ...        NaN        NaN   NaN  18.600000        NaN  22.500000    NaN   \nAHO   ...        NaN  30.625000   NaN  32.333333        NaN  23.000000    NaN   \nALB   ...        NaN  31.200000   NaN  20.857143  19.000000  27.250000  23.00   \nALG   ...        NaN  24.901961   NaN  25.084507  24.333333  25.210526  17.00   \nAND   ...  23.857143  31.000000  24.6  29.666667  24.800000  26.600000  23.55   \n..    ...        ...        ...   ...        ...        ...        ...    ...   \nYEM   ...        NaN  25.000000   NaN  20.000000        NaN  21.375000    NaN   \nYMD   ...        NaN        NaN   NaN        NaN        NaN        NaN    NaN   \nYUG   ...        NaN        NaN   NaN        NaN        NaN        NaN    NaN   \nZAM   ...        NaN  23.000000   NaN  22.500000        NaN  21.875000    NaN   \nZIM   ...        NaN  24.961538   NaN  25.071429        NaN  26.062500    NaN   \n\nYear       2012  2014       2016  \nNOC                               \nAFG   24.833333   NaN  24.666667  \nAHO         NaN   NaN        NaN  \nALB   25.700000  20.0  23.666667  \nALG   24.846154   NaN  23.959459  \nAND   32.000000  23.5  26.000000  \n..          ...   ...        ...  \nYEM   20.000000   NaN  19.333333  \nYMD         NaN   NaN        NaN  \nYUG         NaN   NaN        NaN  \nZAM   22.571429   NaN  24.142857  \nZIM   27.333333  20.0  27.483871  \n\n[230 rows x 35 columns]",
      "text/html": "<div>\n<style scoped>\n    .dataframe tbody tr th:only-of-type {\n        vertical-align: middle;\n    }\n\n    .dataframe tbody tr th {\n        vertical-align: top;\n    }\n\n    .dataframe thead th {\n        text-align: right;\n    }\n</style>\n<table border=\"1\" class=\"dataframe\">\n  <thead>\n    <tr style=\"text-align: right;\">\n      <th>Year</th>\n      <th>1896</th>\n      <th>1900</th>\n      <th>1904</th>\n      <th>1906</th>\n      <th>1908</th>\n      <th>1912</th>\n      <th>1920</th>\n      <th>1924</th>\n      <th>1928</th>\n      <th>1932</th>\n      <th>...</th>\n      <th>1998</th>\n      <th>2000</th>\n      <th>2002</th>\n      <th>2004</th>\n      <th>2006</th>\n      <th>2008</th>\n      <th>2010</th>\n      <th>2012</th>\n      <th>2014</th>\n      <th>2016</th>\n    </tr>\n    <tr>\n      <th>NOC</th>\n      <th></th>\n      <th></th>\n      <th></th>\n      <th></th>\n      <th></th>\n      <th></th>\n      <th></th>\n      <th></th>\n      <th></th>\n      <th></th>\n      <th></th>\n      <th></th>\n      <th></th>\n      <th></th>\n      <th></th>\n      <th></th>\n      <th></th>\n      <th></th>\n      <th></th>\n      <th></th>\n      <th></th>\n    </tr>\n  </thead>\n  <tbody>\n    <tr>\n      <th>AFG</th>\n      <td>NaN</td>\n      <td>NaN</td>\n      <td>NaN</td>\n      <td>NaN</td>\n      <td>NaN</td>\n      <td>NaN</td>\n      <td>NaN</td>\n      <td>NaN</td>\n      <td>NaN</td>\n      <td>NaN</td>\n      <td>...</td>\n      <td>NaN</td>\n      <td>NaN</td>\n      <td>NaN</td>\n      <td>18.600000</td>\n      <td>NaN</td>\n      <td>22.500000</td>\n      <td>NaN</td>\n      <td>24.833333</td>\n      <td>NaN</td>\n      <td>24.666667</td>\n    </tr>\n    <tr>\n      <th>AHO</th>\n      <td>NaN</td>\n      <td>NaN</td>\n      <td>NaN</td>\n      <td>NaN</td>\n      <td>NaN</td>\n      <td>NaN</td>\n      <td>NaN</td>\n      <td>NaN</td>\n      <td>NaN</td>\n      <td>NaN</td>\n      <td>...</td>\n      <td>NaN</td>\n      <td>30.625000</td>\n      <td>NaN</td>\n      <td>32.333333</td>\n      <td>NaN</td>\n      <td>23.000000</td>\n      <td>NaN</td>\n      <td>NaN</td>\n      <td>NaN</td>\n      <td>NaN</td>\n    </tr>\n    <tr>\n      <th>ALB</th>\n      <td>NaN</td>\n      <td>NaN</td>\n      <td>NaN</td>\n      <td>NaN</td>\n      <td>NaN</td>\n      <td>NaN</td>\n      <td>NaN</td>\n      <td>NaN</td>\n      <td>NaN</td>\n      <td>NaN</td>\n      <td>...</td>\n      <td>NaN</td>\n      <td>31.200000</td>\n      <td>NaN</td>\n      <td>20.857143</td>\n      <td>19.000000</td>\n      <td>27.250000</td>\n      <td>23.00</td>\n      <td>25.700000</td>\n      <td>20.0</td>\n      <td>23.666667</td>\n    </tr>\n    <tr>\n      <th>ALG</th>\n      <td>NaN</td>\n      <td>NaN</td>\n      <td>NaN</td>\n      <td>NaN</td>\n      <td>NaN</td>\n      <td>NaN</td>\n      <td>NaN</td>\n      <td>NaN</td>\n      <td>NaN</td>\n      <td>NaN</td>\n      <td>...</td>\n      <td>NaN</td>\n      <td>24.901961</td>\n      <td>NaN</td>\n      <td>25.084507</td>\n      <td>24.333333</td>\n      <td>25.210526</td>\n      <td>17.00</td>\n      <td>24.846154</td>\n      <td>NaN</td>\n      <td>23.959459</td>\n    </tr>\n    <tr>\n      <th>AND</th>\n      <td>NaN</td>\n      <td>NaN</td>\n      <td>NaN</td>\n      <td>NaN</td>\n      <td>NaN</td>\n      <td>NaN</td>\n      <td>NaN</td>\n      <td>NaN</td>\n      <td>NaN</td>\n      <td>NaN</td>\n      <td>...</td>\n      <td>23.857143</td>\n      <td>31.000000</td>\n      <td>24.6</td>\n      <td>29.666667</td>\n      <td>24.800000</td>\n      <td>26.600000</td>\n      <td>23.55</td>\n      <td>32.000000</td>\n      <td>23.5</td>\n      <td>26.000000</td>\n    </tr>\n    <tr>\n      <th>...</th>\n      <td>...</td>\n      <td>...</td>\n      <td>...</td>\n      <td>...</td>\n      <td>...</td>\n      <td>...</td>\n      <td>...</td>\n      <td>...</td>\n      <td>...</td>\n      <td>...</td>\n      <td>...</td>\n      <td>...</td>\n      <td>...</td>\n      <td>...</td>\n      <td>...</td>\n      <td>...</td>\n      <td>...</td>\n      <td>...</td>\n      <td>...</td>\n      <td>...</td>\n      <td>...</td>\n    </tr>\n    <tr>\n      <th>YEM</th>\n      <td>NaN</td>\n      <td>NaN</td>\n      <td>NaN</td>\n      <td>NaN</td>\n      <td>NaN</td>\n      <td>NaN</td>\n      <td>NaN</td>\n      <td>NaN</td>\n      <td>NaN</td>\n      <td>NaN</td>\n      <td>...</td>\n      <td>NaN</td>\n      <td>25.000000</td>\n      <td>NaN</td>\n      <td>20.000000</td>\n      <td>NaN</td>\n      <td>21.375000</td>\n      <td>NaN</td>\n      <td>20.000000</td>\n      <td>NaN</td>\n      <td>19.333333</td>\n    </tr>\n    <tr>\n      <th>YMD</th>\n      <td>NaN</td>\n      <td>NaN</td>\n      <td>NaN</td>\n      <td>NaN</td>\n      <td>NaN</td>\n      <td>NaN</td>\n      <td>NaN</td>\n      <td>NaN</td>\n      <td>NaN</td>\n      <td>NaN</td>\n      <td>...</td>\n      <td>NaN</td>\n      <td>NaN</td>\n      <td>NaN</td>\n      <td>NaN</td>\n      <td>NaN</td>\n      <td>NaN</td>\n      <td>NaN</td>\n      <td>NaN</td>\n      <td>NaN</td>\n      <td>NaN</td>\n    </tr>\n    <tr>\n      <th>YUG</th>\n      <td>NaN</td>\n      <td>NaN</td>\n      <td>NaN</td>\n      <td>NaN</td>\n      <td>NaN</td>\n      <td>NaN</td>\n      <td>22.2</td>\n      <td>25.468434</td>\n      <td>25.903302</td>\n      <td>34.0</td>\n      <td>...</td>\n      <td>NaN</td>\n      <td>NaN</td>\n      <td>NaN</td>\n      <td>NaN</td>\n      <td>NaN</td>\n      <td>NaN</td>\n      <td>NaN</td>\n      <td>NaN</td>\n      <td>NaN</td>\n      <td>NaN</td>\n    </tr>\n    <tr>\n      <th>ZAM</th>\n      <td>NaN</td>\n      <td>NaN</td>\n      <td>NaN</td>\n      <td>NaN</td>\n      <td>NaN</td>\n      <td>NaN</td>\n      <td>NaN</td>\n      <td>NaN</td>\n      <td>NaN</td>\n      <td>NaN</td>\n      <td>...</td>\n      <td>NaN</td>\n      <td>23.000000</td>\n      <td>NaN</td>\n      <td>22.500000</td>\n      <td>NaN</td>\n      <td>21.875000</td>\n      <td>NaN</td>\n      <td>22.571429</td>\n      <td>NaN</td>\n      <td>24.142857</td>\n    </tr>\n    <tr>\n      <th>ZIM</th>\n      <td>NaN</td>\n      <td>NaN</td>\n      <td>NaN</td>\n      <td>NaN</td>\n      <td>NaN</td>\n      <td>NaN</td>\n      <td>NaN</td>\n      <td>NaN</td>\n      <td>22.778449</td>\n      <td>NaN</td>\n      <td>...</td>\n      <td>NaN</td>\n      <td>24.961538</td>\n      <td>NaN</td>\n      <td>25.071429</td>\n      <td>NaN</td>\n      <td>26.062500</td>\n      <td>NaN</td>\n      <td>27.333333</td>\n      <td>20.0</td>\n      <td>27.483871</td>\n    </tr>\n  </tbody>\n</table>\n<p>230 rows × 35 columns</p>\n</div>"
     },
     "execution_count": 59,
     "metadata": {},
     "output_type": "execute_result"
    }
   ],
   "source": [
    "# Группировка и преобразования мультиндекса\n",
    "df.groupby(['NOC',\"Year\"])['Age'].mean().unstack() # по факту мы перешли к сводной таблице (pivot_table выше)"
   ],
   "metadata": {
    "collapsed": false,
    "pycharm": {
     "name": "#%%\n"
    }
   }
  },
  {
   "cell_type": "code",
   "execution_count": 60,
   "outputs": [
    {
     "data": {
      "text/plain": "NOC  Year\nAFG  1936    24.347306\n     1948    25.556898\n     1956    25.556898\n     1960    23.312500\n     1964    22.444612\n               ...    \nZIM  2004    25.071429\n     2008    26.062500\n     2012    27.333333\n     2014    20.000000\n     2016    27.483871\nLength: 3305, dtype: float64"
     },
     "execution_count": 60,
     "metadata": {},
     "output_type": "execute_result"
    }
   ],
   "source": [
    "# Перейдем обратно к иерархическим индексам\n",
    "df.pivot_table(index = \"NOC\", columns = \"Year\", values = \"Age\",\n",
    "              aggfunc = np.mean).stack() # переходит к groupby выше"
   ],
   "metadata": {
    "collapsed": false,
    "pycharm": {
     "name": "#%%\n"
    }
   }
  },
  {
   "cell_type": "code",
   "execution_count": 61,
   "outputs": [
    {
     "data": {
      "text/plain": "            id                      Name Sex   Age Height Weight  \\\n0            1                 A Dijiang   M  24.0  180.0   80.0   \n1            2                  A Lamusi   M  23.0  170.0   60.0   \n2            3       Gunnar Nielsen Aaby   M  24.0    NaN    NaN   \n3            4      Edgar Lindenau Aabye   M  34.0    NaN    NaN   \n4            5  Christine Jacoba Aaftink   F  21.0  185.0   82.0   \n...        ...                       ...  ..   ...    ...    ...   \n271111  135569                Andrzej ya   M  29.0  179.0   89.0   \n271112  135570                  Piotr ya   M  27.0  176.0   59.0   \n271113  135570                  Piotr ya   M  27.0  176.0   59.0   \n271114  135571        Tomasz Ireneusz ya   M  30.0  185.0   96.0   \n271115  135571        Tomasz Ireneusz ya   M  34.0  185.0   96.0   \n\n                  Team  NOC        Games  Year  Season            City  \\\n0                China  CHN  1992 Summer  1992  Summer       Barcelona   \n1                China  CHN  2012 Summer  2012  Summer          London   \n2              Denmark  DEN  1920 Summer  1920  Summer       Antwerpen   \n3       Denmark/Sweden  DEN  1900 Summer  1900  Summer           Paris   \n4          Netherlands  NED  1988 Winter  1988  Winter         Calgary   \n...                ...  ...          ...   ...     ...             ...   \n271111        Poland-1  POL  1976 Winter  1976  Winter       Innsbruck   \n271112          Poland  POL  2014 Winter  2014  Winter           Sochi   \n271113          Poland  POL  2014 Winter  2014  Winter           Sochi   \n271114          Poland  POL  1998 Winter  1998  Winter          Nagano   \n271115          Poland  POL  2002 Winter  2002  Winter  Salt Lake City   \n\n                Sport                                     Event Medal Male  \\\n0          Basketball               Basketball Men's Basketball   NaN    1   \n1                Judo              Judo Men's Extra-Lightweight   NaN    1   \n2            Football                   Football Men's Football   NaN    1   \n3          Tug-Of-War               Tug-Of-War Men's Tug-Of-War  Gold    1   \n4       Speed Skating          Speed Skating Women's 500 metres   NaN    0   \n...               ...                                       ...   ...  ...   \n271111           Luge                Luge Mixed (Men)'s Doubles   NaN    1   \n271112    Ski Jumping  Ski Jumping Men's Large Hill, Individual   NaN    1   \n271113    Ski Jumping        Ski Jumping Men's Large Hill, Team   NaN    1   \n271114      Bobsleigh                      Bobsleigh Men's Four   NaN    1   \n271115      Bobsleigh                      Bobsleigh Men's Four   NaN    1   \n\n       Male_ Name_len  \n0        1.0        9  \n1        1.0        8  \n2        1.0       19  \n3        1.0       20  \n4        0.0       24  \n...      ...      ...  \n271111   1.0       10  \n271112   1.0        8  \n271113   1.0        8  \n271114   1.0       18  \n271115   1.0       18  \n\n[271116 rows x 18 columns]",
      "text/html": "<div>\n<style scoped>\n    .dataframe tbody tr th:only-of-type {\n        vertical-align: middle;\n    }\n\n    .dataframe tbody tr th {\n        vertical-align: top;\n    }\n\n    .dataframe thead th {\n        text-align: right;\n    }\n</style>\n<table border=\"1\" class=\"dataframe\">\n  <thead>\n    <tr style=\"text-align: right;\">\n      <th></th>\n      <th>id</th>\n      <th>Name</th>\n      <th>Sex</th>\n      <th>Age</th>\n      <th>Height</th>\n      <th>Weight</th>\n      <th>Team</th>\n      <th>NOC</th>\n      <th>Games</th>\n      <th>Year</th>\n      <th>Season</th>\n      <th>City</th>\n      <th>Sport</th>\n      <th>Event</th>\n      <th>Medal</th>\n      <th>Male</th>\n      <th>Male_</th>\n      <th>Name_len</th>\n    </tr>\n  </thead>\n  <tbody>\n    <tr>\n      <th>0</th>\n      <td>1</td>\n      <td>A Dijiang</td>\n      <td>M</td>\n      <td>24.0</td>\n      <td>180.0</td>\n      <td>80.0</td>\n      <td>China</td>\n      <td>CHN</td>\n      <td>1992 Summer</td>\n      <td>1992</td>\n      <td>Summer</td>\n      <td>Barcelona</td>\n      <td>Basketball</td>\n      <td>Basketball Men's Basketball</td>\n      <td>NaN</td>\n      <td>1</td>\n      <td>1.0</td>\n      <td>9</td>\n    </tr>\n    <tr>\n      <th>1</th>\n      <td>2</td>\n      <td>A Lamusi</td>\n      <td>M</td>\n      <td>23.0</td>\n      <td>170.0</td>\n      <td>60.0</td>\n      <td>China</td>\n      <td>CHN</td>\n      <td>2012 Summer</td>\n      <td>2012</td>\n      <td>Summer</td>\n      <td>London</td>\n      <td>Judo</td>\n      <td>Judo Men's Extra-Lightweight</td>\n      <td>NaN</td>\n      <td>1</td>\n      <td>1.0</td>\n      <td>8</td>\n    </tr>\n    <tr>\n      <th>2</th>\n      <td>3</td>\n      <td>Gunnar Nielsen Aaby</td>\n      <td>M</td>\n      <td>24.0</td>\n      <td>NaN</td>\n      <td>NaN</td>\n      <td>Denmark</td>\n      <td>DEN</td>\n      <td>1920 Summer</td>\n      <td>1920</td>\n      <td>Summer</td>\n      <td>Antwerpen</td>\n      <td>Football</td>\n      <td>Football Men's Football</td>\n      <td>NaN</td>\n      <td>1</td>\n      <td>1.0</td>\n      <td>19</td>\n    </tr>\n    <tr>\n      <th>3</th>\n      <td>4</td>\n      <td>Edgar Lindenau Aabye</td>\n      <td>M</td>\n      <td>34.0</td>\n      <td>NaN</td>\n      <td>NaN</td>\n      <td>Denmark/Sweden</td>\n      <td>DEN</td>\n      <td>1900 Summer</td>\n      <td>1900</td>\n      <td>Summer</td>\n      <td>Paris</td>\n      <td>Tug-Of-War</td>\n      <td>Tug-Of-War Men's Tug-Of-War</td>\n      <td>Gold</td>\n      <td>1</td>\n      <td>1.0</td>\n      <td>20</td>\n    </tr>\n    <tr>\n      <th>4</th>\n      <td>5</td>\n      <td>Christine Jacoba Aaftink</td>\n      <td>F</td>\n      <td>21.0</td>\n      <td>185.0</td>\n      <td>82.0</td>\n      <td>Netherlands</td>\n      <td>NED</td>\n      <td>1988 Winter</td>\n      <td>1988</td>\n      <td>Winter</td>\n      <td>Calgary</td>\n      <td>Speed Skating</td>\n      <td>Speed Skating Women's 500 metres</td>\n      <td>NaN</td>\n      <td>0</td>\n      <td>0.0</td>\n      <td>24</td>\n    </tr>\n    <tr>\n      <th>...</th>\n      <td>...</td>\n      <td>...</td>\n      <td>...</td>\n      <td>...</td>\n      <td>...</td>\n      <td>...</td>\n      <td>...</td>\n      <td>...</td>\n      <td>...</td>\n      <td>...</td>\n      <td>...</td>\n      <td>...</td>\n      <td>...</td>\n      <td>...</td>\n      <td>...</td>\n      <td>...</td>\n      <td>...</td>\n      <td>...</td>\n    </tr>\n    <tr>\n      <th>271111</th>\n      <td>135569</td>\n      <td>Andrzej ya</td>\n      <td>M</td>\n      <td>29.0</td>\n      <td>179.0</td>\n      <td>89.0</td>\n      <td>Poland-1</td>\n      <td>POL</td>\n      <td>1976 Winter</td>\n      <td>1976</td>\n      <td>Winter</td>\n      <td>Innsbruck</td>\n      <td>Luge</td>\n      <td>Luge Mixed (Men)'s Doubles</td>\n      <td>NaN</td>\n      <td>1</td>\n      <td>1.0</td>\n      <td>10</td>\n    </tr>\n    <tr>\n      <th>271112</th>\n      <td>135570</td>\n      <td>Piotr ya</td>\n      <td>M</td>\n      <td>27.0</td>\n      <td>176.0</td>\n      <td>59.0</td>\n      <td>Poland</td>\n      <td>POL</td>\n      <td>2014 Winter</td>\n      <td>2014</td>\n      <td>Winter</td>\n      <td>Sochi</td>\n      <td>Ski Jumping</td>\n      <td>Ski Jumping Men's Large Hill, Individual</td>\n      <td>NaN</td>\n      <td>1</td>\n      <td>1.0</td>\n      <td>8</td>\n    </tr>\n    <tr>\n      <th>271113</th>\n      <td>135570</td>\n      <td>Piotr ya</td>\n      <td>M</td>\n      <td>27.0</td>\n      <td>176.0</td>\n      <td>59.0</td>\n      <td>Poland</td>\n      <td>POL</td>\n      <td>2014 Winter</td>\n      <td>2014</td>\n      <td>Winter</td>\n      <td>Sochi</td>\n      <td>Ski Jumping</td>\n      <td>Ski Jumping Men's Large Hill, Team</td>\n      <td>NaN</td>\n      <td>1</td>\n      <td>1.0</td>\n      <td>8</td>\n    </tr>\n    <tr>\n      <th>271114</th>\n      <td>135571</td>\n      <td>Tomasz Ireneusz ya</td>\n      <td>M</td>\n      <td>30.0</td>\n      <td>185.0</td>\n      <td>96.0</td>\n      <td>Poland</td>\n      <td>POL</td>\n      <td>1998 Winter</td>\n      <td>1998</td>\n      <td>Winter</td>\n      <td>Nagano</td>\n      <td>Bobsleigh</td>\n      <td>Bobsleigh Men's Four</td>\n      <td>NaN</td>\n      <td>1</td>\n      <td>1.0</td>\n      <td>18</td>\n    </tr>\n    <tr>\n      <th>271115</th>\n      <td>135571</td>\n      <td>Tomasz Ireneusz ya</td>\n      <td>M</td>\n      <td>34.0</td>\n      <td>185.0</td>\n      <td>96.0</td>\n      <td>Poland</td>\n      <td>POL</td>\n      <td>2002 Winter</td>\n      <td>2002</td>\n      <td>Winter</td>\n      <td>Salt Lake City</td>\n      <td>Bobsleigh</td>\n      <td>Bobsleigh Men's Four</td>\n      <td>NaN</td>\n      <td>1</td>\n      <td>1.0</td>\n      <td>18</td>\n    </tr>\n  </tbody>\n</table>\n<p>271116 rows × 18 columns</p>\n</div>"
     },
     "execution_count": 61,
     "metadata": {},
     "output_type": "execute_result"
    }
   ],
   "source": [
    "# Stack - столбцы преобразуем в индекс\n",
    "\n",
    "df.stack().unstack()"
   ],
   "metadata": {
    "collapsed": false,
    "pycharm": {
     "name": "#%%\n"
    }
   }
  },
  {
   "cell_type": "code",
   "execution_count": 62,
   "outputs": [
    {
     "data": {
      "text/plain": "                                value\n0      id                           1\n       Name                 A Dijiang\n       Sex                          M\n       Age                       24.0\n       Height                   180.0\n...                               ...\n271115 Sport                Bobsleigh\n       Event     Bobsleigh Men's Four\n       Male                         1\n       Male_                      1.0\n       Name_len                    18\n\n[4525709 rows x 1 columns]",
      "text/html": "<div>\n<style scoped>\n    .dataframe tbody tr th:only-of-type {\n        vertical-align: middle;\n    }\n\n    .dataframe tbody tr th {\n        vertical-align: top;\n    }\n\n    .dataframe thead th {\n        text-align: right;\n    }\n</style>\n<table border=\"1\" class=\"dataframe\">\n  <thead>\n    <tr style=\"text-align: right;\">\n      <th></th>\n      <th></th>\n      <th>value</th>\n    </tr>\n  </thead>\n  <tbody>\n    <tr>\n      <th rowspan=\"5\" valign=\"top\">0</th>\n      <th>id</th>\n      <td>1</td>\n    </tr>\n    <tr>\n      <th>Name</th>\n      <td>A Dijiang</td>\n    </tr>\n    <tr>\n      <th>Sex</th>\n      <td>M</td>\n    </tr>\n    <tr>\n      <th>Age</th>\n      <td>24.0</td>\n    </tr>\n    <tr>\n      <th>Height</th>\n      <td>180.0</td>\n    </tr>\n    <tr>\n      <th>...</th>\n      <th>...</th>\n      <td>...</td>\n    </tr>\n    <tr>\n      <th rowspan=\"5\" valign=\"top\">271115</th>\n      <th>Sport</th>\n      <td>Bobsleigh</td>\n    </tr>\n    <tr>\n      <th>Event</th>\n      <td>Bobsleigh Men's Four</td>\n    </tr>\n    <tr>\n      <th>Male</th>\n      <td>1</td>\n    </tr>\n    <tr>\n      <th>Male_</th>\n      <td>1.0</td>\n    </tr>\n    <tr>\n      <th>Name_len</th>\n      <td>18</td>\n    </tr>\n  </tbody>\n</table>\n<p>4525709 rows × 1 columns</p>\n</div>"
     },
     "execution_count": 62,
     "metadata": {},
     "output_type": "execute_result"
    }
   ],
   "source": [
    "# Иногда удобно преобразовать это в датафрейм\n",
    "df.stack().to_frame(\"value\")"
   ],
   "metadata": {
    "collapsed": false,
    "pycharm": {
     "name": "#%%\n"
    }
   }
  },
  {
   "cell_type": "code",
   "execution_count": 63,
   "outputs": [],
   "source": [
    "# Обратный unstack\n",
    "df_ = df.stack().to_frame(\"value\").unstack().head(5)"
   ],
   "metadata": {
    "collapsed": false,
    "pycharm": {
     "name": "#%%\n"
    }
   }
  },
  {
   "cell_type": "markdown",
   "source": [
    "Иногда возникает проблема при таких преобразованиях, что у столбца появляется иерархический индекс и это не очень удобно. Его можно удалить через columns.droplevel"
   ],
   "metadata": {
    "collapsed": false
   }
  },
  {
   "cell_type": "code",
   "execution_count": 64,
   "outputs": [
    {
     "name": "stdout",
     "output_type": "stream",
     "text": [
      "MultiIndex([('value',     'id'),\n",
      "            ('value',   'Name'),\n",
      "            ('value',    'Sex'),\n",
      "            ('value',    'Age'),\n",
      "            ('value', 'Height')],\n",
      "           )\n",
      "Index(['id', 'Name', 'Sex', 'Age', 'Height', 'Weight', 'Team', 'NOC', 'Games',\n",
      "       'Year', 'Season', 'City', 'Sport', 'Event', 'Medal', 'Male', 'Male_',\n",
      "       'Name_len'],\n",
      "      dtype='object')\n"
     ]
    }
   ],
   "source": [
    "print(df_.columns[:5])\n",
    "df_.columns = df_.columns.droplevel(0)\n",
    "print(df_.columns)"
   ],
   "metadata": {
    "collapsed": false,
    "pycharm": {
     "name": "#%%\n"
    }
   }
  },
  {
   "cell_type": "code",
   "execution_count": 65,
   "outputs": [],
   "source": [
    "# Работа с иерархическими индексами\n",
    "# https://pandas.pydata.org/pandas-docs/stable/user_guide/advanced.html\n",
    "\n",
    "# Создадим новый датасет с иерархическим индексом\n",
    "\n",
    "df1 = df.set_index(['Name','Team'])"
   ],
   "metadata": {
    "collapsed": false,
    "pycharm": {
     "name": "#%%\n"
    }
   }
  },
  {
   "cell_type": "code",
   "execution_count": 66,
   "outputs": [
    {
     "data": {
      "text/plain": "       id Sex   Age  Height  Weight  NOC        Games  Year  Season    City  \\\nTeam                                                                          \nChina   2   M  23.0   170.0    60.0  CHN  2012 Summer  2012  Summer  London   \n\n      Sport                         Event Medal  Male  Male_  Name_len  \nTeam                                                                    \nChina  Judo  Judo Men's Extra-Lightweight   NaN     1    1.0         8  ",
      "text/html": "<div>\n<style scoped>\n    .dataframe tbody tr th:only-of-type {\n        vertical-align: middle;\n    }\n\n    .dataframe tbody tr th {\n        vertical-align: top;\n    }\n\n    .dataframe thead th {\n        text-align: right;\n    }\n</style>\n<table border=\"1\" class=\"dataframe\">\n  <thead>\n    <tr style=\"text-align: right;\">\n      <th></th>\n      <th>id</th>\n      <th>Sex</th>\n      <th>Age</th>\n      <th>Height</th>\n      <th>Weight</th>\n      <th>NOC</th>\n      <th>Games</th>\n      <th>Year</th>\n      <th>Season</th>\n      <th>City</th>\n      <th>Sport</th>\n      <th>Event</th>\n      <th>Medal</th>\n      <th>Male</th>\n      <th>Male_</th>\n      <th>Name_len</th>\n    </tr>\n    <tr>\n      <th>Team</th>\n      <th></th>\n      <th></th>\n      <th></th>\n      <th></th>\n      <th></th>\n      <th></th>\n      <th></th>\n      <th></th>\n      <th></th>\n      <th></th>\n      <th></th>\n      <th></th>\n      <th></th>\n      <th></th>\n      <th></th>\n      <th></th>\n    </tr>\n  </thead>\n  <tbody>\n    <tr>\n      <th>China</th>\n      <td>2</td>\n      <td>M</td>\n      <td>23.0</td>\n      <td>170.0</td>\n      <td>60.0</td>\n      <td>CHN</td>\n      <td>2012 Summer</td>\n      <td>2012</td>\n      <td>Summer</td>\n      <td>London</td>\n      <td>Judo</td>\n      <td>Judo Men's Extra-Lightweight</td>\n      <td>NaN</td>\n      <td>1</td>\n      <td>1.0</td>\n      <td>8</td>\n    </tr>\n  </tbody>\n</table>\n</div>"
     },
     "execution_count": 66,
     "metadata": {},
     "output_type": "execute_result"
    }
   ],
   "source": [
    "# Обратимся к имени\n",
    "df1.loc['A Lamusi']"
   ],
   "metadata": {
    "collapsed": false,
    "pycharm": {
     "name": "#%%\n"
    }
   }
  },
  {
   "cell_type": "code",
   "execution_count": 67,
   "outputs": [
    {
     "data": {
      "text/plain": "       id Sex   Age  Height  Weight  NOC        Games  Year  Season    City  \\\nTeam                                                                          \nChina   2   M  23.0   170.0    60.0  CHN  2012 Summer  2012  Summer  London   \n\n      Sport                         Event Medal  Male  Male_  Name_len  \nTeam                                                                    \nChina  Judo  Judo Men's Extra-Lightweight   NaN     1    1.0         8  ",
      "text/html": "<div>\n<style scoped>\n    .dataframe tbody tr th:only-of-type {\n        vertical-align: middle;\n    }\n\n    .dataframe tbody tr th {\n        vertical-align: top;\n    }\n\n    .dataframe thead th {\n        text-align: right;\n    }\n</style>\n<table border=\"1\" class=\"dataframe\">\n  <thead>\n    <tr style=\"text-align: right;\">\n      <th></th>\n      <th>id</th>\n      <th>Sex</th>\n      <th>Age</th>\n      <th>Height</th>\n      <th>Weight</th>\n      <th>NOC</th>\n      <th>Games</th>\n      <th>Year</th>\n      <th>Season</th>\n      <th>City</th>\n      <th>Sport</th>\n      <th>Event</th>\n      <th>Medal</th>\n      <th>Male</th>\n      <th>Male_</th>\n      <th>Name_len</th>\n    </tr>\n    <tr>\n      <th>Team</th>\n      <th></th>\n      <th></th>\n      <th></th>\n      <th></th>\n      <th></th>\n      <th></th>\n      <th></th>\n      <th></th>\n      <th></th>\n      <th></th>\n      <th></th>\n      <th></th>\n      <th></th>\n      <th></th>\n      <th></th>\n      <th></th>\n    </tr>\n  </thead>\n  <tbody>\n    <tr>\n      <th>China</th>\n      <td>2</td>\n      <td>M</td>\n      <td>23.0</td>\n      <td>170.0</td>\n      <td>60.0</td>\n      <td>CHN</td>\n      <td>2012 Summer</td>\n      <td>2012</td>\n      <td>Summer</td>\n      <td>London</td>\n      <td>Judo</td>\n      <td>Judo Men's Extra-Lightweight</td>\n      <td>NaN</td>\n      <td>1</td>\n      <td>1.0</td>\n      <td>8</td>\n    </tr>\n  </tbody>\n</table>\n</div>"
     },
     "execution_count": 67,
     "metadata": {},
     "output_type": "execute_result"
    }
   ],
   "source": [
    "# Обратимся к имени\n",
    "df1.xs('A Lamusi', level=0)"
   ],
   "metadata": {
    "collapsed": false,
    "pycharm": {
     "name": "#%%\n"
    }
   }
  },
  {
   "cell_type": "code",
   "execution_count": 68,
   "outputs": [
    {
     "data": {
      "text/plain": "                                          id Sex   Age  Height  Weight  NOC  \\\nName                                                                          \nMariya Vasilyevna Abakumova (-Tarabina)   67   F  22.0   179.0    80.0  RUS   \nMariya Vasilyevna Abakumova (-Tarabina)   67   F  26.0   179.0    80.0  RUS   \nTamila Rashidovna Abasova                 90   F  21.0   163.0    60.0  RUS   \nTamila Rashidovna Abasova                 90   F  21.0   163.0    60.0  RUS   \nAdlan Aliyevich Abdurashidov             356   M  26.0   172.0    60.0  RUS   \n\n                                               Games  Year  Season  \\\nName                                                                 \nMariya Vasilyevna Abakumova (-Tarabina)  2008 Summer  2008  Summer   \nMariya Vasilyevna Abakumova (-Tarabina)  2012 Summer  2012  Summer   \nTamila Rashidovna Abasova                2004 Summer  2004  Summer   \nTamila Rashidovna Abasova                2004 Summer  2004  Summer   \nAdlan Aliyevich Abdurashidov             2016 Summer  2016  Summer   \n\n                                                   City      Sport  \\\nName                                                                 \nMariya Vasilyevna Abakumova (-Tarabina)         Beijing  Athletics   \nMariya Vasilyevna Abakumova (-Tarabina)          London  Athletics   \nTamila Rashidovna Abasova                        Athina    Cycling   \nTamila Rashidovna Abasova                        Athina    Cycling   \nAdlan Aliyevich Abdurashidov             Rio de Janeiro     Boxing   \n\n                                                                         Event  \\\nName                                                                             \nMariya Vasilyevna Abakumova (-Tarabina)        Athletics Women's Javelin Throw   \nMariya Vasilyevna Abakumova (-Tarabina)        Athletics Women's Javelin Throw   \nTamila Rashidovna Abasova                               Cycling Women's Sprint   \nTamila Rashidovna Abasova                Cycling Women's 500 metres Time Trial   \nAdlan Aliyevich Abdurashidov                          Boxing Men's Lightweight   \n\n                                          Medal  Male  Male_  Name_len  \nName                                                                    \nMariya Vasilyevna Abakumova (-Tarabina)  Silver     0    0.0        39  \nMariya Vasilyevna Abakumova (-Tarabina)     NaN     0    0.0        39  \nTamila Rashidovna Abasova                Silver     0    0.0        25  \nTamila Rashidovna Abasova                   NaN     0    0.0        25  \nAdlan Aliyevich Abdurashidov                NaN     1    1.0        28  ",
      "text/html": "<div>\n<style scoped>\n    .dataframe tbody tr th:only-of-type {\n        vertical-align: middle;\n    }\n\n    .dataframe tbody tr th {\n        vertical-align: top;\n    }\n\n    .dataframe thead th {\n        text-align: right;\n    }\n</style>\n<table border=\"1\" class=\"dataframe\">\n  <thead>\n    <tr style=\"text-align: right;\">\n      <th></th>\n      <th>id</th>\n      <th>Sex</th>\n      <th>Age</th>\n      <th>Height</th>\n      <th>Weight</th>\n      <th>NOC</th>\n      <th>Games</th>\n      <th>Year</th>\n      <th>Season</th>\n      <th>City</th>\n      <th>Sport</th>\n      <th>Event</th>\n      <th>Medal</th>\n      <th>Male</th>\n      <th>Male_</th>\n      <th>Name_len</th>\n    </tr>\n    <tr>\n      <th>Name</th>\n      <th></th>\n      <th></th>\n      <th></th>\n      <th></th>\n      <th></th>\n      <th></th>\n      <th></th>\n      <th></th>\n      <th></th>\n      <th></th>\n      <th></th>\n      <th></th>\n      <th></th>\n      <th></th>\n      <th></th>\n      <th></th>\n    </tr>\n  </thead>\n  <tbody>\n    <tr>\n      <th>Mariya Vasilyevna Abakumova (-Tarabina)</th>\n      <td>67</td>\n      <td>F</td>\n      <td>22.0</td>\n      <td>179.0</td>\n      <td>80.0</td>\n      <td>RUS</td>\n      <td>2008 Summer</td>\n      <td>2008</td>\n      <td>Summer</td>\n      <td>Beijing</td>\n      <td>Athletics</td>\n      <td>Athletics Women's Javelin Throw</td>\n      <td>Silver</td>\n      <td>0</td>\n      <td>0.0</td>\n      <td>39</td>\n    </tr>\n    <tr>\n      <th>Mariya Vasilyevna Abakumova (-Tarabina)</th>\n      <td>67</td>\n      <td>F</td>\n      <td>26.0</td>\n      <td>179.0</td>\n      <td>80.0</td>\n      <td>RUS</td>\n      <td>2012 Summer</td>\n      <td>2012</td>\n      <td>Summer</td>\n      <td>London</td>\n      <td>Athletics</td>\n      <td>Athletics Women's Javelin Throw</td>\n      <td>NaN</td>\n      <td>0</td>\n      <td>0.0</td>\n      <td>39</td>\n    </tr>\n    <tr>\n      <th>Tamila Rashidovna Abasova</th>\n      <td>90</td>\n      <td>F</td>\n      <td>21.0</td>\n      <td>163.0</td>\n      <td>60.0</td>\n      <td>RUS</td>\n      <td>2004 Summer</td>\n      <td>2004</td>\n      <td>Summer</td>\n      <td>Athina</td>\n      <td>Cycling</td>\n      <td>Cycling Women's Sprint</td>\n      <td>Silver</td>\n      <td>0</td>\n      <td>0.0</td>\n      <td>25</td>\n    </tr>\n    <tr>\n      <th>Tamila Rashidovna Abasova</th>\n      <td>90</td>\n      <td>F</td>\n      <td>21.0</td>\n      <td>163.0</td>\n      <td>60.0</td>\n      <td>RUS</td>\n      <td>2004 Summer</td>\n      <td>2004</td>\n      <td>Summer</td>\n      <td>Athina</td>\n      <td>Cycling</td>\n      <td>Cycling Women's 500 metres Time Trial</td>\n      <td>NaN</td>\n      <td>0</td>\n      <td>0.0</td>\n      <td>25</td>\n    </tr>\n    <tr>\n      <th>Adlan Aliyevich Abdurashidov</th>\n      <td>356</td>\n      <td>M</td>\n      <td>26.0</td>\n      <td>172.0</td>\n      <td>60.0</td>\n      <td>RUS</td>\n      <td>2016 Summer</td>\n      <td>2016</td>\n      <td>Summer</td>\n      <td>Rio de Janeiro</td>\n      <td>Boxing</td>\n      <td>Boxing Men's Lightweight</td>\n      <td>NaN</td>\n      <td>1</td>\n      <td>1.0</td>\n      <td>28</td>\n    </tr>\n  </tbody>\n</table>\n</div>"
     },
     "execution_count": 68,
     "metadata": {},
     "output_type": "execute_result"
    }
   ],
   "source": [
    "# Обратимся к сборной\n",
    "df1.xs(\"Russia\", level=1).head()"
   ],
   "metadata": {
    "collapsed": false,
    "pycharm": {
     "name": "#%%\n"
    }
   }
  },
  {
   "cell_type": "markdown",
   "source": [
    "# 3. Pandas. Часть 2 (работа с датами)"
   ],
   "metadata": {
    "collapsed": false
   }
  },
  {
   "cell_type": "code",
   "execution_count": 69,
   "outputs": [
    {
     "data": {
      "text/plain": "DatetimeIndex(['2018-01-01', '2018-01-06', '2018-01-11', '2018-01-16',\n               '2018-01-21', '2018-01-26', '2018-01-31', '2018-02-05',\n               '2018-02-10', '2018-02-15',\n               ...\n               '2019-11-17', '2019-11-22', '2019-11-27', '2019-12-02',\n               '2019-12-07', '2019-12-12', '2019-12-17', '2019-12-22',\n               '2019-12-27', '2020-01-01'],\n              dtype='datetime64[ns]', length=147, freq='5D')"
     },
     "execution_count": 69,
     "metadata": {},
     "output_type": "execute_result"
    }
   ],
   "source": [
    "import pandas as pd\n",
    "# Создать интервал\n",
    "pd.date_range(start = \"2018-01-01\", end = \"2020-01-01\",\n",
    "             freq = \"5D\")"
   ],
   "metadata": {
    "collapsed": false,
    "pycharm": {
     "name": "#%%\n"
    }
   }
  },
  {
   "cell_type": "code",
   "execution_count": 70,
   "outputs": [
    {
     "data": {
      "text/plain": "['Day',\n 'BusinessDay',\n 'BDay',\n 'CustomBusinessDay',\n 'CDay',\n 'CBMonthEnd',\n 'CBMonthBegin',\n 'MonthBegin',\n 'BMonthBegin',\n 'MonthEnd']"
     },
     "execution_count": 70,
     "metadata": {},
     "output_type": "execute_result"
    }
   ],
   "source": [
    "# Список временных частот\n",
    "pd.tseries.offsets.__all__[:10]"
   ],
   "metadata": {
    "collapsed": false,
    "pycharm": {
     "name": "#%%\n"
    }
   }
  },
  {
   "cell_type": "markdown",
   "source": [
    "Frequency (частотные интервалы):\n",
    "\n",
    "Alias    Description\n",
    "\n",
    "B        business day frequency\n",
    "\n",
    "C        custom business day frequency\n",
    "\n",
    "**D**        calendar day frequency\n",
    "\n",
    "W        weekly frequency\n",
    "\n",
    "M        month end frequency\n",
    "\n",
    "SM       semi-month end frequency (15th and end of month)\n",
    "\n",
    "BM       business month end frequency\n",
    "\n",
    "CBM      custom business month end frequency\n",
    "\n",
    "MS       month start frequency\n",
    "\n",
    "SMS      semi-month start frequency (1st and 15th)\n",
    "\n",
    "BMS      business month start frequency\n",
    "\n",
    "CBMS     custom business month start frequency\n",
    "\n",
    "**Q**        quarter end frequency\n",
    "\n",
    "BQ       business quarter end frequency\n",
    "\n",
    "QS       quarter start frequency\n",
    "\n",
    "BQS      business quarter start frequency\n",
    "\n",
    "**A, Y**     year end frequency\n",
    "\n",
    "BA, BY   business year end frequency\n",
    "\n",
    "AS, YS   year start frequency\n",
    "\n",
    "BAS, BYS business year start frequency\n",
    "\n",
    "BH       business hour frequency\n",
    "\n",
    "**H**        hourly frequency\n",
    "\n",
    "T, min   minutely frequency\n",
    "\n",
    "**S**        secondly frequency\n",
    "\n",
    "L, ms    milliseconds\n",
    "\n",
    "U, us    microseconds\n",
    "\n",
    "N        nanoseconds"
   ],
   "metadata": {
    "collapsed": false
   }
  },
  {
   "cell_type": "markdown",
   "source": [
    "К каждому частотному интервалу мы можем добавлять числа. Например, двухчасовой интервал - 2H:"
   ],
   "metadata": {
    "collapsed": false
   }
  },
  {
   "cell_type": "code",
   "execution_count": 71,
   "outputs": [
    {
     "data": {
      "text/plain": "DatetimeIndex(['2020-01-01 00:00:00', '2020-01-01 02:00:00',\n               '2020-01-01 04:00:00', '2020-01-01 06:00:00',\n               '2020-01-01 08:00:00', '2020-01-01 10:00:00',\n               '2020-01-01 12:00:00', '2020-01-01 14:00:00',\n               '2020-01-01 16:00:00', '2020-01-01 18:00:00'],\n              dtype='datetime64[ns]', freq='2H')"
     },
     "execution_count": 71,
     "metadata": {},
     "output_type": "execute_result"
    }
   ],
   "source": [
    "pd.date_range(start = \"2020-01-01\", end = \"2020-12-01\",\n",
    "              freq = \"2H\")[:10]"
   ],
   "metadata": {
    "collapsed": false,
    "pycharm": {
     "name": "#%%\n"
    }
   }
  },
  {
   "cell_type": "code",
   "execution_count": 72,
   "outputs": [
    {
     "ename": "ModuleNotFoundError",
     "evalue": "No module named 'pandas_datareader'",
     "output_type": "error",
     "traceback": [
      "\u001B[0;31m---------------------------------------------------------------------------\u001B[0m",
      "\u001B[0;31mModuleNotFoundError\u001B[0m                       Traceback (most recent call last)",
      "\u001B[0;32m<ipython-input-72-d956d10d90a1>\u001B[0m in \u001B[0;36m<module>\u001B[0;34m\u001B[0m\n\u001B[1;32m      1\u001B[0m \u001B[0;31m# Импортируем курс акций Apple\u001B[0m\u001B[0;34m\u001B[0m\u001B[0;34m\u001B[0m\u001B[0;34m\u001B[0m\u001B[0m\n\u001B[0;32m----> 2\u001B[0;31m \u001B[0;32mimport\u001B[0m \u001B[0mpandas_datareader\u001B[0m \u001B[0;32mas\u001B[0m \u001B[0mpdr\u001B[0m\u001B[0;34m\u001B[0m\u001B[0;34m\u001B[0m\u001B[0m\n\u001B[0m\u001B[1;32m      3\u001B[0m apple = pdr.data.DataReader(\"AAPL\", 'yahoo',\n\u001B[1;32m      4\u001B[0m                             \u001B[0mstart\u001B[0m \u001B[0;34m=\u001B[0m \u001B[0;34m\"2000-01-01\"\u001B[0m\u001B[0;34m,\u001B[0m\u001B[0;34m\u001B[0m\u001B[0;34m\u001B[0m\u001B[0m\n\u001B[1;32m      5\u001B[0m                             end = \"2020-12-01\")\n",
      "\u001B[0;31mModuleNotFoundError\u001B[0m: No module named 'pandas_datareader'"
     ]
    }
   ],
   "source": [
    "# Импортируем курс акций Apple\n",
    "import pandas_datareader as pdr\n",
    "apple = pdr.data.DataReader(\"AAPL\", 'yahoo',\n",
    "                            start = \"2000-01-01\",\n",
    "                            end = \"2020-12-01\")\n",
    "apple = apple.reset_index()"
   ],
   "metadata": {
    "collapsed": false,
    "pycharm": {
     "name": "#%%\n"
    }
   }
  },
  {
   "cell_type": "code",
   "execution_count": null,
   "outputs": [],
   "source": [
    "# Вытащить из формата даты день, месяц, год, час и т.д.\n",
    "print(apple['Date'].dt.year[:4])\n",
    "print(apple['Date'].dt.month[:4])\n",
    "print(apple['Date'].dt.day[:4])\n",
    "print(apple['Date'].dt.hour[:4])"
   ],
   "metadata": {
    "collapsed": false,
    "pycharm": {
     "name": "#%%\n"
    }
   }
  },
  {
   "cell_type": "code",
   "execution_count": null,
   "outputs": [],
   "source": [
    "# Преобразовать через strftime\n",
    "import datetime\n",
    "\n",
    "x = datetime.datetime(2018, 9, 15)\n",
    "\n",
    "print(x.strftime(\"%b %d %Y %H:%M:%S\"))\n",
    "\n",
    "print(x.strftime(\"%Y-%m-%d\"))\n",
    "\n",
    "print(x.strftime(\"%Y/%d/%m\"))\n"
   ],
   "metadata": {
    "collapsed": false,
    "pycharm": {
     "name": "#%%\n"
    }
   }
  },
  {
   "cell_type": "markdown",
   "source": [
    "%b: возвращает сокращенный месяц\n",
    "\n",
    "%d: возвращает день в месяце: от 1 до 31.\n",
    "\n",
    "%Y: Возвращает год в 4 значном формате\n",
    "\n",
    "%H: Возвращает час\n",
    "\n",
    "%M: Возврашает минуты\n",
    "\n",
    "%S: Возвращает секунды"
   ],
   "metadata": {
    "collapsed": false
   }
  },
  {
   "cell_type": "code",
   "execution_count": null,
   "outputs": [],
   "source": [
    "# Обратное преобразование в timestamp (можно применять к столбцам пандаса)\n",
    "pd.to_datetime(\"2018/15/09\", format = \"%Y/%d/%m\")"
   ],
   "metadata": {
    "collapsed": false,
    "pycharm": {
     "name": "#%%\n"
    }
   }
  },
  {
   "cell_type": "code",
   "execution_count": null,
   "outputs": [],
   "source": [
    "dti = pd.to_datetime(['Aug 1, 2014',\n",
    "                      '2014-08-02',\n",
    "                      '2014.8.3',\n",
    "                      None])\n",
    "dti"
   ],
   "metadata": {
    "collapsed": false,
    "pycharm": {
     "name": "#%%\n"
    }
   }
  },
  {
   "cell_type": "code",
   "execution_count": null,
   "outputs": [],
   "source": [
    "# Аггрегация временных данных - среднемесячная цены\n",
    "apple.set_index(\"Date\").resample(\"M\")['Close'].mean()[:5]"
   ],
   "metadata": {
    "collapsed": false,
    "pycharm": {
     "name": "#%%\n"
    }
   }
  },
  {
   "cell_type": "code",
   "execution_count": null,
   "outputs": [],
   "source": [
    "# Аггрегация временных данных - максимальная цена\n",
    "apple.set_index(\"Date\").resample(\"M\")['Close'].max()[:10]"
   ],
   "metadata": {
    "collapsed": false,
    "pycharm": {
     "name": "#%%\n"
    }
   }
  },
  {
   "cell_type": "markdown",
   "source": [
    "# 3. Pandas. Часть 3 (слияния датасетов)"
   ],
   "metadata": {
    "collapsed": false
   }
  },
  {
   "cell_type": "code",
   "execution_count": null,
   "outputs": [],
   "source": [
    "# Рассмотрим слияния датасетов на примере данных Всемирного Банка (World Bank)\n",
    "\n",
    "# https://pandas-datareader.readthedocs.io/en/latest/remote_data.html\n",
    "\n",
    "from pandas_datareader import wb\n",
    "# Пример выгрузки данных по показателю доли сельского населения\n",
    "data_wb = wb.download(indicator='NY.GDP.MKTP.CD',\n",
    "                  country= \"all\",\n",
    "                  start=2000, end=2019)\n",
    "\n",
    "dat = data_wb.unstack()\n",
    "dat.columns = dat.columns.droplevel(0) # чтобы избавиться от иерархическоих столбцов\n",
    "# Датафрейм с сопоставлением названий стран и регионов по Всемирному Банку\n",
    "iso =  wb.get_countries()\n",
    "\n",
    "# Здесь еще нужно удалить все регионы, которые не являются отдельными странами\n",
    "\n",
    "# Аггрегированные регионы - не страны\n",
    "region_non_countr = iso[iso['region']=='Aggregates']\n",
    "\n",
    "\n",
    "# Присоединяем трехзначные коды стран\n",
    "dat = dat.join(iso[['iso3c',\"name\"]].set_index(\"name\"))\n",
    "\n",
    "\n",
    "# УДалим страны, для которых почему-то не нашлось сопоставления\n",
    "dat = dat[dat['iso3c'].notna()]\n",
    "\n",
    "# Удаляем все регионы, которые не являются отдельными странами\n",
    "wb_data = dat[~dat['iso3c'].isin(region_non_countr['iso3c'].tolist())].set_index(\n",
    "    \"iso3c\")"
   ],
   "metadata": {
    "collapsed": false,
    "pycharm": {
     "name": "#%%\n"
    }
   }
  },
  {
   "cell_type": "code",
   "execution_count": null,
   "outputs": [],
   "source": [
    "# Посмотреть, какие id относятся к каким показателям по данному запросу\n",
    "matches = wb.search('gdp.*capita.*const')"
   ],
   "metadata": {
    "collapsed": false,
    "pycharm": {
     "name": "#%%\n"
    }
   }
  },
  {
   "cell_type": "code",
   "execution_count": null,
   "outputs": [],
   "source": [
    "# НЕсколько показателей выгрузить\n",
    "data_wb_gdps = wb.download(indicator=['NY.GDP.MKTP.CD', \"NY.GDP.PCAP.KD\"],\n",
    "                  country= \"all\",\n",
    "                  start=2000, end=2019)"
   ],
   "metadata": {
    "collapsed": false,
    "pycharm": {
     "name": "#%%\n"
    }
   }
  },
  {
   "cell_type": "markdown",
   "source": [
    "Краткое описание опций метода **merge** (используем его, когда соединяем датасеты не по индексу, а по названию столбцов).\n",
    "\n",
    "- ***on*** - по какому столбцу соединяем два датасета\n",
    "\n",
    "- ***how*** - внешнее или внутреннее слияние (outer - внешнее - сохраняем все данные по двум датасетам, inner - внутреннее - сохраняем только те значения, которые есть в обоих датасетах, left - только те, что есть в левом датасете, right - только те, что есть в правом датасете)\n",
    "\n",
    "- ***suffixes*** - если в датасетах есть одинаковые столбцы, по которым не происходит слияния, то указываем суффиксы для них. Например, _left, _right\n",
    "\n"
   ],
   "metadata": {
    "collapsed": false
   }
  },
  {
   "cell_type": "code",
   "execution_count": null,
   "outputs": [],
   "source": [
    "iso[['iso2c',\"name\"]].iloc[:10].merge(\n",
    "iso[['iso3c','name']], on = \"name\", how = 'left')"
   ],
   "metadata": {
    "collapsed": false,
    "pycharm": {
     "name": "#%%\n"
    }
   }
  },
  {
   "cell_type": "code",
   "execution_count": null,
   "outputs": [],
   "source": [
    "iso[['iso2c',\"name\"]].iloc[:10].merge(\n",
    "iso[['iso3c','name']].iloc[5:15], on = \"name\", how = 'right')"
   ],
   "metadata": {
    "collapsed": false,
    "pycharm": {
     "name": "#%%\n"
    }
   }
  },
  {
   "cell_type": "code",
   "execution_count": null,
   "outputs": [],
   "source": [
    "iso[['iso2c',\"name\"]].iloc[:10].merge(\n",
    "iso[['iso3c','name']].iloc[5:15], on = \"name\", how = 'outer')"
   ],
   "metadata": {
    "collapsed": false,
    "pycharm": {
     "name": "#%%\n"
    }
   }
  },
  {
   "cell_type": "code",
   "execution_count": null,
   "outputs": [],
   "source": [
    "iso[['iso2c',\"name\"]].iloc[:10].merge(\n",
    "iso[['iso3c','name']].iloc[5:15], on = \"name\", how = 'inner')"
   ],
   "metadata": {
    "collapsed": false,
    "pycharm": {
     "name": "#%%\n"
    }
   }
  },
  {
   "cell_type": "markdown",
   "source": [
    "Метод **join** аналогичен методу **merge** за исключением того, что слияние происходит через индексы датасетов. Также суффиксы можно указывать отдельно для левого и отдельно для правого датасета (rsuffix = , lsuffix = ).\n",
    "\n",
    "**Внимание! По умолчанию у метода join тип - left, а у merge - тип inner.**"
   ],
   "metadata": {
    "collapsed": false
   }
  },
  {
   "cell_type": "code",
   "execution_count": null,
   "outputs": [],
   "source": [
    "iso[['iso2c',\"name\"]].iloc[:10].set_index(\"name\").join(\n",
    "iso[['iso3c','name']].iloc[5:15].set_index(\"name\"))"
   ],
   "metadata": {
    "collapsed": false,
    "pycharm": {
     "name": "#%%\n"
    }
   }
  },
  {
   "cell_type": "code",
   "execution_count": null,
   "outputs": [],
   "source": [
    "iso[['iso2c',\"name\",'incomeLevel']].iloc[:10].set_index(\"name\").join(\n",
    "iso[['iso3c','name', 'incomeLevel']].iloc[5:15].set_index(\"name\"),\n",
    "rsuffix = \"_right\", lsuffix = \"_left\")"
   ],
   "metadata": {
    "collapsed": false,
    "pycharm": {
     "name": "#%%\n"
    }
   }
  },
  {
   "cell_type": "code",
   "execution_count": null,
   "outputs": [],
   "source": [
    "\n",
    "\n"
   ],
   "metadata": {
    "collapsed": false,
    "pycharm": {
     "name": "#%%\n"
    }
   }
  }
 ],
 "metadata": {
  "kernelspec": {
   "display_name": "Python 3",
   "language": "python",
   "name": "python3"
  },
  "language_info": {
   "codemirror_mode": {
    "name": "ipython",
    "version": 2
   },
   "file_extension": ".py",
   "mimetype": "text/x-python",
   "name": "python",
   "nbconvert_exporter": "python",
   "pygments_lexer": "ipython2",
   "version": "2.7.6"
  }
 },
 "nbformat": 4,
 "nbformat_minor": 0
}
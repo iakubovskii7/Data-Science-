{
 "cells": [
  {
   "cell_type": "markdown",
   "source": [
    "# Ключевые нюансы numpy\n",
    "\n",
    "После лекции рекомендуется ознакомиться с решением 100 задачек в numpy:\n",
    "https://pythonworld.ru/numpy/100-exercises.html"
   ],
   "metadata": {
    "collapsed": false
   }
  },
  {
   "cell_type": "code",
   "execution_count": null,
   "outputs": [],
   "source": [
    "import numpy as np\n",
    "# Скорость \n",
    "my_arr = np.arange(1000000)\n",
    "my_list = list(range(1000000))\n",
    "# %timeit for _ in range(10): my_arr2 = my_arr * 2 \n",
    "# %timeit for _ in range(10): my_list2 = list(map(lambda x: x * 2, my_list))"
   ],
   "metadata": {
    "collapsed": false,
    "pycharm": {
     "name": "#%%\n"
    }
   }
  },
  {
   "cell_type": "code",
   "execution_count": null,
   "outputs": [],
   "source": [
    "# Индексация\n",
    "a = np.array([[1,2,3,4], [5,6,7,8], [9,10,11,12]])\n",
    "print(a)\n",
    "print(a[0, 1])\n",
    "print(a[:2, :3])\n",
    "print(a[1:2, 2:3])\n",
    "print(a[1:, 2:])\n",
    "print(a[1, :])    \n",
    "print(a[1:2, :])  \n",
    "print(a[[1], :]) \n",
    "print(a[:, 1])\n",
    "print(a[:, 1:2])"
   ],
   "metadata": {
    "collapsed": false,
    "pycharm": {
     "name": "#%%\n"
    }
   }
  },
  {
   "cell_type": "code",
   "execution_count": null,
   "outputs": [],
   "source": [
    "# Создание различных шаблонных массивов\n",
    "\n",
    "# Нулевой массив \n",
    "print(np.zeros(5))\n",
    "print(np.zeros((2, 4)))\n",
    "print(np.zeros_like([[2,3], [1,5]]))\n",
    "print(np.empty((2, 4)))\n",
    "# Единичный массив\n",
    "print(np.ones(5))\n",
    "print(np.ones((2, 4)))\n",
    "print(np.ones_like([[2,3], [1,5]]))\n",
    "\n",
    "# Одномерный массив целочисленных положительных чисел\n",
    "print(np.arange(15))\n",
    "\n",
    "# Единичный массив / матрица\n",
    "print(np.eye(2))\n",
    "print(np.identity(2))"
   ],
   "metadata": {
    "collapsed": false,
    "pycharm": {
     "name": "#%%\n"
    }
   }
  },
  {
   "cell_type": "code",
   "execution_count": null,
   "outputs": [],
   "source": [
    "# Размерность массивов\n",
    "b = np.array([[1,2,3], [4,5,6], [7,8,9]])\n",
    "print(b.shape)\n",
    "\n",
    "# Изменение размерности (умноженные размерности совпадают)\n",
    "v = np.array([1,2,3]) \n",
    "print(v, \"\\n\", v.reshape(3, 1))\n",
    "\n",
    "print(np.arange(16).reshape(2, 4, 2))\n",
    "print(np.arange(16).reshape(1, 4, 2, 2))\n",
    "\n",
    "# Изменение размерности (новая размерность другая - заполнение нулями)\n",
    "a0 = np.arange(4)\n",
    "a0.resize((8,))\n",
    "print(a0)"
   ],
   "metadata": {
    "collapsed": false,
    "pycharm": {
     "name": "#%%\n"
    }
   }
  },
  {
   "cell_type": "markdown",
   "source": [
    "Numpy позволяет оперировать массивами разных размерностей.\n",
    "Например:"
   ],
   "metadata": {
    "collapsed": false
   }
  },
  {
   "cell_type": "code",
   "execution_count": null,
   "outputs": [],
   "source": [
    "x = np.array([[1,2,3], [4,5,6], [7,8,9], [10, 11, 12]])\n",
    "v = np.array([1, 0, 1])\n",
    "y = np.empty_like(x)   # Создаем пустой массив с той же размерностью\n",
    "\n",
    "# Прибавляем вектор v к каждой строке матрицы x явным циклом\n",
    "for i in range(4):\n",
    "    y[i, :] = x[i, :] + v\n",
    "print(y)"
   ],
   "metadata": {
    "collapsed": false,
    "pycharm": {
     "name": "#%%\n"
    }
   }
  },
  {
   "cell_type": "code",
   "execution_count": null,
   "outputs": [],
   "source": [
    "vv = np.tile(v, (4, 1))  # Стакаем сверху вниз 4 копии v\n",
    "print(vv) \n",
    "y = x + vv  # Складываем два массива\n",
    "print(y)"
   ],
   "metadata": {
    "collapsed": false,
    "pycharm": {
     "name": "#%%\n"
    }
   }
  },
  {
   "cell_type": "markdown",
   "source": [
    "Иллюстрация броадкастинга"
   ],
   "metadata": {
    "collapsed": false
   }
  },
  {
   "cell_type": "code",
   "execution_count": null,
   "outputs": [],
   "source": [
    "x = np.array([[1,2,3], [4,5,6], [7,8,9], [10, 11, 12]])\n",
    "print(x.shape)\n",
    "v = np.array([1, 0, 1])\n",
    "print(v.shape)\n",
    "v4 = np.array([1, 0, 1, 4])\n",
    "y = x + v \n",
    "print(y)"
   ],
   "metadata": {
    "collapsed": false,
    "pycharm": {
     "name": "#%%\n"
    }
   }
  },
  {
   "cell_type": "markdown",
   "source": [
    "**Вывод:** не обязательно приводить массивы к одной размерности для осуществления математических операций. Памятка по броадкастингу:\n",
    "1. Если массивы не имеют одинакового ранга, размерность массива нижнего ранга изменяется с первого до тех пор, пока обе размерности не будут иметь одинаковую длину.\n",
    "2. Считается, что оба массива совместимы в одном измерении, если они имеют одинаковый размер в этом измерении, или если один из массивов имеет размер 1 в этом измерении.\n",
    "3. Массивы могут броадкаститься вместе, если они совместимы во всех измерениях.\n",
    "4. После броадкастинга каждый массив ведет себя так, как если бы он имел размерность, равную элементарному максимуму размерности двух входных массивов.\n",
    "5. В любом измерении, где один массив имеет размер 1, а другой больше 1, первый массив ведет себя так, как если бы он был скопирован по этому измерению.\n",
    "\n",
    "Документация:\n",
    "\n",
    "https://numpy.org/doc/stable/user/basics.broadcasting.html"
   ],
   "metadata": {
    "collapsed": false
   }
  },
  {
   "cell_type": "code",
   "execution_count": null,
   "outputs": [],
   "source": [
    "# Сортировка\n",
    "\n",
    "c = np.array([[4, 3, 5], [1, 2, 1]])\n",
    "print(np.sort(c, axis=1))\n",
    "\n",
    "# Возвращает индексы элементов, которые были отсортированы \n",
    "j = np.argsort(c)\n",
    "print(j)\n",
    "print(c[:, j])"
   ],
   "metadata": {
    "collapsed": false,
    "pycharm": {
     "name": "#%%\n"
    }
   }
  },
  {
   "cell_type": "code",
   "execution_count": null,
   "outputs": [],
   "source": [
    "print(np.array([[1,3,5],[5,4,5],[1,2,10],[5,4,6]]).argpartition(kth = 2, axis = 1))\n",
    "print(np.array([[10,3,5, 3],[5,4,5, 5],[1,2,10, 7],[5,4,6, 15]]).argsort(axis=1))"
   ],
   "metadata": {
    "collapsed": false,
    "pycharm": {
     "name": "#%%\n"
    }
   }
  },
  {
   "cell_type": "code",
   "execution_count": null,
   "outputs": [],
   "source": [
    "# Условия и циклы\n",
    "for i in np.array([[1,2,3],[4,5,6]]):\n",
    "    print(i)\n",
    "names = np.array(['Bob', 'Joe', 'Will', 'Bob', 'Will', 'Joe', 'Joe'])\n",
    "data = np.random.randn(7, 4)\n",
    "print(data)\n",
    "print(data[names == \"Bob\"])\n",
    "print(data[names == 'Bob', 2:])"
   ],
   "metadata": {
    "collapsed": false,
    "pycharm": {
     "name": "#%%\n"
    }
   }
  },
  {
   "cell_type": "code",
   "execution_count": null,
   "outputs": [],
   "source": [
    "# Присвоение по условию (если, то)\n",
    "np.where(data, data>0, 0)"
   ],
   "metadata": {
    "collapsed": false,
    "pycharm": {
     "name": "#%%\n"
    }
   }
  },
  {
   "cell_type": "code",
   "execution_count": null,
   "outputs": [],
   "source": [
    "# Слияние массивов\n",
    "x,y,z = np.arange(1,3), np.arange(3,5), np.arange(5,7)\n",
    "print(np.concatenate([x,y,z]))\n",
    "\n",
    "array2D_1 = np.array([[0, 1, 2],\n",
    "       [3, 4, 5],\n",
    "       [6, 7, 8]])\n",
    "array2D_2 = np.array([[10, 11, 12],\n",
    "       [13, 14, 15],\n",
    "       [16, 17, 18]])\n",
    "\n",
    "# Вертикальное слияние\n",
    "print(f\"Вертикальное : \\n {np.vstack((array2D_1, array2D_2))}\")\n",
    "\n",
    "# Горизонтальное слияние\n",
    "print(f\"Горизонтальное : \\n {np.hstack((array2D_1, array2D_2))}\")"
   ],
   "metadata": {
    "collapsed": false,
    "pycharm": {
     "name": "#%%\n"
    }
   }
  },
  {
   "cell_type": "code",
   "execution_count": null,
   "outputs": [],
   "source": [
    "# Применение функции к разным осям массива\n",
    "m = np.random.randn(3,2)\n",
    "# Сначала указываем функцию, потом по какой оси, а затем указываем сам массив\n",
    "print(np.apply_along_axis(lambda x: sum(x ** 2), 1, m)) \n",
    "print(np.apply_along_axis(lambda x: sum(x ** 2), 0, m)) \n",
    "# Обратим внимание, что у функции может быть только один аргумент - это значения массива из конкретной оси"
   ],
   "metadata": {
    "collapsed": false,
    "pycharm": {
     "name": "#%%\n"
    }
   }
  },
  {
   "cell_type": "code",
   "execution_count": null,
   "outputs": [],
   "source": [
    "# Траблы с округлением при сравнении\n",
    "np.round(0.3, 17) == np.round(3 * 0.1, 17)"
   ],
   "metadata": {
    "collapsed": false,
    "pycharm": {
     "name": "#%%\n"
    }
   }
  },
  {
   "cell_type": "code",
   "execution_count": null,
   "outputs": [],
   "source": [
    "# Используем такую функцию, чтобы проверить, равны ли массивы\n",
    "np.allclose(0.3, 3*0.1)"
   ],
   "metadata": {
    "collapsed": false,
    "pycharm": {
     "name": "#%%\n"
    }
   }
  },
  {
   "cell_type": "code",
   "execution_count": null,
   "outputs": [],
   "source": [
    "# Сетка для графического отображения\n",
    "Z = np.zeros((10,10), [('x',float),('y',float)])\n",
    "Z['x'], Z['y'] = np.meshgrid(np.linspace(0,1,10),\n",
    "                             np.linspace(0,1,10))\n",
    "print(Z[:5, :5])\n",
    "print(Z.shape)"
   ],
   "metadata": {
    "collapsed": false,
    "pycharm": {
     "name": "#%%\n"
    }
   }
  },
  {
   "cell_type": "markdown",
   "source": [
    "# Линейная алгебра"
   ],
   "metadata": {
    "collapsed": false
   }
  },
  {
   "cell_type": "markdown",
   "source": [
    "#### np\n",
    "\n",
    "**diag** - вернуть диагональные (или недиагональные) элементы квадратной матрицы в виде 1D-массива, или преобразовать 1D-массив в квадратную матрицу с нулями на остальных элементах.\n",
    "\n",
    "**dot, @** - матричное умножение\n",
    "\n",
    "**trace** - вычислить сумму диагональных элементов (след матрицы)\n",
    "\n",
    "#### linalg\n",
    "\n",
    "**det** - определитель матрицы.\n",
    "\n",
    "**eig** - вычислить собственные значения и собственные векторы квадратной матрицы.  \n",
    "\n",
    "**inv** - вычислить обратную  матрицу любой квадратной матрицы (определитель должен быть не равен нулю)\n",
    "\n",
    "**svd** - вычислить сингулярное разложение значений (SVD).\n",
    "\n",
    "**solve** решение линейной системы уравнений Ax = b для x, где A - квадратная матрица. \n",
    "\n",
    "**lstsq** - вычислить оценки методом наименьших квадратов для Ax = b"
   ],
   "metadata": {
    "collapsed": false
   }
  },
  {
   "cell_type": "code",
   "execution_count": null,
   "outputs": [],
   "source": [
    "x = np.array([[1,2,3],[4,5,6],[7,8,9]])\n",
    "w, v = np.linalg.eig(x)\n",
    "print(np.allclose(x @ v[:, 0], w[0]*v[:, 0]))"
   ],
   "metadata": {
    "collapsed": false,
    "pycharm": {
     "name": "#%%\n"
    }
   }
  },
  {
   "cell_type": "code",
   "execution_count": null,
   "outputs": [],
   "source": [
    "from numpy.linalg import inv, det\n",
    "mat = np.random.randn(5, 5)\n",
    "print(inv(mat))\n",
    "print(det(mat))"
   ],
   "metadata": {
    "collapsed": false,
    "pycharm": {
     "name": "#%%\n"
    }
   }
  },
  {
   "cell_type": "markdown",
   "source": [
    "# Генеральная совокупность и выборка\n",
    "\n",
    "Допустим, что перед нами стоит задача выявить средний рост жителей Москвы.\n",
    "В идеальном варианте нам нужно измерить абсолютно каждого жителя и посчитать\n",
    "среднее арифметическое. Однако, этот способ довольно затратный и\n",
    "статистики придумали способ попроще.\n",
    "\n",
    "Для решения такой задачи вполне достаточно собрать *репрезентативную выборку*,\n",
    "которая отражает нашу *генеральную совокупность данных* (всех реальных\n",
    "жителей города). Таким образом, реальное распределение роста всех\n",
    "жителей Москвы будет нашим *теоретическим распределением* с некоторым\n",
    "математическим ожиданием, которое и соответствует реальному среднему росту\n",
    "москвичей. Значения роста жителей Москвы по *выборке* будет представлять собой\n",
    "*эмпирическое распределение* роста по нашим наблюдениям, а среднее\n",
    "арифметическое будет являться хорошей оценкой для среднего роста всех\n",
    "жителей.\n",
    "\n",
    "Таким образом, для того, чтобы сделать вывод относительно любой генеральной\n",
    "совокупности, нам достаточно правильно собрать репрезентативную выборку\n",
    "и посчитать все необходимые статистики. Величины в статистике подразделяются\n",
    "на *теоретические* (какие они есть в реальности) и *выборочные* (то, что\n",
    "мы получаем согласно нашим наблюдениям).\n"
   ],
   "metadata": {
    "collapsed": false,
    "pycharm": {
     "name": "#%% md\n"
    }
   }
  },
  {
   "cell_type": "markdown",
   "source": [
    "## Основные характеристики в теории вероятностей\n",
    "\n",
    "В теории вероятностей мы имеем дело с вероятностью события в пространстве\n",
    "элементарных исходов. Отсюда возникает понятие теоретического распределения\n",
    "случайной величины (в примере выше это было распределение роста всех\n",
    "жителей Москвы). Ниже приведем основные числовые характеристики случайных\n",
    "величин."
   ],
   "metadata": {
    "collapsed": false,
    "pycharm": {
     "name": "#%% md\n"
    }
   }
  },
  {
   "cell_type": "markdown",
   "source": [
    "## Основные выборочные характеристики в статистике:\n",
    "\n",
    "$ \\bar{x} = \\frac {\\sum_i {x_i}} {n} $\n",
    "\n",
    "$ \\sigma^2 = \\frac {\\sum_i  {(x_i - \\bar{x})^2}} {n} $\n",
    "\n",
    "$ \\sigma = \\sqrt{\\sigma^2} $\n",
    "\n",
    "$ Cov(x,y) = \\frac{1}{n}\\sum_i  {[(x_i - \\bar{x}) \\cdot (y_i - \\bar{y})]} $ - мера связи между переменными. НО! Ковариация является безразмерной величиной\n",
    "\n",
    "$ Corr(x,y) = \\frac {Cov(x,y)} {\\sigma(x) \\cdot \\sigma(y)} $ - мера тесноты линейной связи между двумя переменными"
   ],
   "metadata": {
    "collapsed": false
   }
  },
  {
   "cell_type": "markdown",
   "source": [
    "##### Всегда помните: КОРРЕЛЯЦИЯ НЕ ОЗНАЧАЕТ ПРИЧИННО-СЛЕДСТВЕННУЮ СВЯЗЬ МЕЖДУ ПЕРЕМЕННЫМИ!!!"
   ],
   "metadata": {
    "collapsed": false
   }
  },
  {
   "cell_type": "code",
   "execution_count": null,
   "outputs": [],
   "source": [
    "# Случайные величины\n",
    "x = np.random.random_sample((1, 100))\n",
    "y = np.random.random_sample((1, 100))\n",
    "\n",
    "print(f\"Выборочное среднее = {x.mean(), y.mean()}\")\n",
    "print(f\"Выборочная дисперсия = {x.var(), y.var()}\")\n",
    "print(f\"Выборочное стандартное отклонение = {x.std(), y.std()}\")"
   ],
   "metadata": {
    "collapsed": false,
    "pycharm": {
     "name": "#%%\n"
    }
   }
  },
  {
   "cell_type": "code",
   "execution_count": null,
   "outputs": [],
   "source": [
    "# Ковариационная матрица\n",
    "np.cov(x, y)"
   ],
   "metadata": {
    "collapsed": false,
    "pycharm": {
     "name": "#%%\n"
    }
   }
  },
  {
   "cell_type": "code",
   "execution_count": null,
   "outputs": [],
   "source": [
    "# Корреляционная матрица\n",
    "np.corrcoef(x, y)\n",
    "\n"
   ],
   "metadata": {
    "collapsed": false,
    "pycharm": {
     "name": "#%%\n"
    }
   }
  },
  {
   "cell_type": "markdown",
   "source": [
    "# Основные распределения в статистике"
   ],
   "metadata": {
    "collapsed": false,
    "pycharm": {
     "name": "#%% md\n"
    }
   }
  },
  {
   "cell_type": "markdown",
   "source": [
    "## Дискретные\n",
    "\n",
    "$  P(X = x) = {n \\mathchoice x} p^x (1-p)^{n-x}, $\n",
    "где ***n*** - количество испытаний, ***p*** - вероятность успеха, ***x*** - количество успешных испытаний (случайная величина)\n",
    "\n"
   ],
   "metadata": {
    "collapsed": false,
    "pycharm": {
     "name": "#%% md\n"
    }
   }
  }
 ],
 "metadata": {
  "kernelspec": {
   "display_name": "Python 3",
   "language": "python",
   "name": "python3"
  },
  "language_info": {
   "codemirror_mode": {
    "name": "ipython",
    "version": 3
   },
   "file_extension": ".py",
   "mimetype": "text/x-python",
   "name": "python",
   "nbconvert_exporter": "python",
   "pygments_lexer": "ipython3",
   "version": "3.8.3"
  },
  "toc": {
   "base_numbering": 1,
   "nav_menu": {},
   "number_sections": true,
   "sideBar": true,
   "skip_h1_title": false,
   "title_cell": "Table of Contents",
   "title_sidebar": "Contents",
   "toc_cell": false,
   "toc_position": {},
   "toc_section_display": true,
   "toc_window_display": false
  },
  "varInspector": {
   "cols": {
    "lenName": 16,
    "lenType": 16,
    "lenVar": 40
   },
   "kernels_config": {
    "python": {
     "delete_cmd_postfix": "",
     "delete_cmd_prefix": "del ",
     "library": "var_list.py",
     "varRefreshCmd": "print(var_dic_list())"
    },
    "r": {
     "delete_cmd_postfix": ") ",
     "delete_cmd_prefix": "rm(",
     "library": "var_list.r",
     "varRefreshCmd": "cat(var_dic_list()) "
    }
   },
   "types_to_exclude": [
    "module",
    "function",
    "builtin_function_or_method",
    "instance",
    "_Feature"
   ],
   "window_display": false
  }
 },
 "nbformat": 4,
 "nbformat_minor": 4
}
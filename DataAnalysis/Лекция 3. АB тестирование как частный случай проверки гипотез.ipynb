{
 "cells": [
  {
   "cell_type": "code",
   "execution_count": null,
   "outputs": [],
   "source": [
    "# Математические функции\n",
    "import math\n",
    "import numpy as np\n",
    "# Графики\n",
    "import seaborn as sns\n",
    "import matplotlib.pyplot as plt\n",
    "plt.rcParams['figure.figsize'] = (15, 7)\n",
    "\n"
   ],
   "metadata": {
    "collapsed": false,
    "pycharm": {
     "name": "#%%\n"
    }
   }
  },
  {
   "cell_type": "markdown",
   "source": [
    "# Центральная предельная теорема\n",
    "\n",
    "Даже если исходная выборка не является нормально распределенной, если мы смоделируем несколько таких случайных выборок и возьмем средние, эти средние величины будут представлять собой **нормальное распределение**.\n",
    "$$ \\sqrt{n} \\frac{\\bar{X_n} - \\mu}{\\sigma} -> N(0,1)$$"
   ],
   "metadata": {
    "collapsed": false,
    "pycharm": {
     "name": "#%% md\n"
    }
   }
  },
  {
   "cell_type": "code",
   "execution_count": 9,
   "outputs": [
    {
     "name": "stdout",
     "output_type": "stream",
     "text": [
      "Среднее значение из выборочных средних = 0.33462445229083776\n",
      "Стандартное отклонение полученных средних = 0.0026322607499039644\n"
     ]
    },
    {
     "data": {
      "text/plain": "<Figure size 360x360 with 1 Axes>",
      "image/png": "[encoded data removed]"
     },
     "metadata": {
      "needs_background": "light"
     },
     "output_type": "display_data"
    }
   ],
   "source": [
    "# Будем генерировать 1000 бета распределений и посмотрим на распределение средних\n",
    "mean_list, n = [], 1000\n",
    "for _ in range(n):\n",
    "    beta = np.random.beta(a=10, b=20, size=100)\n",
    "    mean_list.append(beta.mean())\n",
    "sns.displot(beta);\n",
    "print(f\"Математическое ожидание бета-распределения: a / (a + b) = 0.33\")\n",
    "print(f\"Среднее значение из выборочных средних = {np.mean(beta)}\")\n",
    "print(f\"Стандартное отклонение полученных средних = {np.std(beta) / np.sqrt(n)}\")\n"
   ],
   "metadata": {
    "collapsed": false,
    "pycharm": {
     "name": "#%%\n"
    }
   }
  },
  {
   "cell_type": "markdown",
   "source": [
    "# Закон Больших Чисел\n",
    "При достаточно большом количестве испытаний среднее значение случайной величины будет все ближе к своему теоретическому значению.\n",
    "$$ P(|\\bar{X_n} - \\mu_n| <= \\epsilon) -> 1 $$ $$n -> \\infty$$\n",
    "\n",
    "Пример: будем подбрасывать кубик и смотреть на среднее значение для разного количества испытаний."
   ],
   "metadata": {
    "collapsed": false
   }
  },
  {
   "cell_type": "code",
   "execution_count": null,
   "outputs": [],
   "source": [
    "# Пять подбрасываний\n",
    "print(np.mean([np.random.randint(1,7) for _ in range(5)]))\n",
    "# 50 Подбрасываний\n",
    "print(np.mean([np.random.randint(1,7) for _ in range(50)]))\n",
    "# 500 Подбрасываний\n",
    "print(np.mean([np.random.randint(1,7) for _ in range(500)]))\n",
    "# 5000 Подбрасываний\n",
    "print(np.mean([np.random.randint(1,7) for _ in range(5000)]))\n",
    "# 50000 Подбрасываний\n",
    "print(np.mean([np.random.randint(1,7) for _ in range(50000)]))"
   ],
   "metadata": {
    "collapsed": false,
    "pycharm": {
     "name": "#%%\n"
    }
   }
  },
  {
   "cell_type": "markdown",
   "source": [
    "## PANDAS\n"
   ],
   "metadata": {
    "collapsed": false
   }
  },
  {
   "cell_type": "markdown",
   "source": [
    "Проверка гипотез используется в статистике для опровержения или\n",
    "неопровержения некоторых предположений,\n",
    "выдвигаемых исследователями. Поскольку на практике мы всегда имеем дело\n",
    "с выборкой, а не с самой генеральной совокупностью данных,\n",
    "полученные результаты на основании той или иной выборки могут быть неточны и не всегда воспроизводимы на других выборках.\n",
    "\n",
    "Пример - социальные или медицинские исследования, которые при повторных испытания могут давать различные результаты. \n",
    "\n",
    "https://en.wikipedia.org/wiki/Replication_crisis\n",
    "\n",
    "https://www.nature.com/news/1-500-scientists-lift-the-lid-on-reproducibility-1.19970\n",
    "\n",
    "https://statisticsbyjim.com/hypothesis-testing/reproducibility-p-values/\n",
    "\n",
    "John P. A. Ioannidis - \"Why Most Published Research Findings Are False\", 2005"
   ],
   "metadata": {
    "collapsed": false
   }
  },
  {
   "cell_type": "markdown",
   "source": [
    "# Общая схема проверки гипотез на примере классического АБ-тестирования\n",
    "\n",
    "Допустим, что мы хотим изменить дизайн сайта / приложения и посмотреть\n",
    "экономический эффект от данных изменений. В простом эксперименте мы\n",
    "пускаем юзеров по двум вариантам дизайна (первый - контрольный - вариант\n",
    "без изменений; второй - тестовый - вариант с измененным дизайном).\n",
    "В этой лекции мы не будем подробно останавливаться на том, как\n",
    "правильно конструировать дизайн эксперимента, а разберем лишь теоретические\n",
    "и практические моменты непосредственно тестирования. Про АБ-тесты подробно\n",
    "можно почитать в презентации."
   ],
   "metadata": {
    "collapsed": false,
    "pycharm": {
     "name": "#%% md\n"
    }
   }
  },
  {
   "cell_type": "markdown",
   "source": [
    "###  Общая схема проверки гипотез при АБ тестировании\n",
    "1. Выдвигается нулевая гипотеза **$H_0$** (*эффекта от изменений нет* - разница\n",
    "между средней конверсией/доходом статистически отлична от нуля)\n",
    "и альтернативная гипотеза **$H_1$** (*эффект от изменения есть* -\n",
    "есть существенная разница между средней конверсией / доходом)\n",
    "2. Выбирается **уровень значимости** - вероятность ошибочно обнаружить\n",
    "статистически значимый эффект, когда его на самом деле нет (как правило,\n",
    "это 5% или 0.05 - в 5 случаях из 100 мы совершим эту ошибку)\n",
    "3. На основании собранных данных вычисляем **статистику теста**, которая\n",
    "при определенных предпосылках имеет некоторое **известное распределение**.\n",
    "Для разных метрик мы используем разные статистики\n",
    "4. Вычисляем **p-value** этой статистики (вероятность находиться в\n",
    "центре распределения статистики теста). Если **p-value** превышает уровень значимости,\n",
    "то у нас недостаточно оснований отклонить нулевую гипотезу (эффекта нет).\n",
    "Следовательно, в этом случае новый вариант дизайна не приводит\n",
    "к существенным экономическим изменениям"
   ],
   "metadata": {
    "collapsed": false
   }
  },
  {
   "cell_type": "markdown",
   "source": [
    "#### Ошибки первого и второго рода\n",
    "Если уровень значимости - это ошибка первого рода (***вероятность найти\n",
    "эффект, когда его на самом деле нет***), то ошибка второго рода -\n",
    "это ***вероятность не найти эффект, когда он на самом деле есть).\n",
    "Мощность теста определяется как 1 - ошибка второго рода.\n",
    "Как правило, на тест фиксируют уровень значимости в 5% и мощность в 80%."
   ],
   "metadata": {
    "collapsed": false
   }
  },
  {
   "cell_type": "markdown",
   "source": [
    "## Тесты проверки распределений на нормальность\n",
    "    \n",
    "Обширный список критериев согласия для проверки на нормальность представлен тут:\n",
    "https://docviewer.yandex.ru/view/0/?page=16&*=ChdkZogunLp6fYDwqDsdvXyyJEV7InVybCI6InlhLWRpc2stcHVibGljOi8vNHJ3clVnVmRPYnNDaDNBYlFhSEZWNGFyVW9SeHpMS3pxSHlzemhNUnlOcz0iLCJ0aXRsZSI6ItC60YDQuNGC0LXRgNC40Lgg0L3QvtGA0LzQsNC70YzQvdC%2B0YHRgtC4INCy0YHQtS5wZGYiLCJub2lmcmFtZSI6ZmFsc2UsInVpZCI6IjAiLCJ0cyI6MTYwMjU3ODExMzMyOSwieXUiOiI1MjQ5ODg3NDYxNjAyNTAxNDY1In0%3D\n",
    "\n",
    "    "
   ],
   "metadata": {
    "collapsed": false
   }
  },
  {
   "cell_type": "markdown",
   "source": [
    "Мы, в свою очередь, рассмотрим основные тесты на нормальность, использующиеся в повседневной статистике. "
   ],
   "metadata": {
    "collapsed": false
   }
  },
  {
   "cell_type": "markdown",
   "source": [
    "### Тест Харке-Бера и Шапиро-Уилка\n",
    "Эти тесты проверяют, является ли распределение случайной величины нормальным или нет.\n",
    "\n",
    "Предположения: наблюдения в  выборке независимы и одинаково распределены (iid).\n",
    "\n",
    "$H_0$: распределение нормальное\n",
    "\n",
    "$H_a$: распределение не нормальное "
   ],
   "metadata": {
    "collapsed": false
   }
  },
  {
   "cell_type": "code",
   "execution_count": null,
   "outputs": [],
   "source": [
    "# Тест Шапиро-Уилка\n",
    "from scipy.stats import shapiro\n",
    "# Уровень значимости - 5%\n",
    "alpha = 0.05\n",
    "data = norm.rvs(loc = 1, scale = 1, size = 10)\n",
    "\n",
    "stat_shapiro, p_shapiro = shapiro(data)\n",
    "print('stat_shapiro=%.3f, p_shapiro=%.3f' % (stat_shapiro, p_shapiro))\n",
    "if p_shapiro > alpha:\n",
    "    print('Согласно тесту Шапиро-Уилка на 5% уровне значимости делаем вывод \\\n",
    "в пользу не отвержения нулевой гипотезы - распределение нормальное')\n",
    "else:\n",
    "    print('Согласно тесту Шапиро-Уилка на 5% уровне значимости делаем вывод \\\n",
    "в пользу отвержения нулевой гипотезы \\ - распределение НЕ нормальное')\n",
    "print(\"\\n\")\n",
    "\n",
    "# Тест Харке-Бера\n",
    "from scipy.stats import jarque_bera\n",
    "# Уровень значимости - 5%\n",
    "alpha = 0.05\n",
    "data = norm.rvs(loc = 1, scale = 1, size = 10)\n",
    "\n",
    "stat_jb, p_jb = jarque_bera(data)\n",
    "print('stat_jb=%.3f, p_jb=%.3f' % (stat_jb, p_jb))\n",
    "if p_jb > alpha:\n",
    "    print('Согласно тесту Харке-Бера на 5% уровне значимости делаем вывод \\\n",
    "в пользу не отвержения нулевой гипотезы - распределение нормальное')\n",
    "else:\n",
    "    print('Согласно тесту Харке-Бера на 5% уровне значимости делаем вывод \\\n",
    "в пользу отвержения нулевой гипотезы \\ - распределение НЕ нормальное')\n",
    "print(\"\\n\")\n"
   ],
   "metadata": {
    "collapsed": false,
    "pycharm": {
     "name": "#%%\n"
    }
   }
  },
  {
   "cell_type": "markdown",
   "source": [
    "## 2. Параметрические тесты\n",
    "#### <center>Параметрические тесты используются в ситуации, когда распределение одной или нескольких случайных величин известно. Как правило, в данных тестах требуется выполнение условия нормальности. Бывают как для одной, так и для нескольких переменных.\n",
    "    "
   ],
   "metadata": {
    "collapsed": false
   }
  },
  {
   "cell_type": "markdown",
   "source": [
    "### Тест Стьюдента о равенстве среднего значения определенному значению из генеральной совокупности\n",
    "\n",
    "$H_0$: $\\bar{x} = \\mu$\n",
    "\n",
    "$H_1$: $\\bar{x} \\neq \\mu$\n",
    "\n",
    "$$t_{stat} = \\frac{\\bar{x} - \\mu} {\\sigma / \\sqrt{n}}$$"
   ],
   "metadata": {
    "collapsed": false
   }
  },
  {
   "cell_type": "markdown",
   "source": [
    "### Тест Стьюдента о равенстве средних двух независимых выборок\n"
   ],
   "metadata": {
    "collapsed": false
   }
  },
  {
   "cell_type": "markdown",
   "source": [
    "Проверяет, существенно ли различаются средние значения для двух независимых выборок.\n",
    "\n",
    "Предпосылки:\n",
    "\n",
    "- Наблюдения в каждой выборке независимы и идентично распределены (iid).\n",
    "- Наблюдения в каждой выборке нормально распределены.\n",
    "\n",
    "H0: средние равны\n",
    "\n",
    "H1: средние не равны"
   ],
   "metadata": {
    "collapsed": false
   }
  },
  {
   "cell_type": "markdown",
   "source": [
    "$$ t = \\frac{\\bar{x_1} - \\bar{x_2}} {\\sqrt{s^2_p * (1/n_1 + 1/n_2)}} $$ \n",
    "$$ s^2_p = \\frac{(n_1 - 1)s^2_1 + (n_2 - 1)s^2_2} {n_1 + n_2 - 2}  $$"
   ],
   "metadata": {
    "collapsed": false
   }
  },
  {
   "cell_type": "code",
   "execution_count": null,
   "outputs": [],
   "source": [
    "from scipy.stats import ttest_ind\n",
    "data1 = [0.873, 2.817, 0.121, -0.945, -0.055, -1.436, 0.360, -1.478, -1.637, -1.869]\n",
    "data2 = [1.142, -0.432, -0.938, -0.729, -0.846, -0.157, 0.500, 1.183, -1.075, -0.169]\n",
    "stat, p = ttest_ind(data1, data2)\n",
    "print('stat=%.3f, p=%.3f' % (stat, p))\n",
    "if p > 0.05:\n",
    "    print('Средние равны')\n",
    "else:\n",
    "    print('Средние не равны')"
   ],
   "metadata": {
    "collapsed": false,
    "pycharm": {
     "name": "#%%\n"
    }
   }
  },
  {
   "cell_type": "code",
   "execution_count": null,
   "outputs": [],
   "source": [
    "import numpy as np\n",
    "m1, m2 = np.mean(data1), np.mean(data2)\n",
    "s1, s2 = np.var(data1, ddof = 1), np.var(data2, ddof = 1)\n",
    "n1, n2 = len(data1), len(data2)\n",
    "s2p = ((n1 - 1)*s1 + (n2 - 1)*s2)/(n1 + n2 - 2)\n",
    "t_stat = (m1 - m2) / (np.sqrt(s2p * (1/n1 + 1/n2)))\n",
    "t_stat"
   ],
   "metadata": {
    "collapsed": false,
    "pycharm": {
     "name": "#%%\n"
    }
   }
  },
  {
   "cell_type": "markdown",
   "source": [
    "### Тест на равенство дисперсий двух независимых выборок\n",
    "\n",
    "Проверяет, существенно ли различаются дисперсии значения для двух независимых выборок.\n",
    "\n",
    "Предпосылки:\n",
    "\n",
    "- Наблюдения в каждой выборке независимы и идентично распределены (iid).\n",
    "- Наблюдения в каждой выборке нормально распределены.\n",
    "\n",
    "H0: дисперсии равны\n",
    "\n",
    "H1: дисперсии не равны\n",
    "\n",
    "$$ F_{stat} = \\frac{s_1}{s_2} $$ \n",
    "<center>  vs <center>\n",
    "$$ F_{crit}(\\alpha, n_1-1, n_2-1) $$"
   ],
   "metadata": {
    "collapsed": false
   }
  },
  {
   "cell_type": "code",
   "execution_count": null,
   "outputs": [],
   "source": [
    "F_stat = s1 / s2 \n",
    "from scipy.stats import f as f_\n",
    "F_crit = f_.pdf(0.975, len(data1)-1, len(data2)-1)\n",
    "F_stat > F_crit"
   ],
   "metadata": {
    "collapsed": false,
    "pycharm": {
     "name": "#%%\n"
    }
   }
  },
  {
   "cell_type": "markdown",
   "source": [
    "### Тест Стьюдента равенства средних из двух парных выборок\n",
    "\n",
    "Пример: берем студентов (например, вас) и смотрим как вы сдаете разные экзамены на сессии."
   ],
   "metadata": {
    "collapsed": false
   }
  },
  {
   "cell_type": "markdown",
   "source": [
    "Проверяет, существенно ли различаются средние в двух парных выборках.\n",
    "\n",
    "Предпосылки:\n",
    "\n",
    "- Наблюдения в каждой выборке независимы и идентично распределены (iid).\n",
    "- Наблюдения в каждой выборке нормально распределены.\n",
    "- Наблюдения в каждой выборке являются парными.\n",
    "\n",
    "H0: средние значения равны.\n",
    "\n",
    "H1: средние значения не равны."
   ],
   "metadata": {
    "collapsed": false
   }
  },
  {
   "cell_type": "code",
   "execution_count": null,
   "outputs": [],
   "source": [
    "from scipy.stats import ttest_rel\n",
    "data1 = [0.873, 2.817, 0.121, -0.945, -0.055, -1.436, 0.360, -1.478, -1.637, -1.869]\n",
    "data2 = [1.142, -0.432, -0.938, -0.729, -0.846, -0.157, 0.500, 1.183, -1.075, -0.169]\n",
    "# Проверка равенства дисперсий\n",
    "\n",
    "print(np.var(data1) - np.var(data2))\n",
    "\n",
    "stat, p = ttest_rel(data1, data2)\n",
    "print('stat=%.3f, p=%.3f' % (stat, p))\n",
    "if p > 0.05:\n",
    "    print('Средние равны')\n",
    "else:\n",
    "    print('Средние не равны')"
   ],
   "metadata": {
    "collapsed": false,
    "pycharm": {
     "name": "#%%\n"
    }
   }
  },
  {
   "cell_type": "markdown",
   "source": [
    "### Тест на значимость коэффициента корреляции Пирсона"
   ],
   "metadata": {
    "collapsed": false
   }
  },
  {
   "cell_type": "markdown",
   "source": [
    "Проверяет, значима ли корреляция Пирсона.\n",
    "\n",
    "Предпосылки:\n",
    "\n",
    "- Наблюдения в каждой выборке независимы и одинаково распределены (iid).\n",
    "- Наблюдения в каждой выборке нормально распределены.\n",
    "\n",
    "H0: коэффициент корреляции Пирсона не значимо отличен от нуля\n",
    "\n",
    "H1: коэффициент корреляции Пирсона значимо отличен от нуля"
   ],
   "metadata": {
    "collapsed": false
   }
  },
  {
   "cell_type": "code",
   "execution_count": null,
   "outputs": [],
   "source": [
    "from scipy.stats import pearsonr\n",
    "data1 = [0.873, 2.817, 0.121, -0.945, -0.055, -1.436, 0.360, -1.478, -1.637, -1.869]\n",
    "data2 = [0.353, 3.517, 0.125, -7.545, -0.555, -1.536, 3.350, -1.578, -3.537, -1.579]\n",
    "stat, p,  = pearsonr(data1, data2)\n",
    "corr = np.corrcoef([data1, data2])[0,1]\n",
    "print('stat=%.3f, p=%.3f' % (stat, p))\n",
    "if p > 0.05:\n",
    "    print('Корреляция не значима отлична от нуля на 5% уровне')\n",
    "else:\n",
    "    print(f'Корреляция значима на 5% уровне значимости и равна {corr}')"
   ],
   "metadata": {
    "collapsed": false,
    "pycharm": {
     "name": "#%%\n"
    }
   }
  },
  {
   "cell_type": "markdown",
   "source": [
    "### Применение Хи-квадрат теста для анализа таблиц сопряженности"
   ],
   "metadata": {
    "collapsed": false
   }
  },
  {
   "cell_type": "markdown",
   "source": [
    "Таблица сопряжённости (таблица контингентности, факторная таблица) в статистике — средство представления совместного распределения двух переменных, предназначенное для исследования связи между ними. Таблица сопряжённости является наиболее универсальным средством изучения статистических связей, так как в ней могут быть представлены переменные с любым уровнем измерения. Таблицы сопряжённости часто используются для проверки гипотезы о наличии связи между двумя признаками с использованием точного теста Фишера или критерия согласия Пирсона. Часто применяют в медицине для тестирования работы препаратов.\n",
    "\n",
    "\n",
    "\n",
    "Предпосылки:\n",
    "- Наблюдения, использованные при расчете таблицы сопряженности, являются независимыми.\n",
    "- В каждой ячейке таблицы содержится 25 и более наблюдений.\n",
    "\n",
    "$H_0$: прививка не влияет на заболеваемость\n",
    "\n",
    "$H_1$: прививка влияет на заболеваемость\n",
    "\n",
    "#### Пример Хи-квадрат теста для таблиц сопряженности\n",
    "\n",
    "Допустим, мы хотим узнать, помогает ли людям прививка от холеры. По столбцам таблицы обозначен факт болезни, по строкам - факт прививки.\n",
    "\n",
    "| Прививался или нет \\  Болел - Не болел| Не болел | Болел | Всего |\n",
    "| --- | --- | --- | --- |\n",
    "| Не прививался | 1022 | 11 | 1033|\n",
    "| Прививался| 1625 | 5 | 1630 |\n",
    "| Всего| 2647 | 16 | 2663 |\n"
   ],
   "metadata": {
    "collapsed": false
   }
  },
  {
   "cell_type": "code",
   "execution_count": null,
   "outputs": [],
   "source": [
    "from scipy.stats import chi2_contingency\n",
    "\n",
    "table = [[1022, 11],[1625,  5]]\n",
    "stat, p, dof, expected = chi2_contingency(table)\n",
    "print('stat=%.3f, p=%.3f' % (stat, p))\n",
    "if p > 0.05:\n",
    "    print('Не значимо отлична от нуля на 5% уровне')\n",
    "else:\n",
    "    print('Значимо отлична от нуля на 5% уровне')"
   ],
   "metadata": {
    "collapsed": false,
    "pycharm": {
     "name": "#%%\n"
    }
   }
  },
  {
   "cell_type": "markdown",
   "source": [
    "### Тест на значимость коэффициента регрессии (один коэффициент)\n",
    "Предпосылки:\n",
    "- Выполнены условия Гаусса-Маркова\n",
    "- Ошибки регрессии распределены по нормальному закону\n",
    "\n",
    "$H_0: \\theta=0$\n",
    "\n",
    "$H_1: \\theta \\neq 0$\n",
    "\n",
    "Статистика теста:\n",
    "\n",
    "$ t_{stat} = \\frac{\\hat{\\theta} - \\theta_{H_0}}{s.e.(\\theta)} $, $ t \\in  t_{n-p} $\n",
    "\n",
    "$s.e.(\\theta) = \\sqrt{\\frac{RSS}{(n-p)}} * (X^TX)^{-1}$, $RSS = \\sum_i(y_i - \\hat{y})^2$\n",
    "\n",
    "Если $|t_{stat}| > t_{crit}(\\alpha)$ ->  нулевая гипотеза отвергается в пользу альтернативной "
   ],
   "metadata": {
    "collapsed": false
   }
  },
  {
   "cell_type": "code",
   "execution_count": null,
   "outputs": [],
   "source": [
    "from sklearn.datasets import load_boston \n",
    "y, X = load_boston()['target'], load_boston()['data']\n",
    "# Добавим вектор единиц (модели с константой)\n",
    "X = np.hstack([np.ones([X.shape[0], 1]), X])\n",
    "y_name = 'price'\n",
    "X_names = list(load_boston()['feature_names'])\n",
    "X_names.insert(0,\"const\")\n",
    "\n",
    "# Парная регрессия с первой переменной\n",
    "X_reg = X[:, :2]\n",
    "# Оценки коэффициентов\n",
    "coefs_1 = np.linalg.inv(X_reg.T @ X_reg) @ X_reg.T @ y \n",
    "print(f\"Коэффициенты регрессии равны {coefs_1}\")\n",
    "# Значения, лежащие на подобранной прямой \n",
    "y_fitted = X_reg @ coefs_1\n",
    "RSS = np.sum((y - y_fitted)**2)\n",
    "# Стандартные ошибки\n",
    "print(f\"Стандартные ошибки равны {np.sqrt(RSS / (X_reg.shape[0] - X_reg.shape[1]) * np.linalg.inv(X_reg.T @ X_reg))}\")"
   ],
   "metadata": {
    "collapsed": false,
    "pycharm": {
     "name": "#%%\n"
    }
   }
  },
  {
   "cell_type": "code",
   "execution_count": null,
   "outputs": [],
   "source": [
    "import statsmodels.api as sm\n",
    "model = sm.OLS(endog = y, exog = X[:, :10])\n",
    "results_simple = model.fit()\n",
    "results_simple.summary(xname = X_names[:10])"
   ],
   "metadata": {
    "collapsed": false,
    "pycharm": {
     "name": "#%%\n"
    }
   }
  },
  {
   "cell_type": "markdown",
   "source": [
    "### Тест на совместную значимость коэффициентов регрессии (больше одного коэффициента)"
   ],
   "metadata": {
    "collapsed": false
   }
  },
  {
   "cell_type": "markdown",
   "source": [
    "Предпосылки:\n",
    "- Выполнены условия Гаусса-Маркова\n",
    "- Ошибки регрессии распределены по нормальному закону\n",
    "\n",
    "$H_0: \\theta_1=\\theta_2=\\theta_3=...=\\theta_p=0$\n",
    "\n",
    "$H_1$ :хотя бы один коэффициент не равен нулю\n",
    "\n",
    "Статистика теста:\n",
    "\n",
    "$ F_{stat} = \\frac{(RSS_{H_0} - RSS) / (p-1)} {RSS / (n-p)} $\n",
    "\n",
    "Если $|F_{stat}| > F_{crit}(\\alpha)$ со степенями свободы p-1 и n-p ->  нулевая гипотеза отвергается в пользу альтернативной "
   ],
   "metadata": {
    "collapsed": false
   }
  },
  {
   "cell_type": "code",
   "execution_count": null,
   "outputs": [],
   "source": [
    "# Множественная регрессия с тремя переменными\n",
    "X_reg = X[:, :4]\n",
    "# Оценки коэффициентов\n",
    "coefs_2 = np.linalg.inv(X_reg.T @ X_reg) @ X_reg.T @ y \n",
    "print(f\"Коэффициенты регрессии равны {coefs_2}\")"
   ],
   "metadata": {
    "collapsed": false,
    "pycharm": {
     "name": "#%%\n"
    }
   }
  },
  {
   "cell_type": "code",
   "execution_count": null,
   "outputs": [],
   "source": [
    "# Проверим на совместную значимость две последние переменные "
   ],
   "metadata": {
    "collapsed": false,
    "pycharm": {
     "name": "#%%\n"
    }
   }
  },
  {
   "cell_type": "markdown",
   "source": [
    "# 3. Непараметрические тесты\n",
    "#### <center>Параметрические тесты, как правило, являются более мощными и могут проверить более широкий спектр альтернативных гипотез. Непараметрические тесты, в свою очередь, используются в ситуации, когда распределение одной или нескольких случайных величин не удовлетворяет необходимым предпосылкам. В таком случае применение параметрических тестов будет неверно методологически, что может привести к нашей известной проблеме \"невоспроизводимости результатов\" в будущем. "
   ],
   "metadata": {
    "collapsed": false
   }
  },
  {
   "cell_type": "markdown",
   "source": [
    "### Тест Манна-Уитни о равенстве распределений двух независимых выборок"
   ],
   "metadata": {
    "collapsed": false
   }
  },
  {
   "cell_type": "code",
   "execution_count": null,
   "outputs": [],
   "source": [
    "from scipy.stats import mannwhitneyu\n",
    "data1 = [0.873, 2.817, 0.121, -0.945, -0.055, -1.436, 0.360, -1.478, -1.637, -1.869]\n",
    "data2 = [1.142, -0.432, -0.938, -0.729, -0.846, -0.157, 0.500, 1.183, -1.075, -0.169]\n",
    "stat_mu, p_mu = mannwhitneyu(data1, data2)\n",
    "sns.distplot(data1)\n",
    "sns.distplot(data2)\n",
    "print('stat=%.3f, p=%.3f' % (stat_mu, p_mu))\n",
    "if p_mu > 0.05:\n",
    "    print('Распределения одинаковы')\n",
    "else:\n",
    "    print('Распределения различны')"
   ],
   "metadata": {
    "collapsed": false,
    "pycharm": {
     "name": "#%%\n"
    }
   }
  },
  {
   "cell_type": "markdown",
   "source": [
    "### Тест Уилкоксона о равенстве распределений двух ПАРНЫХ выборок"
   ],
   "metadata": {
    "collapsed": false
   }
  },
  {
   "cell_type": "code",
   "execution_count": null,
   "outputs": [],
   "source": [
    "from scipy.stats import wilcoxon\n",
    "data1 = [0.873, 2.817, 0.121, -0.945, -0.055, -1.436, 0.360, -1.478, -1.637, -1.869]\n",
    "data2 = [1.142, -0.432, -0.938, -0.729, -0.846, -0.157, 0.500, 1.183, -1.075, -0.169]\n",
    "stat_wil, p_wil = wilcoxon(data1, data2)\n",
    "print('stat=%.3f, p=%.3f' % (stat_wil, p_wil))\n",
    "if p_wil > 0.05:\n",
    "    print('Распределения одинаковы')\n",
    "else:\n",
    "    print('Распределения различны')"
   ],
   "metadata": {
    "collapsed": false,
    "pycharm": {
     "name": "#%%\n"
    }
   }
  },
  {
   "cell_type": "markdown",
   "source": [
    "### Тест Крускалла-Уолиса о равенстве распределений двух и более независимых выборок"
   ],
   "metadata": {
    "collapsed": false
   }
  },
  {
   "cell_type": "code",
   "execution_count": null,
   "outputs": [],
   "source": [
    "from scipy.stats import kruskal\n",
    "data1 = [0.873, 2.817, 0.121, -0.945, -0.055, -1.436, 0.360, -1.478, -1.637, -1.869]\n",
    "data2 = [1.142, -0.432, -0.938, -0.729, -0.846, -0.157, 0.500, 1.183, -1.075, -0.169]\n",
    "stat_kru, p_kru = kruskal(data1, data2, data2 * 3, data1 * 4)\n",
    "print('stat=%.3f, p=%.3f' % (stat_kru, p_kru))\n",
    "if p_kru > 0.05:\n",
    "    print('Распределения одинаковы')\n",
    "else:\n",
    "    print('Распределения различны')"
   ],
   "metadata": {
    "collapsed": false,
    "pycharm": {
     "name": "#%%\n"
    }
   }
  },
  {
   "cell_type": "markdown",
   "source": [
    "### Тест Фридмана о равенстве распределений двух и более ПАРНЫХ выборок"
   ],
   "metadata": {
    "collapsed": false
   }
  },
  {
   "cell_type": "code",
   "execution_count": null,
   "outputs": [],
   "source": [
    "from scipy.stats import friedmanchisquare\n",
    "data1 = [0.873, 2.817, 0.121, -0.945, -0.055, -1.436, 0.360, -1.478, -1.637, -1.869]\n",
    "data2 = [1.142, -0.432, -0.938, -0.729, -0.846, -0.157, 0.500, 1.183, -1.075, -0.169]\n",
    "data3 = [-0.208, 0.696, 0.928, -1.148, -0.213, 0.229, 0.137, 0.269, -0.870, -1.204]\n",
    "stat_fri, p_fri = friedmanchisquare(data1, data2, data3)\n",
    "print('stat=%.3f, p=%.3f' % (stat_fri, p_fri))\n",
    "if p > 0.05:\n",
    "    print('Распределения одинаковы')\n",
    "else:\n",
    "    print('Распределения различны')\n"
   ],
   "metadata": {
    "collapsed": false,
    "pycharm": {
     "name": "#%%\n"
    }
   }
  },
  {
   "cell_type": "markdown",
   "source": [
    "### Тест  о значимости ранговой корреляции Спирмэна "
   ],
   "metadata": {
    "collapsed": false
   }
  },
  {
   "cell_type": "code",
   "execution_count": null,
   "outputs": [],
   "source": [
    "from scipy.stats import spearmanr\n",
    "data1 = [0.873, 2.817, 0.121, -0.945, -0.055, -1.436, 0.360, -1.478, -1.637, -1.869]\n",
    "data2 = [1.142, -0.432, -0.938, -0.729, -0.846, -0.157, 0.500, 1.183, -1.075, -0.169]\n",
    "stat, p = spearmanr(data1, data2)\n",
    "print('stat=%.3f, p=%.3f' % (stat, p))\n",
    "if p > 0.05:\n",
    "    print('Ранговая корреляция Спирмэна не значимо отлична от нуля')\n",
    "else:\n",
    "    print('Ранговая корреляция Спирмэна значимо отлична от нуля')"
   ],
   "metadata": {
    "collapsed": false,
    "pycharm": {
     "name": "#%%\n"
    }
   }
  },
  {
   "cell_type": "markdown",
   "source": [
    "# Часть 4. Метод Монте-Карло и бутстрап\n",
    " #### <center> Наличие огромного количества статистических процедур при проверке гипотез с уже зараннее известными распределениями статистик - это, конечно, хорошо. Однако, бывают ситуации, когда при тестировании гипотез распределение статистики зараннее неизвестно. В этом случае приходит на помощь самостоятельное вычисление критических значений статистики при помощи моделирования большого количества выборок с приблизительно тем же набором наблюдений, что и исходная."
   ],
   "metadata": {
    "collapsed": false
   }
  },
  {
   "cell_type": "markdown",
   "source": [
    "### <center> 1. Метод Монте-Карло"
   ],
   "metadata": {
    "collapsed": false
   }
  },
  {
   "cell_type": "markdown",
   "source": [
    "Данный метод использует моделирование большого количества выборок из заданного распределения. Рассмотрим задачу прогнозирования прибыли с продаж для примера из лекции 3."
   ],
   "metadata": {
    "collapsed": false
   }
  },
  {
   "cell_type": "code",
   "execution_count": null,
   "outputs": [],
   "source": [
    "# Количество итераций\n",
    "iterations_monte_carlo = 10000\n",
    "# Вероятные значения цены  - треугольное распределение\n",
    "price = np.random.triangular(5.9, 6, 6.1, size = iterations_monte_carlo)\n",
    "# Вероятные значения объема продаж продукции - нормальное распределение\n",
    "volume = np.random.normal(loc = 802, scale = 25, size = iterations_monte_carlo)\n",
    "# Вероятные значения себестоимости - треугольное распределение\n",
    "costs = np.random.triangular(0.5, 0.55, 0.65, size = iterations_monte_carlo)\n",
    "operat_expenses = np.random.normal(loc = 0.15, scale = 0.02, size = iterations_monte_carlo)\n",
    "\n",
    "# Вероятные значения для прибыли с продаж\n",
    "profits = price * volume * (1 - costs - operat_expenses)\n",
    "# Распределение прибыли с продаж\n",
    "sns.distplot(profits)\n",
    "np.quantile(profits, 0.5)"
   ],
   "metadata": {
    "collapsed": false,
    "pycharm": {
     "name": "#%%\n"
    }
   }
  },
  {
   "cell_type": "markdown",
   "source": [
    "### <center> 2. Бутстрап"
   ],
   "metadata": {
    "collapsed": false
   }
  },
  {
   "cell_type": "markdown",
   "source": [
    "Метод бутстрапа заключается в следующем. Пусть имеется выборка $\\large X$ размера $\\large N$. Равномерно возьмем из выборки $\\large N$ объектов с возвращением. Это означает, что мы будем $\\large N$ раз выбирать произвольный объект выборки (считаем, что каждый объект «достается» с одинаковой вероятностью $\\large \\frac{1}{N}$), причем каждый раз мы выбираем из всех исходных $\\large N$ объектов. Можно представить себе мешок, из которого достают шарики: выбранный на каком-то шаге шарик возвращается обратно в мешок, и следующий выбор опять делается равновероятно из того же числа шариков. Отметим, что из-за возвращения среди них окажутся повторы. Обозначим новую выборку через $\\large X_1$. Повторяя процедуру $\\large M$ раз, сгенерируем $\\large M$ подвыборок $\\large X_1, \\dots, X_M$. Теперь мы имеем достаточно большое число выборок и можем оценивать различные статистики исходного распределения.\n"
   ],
   "metadata": {
    "collapsed": false
   }
  },
  {
   "cell_type": "code",
   "execution_count": null,
   "outputs": [],
   "source": [
    "path_to_images = \"/Users/iakubovskii/Machine_Learning/RANEPA/Data/\"\n",
    "Image(path_to_images + \"bootstrap.jpg\", width = 800)"
   ],
   "metadata": {
    "collapsed": false,
    "pycharm": {
     "name": "#%%\n"
    }
   }
  },
  {
   "cell_type": "markdown",
   "source": [
    "Давайте построим доверительный интервал для среднего значения цены на квартиры в Бостоне.\n"
   ],
   "metadata": {
    "collapsed": false
   }
  },
  {
   "cell_type": "code",
   "execution_count": null,
   "outputs": [],
   "source": [
    "from sklearn.datasets import load_boston\n",
    "price_boston = load_boston()['target']\n",
    "price_boston[:5]"
   ],
   "metadata": {
    "collapsed": false,
    "pycharm": {
     "name": "#%%\n"
    }
   }
  },
  {
   "cell_type": "code",
   "execution_count": null,
   "outputs": [],
   "source": [
    "import numpy as np\n",
    "def get_bootstrap_samples(data, n_samples):\n",
    "    # функция для генерации подвыборок с помощью бутстрэпа\n",
    "    indices = np.random.randint(0, len(data), (n_samples, len(data)))\n",
    "    samples = data[indices]\n",
    "    return samples\n",
    "def stat_intervals(stat, alpha):\n",
    "    # функция для интервальной оценки\n",
    "    boundaries = np.percentile(stat, [100 * alpha / 2., 100 * (1 - alpha / 2.)])\n",
    "    return boundaries\n",
    "\n",
    "# ставим seed для воспроизводимости результатов\n",
    "np.random.seed(0)\n",
    "\n",
    "# генерируем выборки с помощью бутстрэра и сразу считаем по каждой из них среднее\n",
    "boston_price_mean_scores = [np.mean(sample) \n",
    "                       for sample in get_bootstrap_samples(price_boston, 1000)]\n",
    "\n",
    "#  выводим интервальную оценку среднего\n",
    "print(\"Цена на квартиры в Бостоне:  90% доверительный интервал для среднего \\n\",  stat_intervals(boston_price_mean_scores, 0.05))"
   ],
   "metadata": {
    "collapsed": false,
    "pycharm": {
     "name": "#%%\n"
    }
   }
  },
  {
   "cell_type": "code",
   "execution_count": null,
   "outputs": [],
   "source": [],
   "metadata": {
    "collapsed": false,
    "pycharm": {
     "name": "#%%\n"
    }
   }
  }
 ],
 "metadata": {
  "kernelspec": {
   "display_name": "Python 3",
   "language": "python",
   "name": "python3"
  },
  "language_info": {
   "codemirror_mode": {
    "name": "ipython",
    "version": 3
   },
   "file_extension": ".py",
   "mimetype": "text/x-python",
   "name": "python",
   "nbconvert_exporter": "python",
   "pygments_lexer": "ipython3",
   "version": "3.8.3"
  },
  "toc": {
   "base_numbering": 1,
   "nav_menu": {},
   "number_sections": true,
   "sideBar": true,
   "skip_h1_title": false,
   "title_cell": "Table of Contents",
   "title_sidebar": "Contents",
   "toc_cell": false,
   "toc_position": {},
   "toc_section_display": true,
   "toc_window_display": false
  },
  "varInspector": {
   "cols": {
    "lenName": 16,
    "lenType": 16,
    "lenVar": 40
   },
   "kernels_config": {
    "python": {
     "delete_cmd_postfix": "",
     "delete_cmd_prefix": "del ",
     "library": "var_list.py",
     "varRefreshCmd": "print(var_dic_list())"
    },
    "r": {
     "delete_cmd_postfix": ") ",
     "delete_cmd_prefix": "rm(",
     "library": "var_list.r",
     "varRefreshCmd": "cat(var_dic_list()) "
    }
   },
   "types_to_exclude": [
    "module",
    "function",
    "builtin_function_or_method",
    "instance",
    "_Feature"
   ],
   "window_display": false
  }
 },
 "nbformat": 4,
 "nbformat_minor": 4
}
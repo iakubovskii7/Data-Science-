{
 "cells": [
  {
   "cell_type": "markdown",
   "metadata": {
    "collapsed": true,
    "pycharm": {
     "name": "#%% md\n"
    }
   },
   "source": [
    "**Pandas** - основной инструмент работы аналитика на *малых данных*.\n",
    "Сразу отметим, что на *больших данных* у пандаса начинаются проблемы\n",
    "с оперативной памятью и скоростью обработки данных.\n",
    "\n",
    "Практически все основные функции описаны в этой книге:\n",
    "https://github.com/PacktPublishing/Learning-Pandas-Second-Edition\n",
    "\n",
    "В этой лекции рассмотрим основные функции pandas, numpy\n",
    "и нативного Python, которые полезно использовать\n",
    "при работе с данными."
   ]
  },
  {
   "cell_type": "code",
   "execution_count": 2,
   "outputs": [],
   "source": [
    "# Импортируем библиотеки для графиков и вычислений\n",
    "import numpy as np # массивы для быстрых вычислений\n",
    "import pandas as pd  # pandas - для работы с датафреймами\n",
    "\n",
    "import matplotlib.pyplot as plt # классика графиков\n",
    "import seaborn as sns # более красивая классика графиков\n",
    "# https://pyprog.pro/mpl/mpl_magic_teams.html\n",
    "plt.rcParams['figure.figsize'] = (16, 9) # глобально меняем размер графиков\n",
    "\n",
    "# Отключить предупреждения Анаконды\n",
    "import warnings\n",
    "warnings.filterwarnings(\"ignore\")"
   ],
   "metadata": {
    "collapsed": false,
    "pycharm": {
     "name": "#%%\n"
    }
   }
  },
  {
   "cell_type": "code",
   "execution_count": 32,
   "outputs": [
    {
     "ename": "FileNotFoundError",
     "evalue": "[Errno 2] No such file or directory: '../../DataAnalysis/Data/'",
     "output_type": "error",
     "traceback": [
      "\u001B[0;31m---------------------------------------------------------------------------\u001B[0m",
      "\u001B[0;31mFileNotFoundError\u001B[0m                         Traceback (most recent call last)",
      "\u001B[0;32m<ipython-input-32-b136f99e7069>\u001B[0m in \u001B[0;36m<module>\u001B[0;34m\u001B[0m\n\u001B[1;32m      5\u001B[0m \u001B[0;32mimport\u001B[0m \u001B[0mos\u001B[0m \u001B[0;31m# работа с директориями\u001B[0m\u001B[0;34m\u001B[0m\u001B[0;34m\u001B[0m\u001B[0m\n\u001B[1;32m      6\u001B[0m \u001B[0;31m# Установить радочую директорию - по умолчанию Python считывать файлы отсюда\u001B[0m\u001B[0;34m\u001B[0m\u001B[0;34m\u001B[0m\u001B[0;34m\u001B[0m\u001B[0m\n\u001B[0;32m----> 7\u001B[0;31m \u001B[0mos\u001B[0m\u001B[0;34m.\u001B[0m\u001B[0mchdir\u001B[0m\u001B[0;34m(\u001B[0m\u001B[0;34m\"../../DataAnalysis/Data/\"\u001B[0m\u001B[0;34m)\u001B[0m \u001B[0;31m#- меняем рабочую директорию\u001B[0m\u001B[0;34m\u001B[0m\u001B[0;34m\u001B[0m\u001B[0m\n\u001B[0m\u001B[1;32m      8\u001B[0m \u001B[0mdf\u001B[0m \u001B[0;34m=\u001B[0m \u001B[0mpd\u001B[0m\u001B[0;34m.\u001B[0m\u001B[0mread_csv\u001B[0m\u001B[0;34m(\u001B[0m\u001B[0;34m\"athlete_events.csv\"\u001B[0m\u001B[0;34m)\u001B[0m\u001B[0;34m\u001B[0m\u001B[0;34m\u001B[0m\u001B[0m\n\u001B[1;32m      9\u001B[0m \u001B[0;34m\u001B[0m\u001B[0m\n",
      "\u001B[0;31mFileNotFoundError\u001B[0m: [Errno 2] No such file or directory: '../../DataAnalysis/Data/'"
     ]
    }
   ],
   "source": [
    "\n",
    "# Импорт файла\n",
    "\n",
    "\n",
    "\n",
    "import os # работа с директориями\n",
    "# Установить радочую директорию - по умолчанию Python считывать файлы отсюда\n",
    "os.chdir(\"../../DataAnalysis/Data/\") #- меняем рабочую директорию\n",
    "df = pd.read_csv(\"athlete_events.csv\")\n",
    "\n",
    "#  Мы импортировали датасет с результатами олимпийских игр"
   ],
   "metadata": {
    "collapsed": false,
    "pycharm": {
     "name": "#%%\n"
    }
   }
  },
  {
   "cell_type": "code",
   "execution_count": 29,
   "outputs": [
    {
     "data": {
      "text/plain": "['Антон Филиппов_Проверено(71).ipynb',\n 'ДЗ Наумова ФинТех_Проверено(47).ipynb',\n 'ЗагарнюкЕМ_ДЗ_1_Проверено(98)Общий код с кем-то.ipynb',\n 'Домашнее задание 1_Царева_Проверено(78).ipynb',\n 'Homework Krasikov E_Проверено(65).ipynb',\n 'Суван ООЛ Орлан_Проверено(40).ipynb',\n 'Pustovarov_home01_Проверено(82).ipynb',\n 'Панчук Александр Сергеевич_Проверено(50).ipynb',\n 'Froltsov_Homework_Проверено(94).ipynb',\n 'Мария_Базуева_Проверено(98).ipynb',\n 'Пашинина Т_Проверено(85).ipynb',\n 'olympic_games.txt',\n 'Домашнее задание 1_МонгушТА_Проверено(80).ipynb',\n 'Домаш_работа_Хомушку_ГА_3(просрочена)_\\xa0Проверена(58).ipynb',\n 'Алексей Каленов_Проверено(40).ipynb',\n 'athlete_events.csv',\n 'ДЗ Каширин_Проверено (общий код с Красиковым).ipynb',\n 'Seleznev_HW1_Проверено(98).ipynb',\n 'Братков Финтех_Проверено(88)_Общий код с Селезневым.ipynb',\n 'Kuzmin Homework 1_Проверено(100).ipynb',\n 'ДЗ Мурадян (1)_Проверено (Общий код с Красиковым).ipynb',\n 'Дом задание 1 Карасева Алина_Проверено(87).ipynb',\n 'Федор_Валл_Проверено(100).ipynb',\n 'Домашнее задание Хамитов Давид_Проверено(68).ipynb',\n 'Kosinov DZ1_Проверено(90).ipynb',\n 'Домашнее задание 1.ipynb',\n 'Anna_Egorova_Homework_Проверено(52).ipynb']"
     },
     "execution_count": 29,
     "metadata": {},
     "output_type": "execute_result"
    }
   ],
   "source": [
    "# glob - посмотреть на все файлы с нужными расширениями\n",
    "import glob\n",
    "glob.glob(\"*.csv\") # все csv файлы в рабочей директории\n",
    "\n",
    "glob.glob(\"*.ipynb\") # все тетрадки\n",
    "\n",
    "glob.glob(\"*\")  # все файлы"
   ],
   "metadata": {
    "collapsed": false,
    "pycharm": {
     "name": "#%%\n"
    }
   }
  },
  {
   "cell_type": "code",
   "execution_count": 4,
   "outputs": [],
   "source": [],
   "metadata": {
    "collapsed": false,
    "pycharm": {
     "name": "#%%\n"
    }
   }
  },
  {
   "cell_type": "markdown",
   "source": [
    "# 1. Контейнеры: списки, кортежи, множества, словари"
   ],
   "metadata": {
    "collapsed": false
   }
  },
  {
   "cell_type": "code",
   "execution_count": 4,
   "outputs": [],
   "source": [],
   "metadata": {
    "collapsed": false,
    "pycharm": {
     "name": "#%%\n"
    }
   }
  },
  {
   "cell_type": "code",
   "execution_count": 20,
   "outputs": [
    {
     "name": "stdout",
     "output_type": "stream",
     "text": [
      "['Abdul Aziz Hassan Al-Hadba Abdul Karim Abdul Kareem', 'Abdul Aziz Hassan Al-Hadba Abdul Karim Abdul Kareem', 'Edith Addams de Habbelinck (-Lutjens, -Taylor, -Bel Geddes)']\n"
     ]
    }
   ],
   "source": [
    "name_list = df['Name'].tolist() # Из пандаса в список\n",
    "\n",
    "len(name_list) # Длина списка\n",
    "\n",
    "sports_len_bigger_50 = [i for i in name_list if len(i)>50] # Вытащим спортсменов с длиной полного имени больше 50 (list comprehension)\n",
    "print(sports_len_bigger_50[:3])"
   ],
   "metadata": {
    "collapsed": false,
    "pycharm": {
     "name": "#%%\n"
    }
   }
  },
  {
   "cell_type": "code",
   "execution_count": 19,
   "outputs": [
    {
     "name": "stdout",
     "output_type": "stream",
     "text": [
      "[12, 12, 12, 12, 12, 12, 34, 34, 16, 30]\n"
     ]
    }
   ],
   "source": [
    "# Применяем анонимную функцию длины строки к списку. Данная функция применяется к каждому элементу списка.\n",
    "# Здесь x - каждый элемент списка\n",
    "count_A = list(map(lambda x: len(x), name_list))\n",
    "print(count_A[20:30])"
   ],
   "metadata": {
    "collapsed": false,
    "pycharm": {
     "name": "#%%\n"
    }
   }
  },
  {
   "cell_type": "code",
   "execution_count": 7,
   "outputs": [
    {
     "name": "stdout",
     "output_type": "stream",
     "text": [
      "['A', 'Dijiang']\n"
     ]
    },
    {
     "data": {
      "text/plain": "'A Diijiiang'"
     },
     "execution_count": 7,
     "metadata": {},
     "output_type": "execute_result"
    }
   ],
   "source": [
    "# Операции с текстовыми переменными\n",
    "name_0 = name_list[0] # вытащим первый элемент списка\n",
    "\n",
    "print(name_0.split(\" \")) # разобьем данную переменную на два элемента при помощи разделителя \"пробел\"\n",
    "\n",
    "name_0.replace(\"i\", \"ii\") # заменим букву i на двойную i"
   ],
   "metadata": {
    "collapsed": false,
    "pycharm": {
     "name": "#%%\n"
    }
   }
  },
  {
   "cell_type": "code",
   "execution_count": 8,
   "outputs": [
    {
     "name": "stdout",
     "output_type": "stream",
     "text": [
      "Длина списка = 271116, длина множества из этого списка = 134732\n"
     ]
    }
   ],
   "source": [
    "# Множества - уникальный список (список, где не повторяются элементы)\n",
    "set(name_list)\n",
    "# f-string\n",
    " # сравним длину списка с длиной множества, для данного списка\n",
    "print(f\"Длина списка = {len(name_list)}, длина множества из этого списка = {len(set(name_list))}\")\n"
   ],
   "metadata": {
    "collapsed": false,
    "pycharm": {
     "name": "#%%\n"
    }
   }
  },
  {
   "cell_type": "code",
   "execution_count": 23,
   "outputs": [
    {
     "data": {
      "text/plain": "[('A Dijiang', 9),\n ('A Lamusi', 8),\n ('Gunnar Nielsen Aaby', 19),\n ('Edgar Lindenau Aabye', 20),\n ('Christine Jacoba Aaftink', 24)]"
     },
     "execution_count": 23,
     "metadata": {},
     "output_type": "execute_result"
    }
   ],
   "source": [
    "# Словарик из двух списков через zip. Ключ - имя, значение - длина имени.\n",
    "# Найдем длину имени\n",
    "# 1 способ - list comprehension\n",
    "name_list_len = [len(i) for i in name_list]\n",
    "# 2 способ - через map с лямбдой\n",
    "name_list_len = list(map(lambda x: len(x), name_list))\n",
    "# 3 способ - через map без лямбды\n",
    "name_list_len = list(map(len, name_list))\n",
    "\n",
    "# Соединяем через zip\n",
    "dict_name_len = dict(zip(name_list, name_list_len))\n",
    "# Вытащим первые пять пар ключ-значения из полученного словаря\n",
    "from itertools import islice\n",
    "\n",
    "def take(n, iterable):\n",
    "    \"Return first n items of the iterable as a list\"\n",
    "    return list(islice(iterable, n))\n",
    "\n",
    "\n",
    "take(5, dict_name_len.items())"
   ],
   "metadata": {
    "collapsed": false,
    "pycharm": {
     "name": "#%%\n"
    }
   }
  },
  {
   "cell_type": "code",
   "execution_count": 25,
   "outputs": [
    {
     "data": {
      "text/plain": "[('A Dijiang', 9),\n ('A Lamusi', 8),\n ('Rolf Aas', 8),\n ('Luc Abalo', 9),\n ('Pter Abay', 9)]"
     },
     "execution_count": 25,
     "metadata": {},
     "output_type": "execute_result"
    }
   ],
   "source": [
    "keys = dict_name_len.keys() # вытащить все ключи\n",
    "values = dict_name_len.values() # вытащить все значения\n",
    "items = dict_name_len.items()# вытащить ключ-значение\n",
    "# Dict comprehension - filter\n",
    "short_names = {k: v for k, v in items if v < 10}\n",
    "take(5, short_names.items())"
   ],
   "metadata": {
    "collapsed": false,
    "pycharm": {
     "name": "#%%\n"
    }
   }
  },
  {
   "cell_type": "markdown",
   "source": [
    "# 2. Numpy\n",
    "\n",
    "Векторизованные массивы для ускоренных вычислений."
   ],
   "metadata": {
    "collapsed": false
   }
  },
  {
   "cell_type": "code",
   "execution_count": 11,
   "outputs": [],
   "source": [
    "# Перейдем из пандаса-сериес к массиву (несколько способов) - векторизация столбцов\n",
    "age = df['Age'].values\n",
    "age = np.array(df['Age'])\n",
    "age_not_nan = df['Age'].dropna().values\n",
    "\n",
    "height_not_nan = df['Height'].dropna().values\n",
    "\n",
    "age_fill_nan = df['Age'].fillna(df['Age'].mean()).values\n",
    "\n",
    "height_fill_nan = df['Height'].fillna(df['Height'].mean()).values"
   ],
   "metadata": {
    "collapsed": false,
    "pycharm": {
     "name": "#%%\n"
    }
   }
  },
  {
   "cell_type": "code",
   "execution_count": 12,
   "outputs": [
    {
     "name": "stdout",
     "output_type": "stream",
     "text": [
      "(271116,)\n",
      "(271116, 1)\n"
     ]
    }
   ],
   "source": [
    "# Размерность\n",
    "print(age.shape) # размерность массива - нет столбцов и строк, а есть только число элементов\n",
    "\n",
    "# Поэтому зачастую нам нужно явно указать, что у нас матрица с 1 столбцом\n",
    "age = age.reshape(-1, 1)\n",
    "\n",
    "# Посмотрим на новую размерность\n",
    "print(age.shape)"
   ],
   "metadata": {
    "collapsed": false,
    "pycharm": {
     "name": "#%%\n"
    }
   }
  },
  {
   "cell_type": "code",
   "execution_count": 13,
   "outputs": [
    {
     "data": {
      "text/plain": "array([[ 24.,  23.,  24., ...,  27.,  30.,  34.],\n       [180., 170.,  nan, ..., 176., 185., 185.]])"
     },
     "execution_count": 13,
     "metadata": {},
     "output_type": "execute_result"
    }
   ],
   "source": [
    "# Транспонирование\n",
    "age_height = df[['Age',\"Height\"]].values\n",
    "age_height.T"
   ],
   "metadata": {
    "collapsed": false,
    "pycharm": {
     "name": "#%%\n"
    }
   }
  },
  {
   "cell_type": "code",
   "execution_count": 14,
   "outputs": [
    {
     "data": {
      "text/plain": "array([[ 24., 180.,   1.],\n       [ 23., 170.,   1.],\n       [ 24.,  nan,   1.],\n       ...,\n       [ 27., 176.,   1.],\n       [ 30., 185.,   1.],\n       [ 34., 185.,   1.]])"
     },
     "execution_count": 14,
     "metadata": {},
     "output_type": "execute_result"
    }
   ],
   "source": [
    "# Объединяем массивы\n",
    "np.hstack([age_height, age]) # если нам нужно добавить столбец\n",
    "np.vstack([age_height[1:100], age_height[101:200]]) # если нужно добавить строки\n",
    "# Еще один способ\n",
    "np.c_[age_height, np.ones(age_height.shape[0]).reshape(-1,1)] # так же как hstack"
   ],
   "metadata": {
    "collapsed": false,
    "pycharm": {
     "name": "#%%\n"
    }
   }
  },
  {
   "cell_type": "code",
   "execution_count": 26,
   "outputs": [
    {
     "data": {
      "text/plain": "            ID                      Name Sex   Age  Height  Weight  \\\n0            1                 A Dijiang   M  24.0   180.0    80.0   \n1            2                  A Lamusi   M  23.0   170.0    60.0   \n2            3       Gunnar Nielsen Aaby   M  24.0     NaN     NaN   \n3            4      Edgar Lindenau Aabye   M  34.0     NaN     NaN   \n4            5  Christine Jacoba Aaftink   F  21.0   185.0    82.0   \n...        ...                       ...  ..   ...     ...     ...   \n271111  135569                Andrzej ya   M  29.0   179.0    89.0   \n271112  135570                  Piotr ya   M  27.0   176.0    59.0   \n271113  135570                  Piotr ya   M  27.0   176.0    59.0   \n271114  135571        Tomasz Ireneusz ya   M  30.0   185.0    96.0   \n271115  135571        Tomasz Ireneusz ya   M  34.0   185.0    96.0   \n\n                  Team  NOC        Games  Year  Season            City  \\\n0                China  CHN  1992 Summer  1992  Summer       Barcelona   \n1                China  CHN  2012 Summer  2012  Summer          London   \n2              Denmark  DEN  1920 Summer  1920  Summer       Antwerpen   \n3       Denmark/Sweden  DEN  1900 Summer  1900  Summer           Paris   \n4          Netherlands  NED  1988 Winter  1988  Winter         Calgary   \n...                ...  ...          ...   ...     ...             ...   \n271111        Poland-1  POL  1976 Winter  1976  Winter       Innsbruck   \n271112          Poland  POL  2014 Winter  2014  Winter           Sochi   \n271113          Poland  POL  2014 Winter  2014  Winter           Sochi   \n271114          Poland  POL  1998 Winter  1998  Winter          Nagano   \n271115          Poland  POL  2002 Winter  2002  Winter  Salt Lake City   \n\n                Sport                                     Event Medal  \n0          Basketball               Basketball Men's Basketball   NaN  \n1                Judo              Judo Men's Extra-Lightweight   NaN  \n2            Football                   Football Men's Football   NaN  \n3          Tug-Of-War               Tug-Of-War Men's Tug-Of-War  Gold  \n4       Speed Skating          Speed Skating Women's 500 metres   NaN  \n...               ...                                       ...   ...  \n271111           Luge                Luge Mixed (Men)'s Doubles   NaN  \n271112    Ski Jumping  Ski Jumping Men's Large Hill, Individual   NaN  \n271113    Ski Jumping        Ski Jumping Men's Large Hill, Team   NaN  \n271114      Bobsleigh                      Bobsleigh Men's Four   NaN  \n271115      Bobsleigh                      Bobsleigh Men's Four   NaN  \n\n[271116 rows x 15 columns]",
      "text/html": "<div>\n<style scoped>\n    .dataframe tbody tr th:only-of-type {\n        vertical-align: middle;\n    }\n\n    .dataframe tbody tr th {\n        vertical-align: top;\n    }\n\n    .dataframe thead th {\n        text-align: right;\n    }\n</style>\n<table border=\"1\" class=\"dataframe\">\n  <thead>\n    <tr style=\"text-align: right;\">\n      <th></th>\n      <th>ID</th>\n      <th>Name</th>\n      <th>Sex</th>\n      <th>Age</th>\n      <th>Height</th>\n      <th>Weight</th>\n      <th>Team</th>\n      <th>NOC</th>\n      <th>Games</th>\n      <th>Year</th>\n      <th>Season</th>\n      <th>City</th>\n      <th>Sport</th>\n      <th>Event</th>\n      <th>Medal</th>\n    </tr>\n  </thead>\n  <tbody>\n    <tr>\n      <th>0</th>\n      <td>1</td>\n      <td>A Dijiang</td>\n      <td>M</td>\n      <td>24.0</td>\n      <td>180.0</td>\n      <td>80.0</td>\n      <td>China</td>\n      <td>CHN</td>\n      <td>1992 Summer</td>\n      <td>1992</td>\n      <td>Summer</td>\n      <td>Barcelona</td>\n      <td>Basketball</td>\n      <td>Basketball Men's Basketball</td>\n      <td>NaN</td>\n    </tr>\n    <tr>\n      <th>1</th>\n      <td>2</td>\n      <td>A Lamusi</td>\n      <td>M</td>\n      <td>23.0</td>\n      <td>170.0</td>\n      <td>60.0</td>\n      <td>China</td>\n      <td>CHN</td>\n      <td>2012 Summer</td>\n      <td>2012</td>\n      <td>Summer</td>\n      <td>London</td>\n      <td>Judo</td>\n      <td>Judo Men's Extra-Lightweight</td>\n      <td>NaN</td>\n    </tr>\n    <tr>\n      <th>2</th>\n      <td>3</td>\n      <td>Gunnar Nielsen Aaby</td>\n      <td>M</td>\n      <td>24.0</td>\n      <td>NaN</td>\n      <td>NaN</td>\n      <td>Denmark</td>\n      <td>DEN</td>\n      <td>1920 Summer</td>\n      <td>1920</td>\n      <td>Summer</td>\n      <td>Antwerpen</td>\n      <td>Football</td>\n      <td>Football Men's Football</td>\n      <td>NaN</td>\n    </tr>\n    <tr>\n      <th>3</th>\n      <td>4</td>\n      <td>Edgar Lindenau Aabye</td>\n      <td>M</td>\n      <td>34.0</td>\n      <td>NaN</td>\n      <td>NaN</td>\n      <td>Denmark/Sweden</td>\n      <td>DEN</td>\n      <td>1900 Summer</td>\n      <td>1900</td>\n      <td>Summer</td>\n      <td>Paris</td>\n      <td>Tug-Of-War</td>\n      <td>Tug-Of-War Men's Tug-Of-War</td>\n      <td>Gold</td>\n    </tr>\n    <tr>\n      <th>4</th>\n      <td>5</td>\n      <td>Christine Jacoba Aaftink</td>\n      <td>F</td>\n      <td>21.0</td>\n      <td>185.0</td>\n      <td>82.0</td>\n      <td>Netherlands</td>\n      <td>NED</td>\n      <td>1988 Winter</td>\n      <td>1988</td>\n      <td>Winter</td>\n      <td>Calgary</td>\n      <td>Speed Skating</td>\n      <td>Speed Skating Women's 500 metres</td>\n      <td>NaN</td>\n    </tr>\n    <tr>\n      <th>...</th>\n      <td>...</td>\n      <td>...</td>\n      <td>...</td>\n      <td>...</td>\n      <td>...</td>\n      <td>...</td>\n      <td>...</td>\n      <td>...</td>\n      <td>...</td>\n      <td>...</td>\n      <td>...</td>\n      <td>...</td>\n      <td>...</td>\n      <td>...</td>\n      <td>...</td>\n    </tr>\n    <tr>\n      <th>271111</th>\n      <td>135569</td>\n      <td>Andrzej ya</td>\n      <td>M</td>\n      <td>29.0</td>\n      <td>179.0</td>\n      <td>89.0</td>\n      <td>Poland-1</td>\n      <td>POL</td>\n      <td>1976 Winter</td>\n      <td>1976</td>\n      <td>Winter</td>\n      <td>Innsbruck</td>\n      <td>Luge</td>\n      <td>Luge Mixed (Men)'s Doubles</td>\n      <td>NaN</td>\n    </tr>\n    <tr>\n      <th>271112</th>\n      <td>135570</td>\n      <td>Piotr ya</td>\n      <td>M</td>\n      <td>27.0</td>\n      <td>176.0</td>\n      <td>59.0</td>\n      <td>Poland</td>\n      <td>POL</td>\n      <td>2014 Winter</td>\n      <td>2014</td>\n      <td>Winter</td>\n      <td>Sochi</td>\n      <td>Ski Jumping</td>\n      <td>Ski Jumping Men's Large Hill, Individual</td>\n      <td>NaN</td>\n    </tr>\n    <tr>\n      <th>271113</th>\n      <td>135570</td>\n      <td>Piotr ya</td>\n      <td>M</td>\n      <td>27.0</td>\n      <td>176.0</td>\n      <td>59.0</td>\n      <td>Poland</td>\n      <td>POL</td>\n      <td>2014 Winter</td>\n      <td>2014</td>\n      <td>Winter</td>\n      <td>Sochi</td>\n      <td>Ski Jumping</td>\n      <td>Ski Jumping Men's Large Hill, Team</td>\n      <td>NaN</td>\n    </tr>\n    <tr>\n      <th>271114</th>\n      <td>135571</td>\n      <td>Tomasz Ireneusz ya</td>\n      <td>M</td>\n      <td>30.0</td>\n      <td>185.0</td>\n      <td>96.0</td>\n      <td>Poland</td>\n      <td>POL</td>\n      <td>1998 Winter</td>\n      <td>1998</td>\n      <td>Winter</td>\n      <td>Nagano</td>\n      <td>Bobsleigh</td>\n      <td>Bobsleigh Men's Four</td>\n      <td>NaN</td>\n    </tr>\n    <tr>\n      <th>271115</th>\n      <td>135571</td>\n      <td>Tomasz Ireneusz ya</td>\n      <td>M</td>\n      <td>34.0</td>\n      <td>185.0</td>\n      <td>96.0</td>\n      <td>Poland</td>\n      <td>POL</td>\n      <td>2002 Winter</td>\n      <td>2002</td>\n      <td>Winter</td>\n      <td>Salt Lake City</td>\n      <td>Bobsleigh</td>\n      <td>Bobsleigh Men's Four</td>\n      <td>NaN</td>\n    </tr>\n  </tbody>\n</table>\n<p>271116 rows × 15 columns</p>\n</div>"
     },
     "execution_count": 26,
     "metadata": {},
     "output_type": "execute_result"
    }
   ],
   "source": [
    "# Статистики (одна переменная). Помним, что в случае присутствия nan - выдаст nan как результат\n",
    "print(np.nanmean(age), np.nanstd(age), np.nanvar(age))\n",
    "\n",
    "# Нет nan\n",
    "print(np.mean(age_not_nan), np.std(age_not_nan), np.var(age_not_nan))\n",
    "print(\"-\"*100)\n",
    "# Статистики (две переменные)\n",
    "\n",
    "# Ковариация\n",
    "print(np.cov(np.hstack([age_fill_nan.reshape(-1,1),\n",
    "                            height_fill_nan.reshape(-1,1)]).T))\n",
    "print(\"-\"*100)\n",
    "# Корреляция\n",
    "print(np.corrcoef(np.hstack([age_fill_nan.reshape(-1,1),\n",
    "                            height_fill_nan.reshape(-1,1)]).T))"
   ],
   "metadata": {
    "collapsed": false,
    "pycharm": {
     "name": "#%%\n"
    }
   }
  },
  {
   "cell_type": "code",
   "execution_count": null,
   "outputs": [],
   "source": [
    "np.hstack([age_fill_nan.reshape(-1,1),\n",
    "                            height_fill_nan.reshape(-1,1)]).T"
   ],
   "metadata": {
    "collapsed": false,
    "pycharm": {
     "name": "#%%\n"
    }
   }
  },
  {
   "cell_type": "code",
   "execution_count": null,
   "outputs": [],
   "source": [
    "# Квантили\n",
    "print(np.percentile(age_fill_nan, [1,5,10,25,50,75,95,99]))\n",
    "print(\"-\"*100)\n",
    "\n",
    "# Квантили вручную\n",
    "# Количество людей возраста 15 и менее лет делить на общее количество людей\n",
    "print(age_fill_nan[age_fill_nan<=15].shape[0] / age_fill_nan.shape[0])\n",
    "\n",
    "# Количество людей возраста 19 и менее лет делить на общее количество людей\n",
    "print(age_fill_nan[age_fill_nan<=19].shape[0] / age_fill_nan.shape[0])\n",
    "\n",
    "# Медиана - 50% квантиль\n",
    "print(f\"Количество людей в возрасте менее 25 лет = {age_fill_nan[age_fill_nan<=25].shape[0]}\")\n",
    "\n",
    "print(f\"Количество людей в возрасте более 25 лет = {age_fill_nan[age_fill_nan>=25].shape[0]}\")\n",
    "\n"
   ],
   "metadata": {
    "collapsed": false,
    "pycharm": {
     "name": "#%%\n"
    }
   }
  },
  {
   "cell_type": "code",
   "execution_count": null,
   "outputs": [],
   "source": [],
   "metadata": {
    "collapsed": false,
    "pycharm": {
     "name": "#%%\n"
    }
   }
  },
  {
   "cell_type": "markdown",
   "source": [
    "# 3. Pandas. Часть 1"
   ],
   "metadata": {
    "collapsed": false
   }
  },
  {
   "cell_type": "code",
   "execution_count": null,
   "outputs": [],
   "source": [],
   "metadata": {
    "collapsed": false,
    "pycharm": {
     "name": "#%%\n"
    }
   }
  }
 ],
 "metadata": {
  "kernelspec": {
   "display_name": "Python 3",
   "language": "python",
   "name": "python3"
  },
  "language_info": {
   "codemirror_mode": {
    "name": "ipython",
    "version": 2
   },
   "file_extension": ".py",
   "mimetype": "text/x-python",
   "name": "python",
   "nbconvert_exporter": "python",
   "pygments_lexer": "ipython2",
   "version": "2.7.6"
  }
 },
 "nbformat": 4,
 "nbformat_minor": 0
}